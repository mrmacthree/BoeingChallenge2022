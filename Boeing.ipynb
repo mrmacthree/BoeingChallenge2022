{
 "cells": [
  {
   "cell_type": "code",
   "execution_count": 53,
   "id": "a06cf9b4-f042-440a-8191-d838944d976a",
   "metadata": {
    "tags": []
   },
   "outputs": [
    {
     "name": "stderr",
     "output_type": "stream",
     "text": [
      "[nltk_data] Downloading package punkt to\n",
      "[nltk_data]     /Users/hazeneckert/nltk_data...\n",
      "[nltk_data]   Package punkt is already up-to-date!\n"
     ]
    },
    {
     "data": {
      "text/plain": [
       "True"
      ]
     },
     "execution_count": 53,
     "metadata": {},
     "output_type": "execute_result"
    }
   ],
   "source": [
    "import pandas as pd \n",
    "import matplotlib.pyplot as plt\n",
    "import numpy as np\n",
    "from nltk.metrics import edit_distance\n",
    "import re, nltk\n",
    "nltk.download('punkt')"
   ]
  },
  {
   "cell_type": "code",
   "execution_count": 54,
   "id": "ed972fb5-a8a6-48a9-9148-289b5fbf0c77",
   "metadata": {
    "tags": []
   },
   "outputs": [],
   "source": [
    "train = pd.read_csv('Training_DataSet.csv')\n",
    "test = pd.read_csv('Test_Dataset.csv')"
   ]
  },
  {
   "cell_type": "markdown",
   "id": "8dd583a2-ea58-4297-89d3-959aaf0230c4",
   "metadata": {},
   "source": [
    "# Info about the vehicles\n",
    "[Cadillac XT5 2017-2019](https://en.wikipedia.org/wiki/Cadillac_XT5)\n",
    "- Only offers a 3.6L V6 gasoline engine in the US\n",
    "- Two drivetrains AWD or FWD\n",
    "- One transmission 8-speed \n",
    "- Four Trim levels [Base, Luxury, Premium Luxury, Platinum]\n",
    "\n",
    "[Jeep Grand Cherokee 2015-2019](https://en.wikipedia.org/wiki/Jeep_Grand_Cherokee_(WK2))\n",
    "- 10 trim levels: [ Laredo, Laredo E, Altitude, High Altitude, Upland, Trailhawk, Limited, Sterling Edition, Overland, Summit, SRT, SRT Trackhawk]\n",
    "- Offers 6 engine options:\n",
    "    - 3.6L V6: Laredo, Laredo E, Altitude, Limited, Sterling Edition, Trailhawk, Overland, High Altitude, Summit\n",
    "    - 5.7L V8: Limited, Limited X, Sterling Edition, Trailhawk, Overland, High Altitude, Summit\n",
    "    - 6.4L V8: SRT\n",
    "    - 6.2L V8: SRT Trackhawk\n",
    "    - 3.0L Diesel: Limited, Overland, Summit\n",
    "- The transmission is a function of year and engine\n",
    "- No info about drivetrain"
   ]
  },
  {
   "cell_type": "markdown",
   "id": "4a26403c-afea-428f-9c9a-1b637d02c3bf",
   "metadata": {
    "tags": []
   },
   "source": [
    "# Exploratory Data Analysis\n",
    "ListingID is a unique identifier.\n",
    "\n",
    "SellerCity \n",
    "- has some misspelled cities: 'Morganton' and 'Morgantown', 'Milwaukee' and 'Milwaukie', \n",
    "- has different capitalizations: 'Green Bay' and 'Green bay', \n",
    "- has some unicode symbols: 'Coeur d&#x27;Alene' and 'O&#x27;Fallon', \n",
    "- has different labels for the same location: 'Charter Twp of Clinton', 'Clinton','Clinton Township'\n",
    "- is never null in training or testing\n",
    "- There are cities in the test data never observed in the training data\n",
    "\n",
    "SellerIsPriv is extremely biased towards False, 6284/6298 and is never null in training or testing.\n",
    "\n",
    "SellerListSrc takes 8 non-null values and is null for 2 entries. These 2 null entries are also the null entries for SellerZip. All values observed in the test set is in the training set. There are no null values in the training data.\n",
    "\n",
    "SellerName is never null. There are sellers in the test data not in the training data. There are many entries that are very similar like 'CarMax Buffalo' and 'CarMax Buford'.\n",
    "\n",
    "SellerRating is never null in training or testing. There are 5988 nonzero entries.\n",
    "\n",
    "SellerRevCnt is never null in training or testing. There are 6128 nonzero entries. \n",
    "\n",
    "SellerState has observations for each state in training. 6 states are not included in the testing data, ['HI', 'ME', 'MT', 'NM', 'OR', 'VT']. Never null in training or testing. Probably a good idea to remove HI\n",
    "\n",
    "VehBodystyle is always 'SUV'\n",
    "\n",
    "VehCertified is mostly false, 4879/6298. Never null in training or testing.\n",
    "\n",
    "VehColorExt has null values in training and testing but most entries are in the top 20 or so most common colors. \n",
    "\n",
    "VehColorInt has null values in training and testing but most entries are in the top 10 or so most common colors. Maybe extracting the leather option would be helpful.\n",
    "\n",
    "VehDriveTrain has null values in training and testing. There are several different names for the same thing. \n",
    "\n",
    "VehEngine has null values in training and testing. There are several different names for the same thing. \n",
    "\n",
    "Skip VehFeats for now\n",
    "\n",
    "VehFuel has null values in the training but not the test data. Other than 'Unknown' and null entries this column is clean.\n",
    "\n",
    "VehHistory has null values in training and testing. It seems easy to extract a small number of features from this column.\n",
    "\n",
    "VehListdays is null for the same two entries that SellerListSrc is null. It is never null in the test set.\n",
    "\n",
    "VehMake is never null in training or testing. It is either 'Jeep' or 'Cadillac'\n",
    "\n",
    "VehMileage is null in training and test but very rarely, twice and once, respectively.\n",
    "\n",
    "VehModel is never null in training or testing. It is either 'Grand Cherokee' or 'XT5'\n",
    "\n",
    "VehPriceLabel is null in training and test but otherwise takes 3 values.\n",
    "\n",
    "Skip VehSellerNotes for now\n",
    "\n",
    "VehType is always 'Used'\n",
    "\n",
    "VehTransmission is null in training and test and has a bunch of redundant labels.\n",
    "\n",
    "VehYear is never null and the training and testing share the same 5 years.\n",
    "\n",
    "Vehicle_Trim is null for 405 entries in training.\n",
    "\n",
    "Dealer_Listing_Price is null for 52 entries in training."
   ]
  },
  {
   "cell_type": "code",
   "execution_count": 55,
   "id": "7db4ce22-98cb-4cc8-a95a-dad2059ca06a",
   "metadata": {
    "tags": []
   },
   "outputs": [
    {
     "data": {
      "text/html": [
       "<div>\n",
       "<style scoped>\n",
       "    .dataframe tbody tr th:only-of-type {\n",
       "        vertical-align: middle;\n",
       "    }\n",
       "\n",
       "    .dataframe tbody tr th {\n",
       "        vertical-align: top;\n",
       "    }\n",
       "\n",
       "    .dataframe thead th {\n",
       "        text-align: right;\n",
       "    }\n",
       "</style>\n",
       "<table border=\"1\" class=\"dataframe\">\n",
       "  <thead>\n",
       "    <tr style=\"text-align: right;\">\n",
       "      <th></th>\n",
       "      <th>ListingID</th>\n",
       "      <th>SellerCity</th>\n",
       "      <th>SellerIsPriv</th>\n",
       "      <th>SellerListSrc</th>\n",
       "      <th>SellerName</th>\n",
       "      <th>SellerRating</th>\n",
       "      <th>SellerRevCnt</th>\n",
       "      <th>SellerState</th>\n",
       "      <th>SellerZip</th>\n",
       "      <th>VehBodystyle</th>\n",
       "      <th>...</th>\n",
       "      <th>VehMake</th>\n",
       "      <th>VehMileage</th>\n",
       "      <th>VehModel</th>\n",
       "      <th>VehPriceLabel</th>\n",
       "      <th>VehSellerNotes</th>\n",
       "      <th>VehType</th>\n",
       "      <th>VehTransmission</th>\n",
       "      <th>VehYear</th>\n",
       "      <th>Vehicle_Trim</th>\n",
       "      <th>Dealer_Listing_Price</th>\n",
       "    </tr>\n",
       "  </thead>\n",
       "  <tbody>\n",
       "    <tr>\n",
       "      <th>count</th>\n",
       "      <td>6.298000e+03</td>\n",
       "      <td>6298</td>\n",
       "      <td>6298</td>\n",
       "      <td>6296</td>\n",
       "      <td>6298</td>\n",
       "      <td>6298.000000</td>\n",
       "      <td>6298.000000</td>\n",
       "      <td>6298</td>\n",
       "      <td>6296.000000</td>\n",
       "      <td>6298</td>\n",
       "      <td>...</td>\n",
       "      <td>6298</td>\n",
       "      <td>6296.000000</td>\n",
       "      <td>6298</td>\n",
       "      <td>6013</td>\n",
       "      <td>6055</td>\n",
       "      <td>6298</td>\n",
       "      <td>6101</td>\n",
       "      <td>6298.000000</td>\n",
       "      <td>5893</td>\n",
       "      <td>6246.000000</td>\n",
       "    </tr>\n",
       "    <tr>\n",
       "      <th>unique</th>\n",
       "      <td>NaN</td>\n",
       "      <td>1318</td>\n",
       "      <td>2</td>\n",
       "      <td>8</td>\n",
       "      <td>2452</td>\n",
       "      <td>NaN</td>\n",
       "      <td>NaN</td>\n",
       "      <td>50</td>\n",
       "      <td>NaN</td>\n",
       "      <td>1</td>\n",
       "      <td>...</td>\n",
       "      <td>2</td>\n",
       "      <td>NaN</td>\n",
       "      <td>2</td>\n",
       "      <td>3</td>\n",
       "      <td>4920</td>\n",
       "      <td>1</td>\n",
       "      <td>33</td>\n",
       "      <td>NaN</td>\n",
       "      <td>29</td>\n",
       "      <td>NaN</td>\n",
       "    </tr>\n",
       "    <tr>\n",
       "      <th>top</th>\n",
       "      <td>NaN</td>\n",
       "      <td>Chicago</td>\n",
       "      <td>False</td>\n",
       "      <td>Digital Motorworks (DMi)</td>\n",
       "      <td>Vroom (Online Dealer - Nationwide Delivery)</td>\n",
       "      <td>NaN</td>\n",
       "      <td>NaN</td>\n",
       "      <td>IL</td>\n",
       "      <td>NaN</td>\n",
       "      <td>SUV</td>\n",
       "      <td>...</td>\n",
       "      <td>Jeep</td>\n",
       "      <td>NaN</td>\n",
       "      <td>Grand Cherokee</td>\n",
       "      <td>Good Deal</td>\n",
       "      <td>CARVANA CERTIFIED INCLUDES: 150-POINT INSPECTI...</td>\n",
       "      <td>Used</td>\n",
       "      <td>8-Speed Automatic</td>\n",
       "      <td>NaN</td>\n",
       "      <td>Limited</td>\n",
       "      <td>NaN</td>\n",
       "    </tr>\n",
       "    <tr>\n",
       "      <th>freq</th>\n",
       "      <td>NaN</td>\n",
       "      <td>118</td>\n",
       "      <td>6284</td>\n",
       "      <td>3086</td>\n",
       "      <td>381</td>\n",
       "      <td>NaN</td>\n",
       "      <td>NaN</td>\n",
       "      <td>753</td>\n",
       "      <td>NaN</td>\n",
       "      <td>6298</td>\n",
       "      <td>...</td>\n",
       "      <td>4199</td>\n",
       "      <td>NaN</td>\n",
       "      <td>4199</td>\n",
       "      <td>4488</td>\n",
       "      <td>218</td>\n",
       "      <td>6298</td>\n",
       "      <td>4395</td>\n",
       "      <td>NaN</td>\n",
       "      <td>1912</td>\n",
       "      <td>NaN</td>\n",
       "    </tr>\n",
       "    <tr>\n",
       "      <th>mean</th>\n",
       "      <td>4.318130e+06</td>\n",
       "      <td>NaN</td>\n",
       "      <td>NaN</td>\n",
       "      <td>NaN</td>\n",
       "      <td>NaN</td>\n",
       "      <td>4.138346</td>\n",
       "      <td>434.565576</td>\n",
       "      <td>NaN</td>\n",
       "      <td>45234.211722</td>\n",
       "      <td>NaN</td>\n",
       "      <td>...</td>\n",
       "      <td>NaN</td>\n",
       "      <td>26369.364358</td>\n",
       "      <td>NaN</td>\n",
       "      <td>NaN</td>\n",
       "      <td>NaN</td>\n",
       "      <td>NaN</td>\n",
       "      <td>NaN</td>\n",
       "      <td>2016.792633</td>\n",
       "      <td>NaN</td>\n",
       "      <td>32265.053314</td>\n",
       "    </tr>\n",
       "    <tr>\n",
       "      <th>std</th>\n",
       "      <td>2.486031e+06</td>\n",
       "      <td>NaN</td>\n",
       "      <td>NaN</td>\n",
       "      <td>NaN</td>\n",
       "      <td>NaN</td>\n",
       "      <td>1.188033</td>\n",
       "      <td>1274.257411</td>\n",
       "      <td>NaN</td>\n",
       "      <td>20380.478191</td>\n",
       "      <td>NaN</td>\n",
       "      <td>...</td>\n",
       "      <td>NaN</td>\n",
       "      <td>13036.568712</td>\n",
       "      <td>NaN</td>\n",
       "      <td>NaN</td>\n",
       "      <td>NaN</td>\n",
       "      <td>NaN</td>\n",
       "      <td>NaN</td>\n",
       "      <td>1.206566</td>\n",
       "      <td>NaN</td>\n",
       "      <td>7538.339005</td>\n",
       "    </tr>\n",
       "    <tr>\n",
       "      <th>min</th>\n",
       "      <td>3.287000e+03</td>\n",
       "      <td>NaN</td>\n",
       "      <td>NaN</td>\n",
       "      <td>NaN</td>\n",
       "      <td>NaN</td>\n",
       "      <td>0.000000</td>\n",
       "      <td>0.000000</td>\n",
       "      <td>NaN</td>\n",
       "      <td>1105.000000</td>\n",
       "      <td>NaN</td>\n",
       "      <td>...</td>\n",
       "      <td>NaN</td>\n",
       "      <td>0.000000</td>\n",
       "      <td>NaN</td>\n",
       "      <td>NaN</td>\n",
       "      <td>NaN</td>\n",
       "      <td>NaN</td>\n",
       "      <td>NaN</td>\n",
       "      <td>2015.000000</td>\n",
       "      <td>NaN</td>\n",
       "      <td>18289.000000</td>\n",
       "    </tr>\n",
       "    <tr>\n",
       "      <th>25%</th>\n",
       "      <td>2.178112e+06</td>\n",
       "      <td>NaN</td>\n",
       "      <td>NaN</td>\n",
       "      <td>NaN</td>\n",
       "      <td>NaN</td>\n",
       "      <td>4.000000</td>\n",
       "      <td>28.000000</td>\n",
       "      <td>NaN</td>\n",
       "      <td>28806.000000</td>\n",
       "      <td>NaN</td>\n",
       "      <td>...</td>\n",
       "      <td>NaN</td>\n",
       "      <td>16835.000000</td>\n",
       "      <td>NaN</td>\n",
       "      <td>NaN</td>\n",
       "      <td>NaN</td>\n",
       "      <td>NaN</td>\n",
       "      <td>NaN</td>\n",
       "      <td>2015.000000</td>\n",
       "      <td>NaN</td>\n",
       "      <td>26900.000000</td>\n",
       "    </tr>\n",
       "    <tr>\n",
       "      <th>50%</th>\n",
       "      <td>4.298122e+06</td>\n",
       "      <td>NaN</td>\n",
       "      <td>NaN</td>\n",
       "      <td>NaN</td>\n",
       "      <td>NaN</td>\n",
       "      <td>4.600000</td>\n",
       "      <td>126.000000</td>\n",
       "      <td>NaN</td>\n",
       "      <td>46410.000000</td>\n",
       "      <td>NaN</td>\n",
       "      <td>...</td>\n",
       "      <td>NaN</td>\n",
       "      <td>26181.000000</td>\n",
       "      <td>NaN</td>\n",
       "      <td>NaN</td>\n",
       "      <td>NaN</td>\n",
       "      <td>NaN</td>\n",
       "      <td>NaN</td>\n",
       "      <td>2017.000000</td>\n",
       "      <td>NaN</td>\n",
       "      <td>31455.500000</td>\n",
       "    </tr>\n",
       "    <tr>\n",
       "      <th>75%</th>\n",
       "      <td>6.488249e+06</td>\n",
       "      <td>NaN</td>\n",
       "      <td>NaN</td>\n",
       "      <td>NaN</td>\n",
       "      <td>NaN</td>\n",
       "      <td>4.800000</td>\n",
       "      <td>401.000000</td>\n",
       "      <td>NaN</td>\n",
       "      <td>60126.000000</td>\n",
       "      <td>NaN</td>\n",
       "      <td>...</td>\n",
       "      <td>NaN</td>\n",
       "      <td>36468.500000</td>\n",
       "      <td>NaN</td>\n",
       "      <td>NaN</td>\n",
       "      <td>NaN</td>\n",
       "      <td>NaN</td>\n",
       "      <td>NaN</td>\n",
       "      <td>2018.000000</td>\n",
       "      <td>NaN</td>\n",
       "      <td>35991.000000</td>\n",
       "    </tr>\n",
       "    <tr>\n",
       "      <th>max</th>\n",
       "      <td>8.620012e+06</td>\n",
       "      <td>NaN</td>\n",
       "      <td>NaN</td>\n",
       "      <td>NaN</td>\n",
       "      <td>NaN</td>\n",
       "      <td>5.000000</td>\n",
       "      <td>14635.000000</td>\n",
       "      <td>NaN</td>\n",
       "      <td>99654.000000</td>\n",
       "      <td>NaN</td>\n",
       "      <td>...</td>\n",
       "      <td>NaN</td>\n",
       "      <td>83037.000000</td>\n",
       "      <td>NaN</td>\n",
       "      <td>NaN</td>\n",
       "      <td>NaN</td>\n",
       "      <td>NaN</td>\n",
       "      <td>NaN</td>\n",
       "      <td>2019.000000</td>\n",
       "      <td>NaN</td>\n",
       "      <td>89500.000000</td>\n",
       "    </tr>\n",
       "  </tbody>\n",
       "</table>\n",
       "<p>11 rows × 29 columns</p>\n",
       "</div>"
      ],
      "text/plain": [
       "           ListingID SellerCity SellerIsPriv             SellerListSrc  \\\n",
       "count   6.298000e+03       6298         6298                      6296   \n",
       "unique           NaN       1318            2                         8   \n",
       "top              NaN    Chicago        False  Digital Motorworks (DMi)   \n",
       "freq             NaN        118         6284                      3086   \n",
       "mean    4.318130e+06        NaN          NaN                       NaN   \n",
       "std     2.486031e+06        NaN          NaN                       NaN   \n",
       "min     3.287000e+03        NaN          NaN                       NaN   \n",
       "25%     2.178112e+06        NaN          NaN                       NaN   \n",
       "50%     4.298122e+06        NaN          NaN                       NaN   \n",
       "75%     6.488249e+06        NaN          NaN                       NaN   \n",
       "max     8.620012e+06        NaN          NaN                       NaN   \n",
       "\n",
       "                                         SellerName  SellerRating  \\\n",
       "count                                          6298   6298.000000   \n",
       "unique                                         2452           NaN   \n",
       "top     Vroom (Online Dealer - Nationwide Delivery)           NaN   \n",
       "freq                                            381           NaN   \n",
       "mean                                            NaN      4.138346   \n",
       "std                                             NaN      1.188033   \n",
       "min                                             NaN      0.000000   \n",
       "25%                                             NaN      4.000000   \n",
       "50%                                             NaN      4.600000   \n",
       "75%                                             NaN      4.800000   \n",
       "max                                             NaN      5.000000   \n",
       "\n",
       "        SellerRevCnt SellerState     SellerZip VehBodystyle  ... VehMake  \\\n",
       "count    6298.000000        6298   6296.000000         6298  ...    6298   \n",
       "unique           NaN          50           NaN            1  ...       2   \n",
       "top              NaN          IL           NaN          SUV  ...    Jeep   \n",
       "freq             NaN         753           NaN         6298  ...    4199   \n",
       "mean      434.565576         NaN  45234.211722          NaN  ...     NaN   \n",
       "std      1274.257411         NaN  20380.478191          NaN  ...     NaN   \n",
       "min         0.000000         NaN   1105.000000          NaN  ...     NaN   \n",
       "25%        28.000000         NaN  28806.000000          NaN  ...     NaN   \n",
       "50%       126.000000         NaN  46410.000000          NaN  ...     NaN   \n",
       "75%       401.000000         NaN  60126.000000          NaN  ...     NaN   \n",
       "max     14635.000000         NaN  99654.000000          NaN  ...     NaN   \n",
       "\n",
       "          VehMileage        VehModel VehPriceLabel  \\\n",
       "count    6296.000000            6298          6013   \n",
       "unique           NaN               2             3   \n",
       "top              NaN  Grand Cherokee     Good Deal   \n",
       "freq             NaN            4199          4488   \n",
       "mean    26369.364358             NaN           NaN   \n",
       "std     13036.568712             NaN           NaN   \n",
       "min         0.000000             NaN           NaN   \n",
       "25%     16835.000000             NaN           NaN   \n",
       "50%     26181.000000             NaN           NaN   \n",
       "75%     36468.500000             NaN           NaN   \n",
       "max     83037.000000             NaN           NaN   \n",
       "\n",
       "                                           VehSellerNotes VehType  \\\n",
       "count                                                6055    6298   \n",
       "unique                                               4920       1   \n",
       "top     CARVANA CERTIFIED INCLUDES: 150-POINT INSPECTI...    Used   \n",
       "freq                                                  218    6298   \n",
       "mean                                                  NaN     NaN   \n",
       "std                                                   NaN     NaN   \n",
       "min                                                   NaN     NaN   \n",
       "25%                                                   NaN     NaN   \n",
       "50%                                                   NaN     NaN   \n",
       "75%                                                   NaN     NaN   \n",
       "max                                                   NaN     NaN   \n",
       "\n",
       "          VehTransmission      VehYear  Vehicle_Trim Dealer_Listing_Price  \n",
       "count                6101  6298.000000          5893          6246.000000  \n",
       "unique                 33          NaN            29                  NaN  \n",
       "top     8-Speed Automatic          NaN       Limited                  NaN  \n",
       "freq                 4395          NaN          1912                  NaN  \n",
       "mean                  NaN  2016.792633           NaN         32265.053314  \n",
       "std                   NaN     1.206566           NaN          7538.339005  \n",
       "min                   NaN  2015.000000           NaN         18289.000000  \n",
       "25%                   NaN  2015.000000           NaN         26900.000000  \n",
       "50%                   NaN  2017.000000           NaN         31455.500000  \n",
       "75%                   NaN  2018.000000           NaN         35991.000000  \n",
       "max                   NaN  2019.000000           NaN         89500.000000  \n",
       "\n",
       "[11 rows x 29 columns]"
      ]
     },
     "execution_count": 55,
     "metadata": {},
     "output_type": "execute_result"
    }
   ],
   "source": [
    "train.describe(include='all')"
   ]
  },
  {
   "cell_type": "code",
   "execution_count": 56,
   "id": "ab04e221-1fcb-4f41-a954-d2266c2cba2d",
   "metadata": {
    "tags": []
   },
   "outputs": [
    {
     "data": {
      "text/plain": [
       "(ListingID                 0\n",
       " SellerCity                0\n",
       " SellerIsPriv              0\n",
       " SellerListSrc             2\n",
       " SellerName                0\n",
       " SellerRating              0\n",
       " SellerRevCnt              0\n",
       " SellerState               0\n",
       " SellerZip                 2\n",
       " VehBodystyle              0\n",
       " VehCertified              0\n",
       " VehColorExt              73\n",
       " VehColorInt             728\n",
       " VehDriveTrain           401\n",
       " VehEngine               361\n",
       " VehFeats                275\n",
       " VehFuel                   2\n",
       " VehHistory              201\n",
       " VehListdays               2\n",
       " VehMake                   0\n",
       " VehMileage                2\n",
       " VehModel                  0\n",
       " VehPriceLabel           285\n",
       " VehSellerNotes          243\n",
       " VehType                   0\n",
       " VehTransmission         197\n",
       " VehYear                   0\n",
       " Vehicle_Trim            405\n",
       " Dealer_Listing_Price     52\n",
       " dtype: int64,\n",
       " ListingID            0\n",
       " SellerCity           0\n",
       " SellerIsPriv         0\n",
       " SellerListSrc        0\n",
       " SellerName           0\n",
       " SellerRating         0\n",
       " SellerRevCnt         0\n",
       " SellerState          0\n",
       " SellerZip            0\n",
       " VehBodystyle         0\n",
       " VehCertified         0\n",
       " VehColorExt          7\n",
       " VehColorInt        108\n",
       " VehDriveTrain       64\n",
       " VehEngine           58\n",
       " VehFeats            37\n",
       " VehFuel              0\n",
       " VehHistory          27\n",
       " VehListdays          0\n",
       " VehMake              0\n",
       " VehMileage           1\n",
       " VehModel             0\n",
       " VehPriceLabel       38\n",
       " VehSellerNotes      41\n",
       " VehType              0\n",
       " VehTransmission     27\n",
       " VehYear              0\n",
       " dtype: int64)"
      ]
     },
     "execution_count": 56,
     "metadata": {},
     "output_type": "execute_result"
    }
   ],
   "source": [
    "train.isnull().sum(),test.isnull().sum()"
   ]
  },
  {
   "cell_type": "code",
   "execution_count": 57,
   "id": "811e0c57-6904-469d-a9d0-38d30d850b7d",
   "metadata": {
    "tags": []
   },
   "outputs": [],
   "source": [
    "# remove capitalization \n",
    "for x in [\"SellerCity\",\"VehColorExt\",\"VehColorInt\",\"VehFeats\", \"VehSellerNotes\"]:\n",
    "    train[x]=train[x].str.lower()\n",
    "    test[x]=test[x].str.lower()"
   ]
  },
  {
   "cell_type": "code",
   "execution_count": 58,
   "id": "72e6f0d9-b47b-4e87-b444-8223a51bfa99",
   "metadata": {
    "tags": []
   },
   "outputs": [
    {
     "data": {
      "text/plain": [
       "ListingID                           5306897\n",
       "SellerCity                         dearborn\n",
       "SellerIsPriv                          False\n",
       "SellerListSrc                           NaN\n",
       "SellerName              Jack Demmer Lincoln\n",
       "SellerRating                            4.8\n",
       "SellerRevCnt                            261\n",
       "SellerState                              MI\n",
       "SellerZip                               NaN\n",
       "VehBodystyle                            SUV\n",
       "VehCertified                          False\n",
       "VehColorExt                             NaN\n",
       "VehColorInt                             NaN\n",
       "VehDriveTrain                           NaN\n",
       "VehEngine                               NaN\n",
       "VehFeats                                NaN\n",
       "VehFuel                                 NaN\n",
       "VehHistory                              NaN\n",
       "VehListdays                             NaN\n",
       "VehMake                                Jeep\n",
       "VehMileage                          36678.0\n",
       "VehModel                     Grand Cherokee\n",
       "VehPriceLabel                    Fair Price\n",
       "VehSellerNotes                          NaN\n",
       "VehType                                Used\n",
       "VehTransmission                         NaN\n",
       "VehYear                                2015\n",
       "Vehicle_Trim                        Limited\n",
       "Dealer_Listing_Price                23500.0\n",
       "Name: 3855, dtype: object"
      ]
     },
     "execution_count": 58,
     "metadata": {},
     "output_type": "execute_result"
    }
   ],
   "source": [
    "train.iloc[3855]"
   ]
  },
  {
   "cell_type": "code",
   "execution_count": 59,
   "id": "5fcbe584-ec93-4104-8b1e-642cf82c52c6",
   "metadata": {
    "tags": []
   },
   "outputs": [
    {
     "data": {
      "text/html": [
       "<div>\n",
       "<style scoped>\n",
       "    .dataframe tbody tr th:only-of-type {\n",
       "        vertical-align: middle;\n",
       "    }\n",
       "\n",
       "    .dataframe tbody tr th {\n",
       "        vertical-align: top;\n",
       "    }\n",
       "\n",
       "    .dataframe thead th {\n",
       "        text-align: right;\n",
       "    }\n",
       "</style>\n",
       "<table border=\"1\" class=\"dataframe\">\n",
       "  <thead>\n",
       "    <tr style=\"text-align: right;\">\n",
       "      <th></th>\n",
       "      <th>ListingID</th>\n",
       "      <th>SellerCity</th>\n",
       "      <th>SellerIsPriv</th>\n",
       "      <th>SellerListSrc</th>\n",
       "      <th>SellerName</th>\n",
       "      <th>SellerRating</th>\n",
       "      <th>SellerRevCnt</th>\n",
       "      <th>SellerState</th>\n",
       "      <th>SellerZip</th>\n",
       "      <th>VehBodystyle</th>\n",
       "      <th>...</th>\n",
       "      <th>VehMake</th>\n",
       "      <th>VehMileage</th>\n",
       "      <th>VehModel</th>\n",
       "      <th>VehPriceLabel</th>\n",
       "      <th>VehSellerNotes</th>\n",
       "      <th>VehType</th>\n",
       "      <th>VehTransmission</th>\n",
       "      <th>VehYear</th>\n",
       "      <th>Vehicle_Trim</th>\n",
       "      <th>Dealer_Listing_Price</th>\n",
       "    </tr>\n",
       "  </thead>\n",
       "  <tbody>\n",
       "    <tr>\n",
       "      <th>1125</th>\n",
       "      <td>1562581</td>\n",
       "      <td>richmond</td>\n",
       "      <td>False</td>\n",
       "      <td>NaN</td>\n",
       "      <td>Pearson Chrysler Jeep Dodge RAM</td>\n",
       "      <td>1.0</td>\n",
       "      <td>4</td>\n",
       "      <td>VA</td>\n",
       "      <td>NaN</td>\n",
       "      <td>SUV</td>\n",
       "      <td>...</td>\n",
       "      <td>Jeep</td>\n",
       "      <td>38329.0</td>\n",
       "      <td>Grand Cherokee</td>\n",
       "      <td>Good Deal</td>\n",
       "      <td>NaN</td>\n",
       "      <td>Used</td>\n",
       "      <td>NaN</td>\n",
       "      <td>2017</td>\n",
       "      <td>Limited</td>\n",
       "      <td>26333.0</td>\n",
       "    </tr>\n",
       "    <tr>\n",
       "      <th>3855</th>\n",
       "      <td>5306897</td>\n",
       "      <td>dearborn</td>\n",
       "      <td>False</td>\n",
       "      <td>NaN</td>\n",
       "      <td>Jack Demmer Lincoln</td>\n",
       "      <td>4.8</td>\n",
       "      <td>261</td>\n",
       "      <td>MI</td>\n",
       "      <td>NaN</td>\n",
       "      <td>SUV</td>\n",
       "      <td>...</td>\n",
       "      <td>Jeep</td>\n",
       "      <td>36678.0</td>\n",
       "      <td>Grand Cherokee</td>\n",
       "      <td>Fair Price</td>\n",
       "      <td>NaN</td>\n",
       "      <td>Used</td>\n",
       "      <td>NaN</td>\n",
       "      <td>2015</td>\n",
       "      <td>Limited</td>\n",
       "      <td>23500.0</td>\n",
       "    </tr>\n",
       "  </tbody>\n",
       "</table>\n",
       "<p>2 rows × 29 columns</p>\n",
       "</div>"
      ],
      "text/plain": [
       "      ListingID SellerCity  SellerIsPriv SellerListSrc  \\\n",
       "1125    1562581   richmond         False           NaN   \n",
       "3855    5306897   dearborn         False           NaN   \n",
       "\n",
       "                           SellerName  SellerRating  SellerRevCnt SellerState  \\\n",
       "1125  Pearson Chrysler Jeep Dodge RAM           1.0             4          VA   \n",
       "3855              Jack Demmer Lincoln           4.8           261          MI   \n",
       "\n",
       "      SellerZip VehBodystyle  ...  VehMake VehMileage        VehModel  \\\n",
       "1125        NaN          SUV  ...     Jeep    38329.0  Grand Cherokee   \n",
       "3855        NaN          SUV  ...     Jeep    36678.0  Grand Cherokee   \n",
       "\n",
       "     VehPriceLabel VehSellerNotes VehType VehTransmission VehYear  \\\n",
       "1125     Good Deal            NaN    Used             NaN    2017   \n",
       "3855    Fair Price            NaN    Used             NaN    2015   \n",
       "\n",
       "      Vehicle_Trim Dealer_Listing_Price  \n",
       "1125       Limited              26333.0  \n",
       "3855       Limited              23500.0  \n",
       "\n",
       "[2 rows x 29 columns]"
      ]
     },
     "execution_count": 59,
     "metadata": {},
     "output_type": "execute_result"
    }
   ],
   "source": [
    "# Find the entries with null SellerListSrc\n",
    "train[train.SellerListSrc.isnull()]"
   ]
  },
  {
   "cell_type": "code",
   "execution_count": 60,
   "id": "84938f41-ada2-43fd-b1c6-eac2a24d792d",
   "metadata": {
    "tags": []
   },
   "outputs": [
    {
     "data": {
      "text/plain": [
       "SellerListSrc\n",
       "Inventory Command Center    39\n",
       "Digital Motorworks (DMi)    34\n",
       "HomeNet Automotive          10\n",
       "Name: count, dtype: int64"
      ]
     },
     "execution_count": 60,
     "metadata": {},
     "output_type": "execute_result"
    }
   ],
   "source": [
    "train[train.SellerName.str.contains(\"Lincoln\")][\"SellerListSrc\"].value_counts()"
   ]
  },
  {
   "cell_type": "markdown",
   "id": "e69c95c6-f7ae-42ef-ab6b-cb171408a07c",
   "metadata": {},
   "source": [
    "Only two records have null SellerListSrc, VehFuel and SellerZip, records 1125 and 3855. Rather than drop these record or create an 'unknown' category, we are going to fill these in the best we can. We can look up the zipcodes for these dealerships. We have other entries from the seller in record 1125, which we will use to complete the SellerListSrc. For record 3855 we fill SellerListSrc using the most common source for Lincoln dealerships. We chose to fill in the VehFuel entries with Gasoline since it is the most common."
   ]
  },
  {
   "cell_type": "code",
   "execution_count": 61,
   "id": "5790c8c1-84d6-4e1d-9c42-20ee0014f2cb",
   "metadata": {
    "tags": []
   },
   "outputs": [],
   "source": [
    "train.at[1125,\"SellerZip\"]=23294\n",
    "train.at[1125,\"SellerListSrc\"]=\"HomeNet Automotive\" # used this source for future sales\n",
    "train.at[1125,\"VehFuel\"]=\"Gasoline\"\n",
    "\n",
    "train.at[3855,\"SellerZip\"]=48124 \n",
    "train.at[3855,\"SellerListSrc\"]=\"Inventory Command Center\" \n",
    "train.at[3855,\"VehFuel\"]=\"Gasoline\" "
   ]
  },
  {
   "cell_type": "markdown",
   "id": "0c7b1a16-5efa-4194-bd5a-74b5bfb13e1b",
   "metadata": {},
   "source": [
    "Two records are missing VehMileage and VehListdays, we will just fill those in with the means. "
   ]
  },
  {
   "cell_type": "code",
   "execution_count": 62,
   "id": "7e20147a-54d4-4f61-b164-f407e92e16d3",
   "metadata": {
    "tags": []
   },
   "outputs": [],
   "source": [
    "train[\"VehMileage\"].fillna(value=train[\"VehMileage\"].mean(),inplace=True)\n",
    "test[\"VehMileage\"].fillna(value=test[\"VehMileage\"].mean(),inplace=True)\n",
    "train[\"VehListdays\"].fillna(value=train[\"VehListdays\"].mean(),inplace=True)"
   ]
  },
  {
   "cell_type": "markdown",
   "id": "952b6041-7e12-4fc7-a191-bfcc6d29a7ed",
   "metadata": {},
   "source": [
    "For the null VehColorExt VehColorInt VehDriveTrain VehEngine VehPriceLabel VehTransmission add an \"unknown\" category."
   ]
  },
  {
   "cell_type": "code",
   "execution_count": 63,
   "id": "453911d4-172d-4f32-8f4a-4a70b87c694d",
   "metadata": {
    "tags": []
   },
   "outputs": [],
   "source": [
    "for x in [\"VehColorExt\", \"VehColorInt\", \"VehDriveTrain\", \"VehEngine\", \"VehPriceLabel\", \"VehTransmission\"]:\n",
    "    train[x].fillna(value=\"unknown\",inplace=True)\n",
    "    test[x].fillna(value=\"unknown\",inplace=True)\n",
    "    "
   ]
  },
  {
   "cell_type": "markdown",
   "id": "2d0dc6c1-21bc-4dc9-9a1b-7a7f97dffca7",
   "metadata": {},
   "source": [
    "For many names the first token is most informative with the remaining tokens just specifying the location. To capture sellers that have multiple locations, add a feature for the first token in a name. "
   ]
  },
  {
   "cell_type": "code",
   "execution_count": 64,
   "id": "613066ab-6234-4532-9868-67cf16479a64",
   "metadata": {
    "tags": []
   },
   "outputs": [],
   "source": [
    "train[\"SellerShortName\"]=train[\"SellerName\"].str.lower().str.split(n=1,expand=True)[0]\n",
    "test[\"SellerShortName\"]=test[\"SellerName\"].str.lower().str.split(n=1,expand=True)[0]"
   ]
  },
  {
   "cell_type": "markdown",
   "id": "93e21177-14e6-4d1c-9d21-e19cc3f67a50",
   "metadata": {},
   "source": [
    "There is just one data point for HI and it doesn't show up in testing. HI is likely an outlier so it is removed. "
   ]
  },
  {
   "cell_type": "code",
   "execution_count": 65,
   "id": "ccf72e72-1fa5-4b27-ad41-856909225b6b",
   "metadata": {
    "tags": []
   },
   "outputs": [],
   "source": [
    "train = train[train[\"SellerState\"]!= \"HI\"]"
   ]
  },
  {
   "cell_type": "markdown",
   "id": "5a41510a-7806-447e-8eba-0c9088b2a1bc",
   "metadata": {},
   "source": [
    "We add a feature that consolidates states in their Census Bureau–designated divisions."
   ]
  },
  {
   "cell_type": "code",
   "execution_count": 66,
   "id": "ec645f53-681c-4f87-a0ba-8d0609a76fab",
   "metadata": {
    "tags": []
   },
   "outputs": [],
   "source": [
    "divisions = {\"New England\" : {\"CT\", \"ME\", \"MA\", \"NH\", \"RI\", \"VT\"},\n",
    "            \"Middle Atlantic\" : {\"NJ\",\"NY\",\"PA\"},\n",
    "             \"South Atlantic\" : {\"MD\",\"DC\",\"DE\",\"VA\",\"WV\",\"NC\",\"SC\",\"GA\",\"FL\"},\n",
    "            \"East North Central\" : {\"IL\",\"IN\",\"OH\",\"MI\",\"WI\"},\n",
    "             \"East South Central\" : {\"KY\",\"TN\",\"MS\",\"AL\"},\n",
    "            \"West North Central\" : {\"ND\",\"SD\",\"NE\",\"KS\",\"MO\",\"IA\",\"MN\"},\n",
    "            \"West South Central\" : {\"TX\",\"LA\",\"AR\",\"OK\"},\n",
    "            \"Mountain\" : {\"MT\",\"ID\",\"WY\",\"NV\",\"UT\",\"CO\",\"AZ\",\"NM\"},\n",
    "            \"Pacific\" : {\"AK\",\"HI\",\"WA\",\"OR\",\"CA\"}}\n",
    "state_to_division = dict([(state,division) for division in divisions.keys() for state in divisions[division]])\n",
    "    \n",
    "train[\"SellerDivision\"] = train[\"SellerState\"].apply(lambda state: state_to_division[state])\n",
    "test[\"SellerDivision\"] = test[\"SellerState\"].apply(lambda state: state_to_division[state])"
   ]
  },
  {
   "cell_type": "markdown",
   "id": "af04fb0d-1adc-4bac-9daf-d9e19204ea66",
   "metadata": {},
   "source": [
    "Normalize the labels for 4WD and FWD drivetrains. "
   ]
  },
  {
   "cell_type": "code",
   "execution_count": 67,
   "id": "e9452355-ac03-4777-a54b-dfebf815b919",
   "metadata": {
    "tags": []
   },
   "outputs": [],
   "source": [
    "drivetrains = {\n",
    "    \"4WD\" : [\"4WD\", \"AWD\", \"4X4\", \"Four Wheel Drive\", \"ALL-WHEEL DRIVE\", \"All Wheel Drive\", \n",
    "             \"4x4\", \"4x4/4-wheel drive\", \"4x4/4WD\", \"AWD or 4x4\", \"All-wheel Drive\", \"ALL WHEEL\", \n",
    "             \"AllWheelDrive\", \"ALL-WHEEL DRIVE WITH LOCKING AND LIMITED-SLIP DIFFERENTIAL\",\"4WD/AWD\"],\n",
    "    \"FWD\" : [\"FWD\",\"FRONT-WHEEL DRIVE\", \"Front Wheel Drive\",\"Front-wheel Drive\",\"2WD\"],\n",
    "    \"unknown\" : [\"unknown\"]\n",
    "}\n",
    "clean_drivetrain = dict([(raw,clean) for clean in drivetrains.keys() for raw in drivetrains[clean]])\n",
    "train[\"VehDriveTrainClean\"] = train[\"VehDriveTrain\"].apply(lambda raw: clean_drivetrain[raw])\n",
    "test[\"VehDriveTrainClean\"] = test[\"VehDriveTrain\"].apply(lambda raw: clean_drivetrain[raw])"
   ]
  },
  {
   "cell_type": "code",
   "execution_count": 68,
   "id": "2fd8b9ee-3e47-4a6d-8dca-3a5fa506868a",
   "metadata": {
    "tags": []
   },
   "outputs": [],
   "source": [
    "# Tokenize the engine strings\n",
    "train[\"VehEngineTokens\"] = train[\"VehEngine\"].str.split()\n",
    "test[\"VehEngineTokens\"] = test[\"VehEngine\"].str.split()"
   ]
  },
  {
   "cell_type": "code",
   "execution_count": 69,
   "id": "83af18bc-66b3-40dd-8fcd-a268c3eb33ae",
   "metadata": {
    "tags": []
   },
   "outputs": [],
   "source": [
    "# Extract the list of features from VehFeats and generate words and bigrams\n",
    "nonalphanum = re.compile(\"[^a-zA-Z0-9_]\")\n",
    "def words_and_bigrams(s):\n",
    "    words = list(nltk.word_tokenize(s))\n",
    "    bigrams = list(nltk.bigrams(words))\n",
    "    return [(w,) for w in words] + bigrams\n",
    "\n",
    "def extract_feats(feats):\n",
    "    if pd.isna(feats):\n",
    "        return [(\"unknown\",)]\n",
    "    else:\n",
    "        return [gram for feat in feats.strip(\"]['\").split(\"', '\") for gram in words_and_bigrams(nonalphanum.sub(' ', feat).strip())]\n",
    "train[\"VehFeatTokens\"] = train[\"VehFeats\"].apply(extract_feats)\n",
    "test[\"VehFeatTokens\"] = test[\"VehFeats\"].apply(extract_feats)"
   ]
  },
  {
   "cell_type": "code",
   "execution_count": 70,
   "id": "83cfc352-121f-49b6-b27f-cecd12c497b6",
   "metadata": {
    "tags": []
   },
   "outputs": [],
   "source": [
    "# Extract words and bigrams from Seller notes\n",
    "def extract_notes(notes):\n",
    "    if pd.isna(notes):\n",
    "        return [(\"unknown\",)]\n",
    "    else:\n",
    "        return [gram for gram in words_and_bigrams(nonalphanum.sub(' ', notes).strip())]\n",
    "train[\"VehSellerNotesTokens\"] = train[\"VehSellerNotes\"].apply(extract_notes)\n",
    "test[\"VehSellerNotesTokens\"] = test[\"VehSellerNotes\"].apply(extract_notes)"
   ]
  },
  {
   "cell_type": "code",
   "execution_count": 71,
   "id": "27f71708-979c-467e-adfb-4591361d707b",
   "metadata": {
    "tags": []
   },
   "outputs": [],
   "source": [
    "# As VehHistory is standardized we just extract the elements in the list \n",
    "train[\"VehHistoryTokens\"] = train[\"VehHistory\"].fillna('unknown').str.split(', ')\n",
    "test[\"VehHistoryTokens\"] = test[\"VehHistory\"].fillna('unknown').str.split(', ')"
   ]
  },
  {
   "cell_type": "code",
   "execution_count": 72,
   "id": "c5bf6bd5-14e5-401a-b16a-d3a7f599696e",
   "metadata": {
    "tags": []
   },
   "outputs": [],
   "source": [
    "# Extract words and bigrams from seller names\n",
    "def extract_names(name):\n",
    "    if pd.isna(name):\n",
    "        return [(\"unknown\",)]\n",
    "    else:\n",
    "        return [gram for gram in words_and_bigrams(nonalphanum.sub(' ', name).strip())]\n",
    "train[\"SellerNameTokens\"] = train[\"SellerName\"].apply(extract_names)\n",
    "test[\"SellerNameTokens\"] = test[\"SellerName\"].apply(extract_names)"
   ]
  },
  {
   "cell_type": "markdown",
   "id": "f16ac3a7-c205-4726-838c-4002d3bc24db",
   "metadata": {},
   "source": [
    "This next feature cleans the VehEngine feature and attempts to extract it from VehFeats or VehSellerNotes if it is unknown."
   ]
  },
  {
   "cell_type": "code",
   "execution_count": 73,
   "id": "624b433a-c08c-4c64-9a7d-de208270b2ea",
   "metadata": {
    "tags": []
   },
   "outputs": [],
   "source": [
    "def extract_engine(row):\n",
    "    if (not pd.isna(row[\"VehFeats\"]) and \"3.6\" in row[\"VehFeats\"]) or (not pd.isna(row[\"VehSellerNotes\"]) and \"3.6\" in row[\"VehSellerNotes\"]):\n",
    "        return \"3.6L V6\"\n",
    "    elif (not pd.isna(row[\"VehFeats\"]) and \"5.7\" in row[\"VehFeats\"]) or (not pd.isna(row[\"VehSellerNotes\"]) and \"5.7\" in row[\"VehSellerNotes\"]):\n",
    "        return \"5.7L V8\"\n",
    "    elif (not pd.isna(row[\"VehFeats\"]) and \"6.2\" in row[\"VehFeats\"]) or (not pd.isna(row[\"VehSellerNotes\"]) and \"6.2\" in row[\"VehSellerNotes\"]):\n",
    "        return \"6.2L V8\"\n",
    "    elif (not pd.isna(row[\"VehFeats\"]) and \"6.4\" in row[\"VehFeats\"]) or (not pd.isna(row[\"VehSellerNotes\"]) and \"6.4\" in row[\"VehSellerNotes\"]):\n",
    "        return \"6.4L V8\"\n",
    "    else:\n",
    "        return row[\"VehEngine\"]\n",
    "def clean_train_engine(row):\n",
    "    if row[\"VehMake\"] == \"Cadillac\": \n",
    "        return \"3.6L V6\"\n",
    "    elif row[\"VehFuel\"]==\"Diesel\":\n",
    "        return \"3.0L V6\"\n",
    "    elif \"3.6\" in row[\"VehEngine\"] or \"V6\" in row[\"VehEngine\"] or row[\"VehEngine\"] in [\"6-cylinder\",\"6\",\"6 Cylinder\",\"V-6 cyl\"] or row[\"Vehicle_Trim\"] in [\"Laredo\", \"Laredo E\"]:\n",
    "        return \"3.6L V6\"\n",
    "    elif \"6.4\" in row[\"VehEngine\"] or row[\"Vehicle_Trim\"] in [\"SRT\",\"SRT8\"]:\n",
    "        return \"6.4L V8\"\n",
    "    elif \"6.2\" in row[\"VehEngine\"] or \"Trackhawk\" == row[\"Vehicle_Trim\"]:\n",
    "        return \"6.2L V8\"\n",
    "    elif \"5.7\" in row[\"VehEngine\"] or (\"8\" in row[\"VehEngine\"] and not (row[\"Vehicle_Trim\"] in [\"SRT\",\"SRT8\",\"Trackhawk\"])):\n",
    "        return \"5.7L V8\"\n",
    "    else:\n",
    "        return extract_engine(row)\n",
    "def clean_test_engine(row):\n",
    "    if row[\"VehMake\"] == \"Cadillac\": \n",
    "        return \"3.6L V6\"\n",
    "    elif row[\"VehFuel\"]==\"Diesel\":\n",
    "        return \"3.0L V6\"\n",
    "    elif \"3.6\" in row[\"VehEngine\"] or \"V6\" in row[\"VehEngine\"] or row[\"VehEngine\"] in [\"6-cylinder\",\"6\",\"6 Cylinder\",\"V-6 cyl\"]:\n",
    "        return \"3.6L V6\"\n",
    "    elif \"6.2\" in row[\"VehEngine\"]:\n",
    "        return \"6.2L V8\"\n",
    "    elif \"6.4\" in row[\"VehEngine\"] or row[\"VehEngine\"]==\"8-cylinder\": # the one \"8-cylinder\" has SRT in notes\n",
    "        return \"6.4L V8\"\n",
    "    elif \"5.7\" in row[\"VehEngine\"] or row[\"VehEngine\"]==\"8 Cylinder Engine\": # the one \"8 Cylinder Engine\" has uninformative features, rather than label it \"unknown\" I label it the most common V8 engine type\n",
    "        return \"5.7L V8\"\n",
    "    elif row[\"VehEngine\"]==\"0\":\n",
    "        return \"unknown\"\n",
    "    else:\n",
    "        return extract_engine(row)\n",
    "\n",
    "train[\"VehEngineClean\"] = train.apply(clean_train_engine,axis=1)\n",
    "test[\"VehEngineClean\"] = test.apply(clean_test_engine,axis=1)"
   ]
  },
  {
   "cell_type": "code",
   "execution_count": 74,
   "id": "8f762934-cb20-4f15-9a4a-ed25efa7b163",
   "metadata": {
    "tags": []
   },
   "outputs": [],
   "source": [
    "# A simple attempt to extract a trim label from VehFeats or VehSellerNotes\n",
    "def extract_trim(row):\n",
    "    if not pd.isnull(row[\"VehSellerNotes\"]):\n",
    "        if row[\"VehMake\"]==\"Cadillac\":\n",
    "            if \"platinum\" in row[\"VehSellerNotes\"]:\n",
    "                return \"Platinum\"\n",
    "            elif \"premium luxury\" in row[\"VehSellerNotes\"]:\n",
    "                return \"Premium Luxury\"\n",
    "            elif \"luxury\" in row[\"VehSellerNotes\"]:\n",
    "                return \"Luxury\"\n",
    "            elif \"base\" in row[\"VehSellerNotes\"]:\n",
    "                return \"Base\"\n",
    "        else:\n",
    "            if \"laredo e\" in row[\"VehSellerNotes\"]:\n",
    "                return \"Laredo E\"\n",
    "            elif \"laredo\" in row[\"VehSellerNotes\"]:\n",
    "                return \"Laredo E\"\n",
    "            elif \"overland\" in row[\"VehSellerNotes\"]:\n",
    "                return \"Overland\"\n",
    "            elif \"high altitude\" in row[\"VehSellerNotes\"]:\n",
    "                return \"High Altitude\"\n",
    "            elif \"altitude\" in row[\"VehSellerNotes\"]:\n",
    "                return \"Altitude\"\n",
    "            elif \"summit\" in row[\"VehSellerNotes\"]:\n",
    "                return \"Summit\"\n",
    "            elif \"trailhawk\" in row[\"VehSellerNotes\"]:\n",
    "                return \"Trailhawk\"\n",
    "            elif \"srt\" in row[\"VehSellerNotes\"]:\n",
    "                return \"SRT\"\n",
    "            elif \"trackhawk\" in row[\"VehSellerNotes\"]:\n",
    "                return \"Trackhawk\"\n",
    "            elif \"sterling edition\" in row[\"VehSellerNotes\"]:\n",
    "                return \"Sterling Edition\"\n",
    "            elif \"upland\" in row[\"VehSellerNotes\"]:\n",
    "                return \"Upland\"\n",
    "            elif \"limited\" in row[\"VehSellerNotes\"]:\n",
    "                return \"Limited\"\n",
    "    elif not pd.isnull(row[\"VehFeats\"]):\n",
    "        if row[\"VehMake\"]==\"Cadillac\":\n",
    "            if \"platinum\" in row[\"VehFeats\"]:\n",
    "                return \"Platinum\"\n",
    "            elif \"premium luxury\" in row[\"VehFeats\"]:\n",
    "                return \"Premium Luxury\"\n",
    "            elif \"luxury\" in row[\"VehFeats\"]:\n",
    "                return \"Luxury\"\n",
    "            elif \"base\" in row[\"VehFeats\"]:\n",
    "                return \"Base\"\n",
    "        else:\n",
    "            if \"laredo e\" in row[\"VehFeats\"]:\n",
    "                return \"Laredo E\"\n",
    "            elif \"laredo\" in row[\"VehFeats\"]:\n",
    "                return \"Laredo E\"\n",
    "            elif \"overland\" in row[\"VehFeats\"]:\n",
    "                return \"Overland\"\n",
    "            elif \"high altitude\" in row[\"VehFeats\"]:\n",
    "                return \"High Altitude\"\n",
    "            elif \"altitude\" in row[\"VehFeats\"]:\n",
    "                return \"Altitude\"\n",
    "            elif \"summit\" in row[\"VehFeats\"]:\n",
    "                return \"Summit\"\n",
    "            elif \"trailhawk\" in row[\"VehFeats\"]:\n",
    "                return \"Trailhawk\"\n",
    "            elif \"srt\" in row[\"VehFeats\"]:\n",
    "                return \"SRT\"\n",
    "            elif \"trackhawk\" in row[\"VehFeats\"]:\n",
    "                return \"Trackhawk\"\n",
    "            elif \"sterling edition\" in row[\"VehFeats\"]:\n",
    "                return \"Sterling Edition\"\n",
    "            elif \"upland\" in row[\"VehFeats\"]:\n",
    "                return \"Upland\"\n",
    "            elif \"limited\" in row[\"VehFeats\"]:\n",
    "                return \"Limited\"\n",
    "    return \"Unknown\"\n",
    "train[\"Vehicle_Trim_Extraction\"] = train.apply(extract_trim,axis=1)\n",
    "test[\"Vehicle_Trim_Extraction\"] = test.apply(extract_trim,axis=1)"
   ]
  },
  {
   "cell_type": "code",
   "execution_count": 75,
   "id": "dbde6155-321d-4a23-8f39-819df0af4223",
   "metadata": {
    "tags": []
   },
   "outputs": [],
   "source": [
    "# An agressively normalized version of trim labels\n",
    "def clean_trim(row):\n",
    "    if pd.isnull(row[\"Vehicle_Trim\"]):\n",
    "        return row[\"Vehicle_Trim\"]\n",
    "    elif row[\"VehMake\"]==\"Cadillac\":\n",
    "        if row[\"Vehicle_Trim\"] in [\"Premium Luxury\",\"Premium Luxury AWD\",\"Premium Luxury FWD\"]:\n",
    "            return \"Premium Luxury\"\n",
    "        elif row[\"Vehicle_Trim\"] in [\"Luxury\",\"Luxury AWD\",\"Luxury FWD\"]:\n",
    "            return \"Luxury\"\n",
    "        elif row[\"Vehicle_Trim\"] in [\"Platinum\",\"Platinum AWD\"]:\n",
    "            return \"Platinum\"\n",
    "        else:\n",
    "            return \"Base\"\n",
    "    else:\n",
    "        if row[\"Vehicle_Trim\"] in [\"Limited\",\"75th Anniversary\",\"Limited 75th Anniversary Edition\",\"Limited 4x4\",\"75th Anniversary Edition\",\"Limited X\",\"Limited 75th Anniversary\"]:\n",
    "            return \"Limited\"\n",
    "        elif row[\"Vehicle_Trim\"] in [\"SRT\", \"SRT Night\"]:\n",
    "            return \"SRT\"\n",
    "        else:\n",
    "            return row[\"Vehicle_Trim\"]\n",
    "train[\"Vehicle_Trim_Clean\"] = train.apply(clean_trim,axis=1)"
   ]
  },
  {
   "cell_type": "code",
   "execution_count": 76,
   "id": "b3548111-c14d-4223-9d0d-ec4cc80f2393",
   "metadata": {
    "tags": []
   },
   "outputs": [],
   "source": [
    "# Replace trim levels that are used only once\n",
    "train[\"Vehicle_Trim\"].value_counts()\n",
    "def clean_trim(row):\n",
    "    if pd.isnull(row[\"Vehicle_Trim\"]):\n",
    "        return row[\"Vehicle_Trim\"]\n",
    "    elif row[\"VehMake\"]==\"Cadillac\":\n",
    "        return row[\"Vehicle_Trim\"]\n",
    "    else:\n",
    "        if row[\"Vehicle_Trim\"] in [\"Limited X\", \"Limited 4x4\"]:\n",
    "            return \"Limited\"\n",
    "        elif row[\"Vehicle_Trim\"] in [\"Limited 75th Anniversary\",\"75th Anniversary Edition\"]:\n",
    "            return \"75th Anniversary\"\n",
    "        else:\n",
    "            return row[\"Vehicle_Trim\"]\n",
    "train[\"Vehicle_Trim_Semiclean\"] = train.apply(clean_trim,axis=1)"
   ]
  },
  {
   "cell_type": "code",
   "execution_count": 77,
   "id": "4a055078-97de-4cba-a38a-040806151651",
   "metadata": {
    "tags": []
   },
   "outputs": [],
   "source": [
    "# normalize unknown color labeld\n",
    "def clean_ext_color(color): \n",
    "    if color == \"undetermined\" or color == \"unspecified\":\n",
    "        return \"unknown\"\n",
    "    else: \n",
    "        return color\n",
    "train[\"VehColorExt\"] = train[\"VehColorExt\"].apply(clean_ext_color)\n",
    "test[\"VehColorExt\"] = test[\"VehColorExt\"].apply(clean_ext_color)"
   ]
  },
  {
   "cell_type": "code",
   "execution_count": 78,
   "id": "6f215b3f-6440-4d19-a310-7120272c0fd5",
   "metadata": {
    "tags": []
   },
   "outputs": [],
   "source": [
    "# Extract words and bigrams from colors\n",
    "def extract_color(color):\n",
    "    if pd.isna(color):\n",
    "        return [(\"unknown\",)]\n",
    "    else:\n",
    "        return [gram for gram in words_and_bigrams(nonalphanum.sub(' ', color).strip())]\n",
    "train[\"VehColorExtTokens\"] = train[\"VehColorExt\"].apply(extract_color)\n",
    "test[\"VehColorExtTokens\"] = test[\"VehColorExt\"].apply(extract_color)\n",
    "train[\"VehColorIntTokens\"] = train[\"VehColorInt\"].apply(extract_color)\n",
    "test[\"VehColorIntTokens\"] = test[\"VehColorInt\"].apply(extract_color)"
   ]
  },
  {
   "cell_type": "code",
   "execution_count": 79,
   "id": "fcd82837-62ae-429f-a54b-72e9a4f87bb9",
   "metadata": {
    "tags": []
   },
   "outputs": [],
   "source": [
    "# Encode features for model training\n",
    "from sklearn import preprocessing \n",
    "from sklearn.preprocessing import OneHotEncoder, MultiLabelBinarizer,StandardScaler\n",
    "real_features = [\"SellerRating\",\"SellerRevCnt\",\"VehListdays\",\"VehMileage\"]\n",
    "already_encoded_features = [\"SellerIsPriv\",\"VehCertified\"]\n",
    "one_hot_encoded_features = [\"SellerListSrc\",\"SellerState\",\"SellerDivision\",\"VehDriveTrainClean\",\"VehEngineClean\",\"VehFuel\",\"VehMake\",\"VehPriceLabel\",\"VehYear\",\"Vehicle_Trim_Extraction\"]\n",
    "mlb_encoded_features = [\"SellerNameTokens\",\"VehEngineTokens\",\"VehFeatTokens\",\"VehSellerNotesTokens\",\"VehHistoryTokens\",\"VehColorExtTokens\",\"VehColorIntTokens\"]\n",
    "\n",
    "# Scale real valued features\n",
    "scaler = StandardScaler().fit(pd.concat([train[real_features],test[real_features]],ignore_index=True))\n",
    "X_train = pd.DataFrame(scaler.transform(train[real_features]), columns = real_features,index=train.index)\n",
    "X_predict = pd.DataFrame(scaler.transform(test[real_features]), columns = real_features,index=test.index)\n",
    "                        \n",
    "\n",
    "# One hot encode categorical variables\n",
    "def custom_combiner(feature, category):\n",
    "    return str(feature) + \"_\" + str(category)\n",
    "ohe = OneHotEncoder(feature_name_combiner=custom_combiner,handle_unknown='ignore',sparse_output=False).fit(train[one_hot_encoded_features])\n",
    "temp = pd.DataFrame(ohe.transform(train[one_hot_encoded_features]),index=train.index,columns=ohe.get_feature_names_out())\n",
    "X_train = X_train.join(temp)\n",
    "\n",
    "temp_predict = pd.DataFrame(ohe.transform(test[one_hot_encoded_features]),index=test.index,columns=ohe.get_feature_names_out())\n",
    "X_predict = X_predict.join(temp_predict)\n",
    "             \n",
    "# Encode lists of features using a multi label binarizer                         \n",
    "for feature in mlb_encoded_features: \n",
    "    mlb = MultiLabelBinarizer(sparse_output=True).fit(pd.concat([train[feature],test[feature]],ignore_index=True))\n",
    "    temp = pd.DataFrame.sparse.from_spmatrix(mlb.transform(train[feature]),columns=[feature+str(c) for c in mlb.classes_],index=train.index)\n",
    "    temp = temp.loc[:,temp.sum()>=5] # drop features that don't occur in at least 5 samples in training\n",
    "    X_train = X_train.join(temp)\n",
    "    \n",
    "    temp_predict = pd.DataFrame.sparse.from_spmatrix(mlb.transform(test[feature]),columns=[feature+str(c) for c in mlb.classes_],index=test.index)\n",
    "    temp_predict = temp_predict.loc[:,temp.loc[:,temp.sum()>=5].columns] # drop features that don't occur in at least 5 samples in training\n",
    "    X_predict = X_predict.join(temp_predict)\n",
    "    \n",
    "Y_train = train[\"Vehicle_Trim\"]\n",
    "Y_train_clean = train[\"Vehicle_Trim_Clean\"]\n",
    "Y_train_semiclean = train[\"Vehicle_Trim_Semiclean\"]"
   ]
  },
  {
   "cell_type": "code",
   "execution_count": 80,
   "id": "c8f78b92-c107-47a1-9e47-aa2325b0d9e6",
   "metadata": {
    "tags": []
   },
   "outputs": [],
   "source": [
    "# Dataset for trim prediction\n",
    "X_train_trim = X_train[~Y_train.isnull()]\n",
    "Y_train_trim = Y_train[~Y_train.isnull()]\n",
    "Y_train_clean_trim = Y_train_clean[~Y_train.isnull()]\n",
    "Y_train_semiclean_trim = Y_train_semiclean[~Y_train.isnull()]"
   ]
  },
  {
   "cell_type": "code",
   "execution_count": null,
   "id": "7df8cb1e-cfa7-4956-9103-3bd9e27dacef",
   "metadata": {},
   "outputs": [],
   "source": []
  },
  {
   "cell_type": "code",
   "execution_count": 138,
   "id": "e5fb1c07-2716-489c-942e-69a97d846715",
   "metadata": {
    "tags": []
   },
   "outputs": [
    {
     "name": "stderr",
     "output_type": "stream",
     "text": [
      "/Users/hazeneckert/miniconda3/envs/practice/lib/python3.11/site-packages/sklearn/utils/validation.py:787: UserWarning: pandas.DataFrame with sparse columns found.It will be converted to a dense numpy array.\n",
      "  warnings.warn(\n",
      "/Users/hazeneckert/miniconda3/envs/practice/lib/python3.11/site-packages/sklearn/utils/validation.py:787: UserWarning: pandas.DataFrame with sparse columns found.It will be converted to a dense numpy array.\n",
      "  warnings.warn(\n",
      "/Users/hazeneckert/miniconda3/envs/practice/lib/python3.11/site-packages/sklearn/utils/validation.py:787: UserWarning: pandas.DataFrame with sparse columns found.It will be converted to a dense numpy array.\n",
      "  warnings.warn(\n"
     ]
    }
   ],
   "source": [
    "# Dataset for price prediction\n",
    "X_train_price = X_train[~train[\"Dealer_Listing_Price\"].isnull()]\n",
    "feature_scaler = StandardScaler().fit(X_train)\n",
    "X_train_price_normalized = pd.DataFrame(feature_scaler.transform(X_train_price), columns = X_train_price.columns,index=X_train_price.index)\n",
    "X_predict_normalized = pd.DataFrame(feature_scaler.transform(X_predict), columns = X_predict.columns,index=X_predict.index)\n",
    "\n",
    "Y_train_price = train[~train[\"Dealer_Listing_Price\"].isnull()][\"Dealer_Listing_Price\"]\n",
    "price_scaler = StandardScaler().fit(Y_train_price.to_numpy().reshape(-1, 1))\n",
    "Y_train_price_normalized =pd.Series(price_scaler.transform(Y_train_price.to_numpy().reshape(-1, 1)).reshape(1,-1)[0], index=Y_train_price.index)"
   ]
  },
  {
   "cell_type": "code",
   "execution_count": 82,
   "id": "3edf3a3b-b06b-4406-9cc2-9045580b6b97",
   "metadata": {},
   "outputs": [
    {
     "data": {
      "text/plain": [
       "0      -0.168911\n",
       "1       0.344582\n",
       "2      -1.196029\n",
       "3      -0.037950\n",
       "4       0.163467\n",
       "          ...   \n",
       "6293   -1.799749\n",
       "6294   -0.035164\n",
       "6295    0.452588\n",
       "6296   -0.035562\n",
       "6297    0.532996\n",
       "Length: 6245, dtype: float64"
      ]
     },
     "execution_count": 82,
     "metadata": {},
     "output_type": "execute_result"
    }
   ],
   "source": [
    "Y_train_price_normalized"
   ]
  },
  {
   "cell_type": "markdown",
   "id": "b6da9ca0-02a3-478e-8bce-7cb41e833ee8",
   "metadata": {},
   "source": [
    "# Model Training and Prediciton\n",
    "See the section on model selection to see why these models and parameters were chosen."
   ]
  },
  {
   "cell_type": "code",
   "execution_count": 83,
   "id": "e6f1f134-bc1f-49e6-8002-e7b030ad71ab",
   "metadata": {},
   "outputs": [
    {
     "name": "stderr",
     "output_type": "stream",
     "text": [
      "/Users/hazeneckert/miniconda3/envs/practice/lib/python3.11/site-packages/sklearn/utils/validation.py:787: UserWarning: pandas.DataFrame with sparse columns found.It will be converted to a dense numpy array.\n",
      "  warnings.warn(\n",
      "/Users/hazeneckert/miniconda3/envs/practice/lib/python3.11/site-packages/sklearn/utils/validation.py:787: UserWarning: pandas.DataFrame with sparse columns found.It will be converted to a dense numpy array.\n",
      "  warnings.warn(\n"
     ]
    }
   ],
   "source": [
    "from sklearn.ensemble import RandomForestClassifier\n",
    "rf_clf = RandomForestClassifier(max_depth=18)\n",
    "rf_clf.fit(X_train_trim, Y_train_semiclean_trim)\n",
    "predict = pd.DataFrame(rf_clf.predict(X_predict),columns=[\"Vehicle_Trim_Predicted\"]).join(test[\"ListingID\"])"
   ]
  },
  {
   "cell_type": "code",
   "execution_count": 140,
   "id": "557d3ae9-799f-424a-879c-17aabeb29066",
   "metadata": {},
   "outputs": [],
   "source": [
    "from sklearn.ensemble import RandomForestRegressor\n",
    "rf_reg = RandomForestRegressor(n_jobs=-1)\n",
    "rf_reg.fit(X_train_price_normalized,Y_train_price_normalized)\n",
    "predict =pd.DataFrame(price_scaler.inverse_transform(rf_reg.predict(X_predict_normalized).reshape(-1, 1)), columns=[\"Predicted_price\"], index=X_predict_normalized.index).join(predict)"
   ]
  },
  {
   "cell_type": "code",
   "execution_count": 146,
   "id": "61351662-31c8-48be-aa4b-8c1b61f23fd4",
   "metadata": {},
   "outputs": [],
   "source": [
    "predict[[\"ListingID\",\"Vehicle_Trim_Predicted\",\"Predicted_price\"]].to_csv(\"predictions.csv\",index=False)"
   ]
  },
  {
   "cell_type": "markdown",
   "id": "f29456d2-861d-4375-8191-a796c701ce4b",
   "metadata": {},
   "source": [
    "# Model Selection and Evaluation\n",
    "I first quickly evaluate the preformance of a collection of models on the data. I select the most promising one for each task and find hyperparameters for the simplest model within a std dev of the optimal score. "
   ]
  },
  {
   "cell_type": "code",
   "execution_count": 85,
   "id": "18bf713e-49bc-4098-81fd-d4c603d0eeea",
   "metadata": {},
   "outputs": [
    {
     "name": "stderr",
     "output_type": "stream",
     "text": [
      "/Users/hazeneckert/miniconda3/envs/practice/lib/python3.11/site-packages/sklearn/utils/validation.py:787: UserWarning: pandas.DataFrame with sparse columns found.It will be converted to a dense numpy array.\n",
      "  warnings.warn(\n"
     ]
    },
    {
     "name": "stdout",
     "output_type": "stream",
     "text": [
      "--------------------------------------------------\n",
      "AdaBoostRegressor\n",
      "****Results****\n"
     ]
    },
    {
     "name": "stderr",
     "output_type": "stream",
     "text": [
      "/Users/hazeneckert/miniconda3/envs/practice/lib/python3.11/site-packages/sklearn/utils/validation.py:787: UserWarning: pandas.DataFrame with sparse columns found.It will be converted to a dense numpy array.\n",
      "  warnings.warn(\n"
     ]
    },
    {
     "name": "stdout",
     "output_type": "stream",
     "text": [
      "R2: 71.9518%\n"
     ]
    },
    {
     "name": "stderr",
     "output_type": "stream",
     "text": [
      "/Users/hazeneckert/miniconda3/envs/practice/lib/python3.11/site-packages/sklearn/utils/validation.py:787: UserWarning: pandas.DataFrame with sparse columns found.It will be converted to a dense numpy array.\n",
      "  warnings.warn(\n"
     ]
    },
    {
     "name": "stdout",
     "output_type": "stream",
     "text": [
      "--------------------------------------------------\n",
      "RandomForestRegressor\n",
      "****Results****\n"
     ]
    },
    {
     "name": "stderr",
     "output_type": "stream",
     "text": [
      "/Users/hazeneckert/miniconda3/envs/practice/lib/python3.11/site-packages/sklearn/utils/validation.py:787: UserWarning: pandas.DataFrame with sparse columns found.It will be converted to a dense numpy array.\n",
      "  warnings.warn(\n"
     ]
    },
    {
     "name": "stdout",
     "output_type": "stream",
     "text": [
      "R2: 88.8195%\n"
     ]
    },
    {
     "name": "stderr",
     "output_type": "stream",
     "text": [
      "/Users/hazeneckert/miniconda3/envs/practice/lib/python3.11/site-packages/sklearn/utils/validation.py:787: UserWarning: pandas.DataFrame with sparse columns found.It will be converted to a dense numpy array.\n",
      "  warnings.warn(\n"
     ]
    },
    {
     "name": "stdout",
     "output_type": "stream",
     "text": [
      "--------------------------------------------------\n",
      "GradientBoostingRegressor\n",
      "****Results****\n"
     ]
    },
    {
     "name": "stderr",
     "output_type": "stream",
     "text": [
      "/Users/hazeneckert/miniconda3/envs/practice/lib/python3.11/site-packages/sklearn/utils/validation.py:787: UserWarning: pandas.DataFrame with sparse columns found.It will be converted to a dense numpy array.\n",
      "  warnings.warn(\n"
     ]
    },
    {
     "name": "stdout",
     "output_type": "stream",
     "text": [
      "R2: 87.4207%\n"
     ]
    },
    {
     "name": "stderr",
     "output_type": "stream",
     "text": [
      "/Users/hazeneckert/miniconda3/envs/practice/lib/python3.11/site-packages/sklearn/utils/validation.py:787: UserWarning: pandas.DataFrame with sparse columns found.It will be converted to a dense numpy array.\n",
      "  warnings.warn(\n"
     ]
    },
    {
     "name": "stdout",
     "output_type": "stream",
     "text": [
      "--------------------------------------------------\n",
      "KNeighborsRegressor\n",
      "****Results****\n"
     ]
    },
    {
     "name": "stderr",
     "output_type": "stream",
     "text": [
      "/Users/hazeneckert/miniconda3/envs/practice/lib/python3.11/site-packages/sklearn/utils/validation.py:787: UserWarning: pandas.DataFrame with sparse columns found.It will be converted to a dense numpy array.\n",
      "  warnings.warn(\n"
     ]
    },
    {
     "name": "stdout",
     "output_type": "stream",
     "text": [
      "R2: 46.3376%\n"
     ]
    },
    {
     "name": "stderr",
     "output_type": "stream",
     "text": [
      "/Users/hazeneckert/miniconda3/envs/practice/lib/python3.11/site-packages/sklearn/utils/validation.py:787: UserWarning: pandas.DataFrame with sparse columns found.It will be converted to a dense numpy array.\n",
      "  warnings.warn(\n"
     ]
    },
    {
     "name": "stdout",
     "output_type": "stream",
     "text": [
      "--------------------------------------------------\n",
      "Lasso\n",
      "****Results****\n"
     ]
    },
    {
     "name": "stderr",
     "output_type": "stream",
     "text": [
      "/Users/hazeneckert/miniconda3/envs/practice/lib/python3.11/site-packages/sklearn/utils/validation.py:787: UserWarning: pandas.DataFrame with sparse columns found.It will be converted to a dense numpy array.\n",
      "  warnings.warn(\n"
     ]
    },
    {
     "name": "stdout",
     "output_type": "stream",
     "text": [
      "R2: -0.0049%\n"
     ]
    }
   ],
   "source": [
    "from sklearn.model_selection import KFold\n",
    "from sklearn.metrics import r2_score\n",
    "from sklearn.ensemble import AdaBoostRegressor, RandomForestRegressor, GradientBoostingRegressor\n",
    "from sklearn.neighbors import KNeighborsRegressor\n",
    "from sklearn.linear_model import Lasso\n",
    "regressors = [AdaBoostRegressor(), \n",
    "              RandomForestRegressor(n_jobs=-1), \n",
    "              GradientBoostingRegressor(),\n",
    "              KNeighborsRegressor(3,n_jobs=-1),\n",
    "              Lasso(alpha=0.1)]\n",
    "\n",
    "train_ind,test_ind= next(KFold(n_splits=5).split(X_train_price, Y_train_price_normalized))\n",
    "for reg in regressors:\n",
    "    reg.fit(X_train_price_normalized.iloc[train_ind], Y_train_price_normalized.iloc[train_ind])\n",
    "    \n",
    "    print(\"-\"*50)\n",
    "    print(reg.__class__.__name__)\n",
    "    \n",
    "    print('****Results****')\n",
    "    r2 = r2_score(Y_train_price_normalized.iloc[test_ind],reg.predict(X_train_price_normalized.iloc[test_ind]))\n",
    "    print(\"R2: {:.4%}\".format(r2))"
   ]
  },
  {
   "cell_type": "markdown",
   "id": "14df08a2-97e5-402f-bfe2-be16b2aaf7db",
   "metadata": {},
   "source": [
    "RandomForestRegressor performs the best. "
   ]
  },
  {
   "cell_type": "code",
   "execution_count": null,
   "id": "d7b09b1e-24f0-44ce-958b-5fb4fdb9bf2d",
   "metadata": {},
   "outputs": [],
   "source": [
    "from sklearn.model_selection import StratifiedKFold\n",
    "from sklearn.metrics import RocCurveDisplay, roc_curve, roc_auc_score\n",
    "from sklearn.ensemble import AdaBoostClassifier, RandomForestClassifier, GradientBoostingClassifier\n",
    "from sklearn.naive_bayes import GaussianNB\n",
    "from sklearn.neighbors import KNeighborsClassifier\n",
    "from sklearn.tree import DecisionTreeClassifier\n",
    "from sklearn.discriminant_analysis import LinearDiscriminantAnalysis, QuadraticDiscriminantAnalysis\n",
    "classifiers = [\n",
    "    KNeighborsClassifier(3),\n",
    "    RandomForestClassifier(),\n",
    "    AdaBoostClassifier(),\n",
    "    GradientBoostingClassifier(),\n",
    "    GaussianNB(),\n",
    "    LinearDiscriminantAnalysis(),\n",
    "    QuadraticDiscriminantAnalysis()]\n",
    "\n",
    "\n",
    "train_ind,test_ind = next(StratifiedKFold(n_splits=3).split(X_train_trim, Y_train_clean_trim))\n",
    "\n",
    "\n",
    "for clf in classifiers:\n",
    "    clf.fit(X_train_trim.iloc[train_ind], Y_train_clean_trim.iloc[train_ind])\n",
    "    \n",
    "    print(\"-\"*50)\n",
    "    print(clf.__class__.__name__)\n",
    "    \n",
    "    print('****Results****')\n",
    "    auc = roc_auc_score(Y_train_clean_trim.iloc[test_ind],clf.predict_proba(X_train_trim.iloc[test_ind]), multi_class='ovr')\n",
    "    print(\"AUC: {:.4%}\".format(auc))"
   ]
  },
  {
   "cell_type": "markdown",
   "id": "98b2fac1-41ab-4229-8fe6-f154576f1a26",
   "metadata": {},
   "source": [
    "The default RandomForestClassifier works extremely well and is very quick to train so I will used a tuned version of it for the trim classifier."
   ]
  },
  {
   "cell_type": "code",
   "execution_count": null,
   "id": "10dd5cf8-adc2-4fb9-a31d-9530c6827309",
   "metadata": {},
   "outputs": [],
   "source": [
    "from sklearn.model_selection import GridSearchCV\n",
    "parameters = {'alpha' :[0.1, 1, 10, 100]\n",
    "             }\n",
    "lasso = Lasso()\n",
    "clf = GridSearchCV(lasso, parameters,cv=5,verbose=3, scoring='r2',n_jobs=-1)\n",
    "res = clf.fit(X_train_price, Y_train_price)\n",
    "res.cv_results_"
   ]
  },
  {
   "cell_type": "markdown",
   "id": "1439707e-8c04-49de-8bcc-4c1f49be5323",
   "metadata": {},
   "source": [
    "alpha=1 performs the best. Due to time constraints I am going to stick with that rather than further exploring the parameter space."
   ]
  },
  {
   "cell_type": "code",
   "execution_count": null,
   "id": "61a8a764-55e9-4f39-860b-e1b2a6247699",
   "metadata": {},
   "outputs": [],
   "source": [
    "from sklearn.model_selection import GridSearchCV\n",
    "from sklearn.ensemble import RandomForestClassifier\n",
    "parameters = {'criterion' : (\"gini\", \"entropy\", \"log_loss\"),\n",
    "             'max_depth' :[5, 10, 25, 50]\n",
    "             }\n",
    "rf = RandomForestClassifier()\n",
    "clf = GridSearchCV(rf, parameters,cv=3,verbose=3, scoring='roc_auc_ovr',n_jobs=-1)\n",
    "res = clf.fit(X_train_trim, Y_train_semiclean_trim)\n",
    "res.cv_results_"
   ]
  },
  {
   "cell_type": "markdown",
   "id": "4c437a83-0bdf-47a5-b6bb-66af52cb7dbd",
   "metadata": {},
   "source": [
    "The criterion doesn't affect performance much and the best depth is 10. I am going to select the gini criterion and explore depth more."
   ]
  },
  {
   "cell_type": "code",
   "execution_count": null,
   "id": "b814f14b-0306-476d-96ac-4f0664cfa1bd",
   "metadata": {},
   "outputs": [],
   "source": [
    "from sklearn.model_selection import GridSearchCV\n",
    "from sklearn.ensemble import RandomForestClassifier\n",
    "parameters = {'criterion' : [\"gini\"],\n",
    "             'max_depth' :[8, 12, 15, 18, 20, 22]\n",
    "             }\n",
    "clf = GridSearchCV(rf, parameters,cv=3,verbose=3, scoring='roc_auc_ovr',n_jobs=-1)\n",
    "res = clf.fit(X_train_trim, Y_train_semiclean_trim)\n",
    "res.cv_results_"
   ]
  },
  {
   "cell_type": "markdown",
   "id": "b70d1bf4-81a9-4e25-96d0-5e4e661b5adb",
   "metadata": {},
   "source": [
    "The score is maximized at 20 but 18 is within a std dev so it will be chosen."
   ]
  },
  {
   "cell_type": "code",
   "execution_count": null,
   "id": "6c3407a7-d12b-45fe-8da7-fba1ae295cbd",
   "metadata": {},
   "outputs": [],
   "source": []
  },
  {
   "cell_type": "code",
   "execution_count": 114,
   "id": "216110ff-adcd-486c-b30b-fbb34c0a248f",
   "metadata": {
    "tags": []
   },
   "outputs": [
    {
     "name": "stderr",
     "output_type": "stream",
     "text": [
      "/Users/hazeneckert/miniconda3/envs/practice/lib/python3.11/site-packages/sklearn/utils/validation.py:787: UserWarning: pandas.DataFrame with sparse columns found.It will be converted to a dense numpy array.\n",
      "  warnings.warn(\n"
     ]
    },
    {
     "name": "stdout",
     "output_type": "stream",
     "text": [
      "==============================\n",
      "RandomForestRegressor\n",
      "****Results****\n"
     ]
    },
    {
     "name": "stderr",
     "output_type": "stream",
     "text": [
      "/Users/hazeneckert/miniconda3/envs/practice/lib/python3.11/site-packages/sklearn/utils/validation.py:787: UserWarning: pandas.DataFrame with sparse columns found.It will be converted to a dense numpy array.\n",
      "  warnings.warn(\n"
     ]
    },
    {
     "name": "stdout",
     "output_type": "stream",
     "text": [
      "R2: 88.6564%\n"
     ]
    },
    {
     "name": "stderr",
     "output_type": "stream",
     "text": [
      "/Users/hazeneckert/miniconda3/envs/practice/lib/python3.11/site-packages/sklearn/utils/validation.py:787: UserWarning: pandas.DataFrame with sparse columns found.It will be converted to a dense numpy array.\n",
      "  warnings.warn(\n"
     ]
    },
    {
     "name": "stdout",
     "output_type": "stream",
     "text": [
      "==============================\n",
      "KNeighborsRegressor\n",
      "****Results****\n"
     ]
    },
    {
     "name": "stderr",
     "output_type": "stream",
     "text": [
      "/Users/hazeneckert/miniconda3/envs/practice/lib/python3.11/site-packages/sklearn/utils/validation.py:787: UserWarning: pandas.DataFrame with sparse columns found.It will be converted to a dense numpy array.\n",
      "  warnings.warn(\n"
     ]
    },
    {
     "name": "stdout",
     "output_type": "stream",
     "text": [
      "R2: 46.3376%\n"
     ]
    }
   ],
   "source": [
    "from sklearn.model_selection import KFold\n",
    "from sklearn.metrics import r2_score\n",
    "from sklearn.ensemble import AdaBoostRegressor, RandomForestRegressor, GradientBoostingRegressor\n",
    "from sklearn.neighbors import KNeighborsRegressor\n",
    "from sklearn.linear_model import Lasso\n",
    "regressors = [AdaBoostRegressor(n_jobs=-1), \n",
    "              RandomForestRegressor(n_jobs=-1), \n",
    "              GradientBoostingRegressor(),\n",
    "              KNeighborsRegressor(3,n_jobs=-1),\n",
    "              Lasso()]\n",
    "\n",
    "train,test = next(KFold(n_splits=5).split(X_train_price, Y_train_price))\n",
    "for reg in [RandomForestRegressor(n_jobs=-1),KNeighborsRegressor(3,n_jobs=-1)]:#regressors:\n",
    "    reg.fit(X_train_price.iloc[train], Y_train_price.iloc[train])\n",
    "    name = reg.__class__.__name__\n",
    "    \n",
    "    print(\"=\"*30)\n",
    "    print(name)\n",
    "    \n",
    "    print('****Results****')\n",
    "    r2 = r2_score(Y_train_price.iloc[test],reg.predict(X_train_price.iloc[test]))\n",
    "    print(\"R2: {:.4%}\".format(r2))"
   ]
  },
  {
   "cell_type": "code",
   "execution_count": 115,
   "id": "31ef13f9-2c54-44b1-aeb0-60d29d93c6b3",
   "metadata": {
    "tags": []
   },
   "outputs": [
    {
     "name": "stderr",
     "output_type": "stream",
     "text": [
      "/Users/hazeneckert/miniconda3/envs/practice/lib/python3.11/site-packages/sklearn/utils/validation.py:787: UserWarning: pandas.DataFrame with sparse columns found.It will be converted to a dense numpy array.\n",
      "  warnings.warn(\n"
     ]
    },
    {
     "name": "stdout",
     "output_type": "stream",
     "text": [
      "==============================\n",
      "AdaBoostRegressor\n",
      "****Results****\n"
     ]
    },
    {
     "name": "stderr",
     "output_type": "stream",
     "text": [
      "/Users/hazeneckert/miniconda3/envs/practice/lib/python3.11/site-packages/sklearn/utils/validation.py:787: UserWarning: pandas.DataFrame with sparse columns found.It will be converted to a dense numpy array.\n",
      "  warnings.warn(\n"
     ]
    },
    {
     "name": "stdout",
     "output_type": "stream",
     "text": [
      "R2: 72.2578%\n"
     ]
    },
    {
     "name": "stderr",
     "output_type": "stream",
     "text": [
      "/Users/hazeneckert/miniconda3/envs/practice/lib/python3.11/site-packages/sklearn/utils/validation.py:787: UserWarning: pandas.DataFrame with sparse columns found.It will be converted to a dense numpy array.\n",
      "  warnings.warn(\n"
     ]
    },
    {
     "name": "stdout",
     "output_type": "stream",
     "text": [
      "==============================\n",
      "GradientBoostingRegressor\n",
      "****Results****\n"
     ]
    },
    {
     "name": "stderr",
     "output_type": "stream",
     "text": [
      "/Users/hazeneckert/miniconda3/envs/practice/lib/python3.11/site-packages/sklearn/utils/validation.py:787: UserWarning: pandas.DataFrame with sparse columns found.It will be converted to a dense numpy array.\n",
      "  warnings.warn(\n"
     ]
    },
    {
     "name": "stdout",
     "output_type": "stream",
     "text": [
      "R2: 87.4547%\n"
     ]
    },
    {
     "name": "stderr",
     "output_type": "stream",
     "text": [
      "/Users/hazeneckert/miniconda3/envs/practice/lib/python3.11/site-packages/sklearn/utils/validation.py:787: UserWarning: pandas.DataFrame with sparse columns found.It will be converted to a dense numpy array.\n",
      "  warnings.warn(\n",
      "/Users/hazeneckert/miniconda3/envs/practice/lib/python3.11/site-packages/sklearn/linear_model/_coordinate_descent.py:628: ConvergenceWarning: Objective did not converge. You might want to increase the number of iterations, check the scale of the features or consider increasing regularisation. Duality gap: 1.226e+08, tolerance: 2.897e+07\n",
      "  model = cd_fast.enet_coordinate_descent(\n"
     ]
    },
    {
     "name": "stdout",
     "output_type": "stream",
     "text": [
      "==============================\n",
      "Lasso\n",
      "****Results****\n"
     ]
    },
    {
     "name": "stderr",
     "output_type": "stream",
     "text": [
      "/Users/hazeneckert/miniconda3/envs/practice/lib/python3.11/site-packages/sklearn/utils/validation.py:787: UserWarning: pandas.DataFrame with sparse columns found.It will be converted to a dense numpy array.\n",
      "  warnings.warn(\n"
     ]
    },
    {
     "name": "stdout",
     "output_type": "stream",
     "text": [
      "R2: 90.0233%\n"
     ]
    }
   ],
   "source": [
    "from sklearn.model_selection import KFold\n",
    "from sklearn.metrics import r2_score\n",
    "from sklearn.ensemble import AdaBoostRegressor, RandomForestRegressor, GradientBoostingRegressor\n",
    "from sklearn.neighbors import KNeighborsRegressor\n",
    "from sklearn.linear_model import Lasso\n",
    "regressors = [AdaBoostRegressor(), \n",
    "              RandomForestRegressor(n_jobs=-1), \n",
    "              GradientBoostingRegressor(),\n",
    "              KNeighborsRegressor(3,n_jobs=-1),\n",
    "              Lasso()]\n",
    "\n",
    "train,test = next(KFold(n_splits=5).split(X_train_price, Y_train_price))\n",
    "for reg in [AdaBoostRegressor(), \n",
    "              GradientBoostingRegressor(),\n",
    "              Lasso()]:#regressors:\n",
    "    reg.fit(X_train_price.iloc[train], Y_train_price.iloc[train])\n",
    "    name = reg.__class__.__name__\n",
    "    \n",
    "    print(\"=\"*30)\n",
    "    print(name)\n",
    "    \n",
    "    print('****Results****')\n",
    "    r2 = r2_score(Y_train_price.iloc[test],reg.predict(X_train_price.iloc[test]))\n",
    "    print(\"R2: {:.4%}\".format(r2))"
   ]
  },
  {
   "cell_type": "code",
   "execution_count": 64,
   "id": "1896cbc4-28f2-473e-94e0-c9cc63688639",
   "metadata": {
    "tags": []
   },
   "outputs": [
    {
     "name": "stdout",
     "output_type": "stream",
     "text": [
      "Fitting 3 folds for each of 4 candidates, totalling 12 fits\n"
     ]
    },
    {
     "name": "stderr",
     "output_type": "stream",
     "text": [
      "/Users/hazeneckert/miniconda3/envs/practice/lib/python3.11/site-packages/sklearn/utils/validation.py:787: UserWarning: pandas.DataFrame with sparse columns found.It will be converted to a dense numpy array.\n",
      "  warnings.warn(\n",
      "/Users/hazeneckert/miniconda3/envs/practice/lib/python3.11/site-packages/sklearn/utils/validation.py:787: UserWarning: pandas.DataFrame with sparse columns found.It will be converted to a dense numpy array.\n",
      "  warnings.warn(\n",
      "/Users/hazeneckert/miniconda3/envs/practice/lib/python3.11/site-packages/sklearn/utils/validation.py:787: UserWarning: pandas.DataFrame with sparse columns found.It will be converted to a dense numpy array.\n",
      "  warnings.warn(\n",
      "/Users/hazeneckert/miniconda3/envs/practice/lib/python3.11/site-packages/sklearn/utils/validation.py:787: UserWarning: pandas.DataFrame with sparse columns found.It will be converted to a dense numpy array.\n",
      "  warnings.warn(\n",
      "/Users/hazeneckert/miniconda3/envs/practice/lib/python3.11/site-packages/sklearn/utils/validation.py:787: UserWarning: pandas.DataFrame with sparse columns found.It will be converted to a dense numpy array.\n",
      "  warnings.warn(\n",
      "/Users/hazeneckert/miniconda3/envs/practice/lib/python3.11/site-packages/sklearn/utils/validation.py:787: UserWarning: pandas.DataFrame with sparse columns found.It will be converted to a dense numpy array.\n",
      "  warnings.warn(\n",
      "/Users/hazeneckert/miniconda3/envs/practice/lib/python3.11/site-packages/sklearn/utils/validation.py:787: UserWarning: pandas.DataFrame with sparse columns found.It will be converted to a dense numpy array.\n",
      "  warnings.warn(\n",
      "/Users/hazeneckert/miniconda3/envs/practice/lib/python3.11/site-packages/sklearn/utils/validation.py:787: UserWarning: pandas.DataFrame with sparse columns found.It will be converted to a dense numpy array.\n",
      "  warnings.warn(\n",
      "/Users/hazeneckert/miniconda3/envs/practice/lib/python3.11/site-packages/sklearn/utils/validation.py:787: UserWarning: pandas.DataFrame with sparse columns found.It will be converted to a dense numpy array.\n",
      "  warnings.warn(\n",
      "/Users/hazeneckert/miniconda3/envs/practice/lib/python3.11/site-packages/sklearn/utils/validation.py:787: UserWarning: pandas.DataFrame with sparse columns found.It will be converted to a dense numpy array.\n",
      "  warnings.warn(\n",
      "/Users/hazeneckert/miniconda3/envs/practice/lib/python3.11/site-packages/sklearn/utils/validation.py:787: UserWarning: pandas.DataFrame with sparse columns found.It will be converted to a dense numpy array.\n",
      "  warnings.warn(\n",
      "/Users/hazeneckert/miniconda3/envs/practice/lib/python3.11/site-packages/sklearn/utils/validation.py:787: UserWarning: pandas.DataFrame with sparse columns found.It will be converted to a dense numpy array.\n",
      "  warnings.warn(\n",
      "/Users/hazeneckert/miniconda3/envs/practice/lib/python3.11/site-packages/sklearn/utils/validation.py:787: UserWarning: pandas.DataFrame with sparse columns found.It will be converted to a dense numpy array.\n",
      "  warnings.warn(\n",
      "/Users/hazeneckert/miniconda3/envs/practice/lib/python3.11/site-packages/sklearn/utils/validation.py:787: UserWarning: pandas.DataFrame with sparse columns found.It will be converted to a dense numpy array.\n",
      "  warnings.warn(\n",
      "/Users/hazeneckert/miniconda3/envs/practice/lib/python3.11/site-packages/sklearn/utils/validation.py:787: UserWarning: pandas.DataFrame with sparse columns found.It will be converted to a dense numpy array.\n",
      "  warnings.warn(\n",
      "/Users/hazeneckert/miniconda3/envs/practice/lib/python3.11/site-packages/sklearn/utils/validation.py:787: UserWarning: pandas.DataFrame with sparse columns found.It will be converted to a dense numpy array.\n",
      "  warnings.warn(\n",
      "/Users/hazeneckert/miniconda3/envs/practice/lib/python3.11/site-packages/sklearn/utils/validation.py:787: UserWarning: pandas.DataFrame with sparse columns found.It will be converted to a dense numpy array.\n",
      "  warnings.warn(\n",
      "/Users/hazeneckert/miniconda3/envs/practice/lib/python3.11/site-packages/sklearn/utils/validation.py:787: UserWarning: pandas.DataFrame with sparse columns found.It will be converted to a dense numpy array.\n",
      "  warnings.warn(\n",
      "/Users/hazeneckert/miniconda3/envs/practice/lib/python3.11/site-packages/sklearn/utils/validation.py:787: UserWarning: pandas.DataFrame with sparse columns found.It will be converted to a dense numpy array.\n",
      "  warnings.warn(\n",
      "/Users/hazeneckert/miniconda3/envs/practice/lib/python3.11/site-packages/sklearn/utils/validation.py:787: UserWarning: pandas.DataFrame with sparse columns found.It will be converted to a dense numpy array.\n",
      "  warnings.warn(\n",
      "/Users/hazeneckert/miniconda3/envs/practice/lib/python3.11/site-packages/sklearn/utils/validation.py:787: UserWarning: pandas.DataFrame with sparse columns found.It will be converted to a dense numpy array.\n",
      "  warnings.warn(\n",
      "/Users/hazeneckert/miniconda3/envs/practice/lib/python3.11/site-packages/sklearn/utils/validation.py:787: UserWarning: pandas.DataFrame with sparse columns found.It will be converted to a dense numpy array.\n",
      "  warnings.warn(\n",
      "/Users/hazeneckert/miniconda3/envs/practice/lib/python3.11/site-packages/sklearn/utils/validation.py:787: UserWarning: pandas.DataFrame with sparse columns found.It will be converted to a dense numpy array.\n",
      "  warnings.warn(\n",
      "/Users/hazeneckert/miniconda3/envs/practice/lib/python3.11/site-packages/sklearn/utils/validation.py:787: UserWarning: pandas.DataFrame with sparse columns found.It will be converted to a dense numpy array.\n",
      "  warnings.warn(\n",
      "/Users/hazeneckert/miniconda3/envs/practice/lib/python3.11/site-packages/sklearn/utils/validation.py:787: UserWarning: pandas.DataFrame with sparse columns found.It will be converted to a dense numpy array.\n",
      "  warnings.warn(\n"
     ]
    }
   ],
   "source": [
    "from sklearn.model_selection import GridSearchCV\n",
    "parameters = {'alpha' :[0.1, 1, 10, 100]\n",
    "             }\n",
    "lasso = Lasso()\n",
    "clf2 = GridSearchCV(lasso, parameters,cv=3,verbose=3, scoring='r2',n_jobs=-1)\n",
    "res2 = clf2.fit(X_train_price, Y_train_price_normalized)"
   ]
  },
  {
   "cell_type": "code",
   "execution_count": 65,
   "id": "5b3872a7-b547-4676-814b-c9131365f65b",
   "metadata": {
    "tags": []
   },
   "outputs": [
    {
     "data": {
      "text/plain": [
       "{'mean_fit_time': array([64.46180097, 39.39768632, 35.41649906, 19.41072917]),\n",
       " 'std_fit_time': array([0.40318785, 3.16491185, 9.5241703 , 0.84523867]),\n",
       " 'mean_score_time': array([1.14106512, 3.36019135, 1.74764069, 0.80682882]),\n",
       " 'std_score_time': array([0.01985719, 0.53763664, 0.80918459, 0.2502816 ]),\n",
       " 'param_alpha': masked_array(data=[0.1, 1, 10, 100],\n",
       "              mask=[False, False, False, False],\n",
       "        fill_value='?',\n",
       "             dtype=object),\n",
       " 'params': [{'alpha': 0.1}, {'alpha': 1}, {'alpha': 10}, {'alpha': 100}],\n",
       " 'split0_test_score': array([ 0.40530539, -0.00236607, -0.00236607, -0.00236607]),\n",
       " 'split1_test_score': array([ 3.90239707e-01, -1.22810822e-04, -1.22810822e-04, -1.22810822e-04]),\n",
       " 'split2_test_score': array([ 0.40845029, -0.00129525, -0.00129525, -0.00129525]),\n",
       " 'mean_test_score': array([ 0.4013318 , -0.00126138, -0.00126138, -0.00126138]),\n",
       " 'std_test_score': array([0.00794768, 0.00091612, 0.00091612, 0.00091612]),\n",
       " 'rank_test_score': array([1, 2, 2, 2], dtype=int32)}"
      ]
     },
     "execution_count": 65,
     "metadata": {},
     "output_type": "execute_result"
    }
   ],
   "source": [
    "res2.cv_results_"
   ]
  },
  {
   "cell_type": "code",
   "execution_count": null,
   "id": "dc3335ca-f375-447e-9e0b-382c422d825b",
   "metadata": {
    "tags": []
   },
   "outputs": [
    {
     "name": "stdout",
     "output_type": "stream",
     "text": [
      "Fitting 3 folds for each of 2 candidates, totalling 6 fits\n"
     ]
    },
    {
     "name": "stderr",
     "output_type": "stream",
     "text": [
      "/Users/hazeneckert/miniconda3/envs/practice/lib/python3.11/site-packages/sklearn/utils/validation.py:787: UserWarning: pandas.DataFrame with sparse columns found.It will be converted to a dense numpy array.\n",
      "  warnings.warn(\n",
      "/Users/hazeneckert/miniconda3/envs/practice/lib/python3.11/site-packages/sklearn/utils/validation.py:787: UserWarning: pandas.DataFrame with sparse columns found.It will be converted to a dense numpy array.\n",
      "  warnings.warn(\n",
      "/Users/hazeneckert/miniconda3/envs/practice/lib/python3.11/site-packages/sklearn/utils/validation.py:787: UserWarning: pandas.DataFrame with sparse columns found.It will be converted to a dense numpy array.\n",
      "  warnings.warn(\n",
      "/Users/hazeneckert/miniconda3/envs/practice/lib/python3.11/site-packages/sklearn/utils/validation.py:787: UserWarning: pandas.DataFrame with sparse columns found.It will be converted to a dense numpy array.\n",
      "  warnings.warn(\n",
      "/Users/hazeneckert/miniconda3/envs/practice/lib/python3.11/site-packages/sklearn/utils/validation.py:787: UserWarning: pandas.DataFrame with sparse columns found.It will be converted to a dense numpy array.\n",
      "  warnings.warn(\n",
      "/Users/hazeneckert/miniconda3/envs/practice/lib/python3.11/site-packages/sklearn/utils/validation.py:787: UserWarning: pandas.DataFrame with sparse columns found.It will be converted to a dense numpy array.\n",
      "  warnings.warn(\n"
     ]
    }
   ],
   "source": [
    "from sklearn.model_selection import GridSearchCV\n",
    "parameters = {'alpha' :[0.8, 1.2]\n",
    "             }\n",
    "lasso = Lasso()\n",
    "clf2 = GridSearchCV(lasso, parameters,cv=3,verbose=3, scoring='r2',n_jobs=-1)\n",
    "res2 = clf2.fit(X_train_price, Y_train_price)"
   ]
  },
  {
   "cell_type": "code",
   "execution_count": null,
   "id": "0bc226e0-2ebd-4f65-844d-b92c6d6c181b",
   "metadata": {},
   "outputs": [],
   "source": [
    "res2.cv_results_"
   ]
  },
  {
   "cell_type": "code",
   "execution_count": 28,
   "id": "f15fea98-4433-4de0-bfb5-7f5016598f06",
   "metadata": {
    "collapsed": true,
    "jupyter": {
     "outputs_hidden": true
    },
    "tags": []
   },
   "outputs": [
    {
     "name": "stderr",
     "output_type": "stream",
     "text": [
      "/Users/hazeneckert/miniconda3/envs/practice/lib/python3.11/site-packages/sklearn/utils/validation.py:768: UserWarning: pandas.DataFrame with sparse columns found.It will be converted to a dense numpy array.\n",
      "  warnings.warn(\n"
     ]
    },
    {
     "name": "stdout",
     "output_type": "stream",
     "text": [
      "==============================\n",
      "KNeighborsClassifier\n",
      "****Results****\n"
     ]
    },
    {
     "name": "stderr",
     "output_type": "stream",
     "text": [
      "/Users/hazeneckert/miniconda3/envs/practice/lib/python3.11/site-packages/sklearn/utils/validation.py:768: UserWarning: pandas.DataFrame with sparse columns found.It will be converted to a dense numpy array.\n",
      "  warnings.warn(\n"
     ]
    },
    {
     "name": "stdout",
     "output_type": "stream",
     "text": [
      "AUC: 76.4259%\n"
     ]
    },
    {
     "name": "stderr",
     "output_type": "stream",
     "text": [
      "/Users/hazeneckert/miniconda3/envs/practice/lib/python3.11/site-packages/sklearn/utils/validation.py:768: UserWarning: pandas.DataFrame with sparse columns found.It will be converted to a dense numpy array.\n",
      "  warnings.warn(\n"
     ]
    },
    {
     "name": "stdout",
     "output_type": "stream",
     "text": [
      "==============================\n",
      "RandomForestClassifier\n",
      "****Results****\n"
     ]
    },
    {
     "name": "stderr",
     "output_type": "stream",
     "text": [
      "/Users/hazeneckert/miniconda3/envs/practice/lib/python3.11/site-packages/sklearn/utils/validation.py:768: UserWarning: pandas.DataFrame with sparse columns found.It will be converted to a dense numpy array.\n",
      "  warnings.warn(\n"
     ]
    },
    {
     "name": "stdout",
     "output_type": "stream",
     "text": [
      "AUC: 98.6091%\n"
     ]
    },
    {
     "name": "stderr",
     "output_type": "stream",
     "text": [
      "/Users/hazeneckert/miniconda3/envs/practice/lib/python3.11/site-packages/sklearn/utils/validation.py:768: UserWarning: pandas.DataFrame with sparse columns found.It will be converted to a dense numpy array.\n",
      "  warnings.warn(\n"
     ]
    },
    {
     "name": "stdout",
     "output_type": "stream",
     "text": [
      "==============================\n",
      "AdaBoostClassifier\n",
      "****Results****\n"
     ]
    },
    {
     "name": "stderr",
     "output_type": "stream",
     "text": [
      "/Users/hazeneckert/miniconda3/envs/practice/lib/python3.11/site-packages/sklearn/utils/validation.py:768: UserWarning: pandas.DataFrame with sparse columns found.It will be converted to a dense numpy array.\n",
      "  warnings.warn(\n"
     ]
    },
    {
     "name": "stdout",
     "output_type": "stream",
     "text": [
      "AUC: 76.9189%\n"
     ]
    },
    {
     "name": "stderr",
     "output_type": "stream",
     "text": [
      "/Users/hazeneckert/miniconda3/envs/practice/lib/python3.11/site-packages/sklearn/utils/validation.py:768: UserWarning: pandas.DataFrame with sparse columns found.It will be converted to a dense numpy array.\n",
      "  warnings.warn(\n"
     ]
    },
    {
     "name": "stdout",
     "output_type": "stream",
     "text": [
      "==============================\n",
      "GradientBoostingClassifier\n",
      "****Results****\n"
     ]
    },
    {
     "name": "stderr",
     "output_type": "stream",
     "text": [
      "/Users/hazeneckert/miniconda3/envs/practice/lib/python3.11/site-packages/sklearn/utils/validation.py:768: UserWarning: pandas.DataFrame with sparse columns found.It will be converted to a dense numpy array.\n",
      "  warnings.warn(\n"
     ]
    },
    {
     "name": "stdout",
     "output_type": "stream",
     "text": [
      "AUC: 96.3048%\n"
     ]
    },
    {
     "name": "stderr",
     "output_type": "stream",
     "text": [
      "/Users/hazeneckert/miniconda3/envs/practice/lib/python3.11/site-packages/sklearn/utils/validation.py:768: UserWarning: pandas.DataFrame with sparse columns found.It will be converted to a dense numpy array.\n",
      "  warnings.warn(\n"
     ]
    },
    {
     "name": "stdout",
     "output_type": "stream",
     "text": [
      "==============================\n",
      "GaussianNB\n",
      "****Results****\n"
     ]
    },
    {
     "name": "stderr",
     "output_type": "stream",
     "text": [
      "/Users/hazeneckert/miniconda3/envs/practice/lib/python3.11/site-packages/sklearn/utils/validation.py:768: UserWarning: pandas.DataFrame with sparse columns found.It will be converted to a dense numpy array.\n",
      "  warnings.warn(\n"
     ]
    },
    {
     "name": "stdout",
     "output_type": "stream",
     "text": [
      "AUC: 67.6640%\n"
     ]
    },
    {
     "name": "stderr",
     "output_type": "stream",
     "text": [
      "/Users/hazeneckert/miniconda3/envs/practice/lib/python3.11/site-packages/sklearn/utils/validation.py:768: UserWarning: pandas.DataFrame with sparse columns found.It will be converted to a dense numpy array.\n",
      "  warnings.warn(\n"
     ]
    },
    {
     "name": "stdout",
     "output_type": "stream",
     "text": [
      "==============================\n",
      "LinearDiscriminantAnalysis\n",
      "****Results****\n"
     ]
    },
    {
     "name": "stderr",
     "output_type": "stream",
     "text": [
      "/Users/hazeneckert/miniconda3/envs/practice/lib/python3.11/site-packages/sklearn/utils/validation.py:768: UserWarning: pandas.DataFrame with sparse columns found.It will be converted to a dense numpy array.\n",
      "  warnings.warn(\n"
     ]
    },
    {
     "name": "stdout",
     "output_type": "stream",
     "text": [
      "AUC: 82.8659%\n"
     ]
    },
    {
     "name": "stderr",
     "output_type": "stream",
     "text": [
      "/Users/hazeneckert/miniconda3/envs/practice/lib/python3.11/site-packages/sklearn/utils/validation.py:768: UserWarning: pandas.DataFrame with sparse columns found.It will be converted to a dense numpy array.\n",
      "  warnings.warn(\n",
      "/Users/hazeneckert/miniconda3/envs/practice/lib/python3.11/site-packages/sklearn/discriminant_analysis.py:926: UserWarning: Variables are collinear\n",
      "  warnings.warn(\"Variables are collinear\")\n"
     ]
    },
    {
     "name": "stdout",
     "output_type": "stream",
     "text": [
      "==============================\n",
      "QuadraticDiscriminantAnalysis\n",
      "****Results****\n"
     ]
    },
    {
     "name": "stderr",
     "output_type": "stream",
     "text": [
      "/Users/hazeneckert/miniconda3/envs/practice/lib/python3.11/site-packages/sklearn/utils/validation.py:768: UserWarning: pandas.DataFrame with sparse columns found.It will be converted to a dense numpy array.\n",
      "  warnings.warn(\n"
     ]
    },
    {
     "name": "stdout",
     "output_type": "stream",
     "text": [
      "AUC: 56.3429%\n"
     ]
    }
   ],
   "source": [
    "from sklearn.model_selection import StratifiedKFold\n",
    "from sklearn.metrics import RocCurveDisplay, roc_curve, roc_auc_score\n",
    "from sklearn.ensemble import AdaBoostClassifier, RandomForestClassifier, GradientBoostingClassifier\n",
    "from sklearn.naive_bayes import GaussianNB\n",
    "from sklearn.neighbors import KNeighborsClassifier\n",
    "from sklearn.tree import DecisionTreeClassifier\n",
    "from sklearn.discriminant_analysis import LinearDiscriminantAnalysis, QuadraticDiscriminantAnalysis\n",
    "classifiers = [\n",
    "    KNeighborsClassifier(3),\n",
    "    RandomForestClassifier(),\n",
    "    AdaBoostClassifier(),\n",
    "    GradientBoostingClassifier(),\n",
    "    GaussianNB(),\n",
    "    LinearDiscriminantAnalysis(),\n",
    "    QuadraticDiscriminantAnalysis()]\n",
    "\n",
    "\n",
    "train,test = next(StratifiedKFold(n_splits=3).split(X_train_trim, Y_train_clean_trim))\n",
    "\n",
    "\n",
    "for clf in classifiers:\n",
    "    clf.fit(X_train_trim.iloc[train], Y_train_clean_trim.iloc[train])\n",
    "    name = clf.__class__.__name__\n",
    "    \n",
    "    print(\"=\"*30)\n",
    "    print(name)\n",
    "    \n",
    "    print('****Results****')\n",
    "    auc = roc_auc_score(Y_train_clean_trim.iloc[test],clf.predict_proba(X_train_trim.iloc[test]), multi_class='ovr')\n",
    "    print(\"AUC: {:.4%}\".format(auc))"
   ]
  },
  {
   "cell_type": "markdown",
   "id": "34115c3b-ad52-406e-968c-ca656c09afc2",
   "metadata": {},
   "source": [
    "The default RandomForestClassifier works extremely well and is very quick to train so I will used a tuned version of it for the trim classifier."
   ]
  },
  {
   "cell_type": "code",
   "execution_count": 29,
   "id": "f1403bb1-252c-4875-8a59-5c090c9bdeae",
   "metadata": {
    "collapsed": true,
    "jupyter": {
     "outputs_hidden": true
    },
    "tags": []
   },
   "outputs": [
    {
     "name": "stdout",
     "output_type": "stream",
     "text": [
      "Fitting 3 folds for each of 12 candidates, totalling 36 fits\n"
     ]
    },
    {
     "name": "stderr",
     "output_type": "stream",
     "text": [
      "/Users/hazeneckert/miniconda3/envs/practice/lib/python3.11/site-packages/sklearn/utils/validation.py:768: UserWarning: pandas.DataFrame with sparse columns found.It will be converted to a dense numpy array.\n",
      "  warnings.warn(\n",
      "/Users/hazeneckert/miniconda3/envs/practice/lib/python3.11/site-packages/sklearn/utils/validation.py:768: UserWarning: pandas.DataFrame with sparse columns found.It will be converted to a dense numpy array.\n",
      "  warnings.warn(\n",
      "/Users/hazeneckert/miniconda3/envs/practice/lib/python3.11/site-packages/sklearn/utils/validation.py:768: UserWarning: pandas.DataFrame with sparse columns found.It will be converted to a dense numpy array.\n",
      "  warnings.warn(\n",
      "/Users/hazeneckert/miniconda3/envs/practice/lib/python3.11/site-packages/sklearn/utils/validation.py:768: UserWarning: pandas.DataFrame with sparse columns found.It will be converted to a dense numpy array.\n",
      "  warnings.warn(\n",
      "/Users/hazeneckert/miniconda3/envs/practice/lib/python3.11/site-packages/sklearn/utils/validation.py:768: UserWarning: pandas.DataFrame with sparse columns found.It will be converted to a dense numpy array.\n",
      "  warnings.warn(\n",
      "/Users/hazeneckert/miniconda3/envs/practice/lib/python3.11/site-packages/sklearn/utils/validation.py:768: UserWarning: pandas.DataFrame with sparse columns found.It will be converted to a dense numpy array.\n",
      "  warnings.warn(\n",
      "/Users/hazeneckert/miniconda3/envs/practice/lib/python3.11/site-packages/sklearn/utils/validation.py:768: UserWarning: pandas.DataFrame with sparse columns found.It will be converted to a dense numpy array.\n",
      "  warnings.warn(\n",
      "/Users/hazeneckert/miniconda3/envs/practice/lib/python3.11/site-packages/sklearn/utils/validation.py:768: UserWarning: pandas.DataFrame with sparse columns found.It will be converted to a dense numpy array.\n",
      "  warnings.warn(\n",
      "/Users/hazeneckert/miniconda3/envs/practice/lib/python3.11/site-packages/sklearn/utils/validation.py:768: UserWarning: pandas.DataFrame with sparse columns found.It will be converted to a dense numpy array.\n",
      "  warnings.warn(\n",
      "/Users/hazeneckert/miniconda3/envs/practice/lib/python3.11/site-packages/sklearn/utils/validation.py:768: UserWarning: pandas.DataFrame with sparse columns found.It will be converted to a dense numpy array.\n",
      "  warnings.warn(\n",
      "/Users/hazeneckert/miniconda3/envs/practice/lib/python3.11/site-packages/sklearn/utils/validation.py:768: UserWarning: pandas.DataFrame with sparse columns found.It will be converted to a dense numpy array.\n",
      "  warnings.warn(\n",
      "/Users/hazeneckert/miniconda3/envs/practice/lib/python3.11/site-packages/sklearn/utils/validation.py:768: UserWarning: pandas.DataFrame with sparse columns found.It will be converted to a dense numpy array.\n",
      "  warnings.warn(\n",
      "/Users/hazeneckert/miniconda3/envs/practice/lib/python3.11/site-packages/sklearn/utils/validation.py:768: UserWarning: pandas.DataFrame with sparse columns found.It will be converted to a dense numpy array.\n",
      "  warnings.warn(\n",
      "/Users/hazeneckert/miniconda3/envs/practice/lib/python3.11/site-packages/sklearn/utils/validation.py:768: UserWarning: pandas.DataFrame with sparse columns found.It will be converted to a dense numpy array.\n",
      "  warnings.warn(\n",
      "/Users/hazeneckert/miniconda3/envs/practice/lib/python3.11/site-packages/sklearn/utils/validation.py:768: UserWarning: pandas.DataFrame with sparse columns found.It will be converted to a dense numpy array.\n",
      "  warnings.warn(\n",
      "/Users/hazeneckert/miniconda3/envs/practice/lib/python3.11/site-packages/sklearn/utils/validation.py:768: UserWarning: pandas.DataFrame with sparse columns found.It will be converted to a dense numpy array.\n",
      "  warnings.warn(\n",
      "/Users/hazeneckert/miniconda3/envs/practice/lib/python3.11/site-packages/sklearn/utils/validation.py:768: UserWarning: pandas.DataFrame with sparse columns found.It will be converted to a dense numpy array.\n",
      "  warnings.warn(\n",
      "/Users/hazeneckert/miniconda3/envs/practice/lib/python3.11/site-packages/sklearn/utils/validation.py:768: UserWarning: pandas.DataFrame with sparse columns found.It will be converted to a dense numpy array.\n",
      "  warnings.warn(\n",
      "/Users/hazeneckert/miniconda3/envs/practice/lib/python3.11/site-packages/sklearn/utils/validation.py:768: UserWarning: pandas.DataFrame with sparse columns found.It will be converted to a dense numpy array.\n",
      "  warnings.warn(\n",
      "/Users/hazeneckert/miniconda3/envs/practice/lib/python3.11/site-packages/sklearn/utils/validation.py:768: UserWarning: pandas.DataFrame with sparse columns found.It will be converted to a dense numpy array.\n",
      "  warnings.warn(\n",
      "/Users/hazeneckert/miniconda3/envs/practice/lib/python3.11/site-packages/sklearn/utils/validation.py:768: UserWarning: pandas.DataFrame with sparse columns found.It will be converted to a dense numpy array.\n",
      "  warnings.warn(\n",
      "/Users/hazeneckert/miniconda3/envs/practice/lib/python3.11/site-packages/sklearn/utils/validation.py:768: UserWarning: pandas.DataFrame with sparse columns found.It will be converted to a dense numpy array.\n",
      "  warnings.warn(\n",
      "/Users/hazeneckert/miniconda3/envs/practice/lib/python3.11/site-packages/sklearn/utils/validation.py:768: UserWarning: pandas.DataFrame with sparse columns found.It will be converted to a dense numpy array.\n",
      "  warnings.warn(\n",
      "/Users/hazeneckert/miniconda3/envs/practice/lib/python3.11/site-packages/sklearn/utils/validation.py:768: UserWarning: pandas.DataFrame with sparse columns found.It will be converted to a dense numpy array.\n",
      "  warnings.warn(\n",
      "/Users/hazeneckert/miniconda3/envs/practice/lib/python3.11/site-packages/sklearn/utils/validation.py:768: UserWarning: pandas.DataFrame with sparse columns found.It will be converted to a dense numpy array.\n",
      "  warnings.warn(\n",
      "/Users/hazeneckert/miniconda3/envs/practice/lib/python3.11/site-packages/sklearn/utils/validation.py:768: UserWarning: pandas.DataFrame with sparse columns found.It will be converted to a dense numpy array.\n",
      "  warnings.warn(\n",
      "/Users/hazeneckert/miniconda3/envs/practice/lib/python3.11/site-packages/sklearn/utils/validation.py:768: UserWarning: pandas.DataFrame with sparse columns found.It will be converted to a dense numpy array.\n",
      "  warnings.warn(\n",
      "/Users/hazeneckert/miniconda3/envs/practice/lib/python3.11/site-packages/sklearn/utils/validation.py:768: UserWarning: pandas.DataFrame with sparse columns found.It will be converted to a dense numpy array.\n",
      "  warnings.warn(\n",
      "/Users/hazeneckert/miniconda3/envs/practice/lib/python3.11/site-packages/sklearn/utils/validation.py:768: UserWarning: pandas.DataFrame with sparse columns found.It will be converted to a dense numpy array.\n",
      "  warnings.warn(\n",
      "/Users/hazeneckert/miniconda3/envs/practice/lib/python3.11/site-packages/sklearn/utils/validation.py:768: UserWarning: pandas.DataFrame with sparse columns found.It will be converted to a dense numpy array.\n",
      "  warnings.warn(\n",
      "/Users/hazeneckert/miniconda3/envs/practice/lib/python3.11/site-packages/sklearn/utils/validation.py:768: UserWarning: pandas.DataFrame with sparse columns found.It will be converted to a dense numpy array.\n",
      "  warnings.warn(\n",
      "/Users/hazeneckert/miniconda3/envs/practice/lib/python3.11/site-packages/sklearn/utils/validation.py:768: UserWarning: pandas.DataFrame with sparse columns found.It will be converted to a dense numpy array.\n",
      "  warnings.warn(\n",
      "/Users/hazeneckert/miniconda3/envs/practice/lib/python3.11/site-packages/sklearn/utils/validation.py:768: UserWarning: pandas.DataFrame with sparse columns found.It will be converted to a dense numpy array.\n",
      "  warnings.warn(\n",
      "/Users/hazeneckert/miniconda3/envs/practice/lib/python3.11/site-packages/sklearn/utils/validation.py:768: UserWarning: pandas.DataFrame with sparse columns found.It will be converted to a dense numpy array.\n",
      "  warnings.warn(\n",
      "/Users/hazeneckert/miniconda3/envs/practice/lib/python3.11/site-packages/sklearn/utils/validation.py:768: UserWarning: pandas.DataFrame with sparse columns found.It will be converted to a dense numpy array.\n",
      "  warnings.warn(\n",
      "/Users/hazeneckert/miniconda3/envs/practice/lib/python3.11/site-packages/sklearn/utils/validation.py:768: UserWarning: pandas.DataFrame with sparse columns found.It will be converted to a dense numpy array.\n",
      "  warnings.warn(\n",
      "/Users/hazeneckert/miniconda3/envs/practice/lib/python3.11/site-packages/sklearn/utils/validation.py:768: UserWarning: pandas.DataFrame with sparse columns found.It will be converted to a dense numpy array.\n",
      "  warnings.warn(\n",
      "/Users/hazeneckert/miniconda3/envs/practice/lib/python3.11/site-packages/sklearn/utils/validation.py:768: UserWarning: pandas.DataFrame with sparse columns found.It will be converted to a dense numpy array.\n",
      "  warnings.warn(\n",
      "/Users/hazeneckert/miniconda3/envs/practice/lib/python3.11/site-packages/sklearn/utils/validation.py:768: UserWarning: pandas.DataFrame with sparse columns found.It will be converted to a dense numpy array.\n",
      "  warnings.warn(\n",
      "/Users/hazeneckert/miniconda3/envs/practice/lib/python3.11/site-packages/sklearn/utils/validation.py:768: UserWarning: pandas.DataFrame with sparse columns found.It will be converted to a dense numpy array.\n",
      "  warnings.warn(\n",
      "/Users/hazeneckert/miniconda3/envs/practice/lib/python3.11/site-packages/sklearn/utils/validation.py:768: UserWarning: pandas.DataFrame with sparse columns found.It will be converted to a dense numpy array.\n",
      "  warnings.warn(\n",
      "/Users/hazeneckert/miniconda3/envs/practice/lib/python3.11/site-packages/sklearn/utils/validation.py:768: UserWarning: pandas.DataFrame with sparse columns found.It will be converted to a dense numpy array.\n",
      "  warnings.warn(\n",
      "/Users/hazeneckert/miniconda3/envs/practice/lib/python3.11/site-packages/sklearn/utils/validation.py:768: UserWarning: pandas.DataFrame with sparse columns found.It will be converted to a dense numpy array.\n",
      "  warnings.warn(\n",
      "/Users/hazeneckert/miniconda3/envs/practice/lib/python3.11/site-packages/sklearn/utils/validation.py:768: UserWarning: pandas.DataFrame with sparse columns found.It will be converted to a dense numpy array.\n",
      "  warnings.warn(\n",
      "/Users/hazeneckert/miniconda3/envs/practice/lib/python3.11/site-packages/sklearn/utils/validation.py:768: UserWarning: pandas.DataFrame with sparse columns found.It will be converted to a dense numpy array.\n",
      "  warnings.warn(\n",
      "/Users/hazeneckert/miniconda3/envs/practice/lib/python3.11/site-packages/sklearn/utils/validation.py:768: UserWarning: pandas.DataFrame with sparse columns found.It will be converted to a dense numpy array.\n",
      "  warnings.warn(\n",
      "/Users/hazeneckert/miniconda3/envs/practice/lib/python3.11/site-packages/sklearn/utils/validation.py:768: UserWarning: pandas.DataFrame with sparse columns found.It will be converted to a dense numpy array.\n",
      "  warnings.warn(\n",
      "/Users/hazeneckert/miniconda3/envs/practice/lib/python3.11/site-packages/sklearn/utils/validation.py:768: UserWarning: pandas.DataFrame with sparse columns found.It will be converted to a dense numpy array.\n",
      "  warnings.warn(\n",
      "/Users/hazeneckert/miniconda3/envs/practice/lib/python3.11/site-packages/sklearn/utils/validation.py:768: UserWarning: pandas.DataFrame with sparse columns found.It will be converted to a dense numpy array.\n",
      "  warnings.warn(\n",
      "/Users/hazeneckert/miniconda3/envs/practice/lib/python3.11/site-packages/sklearn/utils/validation.py:768: UserWarning: pandas.DataFrame with sparse columns found.It will be converted to a dense numpy array.\n",
      "  warnings.warn(\n",
      "/Users/hazeneckert/miniconda3/envs/practice/lib/python3.11/site-packages/sklearn/utils/validation.py:768: UserWarning: pandas.DataFrame with sparse columns found.It will be converted to a dense numpy array.\n",
      "  warnings.warn(\n",
      "/Users/hazeneckert/miniconda3/envs/practice/lib/python3.11/site-packages/sklearn/utils/validation.py:768: UserWarning: pandas.DataFrame with sparse columns found.It will be converted to a dense numpy array.\n",
      "  warnings.warn(\n",
      "/Users/hazeneckert/miniconda3/envs/practice/lib/python3.11/site-packages/sklearn/utils/validation.py:768: UserWarning: pandas.DataFrame with sparse columns found.It will be converted to a dense numpy array.\n",
      "  warnings.warn(\n",
      "/Users/hazeneckert/miniconda3/envs/practice/lib/python3.11/site-packages/sklearn/utils/validation.py:768: UserWarning: pandas.DataFrame with sparse columns found.It will be converted to a dense numpy array.\n",
      "  warnings.warn(\n",
      "/Users/hazeneckert/miniconda3/envs/practice/lib/python3.11/site-packages/sklearn/utils/validation.py:768: UserWarning: pandas.DataFrame with sparse columns found.It will be converted to a dense numpy array.\n",
      "  warnings.warn(\n",
      "/Users/hazeneckert/miniconda3/envs/practice/lib/python3.11/site-packages/sklearn/utils/validation.py:768: UserWarning: pandas.DataFrame with sparse columns found.It will be converted to a dense numpy array.\n",
      "  warnings.warn(\n",
      "/Users/hazeneckert/miniconda3/envs/practice/lib/python3.11/site-packages/sklearn/utils/validation.py:768: UserWarning: pandas.DataFrame with sparse columns found.It will be converted to a dense numpy array.\n",
      "  warnings.warn(\n",
      "/Users/hazeneckert/miniconda3/envs/practice/lib/python3.11/site-packages/sklearn/utils/validation.py:768: UserWarning: pandas.DataFrame with sparse columns found.It will be converted to a dense numpy array.\n",
      "  warnings.warn(\n",
      "/Users/hazeneckert/miniconda3/envs/practice/lib/python3.11/site-packages/sklearn/utils/validation.py:768: UserWarning: pandas.DataFrame with sparse columns found.It will be converted to a dense numpy array.\n",
      "  warnings.warn(\n",
      "/Users/hazeneckert/miniconda3/envs/practice/lib/python3.11/site-packages/sklearn/utils/validation.py:768: UserWarning: pandas.DataFrame with sparse columns found.It will be converted to a dense numpy array.\n",
      "  warnings.warn(\n",
      "/Users/hazeneckert/miniconda3/envs/practice/lib/python3.11/site-packages/sklearn/utils/validation.py:768: UserWarning: pandas.DataFrame with sparse columns found.It will be converted to a dense numpy array.\n",
      "  warnings.warn(\n",
      "/Users/hazeneckert/miniconda3/envs/practice/lib/python3.11/site-packages/sklearn/utils/validation.py:768: UserWarning: pandas.DataFrame with sparse columns found.It will be converted to a dense numpy array.\n",
      "  warnings.warn(\n",
      "/Users/hazeneckert/miniconda3/envs/practice/lib/python3.11/site-packages/sklearn/utils/validation.py:768: UserWarning: pandas.DataFrame with sparse columns found.It will be converted to a dense numpy array.\n",
      "  warnings.warn(\n",
      "/Users/hazeneckert/miniconda3/envs/practice/lib/python3.11/site-packages/sklearn/utils/validation.py:768: UserWarning: pandas.DataFrame with sparse columns found.It will be converted to a dense numpy array.\n",
      "  warnings.warn(\n",
      "/Users/hazeneckert/miniconda3/envs/practice/lib/python3.11/site-packages/sklearn/utils/validation.py:768: UserWarning: pandas.DataFrame with sparse columns found.It will be converted to a dense numpy array.\n",
      "  warnings.warn(\n",
      "/Users/hazeneckert/miniconda3/envs/practice/lib/python3.11/site-packages/sklearn/utils/validation.py:768: UserWarning: pandas.DataFrame with sparse columns found.It will be converted to a dense numpy array.\n",
      "  warnings.warn(\n"
     ]
    },
    {
     "name": "stdout",
     "output_type": "stream",
     "text": [
      "[CV 3/3] END ......criterion=gini, max_depth=10;, score=0.989 total time= 2.4min\n",
      "[CV 2/3] END ....criterion=entropy, max_depth=5;, score=0.976 total time= 1.5min\n",
      "[CV 1/3] END ...criterion=entropy, max_depth=10;, score=0.988 total time= 3.4min\n",
      "[CV 3/3] END ...criterion=entropy, max_depth=10;, score=0.989 total time= 3.4min\n",
      "[CV 2/3] END ...criterion=entropy, max_depth=50;, score=0.954 total time=15.6min\n"
     ]
    },
    {
     "name": "stderr",
     "output_type": "stream",
     "text": [
      "/Users/hazeneckert/miniconda3/envs/practice/lib/python3.11/site-packages/sklearn/utils/validation.py:768: UserWarning: pandas.DataFrame with sparse columns found.It will be converted to a dense numpy array.\n",
      "  warnings.warn(\n",
      "/Users/hazeneckert/miniconda3/envs/practice/lib/python3.11/site-packages/sklearn/utils/validation.py:768: UserWarning: pandas.DataFrame with sparse columns found.It will be converted to a dense numpy array.\n",
      "  warnings.warn(\n",
      "/Users/hazeneckert/miniconda3/envs/practice/lib/python3.11/site-packages/sklearn/utils/validation.py:768: UserWarning: pandas.DataFrame with sparse columns found.It will be converted to a dense numpy array.\n",
      "  warnings.warn(\n",
      "/Users/hazeneckert/miniconda3/envs/practice/lib/python3.11/site-packages/sklearn/utils/validation.py:768: UserWarning: pandas.DataFrame with sparse columns found.It will be converted to a dense numpy array.\n",
      "  warnings.warn(\n",
      "/Users/hazeneckert/miniconda3/envs/practice/lib/python3.11/site-packages/sklearn/utils/validation.py:768: UserWarning: pandas.DataFrame with sparse columns found.It will be converted to a dense numpy array.\n",
      "  warnings.warn(\n",
      "/Users/hazeneckert/miniconda3/envs/practice/lib/python3.11/site-packages/sklearn/utils/validation.py:768: UserWarning: pandas.DataFrame with sparse columns found.It will be converted to a dense numpy array.\n",
      "  warnings.warn(\n",
      "/Users/hazeneckert/miniconda3/envs/practice/lib/python3.11/site-packages/sklearn/utils/validation.py:768: UserWarning: pandas.DataFrame with sparse columns found.It will be converted to a dense numpy array.\n",
      "  warnings.warn(\n"
     ]
    },
    {
     "data": {
      "text/html": [
       "<style>#sk-container-id-1 {color: black;background-color: white;}#sk-container-id-1 pre{padding: 0;}#sk-container-id-1 div.sk-toggleable {background-color: white;}#sk-container-id-1 label.sk-toggleable__label {cursor: pointer;display: block;width: 100%;margin-bottom: 0;padding: 0.3em;box-sizing: border-box;text-align: center;}#sk-container-id-1 label.sk-toggleable__label-arrow:before {content: \"▸\";float: left;margin-right: 0.25em;color: #696969;}#sk-container-id-1 label.sk-toggleable__label-arrow:hover:before {color: black;}#sk-container-id-1 div.sk-estimator:hover label.sk-toggleable__label-arrow:before {color: black;}#sk-container-id-1 div.sk-toggleable__content {max-height: 0;max-width: 0;overflow: hidden;text-align: left;background-color: #f0f8ff;}#sk-container-id-1 div.sk-toggleable__content pre {margin: 0.2em;color: black;border-radius: 0.25em;background-color: #f0f8ff;}#sk-container-id-1 input.sk-toggleable__control:checked~div.sk-toggleable__content {max-height: 200px;max-width: 100%;overflow: auto;}#sk-container-id-1 input.sk-toggleable__control:checked~label.sk-toggleable__label-arrow:before {content: \"▾\";}#sk-container-id-1 div.sk-estimator input.sk-toggleable__control:checked~label.sk-toggleable__label {background-color: #d4ebff;}#sk-container-id-1 div.sk-label input.sk-toggleable__control:checked~label.sk-toggleable__label {background-color: #d4ebff;}#sk-container-id-1 input.sk-hidden--visually {border: 0;clip: rect(1px 1px 1px 1px);clip: rect(1px, 1px, 1px, 1px);height: 1px;margin: -1px;overflow: hidden;padding: 0;position: absolute;width: 1px;}#sk-container-id-1 div.sk-estimator {font-family: monospace;background-color: #f0f8ff;border: 1px dotted black;border-radius: 0.25em;box-sizing: border-box;margin-bottom: 0.5em;}#sk-container-id-1 div.sk-estimator:hover {background-color: #d4ebff;}#sk-container-id-1 div.sk-parallel-item::after {content: \"\";width: 100%;border-bottom: 1px solid gray;flex-grow: 1;}#sk-container-id-1 div.sk-label:hover label.sk-toggleable__label {background-color: #d4ebff;}#sk-container-id-1 div.sk-serial::before {content: \"\";position: absolute;border-left: 1px solid gray;box-sizing: border-box;top: 0;bottom: 0;left: 50%;z-index: 0;}#sk-container-id-1 div.sk-serial {display: flex;flex-direction: column;align-items: center;background-color: white;padding-right: 0.2em;padding-left: 0.2em;position: relative;}#sk-container-id-1 div.sk-item {position: relative;z-index: 1;}#sk-container-id-1 div.sk-parallel {display: flex;align-items: stretch;justify-content: center;background-color: white;position: relative;}#sk-container-id-1 div.sk-item::before, #sk-container-id-1 div.sk-parallel-item::before {content: \"\";position: absolute;border-left: 1px solid gray;box-sizing: border-box;top: 0;bottom: 0;left: 50%;z-index: -1;}#sk-container-id-1 div.sk-parallel-item {display: flex;flex-direction: column;z-index: 1;position: relative;background-color: white;}#sk-container-id-1 div.sk-parallel-item:first-child::after {align-self: flex-end;width: 50%;}#sk-container-id-1 div.sk-parallel-item:last-child::after {align-self: flex-start;width: 50%;}#sk-container-id-1 div.sk-parallel-item:only-child::after {width: 0;}#sk-container-id-1 div.sk-dashed-wrapped {border: 1px dashed gray;margin: 0 0.4em 0.5em 0.4em;box-sizing: border-box;padding-bottom: 0.4em;background-color: white;}#sk-container-id-1 div.sk-label label {font-family: monospace;font-weight: bold;display: inline-block;line-height: 1.2em;}#sk-container-id-1 div.sk-label-container {text-align: center;}#sk-container-id-1 div.sk-container {/* jupyter's `normalize.less` sets `[hidden] { display: none; }` but bootstrap.min.css set `[hidden] { display: none !important; }` so we also need the `!important` here to be able to override the default hidden behavior on the sphinx rendered scikit-learn.org. See: https://github.com/scikit-learn/scikit-learn/issues/21755 */display: inline-block !important;position: relative;}#sk-container-id-1 div.sk-text-repr-fallback {display: none;}</style><div id=\"sk-container-id-1\" class=\"sk-top-container\"><div class=\"sk-text-repr-fallback\"><pre>GridSearchCV(cv=3, estimator=RandomForestClassifier(), n_jobs=-1,\n",
       "             param_grid={&#x27;criterion&#x27;: (&#x27;gini&#x27;, &#x27;entropy&#x27;, &#x27;log_loss&#x27;),\n",
       "                         &#x27;max_depth&#x27;: [5, 10, 25, 50]},\n",
       "             scoring=&#x27;roc_auc_ovr&#x27;, verbose=3)</pre><b>In a Jupyter environment, please rerun this cell to show the HTML representation or trust the notebook. <br />On GitHub, the HTML representation is unable to render, please try loading this page with nbviewer.org.</b></div><div class=\"sk-container\" hidden><div class=\"sk-item sk-dashed-wrapped\"><div class=\"sk-label-container\"><div class=\"sk-label sk-toggleable\"><input class=\"sk-toggleable__control sk-hidden--visually\" id=\"sk-estimator-id-1\" type=\"checkbox\" ><label for=\"sk-estimator-id-1\" class=\"sk-toggleable__label sk-toggleable__label-arrow\">GridSearchCV</label><div class=\"sk-toggleable__content\"><pre>GridSearchCV(cv=3, estimator=RandomForestClassifier(), n_jobs=-1,\n",
       "             param_grid={&#x27;criterion&#x27;: (&#x27;gini&#x27;, &#x27;entropy&#x27;, &#x27;log_loss&#x27;),\n",
       "                         &#x27;max_depth&#x27;: [5, 10, 25, 50]},\n",
       "             scoring=&#x27;roc_auc_ovr&#x27;, verbose=3)</pre></div></div></div><div class=\"sk-parallel\"><div class=\"sk-parallel-item\"><div class=\"sk-item\"><div class=\"sk-label-container\"><div class=\"sk-label sk-toggleable\"><input class=\"sk-toggleable__control sk-hidden--visually\" id=\"sk-estimator-id-2\" type=\"checkbox\" ><label for=\"sk-estimator-id-2\" class=\"sk-toggleable__label sk-toggleable__label-arrow\">estimator: RandomForestClassifier</label><div class=\"sk-toggleable__content\"><pre>RandomForestClassifier()</pre></div></div></div><div class=\"sk-serial\"><div class=\"sk-item\"><div class=\"sk-estimator sk-toggleable\"><input class=\"sk-toggleable__control sk-hidden--visually\" id=\"sk-estimator-id-3\" type=\"checkbox\" ><label for=\"sk-estimator-id-3\" class=\"sk-toggleable__label sk-toggleable__label-arrow\">RandomForestClassifier</label><div class=\"sk-toggleable__content\"><pre>RandomForestClassifier()</pre></div></div></div></div></div></div></div></div></div></div>"
      ],
      "text/plain": [
       "GridSearchCV(cv=3, estimator=RandomForestClassifier(), n_jobs=-1,\n",
       "             param_grid={'criterion': ('gini', 'entropy', 'log_loss'),\n",
       "                         'max_depth': [5, 10, 25, 50]},\n",
       "             scoring='roc_auc_ovr', verbose=3)"
      ]
     },
     "execution_count": 29,
     "metadata": {},
     "output_type": "execute_result"
    },
    {
     "name": "stdout",
     "output_type": "stream",
     "text": [
      "[CV 3/3] END .......criterion=gini, max_depth=5;, score=0.980 total time=  48.3s\n",
      "[CV 2/3] END ......criterion=gini, max_depth=50;, score=0.949 total time=13.4min\n",
      "[CV 3/3] END ...criterion=entropy, max_depth=50;, score=0.944 total time=15.3min\n"
     ]
    }
   ],
   "source": [
    "from sklearn.model_selection import GridSearchCV\n",
    "from sklearn.ensemble import RandomForestClassifier\n",
    "parameters = {'criterion' : (\"gini\", \"entropy\", \"log_loss\"),\n",
    "             'max_depth' :[5, 10, 25, 50]\n",
    "             }\n",
    "rf = RandomForestClassifier()\n",
    "clf = GridSearchCV(rf, parameters,cv=3,verbose=3, scoring='roc_auc_ovr',n_jobs=-1)\n",
    "clf.fit(X_train_trim, Y_train_semiclean_trim)"
   ]
  },
  {
   "cell_type": "code",
   "execution_count": 30,
   "id": "9228983a-f871-48b4-8885-d47cce947f7c",
   "metadata": {
    "tags": []
   },
   "outputs": [],
   "source": [
    "results = _"
   ]
  },
  {
   "cell_type": "code",
   "execution_count": 32,
   "id": "3cf337d7-5890-4645-8e4c-85ecd68ad691",
   "metadata": {
    "tags": []
   },
   "outputs": [
    {
     "data": {
      "text/plain": [
       "{'mean_fit_time': array([ 30.82390038, 125.96058305, 564.44469786, 812.5599583 ,\n",
       "         70.92581789, 190.39130465, 819.28775223, 918.53341055,\n",
       "         72.21625996, 204.71634165, 635.93579324, 545.53314797]),\n",
       " 'std_fit_time': array([ 4.49712948,  2.48059486, 14.48934784, 16.82724763,  3.10553823,\n",
       "         2.88513522, 10.07764544, 14.90693253,  4.16565525, 10.94306423,\n",
       "        18.41724124, 61.54043969]),\n",
       " 'mean_score_time': array([12.44521729, 12.95720927, 16.73573772, 17.99450167, 13.44171135,\n",
       "        12.22721195, 19.16973933, 17.73168111, 13.47810133, 11.77812163,\n",
       "        10.66949566,  3.48871605]),\n",
       " 'std_score_time': array([0.89761747, 0.41621511, 3.79278049, 3.68609686, 1.29752734,\n",
       "        4.39574349, 0.62001641, 1.85596564, 2.04705589, 4.39315481,\n",
       "        1.56570844, 0.70738438]),\n",
       " 'param_criterion': masked_array(data=['gini', 'gini', 'gini', 'gini', 'entropy', 'entropy',\n",
       "                    'entropy', 'entropy', 'log_loss', 'log_loss',\n",
       "                    'log_loss', 'log_loss'],\n",
       "              mask=[False, False, False, False, False, False, False, False,\n",
       "                    False, False, False, False],\n",
       "        fill_value='?',\n",
       "             dtype=object),\n",
       " 'param_max_depth': masked_array(data=[5, 10, 25, 50, 5, 10, 25, 50, 5, 10, 25, 50],\n",
       "              mask=[False, False, False, False, False, False, False, False,\n",
       "                    False, False, False, False],\n",
       "        fill_value='?',\n",
       "             dtype=object),\n",
       " 'params': [{'criterion': 'gini', 'max_depth': 5},\n",
       "  {'criterion': 'gini', 'max_depth': 10},\n",
       "  {'criterion': 'gini', 'max_depth': 25},\n",
       "  {'criterion': 'gini', 'max_depth': 50},\n",
       "  {'criterion': 'entropy', 'max_depth': 5},\n",
       "  {'criterion': 'entropy', 'max_depth': 10},\n",
       "  {'criterion': 'entropy', 'max_depth': 25},\n",
       "  {'criterion': 'entropy', 'max_depth': 50},\n",
       "  {'criterion': 'log_loss', 'max_depth': 5},\n",
       "  {'criterion': 'log_loss', 'max_depth': 10},\n",
       "  {'criterion': 'log_loss', 'max_depth': 25},\n",
       "  {'criterion': 'log_loss', 'max_depth': 50}],\n",
       " 'split0_test_score': array([0.98208062, 0.98822042, 0.9669547 , 0.96791375, 0.9783288 ,\n",
       "        0.98793103, 0.98701947, 0.96663218, 0.97983226, 0.98600269,\n",
       "        0.98465501, 0.9858103 ]),\n",
       " 'split1_test_score': array([0.97485319, 0.98382062, 0.98468999, 0.94865772, 0.97640939,\n",
       "        0.98252029, 0.9809394 , 0.95362765, 0.97807946, 0.98649983,\n",
       "        0.98058955, 0.95357907]),\n",
       " 'split2_test_score': array([0.97953729, 0.98886014, 0.99239332, 0.9728103 , 0.97826342,\n",
       "        0.98867994, 0.97637748, 0.94410074, 0.98211103, 0.98700271,\n",
       "        0.9680544 , 0.9856775 ]),\n",
       " 'mean_test_score': array([0.9788237 , 0.98696706, 0.981346  , 0.96312726, 0.9776672 ,\n",
       "        0.98637709, 0.98144545, 0.95478685, 0.98000758, 0.98650174,\n",
       "        0.97776632, 0.97502229]),\n",
       " 'std_test_score': array([0.00299342, 0.00224015, 0.01065106, 0.01042496, 0.00088981,\n",
       "        0.00274425, 0.00435928, 0.00923487, 0.00165054, 0.00040826,\n",
       "        0.00706508, 0.01516274]),\n",
       " 'rank_test_score': array([ 7,  1,  5, 11,  9,  3,  4, 12,  6,  2,  8, 10], dtype=int32)}"
      ]
     },
     "execution_count": 32,
     "metadata": {},
     "output_type": "execute_result"
    },
    {
     "name": "stdout",
     "output_type": "stream",
     "text": [
      "[CV 2/3] END .......criterion=gini, max_depth=5;, score=0.975 total time=  42.2s\n",
      "[CV 1/3] END ......criterion=gini, max_depth=50;, score=0.968 total time=14.1min\n",
      "[CV 1/3] END ...criterion=log_loss, max_depth=5;, score=0.980 total time= 1.5min\n",
      "[CV 3/3] END ...criterion=log_loss, max_depth=5;, score=0.982 total time= 1.4min\n",
      "[CV 2/3] END ..criterion=log_loss, max_depth=10;, score=0.986 total time= 3.8min\n",
      "[CV 1/3] END ..criterion=log_loss, max_depth=25;, score=0.985 total time=11.2min\n"
     ]
    }
   ],
   "source": [
    "cvres = results.cv_results_\n",
    "cvres"
   ]
  },
  {
   "cell_type": "markdown",
   "id": "87f39ace-96e1-450f-9a59-c806c1f5f8e1",
   "metadata": {},
   "source": [
    "The score is best for the gini criterion and a max_depth of 10. The criterion doesn't make much of a difference so I'll choose gini. I will search a little more to pick a max_depth."
   ]
  },
  {
   "cell_type": "code",
   "execution_count": 35,
   "id": "2e42c200-8def-4129-bf08-804157b459e7",
   "metadata": {
    "collapsed": true,
    "jupyter": {
     "outputs_hidden": true
    },
    "tags": []
   },
   "outputs": [
    {
     "name": "stdout",
     "output_type": "stream",
     "text": [
      "Fitting 3 folds for each of 3 candidates, totalling 9 fits\n"
     ]
    },
    {
     "name": "stderr",
     "output_type": "stream",
     "text": [
      "/Users/hazeneckert/miniconda3/envs/practice/lib/python3.11/site-packages/sklearn/utils/validation.py:768: UserWarning: pandas.DataFrame with sparse columns found.It will be converted to a dense numpy array.\n",
      "  warnings.warn(\n",
      "/Users/hazeneckert/miniconda3/envs/practice/lib/python3.11/site-packages/sklearn/utils/validation.py:768: UserWarning: pandas.DataFrame with sparse columns found.It will be converted to a dense numpy array.\n",
      "  warnings.warn(\n",
      "/Users/hazeneckert/miniconda3/envs/practice/lib/python3.11/site-packages/sklearn/utils/validation.py:768: UserWarning: pandas.DataFrame with sparse columns found.It will be converted to a dense numpy array.\n",
      "  warnings.warn(\n",
      "/Users/hazeneckert/miniconda3/envs/practice/lib/python3.11/site-packages/sklearn/utils/validation.py:768: UserWarning: pandas.DataFrame with sparse columns found.It will be converted to a dense numpy array.\n",
      "  warnings.warn(\n",
      "/Users/hazeneckert/miniconda3/envs/practice/lib/python3.11/site-packages/sklearn/utils/validation.py:768: UserWarning: pandas.DataFrame with sparse columns found.It will be converted to a dense numpy array.\n",
      "  warnings.warn(\n",
      "/Users/hazeneckert/miniconda3/envs/practice/lib/python3.11/site-packages/sklearn/utils/validation.py:768: UserWarning: pandas.DataFrame with sparse columns found.It will be converted to a dense numpy array.\n",
      "  warnings.warn(\n",
      "/Users/hazeneckert/miniconda3/envs/practice/lib/python3.11/site-packages/sklearn/utils/validation.py:768: UserWarning: pandas.DataFrame with sparse columns found.It will be converted to a dense numpy array.\n",
      "  warnings.warn(\n",
      "/Users/hazeneckert/miniconda3/envs/practice/lib/python3.11/site-packages/sklearn/utils/validation.py:768: UserWarning: pandas.DataFrame with sparse columns found.It will be converted to a dense numpy array.\n",
      "  warnings.warn(\n",
      "/Users/hazeneckert/miniconda3/envs/practice/lib/python3.11/site-packages/sklearn/utils/validation.py:768: UserWarning: pandas.DataFrame with sparse columns found.It will be converted to a dense numpy array.\n",
      "  warnings.warn(\n",
      "/Users/hazeneckert/miniconda3/envs/practice/lib/python3.11/site-packages/sklearn/utils/validation.py:768: UserWarning: pandas.DataFrame with sparse columns found.It will be converted to a dense numpy array.\n",
      "  warnings.warn(\n",
      "/Users/hazeneckert/miniconda3/envs/practice/lib/python3.11/site-packages/sklearn/utils/validation.py:768: UserWarning: pandas.DataFrame with sparse columns found.It will be converted to a dense numpy array.\n",
      "  warnings.warn(\n",
      "/Users/hazeneckert/miniconda3/envs/practice/lib/python3.11/site-packages/sklearn/utils/validation.py:768: UserWarning: pandas.DataFrame with sparse columns found.It will be converted to a dense numpy array.\n",
      "  warnings.warn(\n",
      "/Users/hazeneckert/miniconda3/envs/practice/lib/python3.11/site-packages/sklearn/utils/validation.py:768: UserWarning: pandas.DataFrame with sparse columns found.It will be converted to a dense numpy array.\n",
      "  warnings.warn(\n",
      "/Users/hazeneckert/miniconda3/envs/practice/lib/python3.11/site-packages/sklearn/utils/validation.py:768: UserWarning: pandas.DataFrame with sparse columns found.It will be converted to a dense numpy array.\n",
      "  warnings.warn(\n",
      "/Users/hazeneckert/miniconda3/envs/practice/lib/python3.11/site-packages/sklearn/utils/validation.py:768: UserWarning: pandas.DataFrame with sparse columns found.It will be converted to a dense numpy array.\n",
      "  warnings.warn(\n",
      "/Users/hazeneckert/miniconda3/envs/practice/lib/python3.11/site-packages/sklearn/utils/validation.py:768: UserWarning: pandas.DataFrame with sparse columns found.It will be converted to a dense numpy array.\n",
      "  warnings.warn(\n",
      "/Users/hazeneckert/miniconda3/envs/practice/lib/python3.11/site-packages/sklearn/utils/validation.py:768: UserWarning: pandas.DataFrame with sparse columns found.It will be converted to a dense numpy array.\n",
      "  warnings.warn(\n",
      "/Users/hazeneckert/miniconda3/envs/practice/lib/python3.11/site-packages/sklearn/utils/validation.py:768: UserWarning: pandas.DataFrame with sparse columns found.It will be converted to a dense numpy array.\n",
      "  warnings.warn(\n"
     ]
    },
    {
     "name": "stdout",
     "output_type": "stream",
     "text": [
      "[CV 1/3] END ......criterion=gini, max_depth=25;, score=0.967 total time= 9.7min\n",
      "[CV 3/3] END ...criterion=entropy, max_depth=25;, score=0.976 total time=13.9min\n",
      "[CV 1/3] END ..criterion=log_loss, max_depth=50;, score=0.986 total time=10.5min\n",
      "[CV 1/3] END .......criterion=gini, max_depth=8;, score=0.985 total time=  31.6s\n",
      "[CV 3/3] END ......criterion=gini, max_depth=15;, score=0.992 total time= 1.8min\n"
     ]
    },
    {
     "name": "stderr",
     "output_type": "stream",
     "text": [
      "/Users/hazeneckert/miniconda3/envs/practice/lib/python3.11/site-packages/sklearn/utils/validation.py:768: UserWarning: pandas.DataFrame with sparse columns found.It will be converted to a dense numpy array.\n",
      "  warnings.warn(\n"
     ]
    }
   ],
   "source": [
    "from sklearn.model_selection import GridSearchCV\n",
    "from sklearn.ensemble import RandomForestClassifier\n",
    "parameters = {'criterion' : [\"gini\"],\n",
    "             'max_depth' :[8, 12, 15]\n",
    "             }\n",
    "rf2 = RandomForestClassifier()\n",
    "clf2 = GridSearchCV(rf2, parameters,cv=3,verbose=3, scoring='roc_auc_ovr',n_jobs=-1)\n",
    "res2 = clf2.fit(X_train_trim, Y_train_semiclean_trim)"
   ]
  },
  {
   "cell_type": "code",
   "execution_count": 36,
   "id": "e7be889d-37e1-4b6c-b68c-9a62063985f7",
   "metadata": {
    "tags": []
   },
   "outputs": [
    {
     "data": {
      "text/plain": [
       "{'mean_fit_time': array([ 53.55731511, 127.54556902, 130.147825  ]),\n",
       " 'std_fit_time': array([21.4057514 ,  2.3929534 , 15.69454786]),\n",
       " 'mean_score_time': array([10.16036638,  6.26152841,  2.29949498]),\n",
       " 'std_score_time': array([1.39153074, 1.54691988, 0.16009108]),\n",
       " 'param_criterion': masked_array(data=['gini', 'gini', 'gini'],\n",
       "              mask=[False, False, False],\n",
       "        fill_value='?',\n",
       "             dtype=object),\n",
       " 'param_max_depth': masked_array(data=[8, 12, 15],\n",
       "              mask=[False, False, False],\n",
       "        fill_value='?',\n",
       "             dtype=object),\n",
       " 'params': [{'criterion': 'gini', 'max_depth': 8},\n",
       "  {'criterion': 'gini', 'max_depth': 12},\n",
       "  {'criterion': 'gini', 'max_depth': 15}],\n",
       " 'split0_test_score': array([0.98468401, 0.99013418, 0.99166443]),\n",
       " 'split1_test_score': array([0.98348688, 0.98902865, 0.98913628]),\n",
       " 'split2_test_score': array([0.98424491, 0.98816993, 0.9924555 ]),\n",
       " 'mean_test_score': array([0.9841386 , 0.98911092, 0.9910854 ]),\n",
       " 'std_test_score': array([0.00049447, 0.00080401, 0.00141557]),\n",
       " 'rank_test_score': array([3, 2, 1], dtype=int32)}"
      ]
     },
     "execution_count": 36,
     "metadata": {},
     "output_type": "execute_result"
    }
   ],
   "source": [
    "res2.cv_results_"
   ]
  },
  {
   "cell_type": "code",
   "execution_count": 37,
   "id": "ee0d462c-50a6-4c49-a702-d90f0c6ed9d9",
   "metadata": {
    "collapsed": true,
    "jupyter": {
     "outputs_hidden": true
    },
    "tags": []
   },
   "outputs": [
    {
     "name": "stdout",
     "output_type": "stream",
     "text": [
      "Fitting 3 folds for each of 3 candidates, totalling 9 fits\n"
     ]
    },
    {
     "name": "stderr",
     "output_type": "stream",
     "text": [
      "/Users/hazeneckert/miniconda3/envs/practice/lib/python3.11/site-packages/sklearn/utils/validation.py:768: UserWarning: pandas.DataFrame with sparse columns found.It will be converted to a dense numpy array.\n",
      "  warnings.warn(\n",
      "/Users/hazeneckert/miniconda3/envs/practice/lib/python3.11/site-packages/sklearn/utils/validation.py:768: UserWarning: pandas.DataFrame with sparse columns found.It will be converted to a dense numpy array.\n",
      "  warnings.warn(\n",
      "/Users/hazeneckert/miniconda3/envs/practice/lib/python3.11/site-packages/sklearn/utils/validation.py:768: UserWarning: pandas.DataFrame with sparse columns found.It will be converted to a dense numpy array.\n",
      "  warnings.warn(\n",
      "/Users/hazeneckert/miniconda3/envs/practice/lib/python3.11/site-packages/sklearn/utils/validation.py:768: UserWarning: pandas.DataFrame with sparse columns found.It will be converted to a dense numpy array.\n",
      "  warnings.warn(\n",
      "/Users/hazeneckert/miniconda3/envs/practice/lib/python3.11/site-packages/sklearn/utils/validation.py:768: UserWarning: pandas.DataFrame with sparse columns found.It will be converted to a dense numpy array.\n",
      "  warnings.warn(\n",
      "/Users/hazeneckert/miniconda3/envs/practice/lib/python3.11/site-packages/sklearn/utils/validation.py:768: UserWarning: pandas.DataFrame with sparse columns found.It will be converted to a dense numpy array.\n",
      "  warnings.warn(\n",
      "/Users/hazeneckert/miniconda3/envs/practice/lib/python3.11/site-packages/sklearn/utils/validation.py:768: UserWarning: pandas.DataFrame with sparse columns found.It will be converted to a dense numpy array.\n",
      "  warnings.warn(\n",
      "/Users/hazeneckert/miniconda3/envs/practice/lib/python3.11/site-packages/sklearn/utils/validation.py:768: UserWarning: pandas.DataFrame with sparse columns found.It will be converted to a dense numpy array.\n",
      "  warnings.warn(\n",
      "/Users/hazeneckert/miniconda3/envs/practice/lib/python3.11/site-packages/sklearn/utils/validation.py:768: UserWarning: pandas.DataFrame with sparse columns found.It will be converted to a dense numpy array.\n",
      "  warnings.warn(\n",
      "/Users/hazeneckert/miniconda3/envs/practice/lib/python3.11/site-packages/sklearn/utils/validation.py:768: UserWarning: pandas.DataFrame with sparse columns found.It will be converted to a dense numpy array.\n",
      "  warnings.warn(\n",
      "/Users/hazeneckert/miniconda3/envs/practice/lib/python3.11/site-packages/sklearn/utils/validation.py:768: UserWarning: pandas.DataFrame with sparse columns found.It will be converted to a dense numpy array.\n",
      "  warnings.warn(\n",
      "/Users/hazeneckert/miniconda3/envs/practice/lib/python3.11/site-packages/sklearn/utils/validation.py:768: UserWarning: pandas.DataFrame with sparse columns found.It will be converted to a dense numpy array.\n",
      "  warnings.warn(\n",
      "/Users/hazeneckert/miniconda3/envs/practice/lib/python3.11/site-packages/sklearn/utils/validation.py:768: UserWarning: pandas.DataFrame with sparse columns found.It will be converted to a dense numpy array.\n",
      "  warnings.warn(\n",
      "/Users/hazeneckert/miniconda3/envs/practice/lib/python3.11/site-packages/sklearn/utils/validation.py:768: UserWarning: pandas.DataFrame with sparse columns found.It will be converted to a dense numpy array.\n",
      "  warnings.warn(\n",
      "/Users/hazeneckert/miniconda3/envs/practice/lib/python3.11/site-packages/sklearn/utils/validation.py:768: UserWarning: pandas.DataFrame with sparse columns found.It will be converted to a dense numpy array.\n",
      "  warnings.warn(\n",
      "/Users/hazeneckert/miniconda3/envs/practice/lib/python3.11/site-packages/sklearn/utils/validation.py:768: UserWarning: pandas.DataFrame with sparse columns found.It will be converted to a dense numpy array.\n",
      "  warnings.warn(\n",
      "/Users/hazeneckert/miniconda3/envs/practice/lib/python3.11/site-packages/sklearn/utils/validation.py:768: UserWarning: pandas.DataFrame with sparse columns found.It will be converted to a dense numpy array.\n",
      "  warnings.warn(\n",
      "/Users/hazeneckert/miniconda3/envs/practice/lib/python3.11/site-packages/sklearn/utils/validation.py:768: UserWarning: pandas.DataFrame with sparse columns found.It will be converted to a dense numpy array.\n",
      "  warnings.warn(\n",
      "/Users/hazeneckert/miniconda3/envs/practice/lib/python3.11/site-packages/sklearn/utils/validation.py:768: UserWarning: pandas.DataFrame with sparse columns found.It will be converted to a dense numpy array.\n",
      "  warnings.warn(\n"
     ]
    },
    {
     "name": "stdout",
     "output_type": "stream",
     "text": [
      "[CV 2/3] END ......criterion=gini, max_depth=15;, score=0.989 total time= 2.4min\n",
      "[CV 2/3] END ......criterion=gini, max_depth=18;, score=0.990 total time= 7.2min\n",
      "[CV 3/3] END .......criterion=gini, max_depth=8;, score=0.984 total time= 1.3min\n",
      "[CV 3/3] END ......criterion=gini, max_depth=18;, score=0.992 total time= 7.4min\n",
      "[CV 1/3] END .......criterion=gini, max_depth=5;, score=0.982 total time=  39.3s\n",
      "[CV 3/3] END ......criterion=gini, max_depth=25;, score=0.992 total time= 9.9min\n",
      "[CV 1/3] END ...criterion=entropy, max_depth=50;, score=0.967 total time=15.9min\n",
      "[CV 3/3] END ..criterion=log_loss, max_depth=50;, score=0.986 total time= 8.0min\n",
      "[CV 3/3] END ......criterion=gini, max_depth=12;, score=0.988 total time= 2.2min\n",
      "[CV 2/3] END ......criterion=gini, max_depth=20;, score=0.989 total time= 8.4min\n",
      "[CV 1/3] END ......criterion=gini, max_depth=15;, score=0.992 total time= 2.4min\n",
      "[CV 1/3] END ......criterion=gini, max_depth=20;, score=0.994 total time= 8.6min\n",
      "[CV 1/3] END ......criterion=gini, max_depth=10;, score=0.988 total time= 2.3min\n",
      "[CV 3/3] END ......criterion=gini, max_depth=50;, score=0.973 total time=14.0min\n",
      "[CV 2/3] END ...criterion=log_loss, max_depth=5;, score=0.978 total time= 1.4min\n",
      "[CV 1/3] END ..criterion=log_loss, max_depth=10;, score=0.986 total time= 3.7min\n",
      "[CV 3/3] END ..criterion=log_loss, max_depth=10;, score=0.987 total time= 3.4min\n",
      "[CV 2/3] END ..criterion=log_loss, max_depth=50;, score=0.954 total time= 9.0min\n",
      "[CV 2/3] END ......criterion=gini, max_depth=12;, score=0.989 total time= 2.2min\n",
      "[CV 3/3] END ......criterion=gini, max_depth=20;, score=0.993 total time= 8.5min\n",
      "[CV 2/3] END ......criterion=gini, max_depth=22;, score=0.989 total time= 8.7min\n",
      "[CV 1/3] END ......criterion=gini, max_depth=12;, score=0.990 total time= 2.2min\n",
      "[CV 1/3] END ......criterion=gini, max_depth=22;, score=0.993 total time= 8.7min\n",
      "[CV 2/3] END .......criterion=gini, max_depth=8;, score=0.983 total time= 1.3min\n",
      "[CV 1/3] END ......criterion=gini, max_depth=18;, score=0.991 total time= 5.6min\n",
      "[CV 3/3] END ......criterion=gini, max_depth=22;, score=0.992 total time= 3.1min\n"
     ]
    }
   ],
   "source": [
    "from sklearn.model_selection import GridSearchCV\n",
    "from sklearn.ensemble import RandomForestClassifier\n",
    "parameters = {'criterion' : [\"gini\"],\n",
    "             'max_depth' :[18, 20, 22]\n",
    "             }\n",
    "rf2 = RandomForestClassifier()\n",
    "clf2 = GridSearchCV(rf, parameters,cv=3,verbose=3, scoring='roc_auc_ovr',n_jobs=-1)\n",
    "res2 = clf2.fit(X_train_trim, Y_train_semiclean_trim)"
   ]
  },
  {
   "cell_type": "code",
   "execution_count": 38,
   "id": "86e5bc92-7fff-4c77-b43d-97a462ecad85",
   "metadata": {
    "tags": []
   },
   "outputs": [
    {
     "data": {
      "text/plain": [
       "{'mean_fit_time': array([388.83349498, 492.08006771, 405.71599992]),\n",
       " 'std_fit_time': array([ 47.98143728,   4.9622415 , 158.15269304]),\n",
       " 'mean_score_time': array([16.89073435, 17.42412424,  3.99593266]),\n",
       " 'std_score_time': array([1.06806936, 0.9491919 , 0.99669128]),\n",
       " 'param_criterion': masked_array(data=['gini', 'gini', 'gini'],\n",
       "              mask=[False, False, False],\n",
       "        fill_value='?',\n",
       "             dtype=object),\n",
       " 'param_max_depth': masked_array(data=[18, 20, 22],\n",
       "              mask=[False, False, False],\n",
       "        fill_value='?',\n",
       "             dtype=object),\n",
       " 'params': [{'criterion': 'gini', 'max_depth': 18},\n",
       "  {'criterion': 'gini', 'max_depth': 20},\n",
       "  {'criterion': 'gini', 'max_depth': 22}],\n",
       " 'split0_test_score': array([0.99059099, 0.9936528 , 0.99289235]),\n",
       " 'split1_test_score': array([0.98979951, 0.98939232, 0.98947683]),\n",
       " 'split2_test_score': array([0.99172828, 0.99302982, 0.99219848]),\n",
       " 'mean_test_score': array([0.99070626, 0.99202498, 0.99152255]),\n",
       " 'std_test_score': array([0.00079163, 0.00187886, 0.00147402]),\n",
       " 'rank_test_score': array([3, 1, 2], dtype=int32)}"
      ]
     },
     "execution_count": 38,
     "metadata": {},
     "output_type": "execute_result"
    }
   ],
   "source": [
    "res2.cv_results_"
   ]
  },
  {
   "cell_type": "markdown",
   "id": "59df45df-eb44-4866-913a-cc302db467f0",
   "metadata": {},
   "source": [
    "The score is maximized at 20 but 18 is within a std error so it will be chosen."
   ]
  },
  {
   "cell_type": "code",
   "execution_count": 102,
   "id": "d05be02c-244b-492c-ab98-d9d06743c587",
   "metadata": {
    "tags": []
   },
   "outputs": [
    {
     "name": "stdout",
     "output_type": "stream",
     "text": [
      "Fitting 3 folds for each of 4 candidates, totalling 12 fits\n"
     ]
    },
    {
     "name": "stderr",
     "output_type": "stream",
     "text": [
      "/Users/hazeneckert/miniconda3/envs/practice/lib/python3.11/site-packages/sklearn/utils/validation.py:787: UserWarning: pandas.DataFrame with sparse columns found.It will be converted to a dense numpy array.\n",
      "  warnings.warn(\n",
      "/Users/hazeneckert/miniconda3/envs/practice/lib/python3.11/site-packages/sklearn/utils/validation.py:787: UserWarning: pandas.DataFrame with sparse columns found.It will be converted to a dense numpy array.\n",
      "  warnings.warn(\n",
      "/Users/hazeneckert/miniconda3/envs/practice/lib/python3.11/site-packages/sklearn/utils/validation.py:787: UserWarning: pandas.DataFrame with sparse columns found.It will be converted to a dense numpy array.\n",
      "  warnings.warn(\n",
      "/Users/hazeneckert/miniconda3/envs/practice/lib/python3.11/site-packages/sklearn/utils/validation.py:787: UserWarning: pandas.DataFrame with sparse columns found.It will be converted to a dense numpy array.\n",
      "  warnings.warn(\n",
      "/Users/hazeneckert/miniconda3/envs/practice/lib/python3.11/site-packages/sklearn/utils/validation.py:787: UserWarning: pandas.DataFrame with sparse columns found.It will be converted to a dense numpy array.\n",
      "  warnings.warn(\n",
      "/Users/hazeneckert/miniconda3/envs/practice/lib/python3.11/site-packages/sklearn/utils/validation.py:787: UserWarning: pandas.DataFrame with sparse columns found.It will be converted to a dense numpy array.\n",
      "  warnings.warn(\n",
      "/Users/hazeneckert/miniconda3/envs/practice/lib/python3.11/site-packages/sklearn/utils/validation.py:787: UserWarning: pandas.DataFrame with sparse columns found.It will be converted to a dense numpy array.\n",
      "  warnings.warn(\n",
      "/Users/hazeneckert/miniconda3/envs/practice/lib/python3.11/site-packages/sklearn/utils/validation.py:787: UserWarning: pandas.DataFrame with sparse columns found.It will be converted to a dense numpy array.\n",
      "  warnings.warn(\n",
      "/Users/hazeneckert/miniconda3/envs/practice/lib/python3.11/site-packages/sklearn/utils/validation.py:787: UserWarning: pandas.DataFrame with sparse columns found.It will be converted to a dense numpy array.\n",
      "  warnings.warn(\n",
      "/Users/hazeneckert/miniconda3/envs/practice/lib/python3.11/site-packages/sklearn/utils/validation.py:787: UserWarning: pandas.DataFrame with sparse columns found.It will be converted to a dense numpy array.\n",
      "  warnings.warn(\n",
      "/Users/hazeneckert/miniconda3/envs/practice/lib/python3.11/site-packages/sklearn/utils/validation.py:787: UserWarning: pandas.DataFrame with sparse columns found.It will be converted to a dense numpy array.\n",
      "  warnings.warn(\n",
      "/Users/hazeneckert/miniconda3/envs/practice/lib/python3.11/site-packages/sklearn/utils/validation.py:787: UserWarning: pandas.DataFrame with sparse columns found.It will be converted to a dense numpy array.\n",
      "  warnings.warn(\n",
      "/Users/hazeneckert/miniconda3/envs/practice/lib/python3.11/site-packages/sklearn/utils/validation.py:787: UserWarning: pandas.DataFrame with sparse columns found.It will be converted to a dense numpy array.\n",
      "  warnings.warn(\n",
      "/Users/hazeneckert/miniconda3/envs/practice/lib/python3.11/site-packages/sklearn/utils/validation.py:787: UserWarning: pandas.DataFrame with sparse columns found.It will be converted to a dense numpy array.\n",
      "  warnings.warn(\n",
      "/Users/hazeneckert/miniconda3/envs/practice/lib/python3.11/site-packages/sklearn/utils/validation.py:787: UserWarning: pandas.DataFrame with sparse columns found.It will be converted to a dense numpy array.\n",
      "  warnings.warn(\n",
      "/Users/hazeneckert/miniconda3/envs/practice/lib/python3.11/site-packages/sklearn/utils/validation.py:787: UserWarning: pandas.DataFrame with sparse columns found.It will be converted to a dense numpy array.\n",
      "  warnings.warn(\n",
      "/Users/hazeneckert/miniconda3/envs/practice/lib/python3.11/site-packages/sklearn/utils/validation.py:787: UserWarning: pandas.DataFrame with sparse columns found.It will be converted to a dense numpy array.\n",
      "  warnings.warn(\n",
      "/Users/hazeneckert/miniconda3/envs/practice/lib/python3.11/site-packages/sklearn/utils/validation.py:787: UserWarning: pandas.DataFrame with sparse columns found.It will be converted to a dense numpy array.\n",
      "  warnings.warn(\n",
      "/Users/hazeneckert/miniconda3/envs/practice/lib/python3.11/site-packages/sklearn/utils/validation.py:787: UserWarning: pandas.DataFrame with sparse columns found.It will be converted to a dense numpy array.\n",
      "  warnings.warn(\n",
      "/Users/hazeneckert/miniconda3/envs/practice/lib/python3.11/site-packages/sklearn/utils/validation.py:787: UserWarning: pandas.DataFrame with sparse columns found.It will be converted to a dense numpy array.\n",
      "  warnings.warn(\n",
      "/Users/hazeneckert/miniconda3/envs/practice/lib/python3.11/site-packages/sklearn/utils/validation.py:787: UserWarning: pandas.DataFrame with sparse columns found.It will be converted to a dense numpy array.\n",
      "  warnings.warn(\n"
     ]
    },
    {
     "name": "stdout",
     "output_type": "stream",
     "text": [
      "[CV 2/3] END ......criterion=gini, max_depth=10;, score=0.717 total time= 1.8min\n",
      "[CV 3/3] END ......criterion=gini, max_depth=10;, score=0.725 total time= 1.8min\n"
     ]
    },
    {
     "name": "stderr",
     "output_type": "stream",
     "text": [
      "/Users/hazeneckert/miniconda3/envs/practice/lib/python3.11/site-packages/sklearn/utils/validation.py:787: UserWarning: pandas.DataFrame with sparse columns found.It will be converted to a dense numpy array.\n",
      "  warnings.warn(\n",
      "/Users/hazeneckert/miniconda3/envs/practice/lib/python3.11/site-packages/sklearn/utils/validation.py:787: UserWarning: pandas.DataFrame with sparse columns found.It will be converted to a dense numpy array.\n",
      "  warnings.warn(\n",
      "/Users/hazeneckert/miniconda3/envs/practice/lib/python3.11/site-packages/sklearn/utils/validation.py:787: UserWarning: pandas.DataFrame with sparse columns found.It will be converted to a dense numpy array.\n",
      "  warnings.warn(\n",
      "/Users/hazeneckert/miniconda3/envs/practice/lib/python3.11/site-packages/sklearn/utils/validation.py:787: UserWarning: pandas.DataFrame with sparse columns found.It will be converted to a dense numpy array.\n",
      "  warnings.warn(\n"
     ]
    }
   ],
   "source": [
    "from sklearn.model_selection import GridSearchCV\n",
    "from sklearn.ensemble import RandomForestClassifier\n",
    "parameters = {'criterion' : [\"gini\"],\n",
    "             'max_depth' :[5, 10, 25, 50]\n",
    "             }\n",
    "rf2 = RandomForestClassifier()\n",
    "clf2 = GridSearchCV(rf2, parameters,cv=3,verbose=3, scoring='accuracy',n_jobs=-1)\n",
    "res2 = clf2.fit(X_train_trim, Y_train_semiclean_trim)"
   ]
  },
  {
   "cell_type": "code",
   "execution_count": 103,
   "id": "8070c024-097e-4554-a469-d1f0f6cc0525",
   "metadata": {
    "tags": []
   },
   "outputs": [
    {
     "data": {
      "text/plain": [
       "{'mean_fit_time': array([ 28.40965629, 103.47092477, 380.82386907, 387.91814947]),\n",
       " 'std_fit_time': array([ 1.90292157,  2.11853973,  7.90500987, 26.18115874]),\n",
       " 'mean_score_time': array([3.88435531, 4.55536715, 4.13774069, 3.5404578 ]),\n",
       " 'std_score_time': array([0.2284809 , 0.0821709 , 1.00788219, 1.1190532 ]),\n",
       " 'param_criterion': masked_array(data=['gini', 'gini', 'gini', 'gini'],\n",
       "              mask=[False, False, False, False],\n",
       "        fill_value='?',\n",
       "             dtype=object),\n",
       " 'param_max_depth': masked_array(data=[5, 10, 25, 50],\n",
       "              mask=[False, False, False, False],\n",
       "        fill_value='?',\n",
       "             dtype=object),\n",
       " 'params': [{'criterion': 'gini', 'max_depth': 5},\n",
       "  {'criterion': 'gini', 'max_depth': 10},\n",
       "  {'criterion': 'gini', 'max_depth': 25},\n",
       "  {'criterion': 'gini', 'max_depth': 50}],\n",
       " 'split0_test_score': array([0.61558045, 0.73217923, 0.89002037, 0.89867617]),\n",
       " 'split1_test_score': array([0.61558045, 0.71690428, 0.89052953, 0.89256619]),\n",
       " 'split2_test_score': array([0.57331976, 0.72505092, 0.89052953, 0.89358452]),\n",
       " 'mean_test_score': array([0.60149355, 0.72471147, 0.89035981, 0.89494229]),\n",
       " 'std_test_score': array([0.01992188, 0.00624059, 0.00024002, 0.00267278]),\n",
       " 'rank_test_score': array([4, 3, 2, 1], dtype=int32)}"
      ]
     },
     "execution_count": 103,
     "metadata": {},
     "output_type": "execute_result"
    }
   ],
   "source": [
    "res2.cv_results_"
   ]
  },
  {
   "cell_type": "code",
   "execution_count": 104,
   "id": "d2515008-98bd-459d-a232-3f8c7928466d",
   "metadata": {
    "tags": []
   },
   "outputs": [
    {
     "name": "stdout",
     "output_type": "stream",
     "text": [
      "Fitting 3 folds for each of 7 candidates, totalling 21 fits\n"
     ]
    },
    {
     "name": "stderr",
     "output_type": "stream",
     "text": [
      "/Users/hazeneckert/miniconda3/envs/practice/lib/python3.11/site-packages/sklearn/utils/validation.py:787: UserWarning: pandas.DataFrame with sparse columns found.It will be converted to a dense numpy array.\n",
      "  warnings.warn(\n",
      "/Users/hazeneckert/miniconda3/envs/practice/lib/python3.11/site-packages/sklearn/utils/validation.py:787: UserWarning: pandas.DataFrame with sparse columns found.It will be converted to a dense numpy array.\n",
      "  warnings.warn(\n",
      "/Users/hazeneckert/miniconda3/envs/practice/lib/python3.11/site-packages/sklearn/utils/validation.py:787: UserWarning: pandas.DataFrame with sparse columns found.It will be converted to a dense numpy array.\n",
      "  warnings.warn(\n",
      "/Users/hazeneckert/miniconda3/envs/practice/lib/python3.11/site-packages/sklearn/utils/validation.py:787: UserWarning: pandas.DataFrame with sparse columns found.It will be converted to a dense numpy array.\n",
      "  warnings.warn(\n",
      "/Users/hazeneckert/miniconda3/envs/practice/lib/python3.11/site-packages/sklearn/utils/validation.py:787: UserWarning: pandas.DataFrame with sparse columns found.It will be converted to a dense numpy array.\n",
      "  warnings.warn(\n",
      "/Users/hazeneckert/miniconda3/envs/practice/lib/python3.11/site-packages/sklearn/utils/validation.py:787: UserWarning: pandas.DataFrame with sparse columns found.It will be converted to a dense numpy array.\n",
      "  warnings.warn(\n",
      "/Users/hazeneckert/miniconda3/envs/practice/lib/python3.11/site-packages/sklearn/utils/validation.py:787: UserWarning: pandas.DataFrame with sparse columns found.It will be converted to a dense numpy array.\n",
      "  warnings.warn(\n",
      "/Users/hazeneckert/miniconda3/envs/practice/lib/python3.11/site-packages/sklearn/utils/validation.py:787: UserWarning: pandas.DataFrame with sparse columns found.It will be converted to a dense numpy array.\n",
      "  warnings.warn(\n",
      "/Users/hazeneckert/miniconda3/envs/practice/lib/python3.11/site-packages/sklearn/utils/validation.py:787: UserWarning: pandas.DataFrame with sparse columns found.It will be converted to a dense numpy array.\n",
      "  warnings.warn(\n",
      "/Users/hazeneckert/miniconda3/envs/practice/lib/python3.11/site-packages/sklearn/utils/validation.py:787: UserWarning: pandas.DataFrame with sparse columns found.It will be converted to a dense numpy array.\n",
      "  warnings.warn(\n",
      "/Users/hazeneckert/miniconda3/envs/practice/lib/python3.11/site-packages/sklearn/utils/validation.py:787: UserWarning: pandas.DataFrame with sparse columns found.It will be converted to a dense numpy array.\n",
      "  warnings.warn(\n",
      "/Users/hazeneckert/miniconda3/envs/practice/lib/python3.11/site-packages/sklearn/utils/validation.py:787: UserWarning: pandas.DataFrame with sparse columns found.It will be converted to a dense numpy array.\n",
      "  warnings.warn(\n",
      "/Users/hazeneckert/miniconda3/envs/practice/lib/python3.11/site-packages/sklearn/utils/validation.py:787: UserWarning: pandas.DataFrame with sparse columns found.It will be converted to a dense numpy array.\n",
      "  warnings.warn(\n",
      "/Users/hazeneckert/miniconda3/envs/practice/lib/python3.11/site-packages/sklearn/utils/validation.py:787: UserWarning: pandas.DataFrame with sparse columns found.It will be converted to a dense numpy array.\n",
      "  warnings.warn(\n",
      "/Users/hazeneckert/miniconda3/envs/practice/lib/python3.11/site-packages/sklearn/utils/validation.py:787: UserWarning: pandas.DataFrame with sparse columns found.It will be converted to a dense numpy array.\n",
      "  warnings.warn(\n",
      "/Users/hazeneckert/miniconda3/envs/practice/lib/python3.11/site-packages/sklearn/utils/validation.py:787: UserWarning: pandas.DataFrame with sparse columns found.It will be converted to a dense numpy array.\n",
      "  warnings.warn(\n",
      "/Users/hazeneckert/miniconda3/envs/practice/lib/python3.11/site-packages/sklearn/utils/validation.py:787: UserWarning: pandas.DataFrame with sparse columns found.It will be converted to a dense numpy array.\n",
      "  warnings.warn(\n",
      "/Users/hazeneckert/miniconda3/envs/practice/lib/python3.11/site-packages/sklearn/utils/validation.py:787: UserWarning: pandas.DataFrame with sparse columns found.It will be converted to a dense numpy array.\n",
      "  warnings.warn(\n",
      "/Users/hazeneckert/miniconda3/envs/practice/lib/python3.11/site-packages/sklearn/utils/validation.py:787: UserWarning: pandas.DataFrame with sparse columns found.It will be converted to a dense numpy array.\n",
      "  warnings.warn(\n",
      "/Users/hazeneckert/miniconda3/envs/practice/lib/python3.11/site-packages/sklearn/utils/validation.py:787: UserWarning: pandas.DataFrame with sparse columns found.It will be converted to a dense numpy array.\n",
      "  warnings.warn(\n",
      "/Users/hazeneckert/miniconda3/envs/practice/lib/python3.11/site-packages/sklearn/utils/validation.py:787: UserWarning: pandas.DataFrame with sparse columns found.It will be converted to a dense numpy array.\n",
      "  warnings.warn(\n",
      "/Users/hazeneckert/miniconda3/envs/practice/lib/python3.11/site-packages/sklearn/utils/validation.py:787: UserWarning: pandas.DataFrame with sparse columns found.It will be converted to a dense numpy array.\n",
      "  warnings.warn(\n",
      "/Users/hazeneckert/miniconda3/envs/practice/lib/python3.11/site-packages/sklearn/utils/validation.py:787: UserWarning: pandas.DataFrame with sparse columns found.It will be converted to a dense numpy array.\n",
      "  warnings.warn(\n",
      "/Users/hazeneckert/miniconda3/envs/practice/lib/python3.11/site-packages/sklearn/utils/validation.py:787: UserWarning: pandas.DataFrame with sparse columns found.It will be converted to a dense numpy array.\n",
      "  warnings.warn(\n",
      "/Users/hazeneckert/miniconda3/envs/practice/lib/python3.11/site-packages/sklearn/utils/validation.py:787: UserWarning: pandas.DataFrame with sparse columns found.It will be converted to a dense numpy array.\n",
      "  warnings.warn(\n",
      "/Users/hazeneckert/miniconda3/envs/practice/lib/python3.11/site-packages/sklearn/utils/validation.py:787: UserWarning: pandas.DataFrame with sparse columns found.It will be converted to a dense numpy array.\n",
      "  warnings.warn(\n",
      "/Users/hazeneckert/miniconda3/envs/practice/lib/python3.11/site-packages/sklearn/utils/validation.py:787: UserWarning: pandas.DataFrame with sparse columns found.It will be converted to a dense numpy array.\n",
      "  warnings.warn(\n",
      "/Users/hazeneckert/miniconda3/envs/practice/lib/python3.11/site-packages/sklearn/utils/validation.py:787: UserWarning: pandas.DataFrame with sparse columns found.It will be converted to a dense numpy array.\n",
      "  warnings.warn(\n",
      "/Users/hazeneckert/miniconda3/envs/practice/lib/python3.11/site-packages/sklearn/utils/validation.py:787: UserWarning: pandas.DataFrame with sparse columns found.It will be converted to a dense numpy array.\n",
      "  warnings.warn(\n",
      "/Users/hazeneckert/miniconda3/envs/practice/lib/python3.11/site-packages/sklearn/utils/validation.py:787: UserWarning: pandas.DataFrame with sparse columns found.It will be converted to a dense numpy array.\n",
      "  warnings.warn(\n",
      "/Users/hazeneckert/miniconda3/envs/practice/lib/python3.11/site-packages/sklearn/utils/validation.py:787: UserWarning: pandas.DataFrame with sparse columns found.It will be converted to a dense numpy array.\n",
      "  warnings.warn(\n",
      "/Users/hazeneckert/miniconda3/envs/practice/lib/python3.11/site-packages/sklearn/utils/validation.py:787: UserWarning: pandas.DataFrame with sparse columns found.It will be converted to a dense numpy array.\n",
      "  warnings.warn(\n",
      "/Users/hazeneckert/miniconda3/envs/practice/lib/python3.11/site-packages/sklearn/utils/validation.py:787: UserWarning: pandas.DataFrame with sparse columns found.It will be converted to a dense numpy array.\n",
      "  warnings.warn(\n",
      "/Users/hazeneckert/miniconda3/envs/practice/lib/python3.11/site-packages/sklearn/utils/validation.py:787: UserWarning: pandas.DataFrame with sparse columns found.It will be converted to a dense numpy array.\n",
      "  warnings.warn(\n",
      "/Users/hazeneckert/miniconda3/envs/practice/lib/python3.11/site-packages/sklearn/utils/validation.py:787: UserWarning: pandas.DataFrame with sparse columns found.It will be converted to a dense numpy array.\n",
      "  warnings.warn(\n",
      "/Users/hazeneckert/miniconda3/envs/practice/lib/python3.11/site-packages/sklearn/utils/validation.py:787: UserWarning: pandas.DataFrame with sparse columns found.It will be converted to a dense numpy array.\n",
      "  warnings.warn(\n",
      "/Users/hazeneckert/miniconda3/envs/practice/lib/python3.11/site-packages/sklearn/utils/validation.py:787: UserWarning: pandas.DataFrame with sparse columns found.It will be converted to a dense numpy array.\n",
      "  warnings.warn(\n",
      "/Users/hazeneckert/miniconda3/envs/practice/lib/python3.11/site-packages/sklearn/utils/validation.py:787: UserWarning: pandas.DataFrame with sparse columns found.It will be converted to a dense numpy array.\n",
      "  warnings.warn(\n"
     ]
    },
    {
     "name": "stdout",
     "output_type": "stream",
     "text": [
      "[CV 1/3] END ......criterion=gini, max_depth=25;, score=0.890 total time= 6.6min\n",
      "[CV 1/3] END ......criterion=gini, max_depth=30;, score=0.898 total time=68.4min\n",
      "[CV 1/3] END ......criterion=gini, max_depth=45;, score=0.908 total time=44.6min\n",
      "[CV 1/3] END .......criterion=gini, max_depth=5;, score=0.616 total time=  29.9s\n",
      "[CV 3/3] END ......criterion=gini, max_depth=25;, score=0.891 total time= 6.3min\n",
      "[CV 2/3] END ......criterion=gini, max_depth=30;, score=0.882 total time=68.1min\n",
      "[CV 3/3] END ......criterion=gini, max_depth=40;, score=0.903 total time=44.4min\n",
      "[CV 1/3] END ......criterion=gini, max_depth=20;, score=0.880 total time=65.4min\n",
      "[CV 2/3] END ......criterion=gini, max_depth=40;, score=0.887 total time=41.9min\n"
     ]
    },
    {
     "name": "stderr",
     "output_type": "stream",
     "text": [
      "/Users/hazeneckert/miniconda3/envs/practice/lib/python3.11/site-packages/sklearn/utils/validation.py:787: UserWarning: pandas.DataFrame with sparse columns found.It will be converted to a dense numpy array.\n",
      "  warnings.warn(\n",
      "/Users/hazeneckert/miniconda3/envs/practice/lib/python3.11/site-packages/sklearn/utils/validation.py:787: UserWarning: pandas.DataFrame with sparse columns found.It will be converted to a dense numpy array.\n",
      "  warnings.warn(\n",
      "/Users/hazeneckert/miniconda3/envs/practice/lib/python3.11/site-packages/sklearn/utils/validation.py:787: UserWarning: pandas.DataFrame with sparse columns found.It will be converted to a dense numpy array.\n",
      "  warnings.warn(\n",
      "/Users/hazeneckert/miniconda3/envs/practice/lib/python3.11/site-packages/sklearn/utils/validation.py:787: UserWarning: pandas.DataFrame with sparse columns found.It will be converted to a dense numpy array.\n",
      "  warnings.warn(\n",
      "/Users/hazeneckert/miniconda3/envs/practice/lib/python3.11/site-packages/sklearn/utils/validation.py:787: UserWarning: pandas.DataFrame with sparse columns found.It will be converted to a dense numpy array.\n",
      "  warnings.warn(\n"
     ]
    },
    {
     "name": "stdout",
     "output_type": "stream",
     "text": [
      "[CV 3/3] END ......criterion=gini, max_depth=20;, score=0.857 total time=65.3min\n",
      "[CV 1/3] END ......criterion=gini, max_depth=40;, score=0.904 total time=42.0min\n",
      "[CV 3/3] END ......criterion=gini, max_depth=50;, score=0.887 total time=15.5min\n",
      "[CV 1/3] END ......criterion=gini, max_depth=10;, score=0.732 total time= 1.8min\n",
      "[CV 3/3] END ......criterion=gini, max_depth=50;, score=0.894 total time= 5.9min\n",
      "[CV 2/3] END ......criterion=gini, max_depth=15;, score=0.804 total time=63.2min\n",
      "[CV 1/3] END ......criterion=gini, max_depth=35;, score=0.900 total time=14.8min\n",
      "[CV 1/3] END ......criterion=gini, max_depth=50;, score=0.910 total time=45.0min\n",
      "[CV 3/3] END .......criterion=gini, max_depth=5;, score=0.573 total time=  35.1s\n",
      "[CV 2/3] END ......criterion=gini, max_depth=50;, score=0.893 total time= 6.8min\n",
      "[CV 2/3] END ......criterion=gini, max_depth=20;, score=0.852 total time=65.1min\n",
      "[CV 3/3] END ......criterion=gini, max_depth=35;, score=0.899 total time=41.0min\n",
      "[CV 2/3] END ......criterion=gini, max_depth=50;, score=0.892 total time=16.7min\n",
      "[CV 2/3] END .......criterion=gini, max_depth=5;, score=0.616 total time=  31.8s\n",
      "[CV 1/3] END ......criterion=gini, max_depth=50;, score=0.899 total time= 6.9min\n",
      "[CV 3/3] END ......criterion=gini, max_depth=15;, score=0.815 total time=63.3min\n",
      "[CV 2/3] END ......criterion=gini, max_depth=35;, score=0.888 total time=14.2min\n",
      "[CV 3/3] END ......criterion=gini, max_depth=45;, score=0.892 total time=45.2min\n",
      "[CV 2/3] END ......criterion=gini, max_depth=25;, score=0.891 total time= 6.3min\n",
      "[CV 1/3] END ......criterion=gini, max_depth=15;, score=0.820 total time= 2.3min\n",
      "[CV 3/3] END ......criterion=gini, max_depth=30;, score=0.897 total time= 8.3min\n",
      "[CV 2/3] END ......criterion=gini, max_depth=45;, score=0.895 total time=45.8min\n"
     ]
    }
   ],
   "source": [
    "from sklearn.model_selection import GridSearchCV\n",
    "from sklearn.ensemble import RandomForestClassifier\n",
    "parameters = {'criterion' : [\"gini\"],\n",
    "             'max_depth' :[15, 20, 30, 35, 40, 45, 50]\n",
    "             }\n",
    "rf2 = RandomForestClassifier()\n",
    "clf2 = GridSearchCV(rf2, parameters,cv=3,verbose=3, scoring='accuracy',n_jobs=-1)\n",
    "res2 = clf2.fit(X_train_trim, Y_train_semiclean_trim)"
   ]
  },
  {
   "cell_type": "code",
   "execution_count": 105,
   "id": "bd8cf428-f1cf-4771-bed8-66384b207720",
   "metadata": {
    "tags": []
   },
   "outputs": [
    {
     "data": {
      "text/plain": [
       "{'mean_fit_time': array([2569.96706144, 3913.36983347, 2889.16171734, 1303.93339825,\n",
       "        2549.29198345, 2697.95813592, 1540.24531794]),\n",
       " 'std_fit_time': array([1725.04436407,    8.20367394, 1692.03891001,  823.11674081,\n",
       "          72.24028961,   33.33913659,  816.88560012]),\n",
       " 'mean_score_time': array([ 5.49450429,  4.5623126 ,  6.06630437, 95.72501898, 16.48713366,\n",
       "        15.81517975,  1.65395117]),\n",
       " 'std_score_time': array([  1.52513171,   0.3424408 ,   2.14119789, 125.2477777 ,\n",
       "          2.55762544,  15.99049238,   0.46463708]),\n",
       " 'param_criterion': masked_array(data=['gini', 'gini', 'gini', 'gini', 'gini', 'gini', 'gini'],\n",
       "              mask=[False, False, False, False, False, False, False],\n",
       "        fill_value='?',\n",
       "             dtype=object),\n",
       " 'param_max_depth': masked_array(data=[15, 20, 30, 35, 40, 45, 50],\n",
       "              mask=[False, False, False, False, False, False, False],\n",
       "        fill_value='?',\n",
       "             dtype=object),\n",
       " 'params': [{'criterion': 'gini', 'max_depth': 15},\n",
       "  {'criterion': 'gini', 'max_depth': 20},\n",
       "  {'criterion': 'gini', 'max_depth': 30},\n",
       "  {'criterion': 'gini', 'max_depth': 35},\n",
       "  {'criterion': 'gini', 'max_depth': 40},\n",
       "  {'criterion': 'gini', 'max_depth': 45},\n",
       "  {'criterion': 'gini', 'max_depth': 50}],\n",
       " 'split0_test_score': array([0.82026477, 0.88034623, 0.89816701, 0.8996945 , 0.90427699,\n",
       "        0.90784114, 0.9098778 ]),\n",
       " 'split1_test_score': array([0.80397149, 0.85234216, 0.88187373, 0.88798371, 0.88696538,\n",
       "        0.89460285, 0.89154786]),\n",
       " 'split2_test_score': array([0.81517312, 0.85692464, 0.89714868, 0.89867617, 0.90274949,\n",
       "        0.89205703, 0.88696538]),\n",
       " 'mean_test_score': array([0.81313646, 0.86320434, 0.89239647, 0.89545146, 0.89799728,\n",
       "        0.89816701, 0.89613035]),\n",
       " 'std_test_score': array([0.00680582, 0.01226467, 0.00745231, 0.00529684, 0.00782562,\n",
       "        0.00691915, 0.0098993 ]),\n",
       " 'rank_test_score': array([7, 6, 5, 4, 2, 1, 3], dtype=int32)}"
      ]
     },
     "execution_count": 105,
     "metadata": {},
     "output_type": "execute_result"
    }
   ],
   "source": [
    "res2.cv_results_"
   ]
  },
  {
   "cell_type": "code",
   "execution_count": 106,
   "id": "ab3facee-3356-41bd-9fbe-6335b9c4df88",
   "metadata": {
    "tags": []
   },
   "outputs": [
    {
     "name": "stderr",
     "output_type": "stream",
     "text": [
      "/Users/hazeneckert/miniconda3/envs/practice/lib/python3.11/site-packages/sklearn/utils/validation.py:787: UserWarning: pandas.DataFrame with sparse columns found.It will be converted to a dense numpy array.\n",
      "  warnings.warn(\n",
      "/Users/hazeneckert/miniconda3/envs/practice/lib/python3.11/site-packages/sklearn/utils/validation.py:787: UserWarning: pandas.DataFrame with sparse columns found.It will be converted to a dense numpy array.\n",
      "  warnings.warn(\n"
     ]
    },
    {
     "data": {
      "text/html": [
       "<div>\n",
       "<style scoped>\n",
       "    .dataframe tbody tr th:only-of-type {\n",
       "        vertical-align: middle;\n",
       "    }\n",
       "\n",
       "    .dataframe tbody tr th {\n",
       "        vertical-align: top;\n",
       "    }\n",
       "\n",
       "    .dataframe thead th {\n",
       "        text-align: right;\n",
       "    }\n",
       "</style>\n",
       "<table border=\"1\" class=\"dataframe\">\n",
       "  <thead>\n",
       "    <tr style=\"text-align: right;\">\n",
       "      <th></th>\n",
       "      <th>Vehicle_Trim</th>\n",
       "      <th>ListingID</th>\n",
       "    </tr>\n",
       "  </thead>\n",
       "  <tbody>\n",
       "    <tr>\n",
       "      <th>0</th>\n",
       "      <td>Premium Luxury</td>\n",
       "      <td>8622015</td>\n",
       "    </tr>\n",
       "    <tr>\n",
       "      <th>1</th>\n",
       "      <td>Limited</td>\n",
       "      <td>8625693</td>\n",
       "    </tr>\n",
       "    <tr>\n",
       "      <th>2</th>\n",
       "      <td>Laredo</td>\n",
       "      <td>8625750</td>\n",
       "    </tr>\n",
       "    <tr>\n",
       "      <th>3</th>\n",
       "      <td>Limited</td>\n",
       "      <td>8626885</td>\n",
       "    </tr>\n",
       "    <tr>\n",
       "      <th>4</th>\n",
       "      <td>Premium Luxury</td>\n",
       "      <td>8627430</td>\n",
       "    </tr>\n",
       "    <tr>\n",
       "      <th>...</th>\n",
       "      <td>...</td>\n",
       "      <td>...</td>\n",
       "    </tr>\n",
       "    <tr>\n",
       "      <th>995</th>\n",
       "      <td>Limited</td>\n",
       "      <td>9992442</td>\n",
       "    </tr>\n",
       "    <tr>\n",
       "      <th>996</th>\n",
       "      <td>Luxury</td>\n",
       "      <td>9993562</td>\n",
       "    </tr>\n",
       "    <tr>\n",
       "      <th>997</th>\n",
       "      <td>Premium Luxury</td>\n",
       "      <td>9994646</td>\n",
       "    </tr>\n",
       "    <tr>\n",
       "      <th>998</th>\n",
       "      <td>Limited</td>\n",
       "      <td>9997199</td>\n",
       "    </tr>\n",
       "    <tr>\n",
       "      <th>999</th>\n",
       "      <td>Luxury</td>\n",
       "      <td>9999562</td>\n",
       "    </tr>\n",
       "  </tbody>\n",
       "</table>\n",
       "<p>1000 rows × 2 columns</p>\n",
       "</div>"
      ],
      "text/plain": [
       "       Vehicle_Trim  ListingID\n",
       "0    Premium Luxury    8622015\n",
       "1           Limited    8625693\n",
       "2            Laredo    8625750\n",
       "3           Limited    8626885\n",
       "4    Premium Luxury    8627430\n",
       "..              ...        ...\n",
       "995         Limited    9992442\n",
       "996          Luxury    9993562\n",
       "997  Premium Luxury    9994646\n",
       "998         Limited    9997199\n",
       "999          Luxury    9999562\n",
       "\n",
       "[1000 rows x 2 columns]"
      ]
     },
     "execution_count": 106,
     "metadata": {},
     "output_type": "execute_result"
    }
   ],
   "source": [
    "from sklearn.ensemble import RandomForestClassifier\n",
    "rf_final = RandomForestClassifier(max_depth=18)\n",
    "rf_final.fit(X_train_trim, Y_train_semiclean_trim)\n",
    "predict = pd.DataFrame(rf_final.predict(X_predict),columns=[\"Vehicle_Trim\"]).join(test[\"ListingID\"])\n",
    "predict"
   ]
  },
  {
   "cell_type": "code",
   "execution_count": null,
   "id": "64b8e33a-45db-46d7-a37b-79e9b05454f1",
   "metadata": {},
   "outputs": [],
   "source": []
  },
  {
   "cell_type": "code",
   "execution_count": 109,
   "id": "d079a3c5-aacc-4bb7-a580-874c1394f225",
   "metadata": {
    "tags": []
   },
   "outputs": [
    {
     "name": "stderr",
     "output_type": "stream",
     "text": [
      "/Users/hazeneckert/miniconda3/envs/practice/lib/python3.11/site-packages/sklearn/utils/validation.py:787: UserWarning: pandas.DataFrame with sparse columns found.It will be converted to a dense numpy array.\n",
      "  warnings.warn(\n",
      "/Users/hazeneckert/miniconda3/envs/practice/lib/python3.11/site-packages/sklearn/utils/validation.py:787: UserWarning: pandas.DataFrame with sparse columns found.It will be converted to a dense numpy array.\n",
      "  warnings.warn(\n",
      "/Users/hazeneckert/miniconda3/envs/practice/lib/python3.11/site-packages/sklearn/utils/validation.py:787: UserWarning: pandas.DataFrame with sparse columns found.It will be converted to a dense numpy array.\n",
      "  warnings.warn(\n",
      "/Users/hazeneckert/miniconda3/envs/practice/lib/python3.11/site-packages/sklearn/utils/validation.py:787: UserWarning: pandas.DataFrame with sparse columns found.It will be converted to a dense numpy array.\n",
      "  warnings.warn(\n",
      "/Users/hazeneckert/miniconda3/envs/practice/lib/python3.11/site-packages/sklearn/utils/validation.py:787: UserWarning: pandas.DataFrame with sparse columns found.It will be converted to a dense numpy array.\n",
      "  warnings.warn(\n",
      "/Users/hazeneckert/miniconda3/envs/practice/lib/python3.11/site-packages/sklearn/utils/validation.py:787: UserWarning: pandas.DataFrame with sparse columns found.It will be converted to a dense numpy array.\n",
      "  warnings.warn(\n"
     ]
    },
    {
     "data": {
      "text/plain": [
       "array([0.99062111, 0.99005788, 0.98673552])"
      ]
     },
     "execution_count": 109,
     "metadata": {},
     "output_type": "execute_result"
    }
   ],
   "source": [
    "from sklearn.model_selection import cross_val_score\n",
    "cross_val_score(rf_final,X_train_trim, Y_train_semiclean_trim,scoring=\"roc_auc_ovr\",cv=3)"
   ]
  },
  {
   "cell_type": "code",
   "execution_count": 98,
   "id": "1f245890-40d2-49a8-97b6-a8d15b3b03ed",
   "metadata": {
    "tags": []
   },
   "outputs": [
    {
     "name": "stderr",
     "output_type": "stream",
     "text": [
      "/Users/hazeneckert/miniconda3/envs/practice/lib/python3.11/site-packages/sklearn/utils/validation.py:787: UserWarning: pandas.DataFrame with sparse columns found.It will be converted to a dense numpy array.\n",
      "  warnings.warn(\n"
     ]
    }
   ],
   "source": [
    "X_an = train.copy()\n",
    "X_an = X_an[~X_an[\"Vehicle_Trim\"].isnull()]\n",
    "X_an[\"trim_pred\"]= pd.DataFrame(rf_final.predict(X_train_trim),index=X_train_trim.index)\n"
   ]
  },
  {
   "cell_type": "code",
   "execution_count": 99,
   "id": "ea0aa70f-11fa-4578-828e-db768a90f262",
   "metadata": {
    "tags": []
   },
   "outputs": [
    {
     "data": {
      "text/html": [
       "<div>\n",
       "<style scoped>\n",
       "    .dataframe tbody tr th:only-of-type {\n",
       "        vertical-align: middle;\n",
       "    }\n",
       "\n",
       "    .dataframe tbody tr th {\n",
       "        vertical-align: top;\n",
       "    }\n",
       "\n",
       "    .dataframe thead th {\n",
       "        text-align: right;\n",
       "    }\n",
       "</style>\n",
       "<table border=\"1\" class=\"dataframe\">\n",
       "  <thead>\n",
       "    <tr style=\"text-align: right;\">\n",
       "      <th></th>\n",
       "      <th>Vehicle_Trim</th>\n",
       "      <th>VehEngineClean</th>\n",
       "      <th>Vehicle_Trim_Extraction</th>\n",
       "      <th>trim_pred</th>\n",
       "    </tr>\n",
       "  </thead>\n",
       "  <tbody>\n",
       "    <tr>\n",
       "      <th>56</th>\n",
       "      <td>Laredo</td>\n",
       "      <td>3.6L V6</td>\n",
       "      <td>Laredo E</td>\n",
       "      <td>Limited</td>\n",
       "    </tr>\n",
       "    <tr>\n",
       "      <th>496</th>\n",
       "      <td>Altitude</td>\n",
       "      <td>3.6L V6</td>\n",
       "      <td>Altitude</td>\n",
       "      <td>Limited</td>\n",
       "    </tr>\n",
       "    <tr>\n",
       "      <th>625</th>\n",
       "      <td>Sterling Edition</td>\n",
       "      <td>3.6L V6</td>\n",
       "      <td>Sterling Edition</td>\n",
       "      <td>Limited</td>\n",
       "    </tr>\n",
       "    <tr>\n",
       "      <th>1030</th>\n",
       "      <td>High Altitude</td>\n",
       "      <td>3.6L V6</td>\n",
       "      <td>Limited</td>\n",
       "      <td>Limited</td>\n",
       "    </tr>\n",
       "    <tr>\n",
       "      <th>1272</th>\n",
       "      <td>Altitude</td>\n",
       "      <td>3.6L V6</td>\n",
       "      <td>Altitude</td>\n",
       "      <td>Limited</td>\n",
       "    </tr>\n",
       "    <tr>\n",
       "      <th>1307</th>\n",
       "      <td>Limited 75th Anniversary</td>\n",
       "      <td>3.6L V6</td>\n",
       "      <td>Limited</td>\n",
       "      <td>75th Anniversary</td>\n",
       "    </tr>\n",
       "    <tr>\n",
       "      <th>1906</th>\n",
       "      <td>High Altitude</td>\n",
       "      <td>3.6L V6</td>\n",
       "      <td>Limited</td>\n",
       "      <td>Limited</td>\n",
       "    </tr>\n",
       "    <tr>\n",
       "      <th>2015</th>\n",
       "      <td>Laredo E</td>\n",
       "      <td>3.6L V6</td>\n",
       "      <td>Laredo E</td>\n",
       "      <td>Limited</td>\n",
       "    </tr>\n",
       "    <tr>\n",
       "      <th>2138</th>\n",
       "      <td>Sterling Edition</td>\n",
       "      <td>3.6L V6</td>\n",
       "      <td>Sterling Edition</td>\n",
       "      <td>Limited</td>\n",
       "    </tr>\n",
       "    <tr>\n",
       "      <th>2155</th>\n",
       "      <td>Laredo E</td>\n",
       "      <td>3.6L V6</td>\n",
       "      <td>Laredo E</td>\n",
       "      <td>Laredo</td>\n",
       "    </tr>\n",
       "    <tr>\n",
       "      <th>2667</th>\n",
       "      <td>High Altitude</td>\n",
       "      <td>3.6L V6</td>\n",
       "      <td>Limited</td>\n",
       "      <td>Limited</td>\n",
       "    </tr>\n",
       "    <tr>\n",
       "      <th>4359</th>\n",
       "      <td>Altitude</td>\n",
       "      <td>3.6L V6</td>\n",
       "      <td>Altitude</td>\n",
       "      <td>Limited</td>\n",
       "    </tr>\n",
       "    <tr>\n",
       "      <th>4566</th>\n",
       "      <td>Sterling Edition</td>\n",
       "      <td>5.7L V8</td>\n",
       "      <td>Limited</td>\n",
       "      <td>Limited</td>\n",
       "    </tr>\n",
       "    <tr>\n",
       "      <th>4784</th>\n",
       "      <td>Altitude</td>\n",
       "      <td>3.6L V6</td>\n",
       "      <td>Altitude</td>\n",
       "      <td>Laredo</td>\n",
       "    </tr>\n",
       "    <tr>\n",
       "      <th>5892</th>\n",
       "      <td>Sterling Edition</td>\n",
       "      <td>3.6L V6</td>\n",
       "      <td>Sterling Edition</td>\n",
       "      <td>Limited</td>\n",
       "    </tr>\n",
       "    <tr>\n",
       "      <th>6293</th>\n",
       "      <td>High Altitude</td>\n",
       "      <td>3.6L V6</td>\n",
       "      <td>Laredo E</td>\n",
       "      <td>Limited</td>\n",
       "    </tr>\n",
       "  </tbody>\n",
       "</table>\n",
       "</div>"
      ],
      "text/plain": [
       "                  Vehicle_Trim VehEngineClean Vehicle_Trim_Extraction  \\\n",
       "56                      Laredo        3.6L V6                Laredo E   \n",
       "496                   Altitude        3.6L V6                Altitude   \n",
       "625           Sterling Edition        3.6L V6        Sterling Edition   \n",
       "1030             High Altitude        3.6L V6                 Limited   \n",
       "1272                  Altitude        3.6L V6                Altitude   \n",
       "1307  Limited 75th Anniversary        3.6L V6                 Limited   \n",
       "1906             High Altitude        3.6L V6                 Limited   \n",
       "2015                  Laredo E        3.6L V6                Laredo E   \n",
       "2138          Sterling Edition        3.6L V6        Sterling Edition   \n",
       "2155                  Laredo E        3.6L V6                Laredo E   \n",
       "2667             High Altitude        3.6L V6                 Limited   \n",
       "4359                  Altitude        3.6L V6                Altitude   \n",
       "4566          Sterling Edition        5.7L V8                 Limited   \n",
       "4784                  Altitude        3.6L V6                Altitude   \n",
       "5892          Sterling Edition        3.6L V6        Sterling Edition   \n",
       "6293             High Altitude        3.6L V6                Laredo E   \n",
       "\n",
       "             trim_pred  \n",
       "56             Limited  \n",
       "496            Limited  \n",
       "625            Limited  \n",
       "1030           Limited  \n",
       "1272           Limited  \n",
       "1307  75th Anniversary  \n",
       "1906           Limited  \n",
       "2015           Limited  \n",
       "2138           Limited  \n",
       "2155            Laredo  \n",
       "2667           Limited  \n",
       "4359           Limited  \n",
       "4566           Limited  \n",
       "4784            Laredo  \n",
       "5892           Limited  \n",
       "6293           Limited  "
      ]
     },
     "execution_count": 99,
     "metadata": {},
     "output_type": "execute_result"
    }
   ],
   "source": [
    "X_a = X_an[[\"Vehicle_Trim\",\"VehEngineClean\",\"Vehicle_Trim_Extraction\",\"trim_pred\"]]\n",
    "X_a.loc[(X_a[\"Vehicle_Trim\"]!=X_a[\"trim_pred\"])&(X_a[\"Vehicle_Trim_Extraction\"]!=\"Unknown\")]"
   ]
  },
  {
   "cell_type": "code",
   "execution_count": 95,
   "id": "8c68df5a-6405-4f08-9c67-9859f9b02994",
   "metadata": {
    "tags": []
   },
   "outputs": [
    {
     "data": {
      "text/html": [
       "<div>\n",
       "<style scoped>\n",
       "    .dataframe tbody tr th:only-of-type {\n",
       "        vertical-align: middle;\n",
       "    }\n",
       "\n",
       "    .dataframe tbody tr th {\n",
       "        vertical-align: top;\n",
       "    }\n",
       "\n",
       "    .dataframe thead th {\n",
       "        text-align: right;\n",
       "    }\n",
       "</style>\n",
       "<table border=\"1\" class=\"dataframe\">\n",
       "  <thead>\n",
       "    <tr style=\"text-align: right;\">\n",
       "      <th></th>\n",
       "      <th>SellerRating</th>\n",
       "      <th>SellerRevCnt</th>\n",
       "      <th>VehListdays</th>\n",
       "      <th>VehMileage</th>\n",
       "      <th>SellerListSrc_Cadillac Certified Program</th>\n",
       "      <th>SellerListSrc_Digital Motorworks (DMi)</th>\n",
       "      <th>SellerListSrc_Five Star Certified Program</th>\n",
       "      <th>SellerListSrc_HomeNet Automotive</th>\n",
       "      <th>SellerListSrc_Inventory Command Center</th>\n",
       "      <th>SellerListSrc_Jeep Certified Program</th>\n",
       "      <th>...</th>\n",
       "      <th>VehColorIntTokens('sienna', 'brown')</th>\n",
       "      <th>VehColorIntTokens('ski',)</th>\n",
       "      <th>VehColorIntTokens('ski', 'gray')</th>\n",
       "      <th>VehColorIntTokens('sport',)</th>\n",
       "      <th>VehColorIntTokens('sugar',)</th>\n",
       "      <th>VehColorIntTokens('tan',)</th>\n",
       "      <th>VehColorIntTokens('trim',)</th>\n",
       "      <th>VehColorIntTokens('unknown',)</th>\n",
       "      <th>VehColorIntTokens('w',)</th>\n",
       "      <th>VehColorIntTokens('w', 'dark')</th>\n",
       "    </tr>\n",
       "  </thead>\n",
       "  <tbody>\n",
       "    <tr>\n",
       "      <th>0</th>\n",
       "      <td>0.727409</td>\n",
       "      <td>-0.313049</td>\n",
       "      <td>-0.701962</td>\n",
       "      <td>1.005376</td>\n",
       "      <td>0.0</td>\n",
       "      <td>0.0</td>\n",
       "      <td>0.0</td>\n",
       "      <td>0.0</td>\n",
       "      <td>1.0</td>\n",
       "      <td>0.0</td>\n",
       "      <td>...</td>\n",
       "      <td>0</td>\n",
       "      <td>0</td>\n",
       "      <td>0</td>\n",
       "      <td>0</td>\n",
       "      <td>0</td>\n",
       "      <td>0</td>\n",
       "      <td>0</td>\n",
       "      <td>0</td>\n",
       "      <td>0</td>\n",
       "      <td>0</td>\n",
       "    </tr>\n",
       "    <tr>\n",
       "      <th>2</th>\n",
       "      <td>0.560486</td>\n",
       "      <td>0.735320</td>\n",
       "      <td>-0.411505</td>\n",
       "      <td>0.977468</td>\n",
       "      <td>0.0</td>\n",
       "      <td>0.0</td>\n",
       "      <td>0.0</td>\n",
       "      <td>0.0</td>\n",
       "      <td>0.0</td>\n",
       "      <td>1.0</td>\n",
       "      <td>...</td>\n",
       "      <td>0</td>\n",
       "      <td>0</td>\n",
       "      <td>0</td>\n",
       "      <td>0</td>\n",
       "      <td>0</td>\n",
       "      <td>0</td>\n",
       "      <td>0</td>\n",
       "      <td>0</td>\n",
       "      <td>0</td>\n",
       "      <td>0</td>\n",
       "    </tr>\n",
       "    <tr>\n",
       "      <th>3</th>\n",
       "      <td>0.226640</td>\n",
       "      <td>-0.321448</td>\n",
       "      <td>0.060653</td>\n",
       "      <td>-0.452855</td>\n",
       "      <td>0.0</td>\n",
       "      <td>0.0</td>\n",
       "      <td>0.0</td>\n",
       "      <td>0.0</td>\n",
       "      <td>1.0</td>\n",
       "      <td>0.0</td>\n",
       "      <td>...</td>\n",
       "      <td>0</td>\n",
       "      <td>0</td>\n",
       "      <td>0</td>\n",
       "      <td>0</td>\n",
       "      <td>0</td>\n",
       "      <td>0</td>\n",
       "      <td>0</td>\n",
       "      <td>0</td>\n",
       "      <td>0</td>\n",
       "      <td>0</td>\n",
       "    </tr>\n",
       "    <tr>\n",
       "      <th>4</th>\n",
       "      <td>-0.357591</td>\n",
       "      <td>-0.280979</td>\n",
       "      <td>0.639104</td>\n",
       "      <td>-0.500344</td>\n",
       "      <td>0.0</td>\n",
       "      <td>0.0</td>\n",
       "      <td>0.0</td>\n",
       "      <td>1.0</td>\n",
       "      <td>0.0</td>\n",
       "      <td>0.0</td>\n",
       "      <td>...</td>\n",
       "      <td>0</td>\n",
       "      <td>0</td>\n",
       "      <td>0</td>\n",
       "      <td>0</td>\n",
       "      <td>0</td>\n",
       "      <td>0</td>\n",
       "      <td>0</td>\n",
       "      <td>0</td>\n",
       "      <td>0</td>\n",
       "      <td>0</td>\n",
       "    </tr>\n",
       "    <tr>\n",
       "      <th>5</th>\n",
       "      <td>-0.941822</td>\n",
       "      <td>-0.298541</td>\n",
       "      <td>-0.368912</td>\n",
       "      <td>0.645347</td>\n",
       "      <td>0.0</td>\n",
       "      <td>1.0</td>\n",
       "      <td>0.0</td>\n",
       "      <td>0.0</td>\n",
       "      <td>0.0</td>\n",
       "      <td>0.0</td>\n",
       "      <td>...</td>\n",
       "      <td>0</td>\n",
       "      <td>0</td>\n",
       "      <td>0</td>\n",
       "      <td>0</td>\n",
       "      <td>0</td>\n",
       "      <td>0</td>\n",
       "      <td>0</td>\n",
       "      <td>0</td>\n",
       "      <td>0</td>\n",
       "      <td>0</td>\n",
       "    </tr>\n",
       "    <tr>\n",
       "      <th>...</th>\n",
       "      <td>...</td>\n",
       "      <td>...</td>\n",
       "      <td>...</td>\n",
       "      <td>...</td>\n",
       "      <td>...</td>\n",
       "      <td>...</td>\n",
       "      <td>...</td>\n",
       "      <td>...</td>\n",
       "      <td>...</td>\n",
       "      <td>...</td>\n",
       "      <td>...</td>\n",
       "      <td>...</td>\n",
       "      <td>...</td>\n",
       "      <td>...</td>\n",
       "      <td>...</td>\n",
       "      <td>...</td>\n",
       "      <td>...</td>\n",
       "      <td>...</td>\n",
       "      <td>...</td>\n",
       "      <td>...</td>\n",
       "      <td>...</td>\n",
       "    </tr>\n",
       "    <tr>\n",
       "      <th>6293</th>\n",
       "      <td>-3.445669</td>\n",
       "      <td>-0.337483</td>\n",
       "      <td>-0.386565</td>\n",
       "      <td>1.751721</td>\n",
       "      <td>0.0</td>\n",
       "      <td>0.0</td>\n",
       "      <td>0.0</td>\n",
       "      <td>0.0</td>\n",
       "      <td>0.0</td>\n",
       "      <td>0.0</td>\n",
       "      <td>...</td>\n",
       "      <td>0</td>\n",
       "      <td>0</td>\n",
       "      <td>0</td>\n",
       "      <td>0</td>\n",
       "      <td>0</td>\n",
       "      <td>0</td>\n",
       "      <td>0</td>\n",
       "      <td>0</td>\n",
       "      <td>0</td>\n",
       "      <td>0</td>\n",
       "    </tr>\n",
       "    <tr>\n",
       "      <th>6294</th>\n",
       "      <td>-0.691437</td>\n",
       "      <td>-0.325266</td>\n",
       "      <td>-0.757948</td>\n",
       "      <td>-0.480994</td>\n",
       "      <td>0.0</td>\n",
       "      <td>1.0</td>\n",
       "      <td>0.0</td>\n",
       "      <td>0.0</td>\n",
       "      <td>0.0</td>\n",
       "      <td>0.0</td>\n",
       "      <td>...</td>\n",
       "      <td>0</td>\n",
       "      <td>0</td>\n",
       "      <td>0</td>\n",
       "      <td>0</td>\n",
       "      <td>0</td>\n",
       "      <td>0</td>\n",
       "      <td>0</td>\n",
       "      <td>0</td>\n",
       "      <td>0</td>\n",
       "      <td>0</td>\n",
       "    </tr>\n",
       "    <tr>\n",
       "      <th>6295</th>\n",
       "      <td>-0.023745</td>\n",
       "      <td>-0.322211</td>\n",
       "      <td>1.923462</td>\n",
       "      <td>-0.770944</td>\n",
       "      <td>0.0</td>\n",
       "      <td>1.0</td>\n",
       "      <td>0.0</td>\n",
       "      <td>0.0</td>\n",
       "      <td>0.0</td>\n",
       "      <td>0.0</td>\n",
       "      <td>...</td>\n",
       "      <td>0</td>\n",
       "      <td>0</td>\n",
       "      <td>0</td>\n",
       "      <td>0</td>\n",
       "      <td>0</td>\n",
       "      <td>0</td>\n",
       "      <td>0</td>\n",
       "      <td>0</td>\n",
       "      <td>0</td>\n",
       "      <td>0</td>\n",
       "    </tr>\n",
       "    <tr>\n",
       "      <th>6296</th>\n",
       "      <td>0.643948</td>\n",
       "      <td>-0.125213</td>\n",
       "      <td>0.269880</td>\n",
       "      <td>0.914945</td>\n",
       "      <td>0.0</td>\n",
       "      <td>1.0</td>\n",
       "      <td>0.0</td>\n",
       "      <td>0.0</td>\n",
       "      <td>0.0</td>\n",
       "      <td>0.0</td>\n",
       "      <td>...</td>\n",
       "      <td>0</td>\n",
       "      <td>0</td>\n",
       "      <td>0</td>\n",
       "      <td>0</td>\n",
       "      <td>0</td>\n",
       "      <td>0</td>\n",
       "      <td>0</td>\n",
       "      <td>0</td>\n",
       "      <td>0</td>\n",
       "      <td>0</td>\n",
       "    </tr>\n",
       "    <tr>\n",
       "      <th>6297</th>\n",
       "      <td>-0.274130</td>\n",
       "      <td>0.217626</td>\n",
       "      <td>-0.522113</td>\n",
       "      <td>-0.653144</td>\n",
       "      <td>0.0</td>\n",
       "      <td>0.0</td>\n",
       "      <td>0.0</td>\n",
       "      <td>1.0</td>\n",
       "      <td>0.0</td>\n",
       "      <td>0.0</td>\n",
       "      <td>...</td>\n",
       "      <td>0</td>\n",
       "      <td>0</td>\n",
       "      <td>0</td>\n",
       "      <td>0</td>\n",
       "      <td>0</td>\n",
       "      <td>0</td>\n",
       "      <td>0</td>\n",
       "      <td>0</td>\n",
       "      <td>0</td>\n",
       "      <td>0</td>\n",
       "    </tr>\n",
       "  </tbody>\n",
       "</table>\n",
       "<p>5892 rows × 34885 columns</p>\n",
       "</div>"
      ],
      "text/plain": [
       "      SellerRating  SellerRevCnt  VehListdays  VehMileage  \\\n",
       "0         0.727409     -0.313049    -0.701962    1.005376   \n",
       "2         0.560486      0.735320    -0.411505    0.977468   \n",
       "3         0.226640     -0.321448     0.060653   -0.452855   \n",
       "4        -0.357591     -0.280979     0.639104   -0.500344   \n",
       "5        -0.941822     -0.298541    -0.368912    0.645347   \n",
       "...            ...           ...          ...         ...   \n",
       "6293     -3.445669     -0.337483    -0.386565    1.751721   \n",
       "6294     -0.691437     -0.325266    -0.757948   -0.480994   \n",
       "6295     -0.023745     -0.322211     1.923462   -0.770944   \n",
       "6296      0.643948     -0.125213     0.269880    0.914945   \n",
       "6297     -0.274130      0.217626    -0.522113   -0.653144   \n",
       "\n",
       "      SellerListSrc_Cadillac Certified Program  \\\n",
       "0                                          0.0   \n",
       "2                                          0.0   \n",
       "3                                          0.0   \n",
       "4                                          0.0   \n",
       "5                                          0.0   \n",
       "...                                        ...   \n",
       "6293                                       0.0   \n",
       "6294                                       0.0   \n",
       "6295                                       0.0   \n",
       "6296                                       0.0   \n",
       "6297                                       0.0   \n",
       "\n",
       "      SellerListSrc_Digital Motorworks (DMi)  \\\n",
       "0                                        0.0   \n",
       "2                                        0.0   \n",
       "3                                        0.0   \n",
       "4                                        0.0   \n",
       "5                                        1.0   \n",
       "...                                      ...   \n",
       "6293                                     0.0   \n",
       "6294                                     1.0   \n",
       "6295                                     1.0   \n",
       "6296                                     1.0   \n",
       "6297                                     0.0   \n",
       "\n",
       "      SellerListSrc_Five Star Certified Program  \\\n",
       "0                                           0.0   \n",
       "2                                           0.0   \n",
       "3                                           0.0   \n",
       "4                                           0.0   \n",
       "5                                           0.0   \n",
       "...                                         ...   \n",
       "6293                                        0.0   \n",
       "6294                                        0.0   \n",
       "6295                                        0.0   \n",
       "6296                                        0.0   \n",
       "6297                                        0.0   \n",
       "\n",
       "      SellerListSrc_HomeNet Automotive  \\\n",
       "0                                  0.0   \n",
       "2                                  0.0   \n",
       "3                                  0.0   \n",
       "4                                  1.0   \n",
       "5                                  0.0   \n",
       "...                                ...   \n",
       "6293                               0.0   \n",
       "6294                               0.0   \n",
       "6295                               0.0   \n",
       "6296                               0.0   \n",
       "6297                               1.0   \n",
       "\n",
       "      SellerListSrc_Inventory Command Center  \\\n",
       "0                                        1.0   \n",
       "2                                        0.0   \n",
       "3                                        1.0   \n",
       "4                                        0.0   \n",
       "5                                        0.0   \n",
       "...                                      ...   \n",
       "6293                                     0.0   \n",
       "6294                                     0.0   \n",
       "6295                                     0.0   \n",
       "6296                                     0.0   \n",
       "6297                                     0.0   \n",
       "\n",
       "      SellerListSrc_Jeep Certified Program  ...  \\\n",
       "0                                      0.0  ...   \n",
       "2                                      1.0  ...   \n",
       "3                                      0.0  ...   \n",
       "4                                      0.0  ...   \n",
       "5                                      0.0  ...   \n",
       "...                                    ...  ...   \n",
       "6293                                   0.0  ...   \n",
       "6294                                   0.0  ...   \n",
       "6295                                   0.0  ...   \n",
       "6296                                   0.0  ...   \n",
       "6297                                   0.0  ...   \n",
       "\n",
       "      VehColorIntTokens('sienna', 'brown')  VehColorIntTokens('ski',)  \\\n",
       "0                                        0                          0   \n",
       "2                                        0                          0   \n",
       "3                                        0                          0   \n",
       "4                                        0                          0   \n",
       "5                                        0                          0   \n",
       "...                                    ...                        ...   \n",
       "6293                                     0                          0   \n",
       "6294                                     0                          0   \n",
       "6295                                     0                          0   \n",
       "6296                                     0                          0   \n",
       "6297                                     0                          0   \n",
       "\n",
       "      VehColorIntTokens('ski', 'gray')  VehColorIntTokens('sport',)  \\\n",
       "0                                    0                            0   \n",
       "2                                    0                            0   \n",
       "3                                    0                            0   \n",
       "4                                    0                            0   \n",
       "5                                    0                            0   \n",
       "...                                ...                          ...   \n",
       "6293                                 0                            0   \n",
       "6294                                 0                            0   \n",
       "6295                                 0                            0   \n",
       "6296                                 0                            0   \n",
       "6297                                 0                            0   \n",
       "\n",
       "      VehColorIntTokens('sugar',)  VehColorIntTokens('tan',)  \\\n",
       "0                               0                          0   \n",
       "2                               0                          0   \n",
       "3                               0                          0   \n",
       "4                               0                          0   \n",
       "5                               0                          0   \n",
       "...                           ...                        ...   \n",
       "6293                            0                          0   \n",
       "6294                            0                          0   \n",
       "6295                            0                          0   \n",
       "6296                            0                          0   \n",
       "6297                            0                          0   \n",
       "\n",
       "      VehColorIntTokens('trim',)  VehColorIntTokens('unknown',)  \\\n",
       "0                              0                              0   \n",
       "2                              0                              0   \n",
       "3                              0                              0   \n",
       "4                              0                              0   \n",
       "5                              0                              0   \n",
       "...                          ...                            ...   \n",
       "6293                           0                              0   \n",
       "6294                           0                              0   \n",
       "6295                           0                              0   \n",
       "6296                           0                              0   \n",
       "6297                           0                              0   \n",
       "\n",
       "      VehColorIntTokens('w',)  VehColorIntTokens('w', 'dark')  \n",
       "0                           0                               0  \n",
       "2                           0                               0  \n",
       "3                           0                               0  \n",
       "4                           0                               0  \n",
       "5                           0                               0  \n",
       "...                       ...                             ...  \n",
       "6293                        0                               0  \n",
       "6294                        0                               0  \n",
       "6295                        0                               0  \n",
       "6296                        0                               0  \n",
       "6297                        0                               0  \n",
       "\n",
       "[5892 rows x 34885 columns]"
      ]
     },
     "execution_count": 95,
     "metadata": {},
     "output_type": "execute_result"
    }
   ],
   "source": [
    "X_train_trim[\"Vehicle_Trim_Ex\"]"
   ]
  },
  {
   "cell_type": "code",
   "execution_count": 73,
   "id": "75901fd4-1c9e-47b1-a4ba-8d326eb53f92",
   "metadata": {
    "tags": []
   },
   "outputs": [
    {
     "data": {
      "text/html": [
       "<div>\n",
       "<style scoped>\n",
       "    .dataframe tbody tr th:only-of-type {\n",
       "        vertical-align: middle;\n",
       "    }\n",
       "\n",
       "    .dataframe tbody tr th {\n",
       "        vertical-align: top;\n",
       "    }\n",
       "\n",
       "    .dataframe thead th {\n",
       "        text-align: right;\n",
       "    }\n",
       "</style>\n",
       "<table border=\"1\" class=\"dataframe\">\n",
       "  <thead>\n",
       "    <tr style=\"text-align: right;\">\n",
       "      <th></th>\n",
       "      <th>VehEngineClean</th>\n",
       "      <th>Vehicle_Trim_Extraction</th>\n",
       "      <th>Vehicle_Trim</th>\n",
       "    </tr>\n",
       "  </thead>\n",
       "  <tbody>\n",
       "    <tr>\n",
       "      <th>2</th>\n",
       "      <td>3.6L V6</td>\n",
       "      <td>Laredo E</td>\n",
       "      <td>Laredo</td>\n",
       "    </tr>\n",
       "    <tr>\n",
       "      <th>3</th>\n",
       "      <td>3.6L V6</td>\n",
       "      <td>Laredo E</td>\n",
       "      <td>Limited</td>\n",
       "    </tr>\n",
       "    <tr>\n",
       "      <th>5</th>\n",
       "      <td>3.6L V6</td>\n",
       "      <td>Laredo E</td>\n",
       "      <td>Laredo</td>\n",
       "    </tr>\n",
       "    <tr>\n",
       "      <th>8</th>\n",
       "      <td>3.6L V6</td>\n",
       "      <td>Unknown</td>\n",
       "      <td>Trailhawk</td>\n",
       "    </tr>\n",
       "    <tr>\n",
       "      <th>10</th>\n",
       "      <td>3.6L V6</td>\n",
       "      <td>High Altitude</td>\n",
       "      <td>Limited</td>\n",
       "    </tr>\n",
       "    <tr>\n",
       "      <th>...</th>\n",
       "      <td>...</td>\n",
       "      <td>...</td>\n",
       "      <td>...</td>\n",
       "    </tr>\n",
       "    <tr>\n",
       "      <th>987</th>\n",
       "      <td>3.6L V6</td>\n",
       "      <td>Laredo E</td>\n",
       "      <td>Laredo</td>\n",
       "    </tr>\n",
       "    <tr>\n",
       "      <th>992</th>\n",
       "      <td>6.2L V8</td>\n",
       "      <td>SRT</td>\n",
       "      <td>Limited</td>\n",
       "    </tr>\n",
       "    <tr>\n",
       "      <th>993</th>\n",
       "      <td>3.6L V6</td>\n",
       "      <td>Unknown</td>\n",
       "      <td>Base</td>\n",
       "    </tr>\n",
       "    <tr>\n",
       "      <th>994</th>\n",
       "      <td>3.6L V6</td>\n",
       "      <td>Laredo E</td>\n",
       "      <td>Laredo</td>\n",
       "    </tr>\n",
       "    <tr>\n",
       "      <th>998</th>\n",
       "      <td>3.0L V6</td>\n",
       "      <td>Unknown</td>\n",
       "      <td>Limited</td>\n",
       "    </tr>\n",
       "  </tbody>\n",
       "</table>\n",
       "<p>612 rows × 3 columns</p>\n",
       "</div>"
      ],
      "text/plain": [
       "    VehEngineClean Vehicle_Trim_Extraction Vehicle_Trim\n",
       "2          3.6L V6                Laredo E       Laredo\n",
       "3          3.6L V6                Laredo E      Limited\n",
       "5          3.6L V6                Laredo E       Laredo\n",
       "8          3.6L V6                 Unknown    Trailhawk\n",
       "10         3.6L V6           High Altitude      Limited\n",
       "..             ...                     ...          ...\n",
       "987        3.6L V6                Laredo E       Laredo\n",
       "992        6.2L V8                     SRT      Limited\n",
       "993        3.6L V6                 Unknown         Base\n",
       "994        3.6L V6                Laredo E       Laredo\n",
       "998        3.0L V6                 Unknown      Limited\n",
       "\n",
       "[612 rows x 3 columns]"
      ]
     },
     "execution_count": 73,
     "metadata": {},
     "output_type": "execute_result"
    }
   ],
   "source": [
    "test[\"Vehicle_Trim\"]= predict[\"Vehicle_Trim\"]\n",
    "a = test[[\"VehEngineClean\",\"Vehicle_Trim_Extraction\",\"Vehicle_Trim\"]]\n",
    "a[a[\"Vehicle_Trim_Extraction\"]!=a[\"Vehicle_Trim\"]]"
   ]
  },
  {
   "cell_type": "code",
   "execution_count": 73,
   "id": "771ed21f-5317-4f63-a78e-c41b73981f31",
   "metadata": {
    "collapsed": true,
    "jupyter": {
     "outputs_hidden": true
    },
    "tags": []
   },
   "outputs": [
    {
     "name": "stderr",
     "output_type": "stream",
     "text": [
      "/Users/hazeneckert/miniconda3/envs/practice/lib/python3.11/site-packages/sklearn/utils/validation.py:768: UserWarning: pandas.DataFrame with sparse columns found.It will be converted to a dense numpy array.\n",
      "  warnings.warn(\n",
      "/Users/hazeneckert/miniconda3/envs/practice/lib/python3.11/site-packages/sklearn/utils/validation.py:768: UserWarning: pandas.DataFrame with sparse columns found.It will be converted to a dense numpy array.\n",
      "  warnings.warn(\n",
      "/Users/hazeneckert/miniconda3/envs/practice/lib/python3.11/site-packages/sklearn/utils/validation.py:768: UserWarning: pandas.DataFrame with sparse columns found.It will be converted to a dense numpy array.\n",
      "  warnings.warn(\n",
      "/Users/hazeneckert/miniconda3/envs/practice/lib/python3.11/site-packages/sklearn/utils/validation.py:768: UserWarning: pandas.DataFrame with sparse columns found.It will be converted to a dense numpy array.\n",
      "  warnings.warn(\n",
      "/Users/hazeneckert/miniconda3/envs/practice/lib/python3.11/site-packages/sklearn/utils/validation.py:768: UserWarning: pandas.DataFrame with sparse columns found.It will be converted to a dense numpy array.\n",
      "  warnings.warn(\n",
      "/Users/hazeneckert/miniconda3/envs/practice/lib/python3.11/site-packages/sklearn/utils/validation.py:768: UserWarning: pandas.DataFrame with sparse columns found.It will be converted to a dense numpy array.\n",
      "  warnings.warn(\n"
     ]
    },
    {
     "data": {
      "text/plain": [
       "array([0.98680092, 0.98988712, 0.99171015])"
      ]
     },
     "execution_count": 73,
     "metadata": {},
     "output_type": "execute_result"
    }
   ],
   "source": [
    "from sklearn.model_selection import cross_val_score\n",
    "rf_clf = RandomForestClassifier(max_depth=25, random_state=42)\n",
    "#rf_clf.fit(X_train_trim, Y_train_clean_trim)\n",
    "#roc_auc_score(Y_train_trim,rf_clf.predict_proba(X_train_trim), multi_class='ovr')\n",
    "cross_val_score(rf_clf,X_train_trim, Y_train_clean_trim,scoring=\"roc_auc_ovr\",cv=3)"
   ]
  },
  {
   "cell_type": "code",
   "execution_count": 74,
   "id": "f0398889-bf62-4c97-8e72-6a0b41962b10",
   "metadata": {
    "tags": []
   },
   "outputs": [
    {
     "data": {
      "text/plain": [
       "0.9894660629971858"
      ]
     },
     "execution_count": 74,
     "metadata": {},
     "output_type": "execute_result"
    }
   ],
   "source": [
    "Out[73].mean()"
   ]
  },
  {
   "cell_type": "code",
   "execution_count": 68,
   "id": "2a98cb63-e64b-46d0-8454-4c59640a16e7",
   "metadata": {
    "tags": []
   },
   "outputs": [
    {
     "name": "stdout",
     "output_type": "stream",
     "text": [
      "{'mean_fit_time': array([ 20.9246347 ,  26.58243839,  41.6489288 ,  72.28119636,\n",
      "        49.22355787,  35.52355131,  92.32838964,  98.87815507,\n",
      "        45.45246935,  26.90375797, 104.11548964,  97.80944602]), 'std_fit_time': array([ 0.51648611,  1.39211156,  9.97822604,  2.36990192,  0.99832632,\n",
      "       10.93200994, 11.45998839,  0.56374726, 12.46800021,  0.41830329,\n",
      "        4.5282314 ,  2.50158145]), 'mean_score_time': array([ 5.07353838,  7.51417128,  5.4514099 ,  5.25431236, 10.95157297,\n",
      "        6.05062699,  7.0864323 ,  4.45422236,  5.31334559,  4.63441594,\n",
      "        5.21637758,  3.60300899]), 'std_score_time': array([0.54055081, 0.43711723, 3.32983541, 2.53879366, 0.05618001,\n",
      "       2.02470572, 2.57115059, 0.26744347, 1.20914429, 1.13891544,\n",
      "       1.63383461, 1.36366127]), 'param_criterion': masked_array(data=['gini', 'gini', 'gini', 'gini', 'entropy', 'entropy',\n",
      "                   'entropy', 'entropy', 'log_loss', 'log_loss',\n",
      "                   'log_loss', 'log_loss'],\n",
      "             mask=[False, False, False, False, False, False, False, False,\n",
      "                   False, False, False, False],\n",
      "       fill_value='?',\n",
      "            dtype=object), 'param_max_depth': masked_array(data=[5, 5, 10, 10, 5, 5, 10, 10, 5, 5, 10, 10],\n",
      "             mask=[False, False, False, False, False, False, False, False,\n",
      "                   False, False, False, False],\n",
      "       fill_value='?',\n",
      "            dtype=object), 'param_min_samples_split': masked_array(data=[2, 5, 2, 5, 2, 5, 2, 5, 2, 5, 2, 5],\n",
      "             mask=[False, False, False, False, False, False, False, False,\n",
      "                   False, False, False, False],\n",
      "       fill_value='?',\n",
      "            dtype=object), 'params': [{'criterion': 'gini', 'max_depth': 5, 'min_samples_split': 2}, {'criterion': 'gini', 'max_depth': 5, 'min_samples_split': 5}, {'criterion': 'gini', 'max_depth': 10, 'min_samples_split': 2}, {'criterion': 'gini', 'max_depth': 10, 'min_samples_split': 5}, {'criterion': 'entropy', 'max_depth': 5, 'min_samples_split': 2}, {'criterion': 'entropy', 'max_depth': 5, 'min_samples_split': 5}, {'criterion': 'entropy', 'max_depth': 10, 'min_samples_split': 2}, {'criterion': 'entropy', 'max_depth': 10, 'min_samples_split': 5}, {'criterion': 'log_loss', 'max_depth': 5, 'min_samples_split': 2}, {'criterion': 'log_loss', 'max_depth': 5, 'min_samples_split': 5}, {'criterion': 'log_loss', 'max_depth': 10, 'min_samples_split': 2}, {'criterion': 'log_loss', 'max_depth': 10, 'min_samples_split': 5}], 'split0_test_score': array([0.96891118, 0.9683673 , 0.98475049, 0.98455042, 0.97359544,\n",
      "       0.97146149, 0.98383796, 0.983866  , 0.97037797, 0.97285676,\n",
      "       0.98455152, 0.97953479]), 'split1_test_score': array([0.97527318, 0.96902332, 0.98605477, 0.98549754, 0.97719031,\n",
      "       0.9756419 , 0.98847363, 0.98566123, 0.97395511, 0.97586243,\n",
      "       0.98505221, 0.98642568]), 'split2_test_score': array([0.9723638 , 0.97169361, 0.99004207, 0.98879659, 0.98030138,\n",
      "       0.97659387, 0.99013854, 0.98764335, 0.97902012, 0.976778  ,\n",
      "       0.98891779, 0.98949472]), 'mean_test_score': array([0.97218272, 0.96969474, 0.98694911, 0.98628152, 0.97702904,\n",
      "       0.97456576, 0.98748337, 0.98572353, 0.97445106, 0.97516573,\n",
      "       0.98617384, 0.98515173]), 'std_test_score': array([0.00260043, 0.00143856, 0.00225094, 0.00181998, 0.00274006,\n",
      "       0.00222918, 0.00266581, 0.00154273, 0.00354553, 0.00167493,\n",
      "       0.001951  , 0.00416471]), 'rank_test_score': array([11, 12,  2,  3,  7,  9,  1,  5, 10,  8,  4,  6], dtype=int32)}\n",
      "[CV 2/3] END criterion=gini, max_depth=5, min_samples_split=5;, score=0.969 total time=  35.2s\n",
      "[CV 1/3] END criterion=entropy, max_depth=5, min_samples_split=2;, score=0.974 total time=  58.9s\n",
      "[CV 3/3] END criterion=entropy, max_depth=5, min_samples_split=5;, score=0.977 total time=  31.7s\n",
      "[CV 2/3] END criterion=log_loss, max_depth=5, min_samples_split=2;, score=0.974 total time=  59.5s\n",
      "[CV 2/3] END criterion=log_loss, max_depth=5, min_samples_split=5;, score=0.976 total time=  30.1s\n",
      "[CV 2/3] END criterion=gini, max_depth=10, min_samples_split=2;, score=0.986 total time=  37.3s\n",
      "[CV 1/3] END criterion=entropy, max_depth=5, min_samples_split=5;, score=0.971 total time=  59.8s\n",
      "[CV 2/3] END criterion=entropy, max_depth=10, min_samples_split=2;, score=0.988 total time= 1.8min\n",
      "[CV 3/3] END criterion=log_loss, max_depth=5, min_samples_split=5;, score=0.977 total time=  33.6s\n",
      "[CV 3/3] END criterion=gini, max_depth=5, min_samples_split=2;, score=0.972 total time=  27.4s\n",
      "[CV 2/3] END criterion=gini, max_depth=10, min_samples_split=5;, score=0.985 total time= 1.3min\n",
      "[CV 1/3] END criterion=entropy, max_depth=10, min_samples_split=5;, score=0.984 total time= 1.7min\n",
      "[CV 1/3] END criterion=log_loss, max_depth=10, min_samples_split=2;, score=0.985 total time= 1.7min\n",
      "[CV 1/3] END criterion=gini, max_depth=10, min_samples_split=2;, score=0.985 total time=  38.1s\n",
      "[CV 3/3] END criterion=entropy, max_depth=5, min_samples_split=2;, score=0.980 total time= 1.0min\n",
      "[CV 3/3] END criterion=entropy, max_depth=10, min_samples_split=5;, score=0.988 total time= 1.7min\n",
      "[CV 1/3] END criterion=log_loss, max_depth=10, min_samples_split=5;, score=0.980 total time= 1.8min\n",
      "[CV 2/3] END criterion=gini, max_depth=5, min_samples_split=2;, score=0.975 total time=  25.7s\n",
      "[CV 1/3] END criterion=gini, max_depth=10, min_samples_split=5;, score=0.985 total time= 1.3min\n",
      "[CV 3/3] END criterion=entropy, max_depth=10, min_samples_split=2;, score=0.990 total time= 1.8min\n",
      "[CV 2/3] END criterion=log_loss, max_depth=10, min_samples_split=2;, score=0.985 total time= 1.9min\n",
      "[CV 1/3] END criterion=gini, max_depth=5, min_samples_split=5;, score=0.968 total time=  32.5s\n",
      "[CV 3/3] END criterion=gini, max_depth=10, min_samples_split=5;, score=0.989 total time= 1.3min\n",
      "[CV 2/3] END criterion=entropy, max_depth=10, min_samples_split=5;, score=0.986 total time= 1.7min\n",
      "[CV 3/3] END criterion=log_loss, max_depth=10, min_samples_split=2;, score=0.989 total time= 1.9min\n",
      "[CV 3/3] END criterion=gini, max_depth=5, min_samples_split=5;, score=0.972 total time=  34.6s\n",
      "[CV 2/3] END criterion=entropy, max_depth=5, min_samples_split=2;, score=0.977 total time= 1.0min\n",
      "[CV 1/3] END criterion=entropy, max_depth=10, min_samples_split=2;, score=0.984 total time= 1.4min\n",
      "[CV 3/3] END criterion=log_loss, max_depth=5, min_samples_split=2;, score=0.979 total time=  31.5s\n",
      "[CV 2/3] END criterion=log_loss, max_depth=10, min_samples_split=5;, score=0.986 total time= 1.7min\n",
      "[CV 1/3] END criterion=gini, max_depth=5, min_samples_split=2;, score=0.969 total time=  24.9s\n",
      "[CV 3/3] END criterion=gini, max_depth=10, min_samples_split=2;, score=0.990 total time= 1.1min\n",
      "[CV 2/3] END criterion=entropy, max_depth=5, min_samples_split=5;, score=0.976 total time=  33.2s\n",
      "[CV 1/3] END criterion=log_loss, max_depth=5, min_samples_split=2;, score=0.970 total time= 1.0min\n",
      "[CV 1/3] END criterion=log_loss, max_depth=5, min_samples_split=5;, score=0.973 total time=  30.9s\n",
      "[CV 3/3] END criterion=log_loss, max_depth=10, min_samples_split=5;, score=0.989 total time= 1.6min\n"
     ]
    }
   ],
   "source": [
    "print(Out[65].cv_results_)"
   ]
  },
  {
   "cell_type": "code",
   "execution_count": 69,
   "id": "7d288d65-2400-4897-b220-95664348fc52",
   "metadata": {
    "tags": []
   },
   "outputs": [
    {
     "ename": "KeyError",
     "evalue": "'mean_train_AUC'",
     "output_type": "error",
     "traceback": [
      "\u001b[0;31m---------------------------------------------------------------------------\u001b[0m",
      "\u001b[0;31mKeyError\u001b[0m                                  Traceback (most recent call last)",
      "Cell \u001b[0;32mIn[69], line 18\u001b[0m\n\u001b[1;32m     16\u001b[0m \u001b[38;5;28;01mfor\u001b[39;00m scorer, color \u001b[38;5;129;01min\u001b[39;00m \u001b[38;5;28mzip\u001b[39m(\u001b[38;5;28msorted\u001b[39m({\u001b[38;5;124m\"\u001b[39m\u001b[38;5;124mAUC\u001b[39m\u001b[38;5;124m\"\u001b[39m: \u001b[38;5;124m\"\u001b[39m\u001b[38;5;124mroc_auc_ovr\u001b[39m\u001b[38;5;124m\"\u001b[39m}), [\u001b[38;5;124m\"\u001b[39m\u001b[38;5;124mg\u001b[39m\u001b[38;5;124m\"\u001b[39m]):\n\u001b[1;32m     17\u001b[0m     \u001b[38;5;28;01mfor\u001b[39;00m sample, style \u001b[38;5;129;01min\u001b[39;00m ((\u001b[38;5;124m\"\u001b[39m\u001b[38;5;124mtrain\u001b[39m\u001b[38;5;124m\"\u001b[39m, \u001b[38;5;124m\"\u001b[39m\u001b[38;5;124m--\u001b[39m\u001b[38;5;124m\"\u001b[39m), (\u001b[38;5;124m\"\u001b[39m\u001b[38;5;124mtest\u001b[39m\u001b[38;5;124m\"\u001b[39m, \u001b[38;5;124m\"\u001b[39m\u001b[38;5;124m-\u001b[39m\u001b[38;5;124m\"\u001b[39m)):\n\u001b[0;32m---> 18\u001b[0m         sample_score_mean \u001b[38;5;241m=\u001b[39m results[\u001b[38;5;124m\"\u001b[39m\u001b[38;5;124mmean_\u001b[39m\u001b[38;5;132;01m%s\u001b[39;00m\u001b[38;5;124m_\u001b[39m\u001b[38;5;132;01m%s\u001b[39;00m\u001b[38;5;124m\"\u001b[39m \u001b[38;5;241m%\u001b[39m (sample, scorer)]\n\u001b[1;32m     19\u001b[0m         sample_score_std \u001b[38;5;241m=\u001b[39m results[\u001b[38;5;124m\"\u001b[39m\u001b[38;5;124mstd_\u001b[39m\u001b[38;5;132;01m%s\u001b[39;00m\u001b[38;5;124m_\u001b[39m\u001b[38;5;132;01m%s\u001b[39;00m\u001b[38;5;124m\"\u001b[39m \u001b[38;5;241m%\u001b[39m (sample, scorer)]\n\u001b[1;32m     20\u001b[0m         ax\u001b[38;5;241m.\u001b[39mfill_between(\n\u001b[1;32m     21\u001b[0m             X_axis,\n\u001b[1;32m     22\u001b[0m             sample_score_mean \u001b[38;5;241m-\u001b[39m sample_score_std,\n\u001b[0;32m   (...)\u001b[0m\n\u001b[1;32m     25\u001b[0m             color\u001b[38;5;241m=\u001b[39mcolor,\n\u001b[1;32m     26\u001b[0m         )\n",
      "\u001b[0;31mKeyError\u001b[0m: 'mean_train_AUC'"
     ]
    },
    {
     "data": {
      "image/png": "[encoded data removed]",
      "text/plain": [
       "<Figure size 1300x1300 with 1 Axes>"
      ]
     },
     "metadata": {},
     "output_type": "display_data"
    }
   ],
   "source": [
    "plt.figure(figsize=(13, 13))\n",
    "plt.title(\"GridSearchCV evaluating using multiple scorers simultaneously\", fontsize=16)\n",
    "\n",
    "plt.xlabel(\"min_samples_split\")\n",
    "plt.ylabel(\"Score\")\n",
    "\n",
    "ax = plt.gca()\n",
    "ax.set_xlim(0, 402)\n",
    "ax.set_ylim(0.73, 1)\n",
    "\n",
    "results = Out[65].cv_results_\n",
    "\n",
    "# Get the regular numpy array from the MaskedArray\n",
    "X_axis = np.array(results[\"param_min_samples_split\"].data, dtype=float)\n",
    "\n",
    "for scorer, color in zip(sorted({\"AUC\": \"roc_auc_ovr\"}), [\"g\"]):\n",
    "    for sample, style in ((\"train\", \"--\"), (\"test\", \"-\")):\n",
    "        sample_score_mean = results[\"mean_%s_%s\" % (sample, scorer)]\n",
    "        sample_score_std = results[\"std_%s_%s\" % (sample, scorer)]\n",
    "        ax.fill_between(\n",
    "            X_axis,\n",
    "            sample_score_mean - sample_score_std,\n",
    "            sample_score_mean + sample_score_std,\n",
    "            alpha=0.1 if sample == \"test\" else 0,\n",
    "            color=color,\n",
    "        )\n",
    "        ax.plot(\n",
    "            X_axis,\n",
    "            sample_score_mean,\n",
    "            style,\n",
    "            color=color,\n",
    "            alpha=1 if sample == \"test\" else 0.7,\n",
    "            label=\"%s (%s)\" % (scorer, sample),\n",
    "        )\n",
    "\n",
    "    best_index = np.nonzero(results[\"rank_test_%s\" % scorer] == 1)[0][0]\n",
    "    best_score = results[\"mean_test_%s\" % scorer][best_index]\n",
    "\n",
    "    # Plot a dotted vertical line at the best score for that scorer marked by x\n",
    "    ax.plot(\n",
    "        [\n",
    "            X_axis[best_index],\n",
    "        ]\n",
    "        * 2,\n",
    "        [0, best_score],\n",
    "        linestyle=\"-.\",\n",
    "        color=color,\n",
    "        marker=\"x\",\n",
    "        markeredgewidth=3,\n",
    "        ms=8,\n",
    "    )\n",
    "\n",
    "    # Annotate the best score for that scorer\n",
    "    ax.annotate(\"%0.2f\" % best_score, (X_axis[best_index], best_score + 0.005))\n",
    "\n",
    "plt.legend(loc=\"best\")\n",
    "plt.grid(False)\n",
    "plt.show()"
   ]
  },
  {
   "cell_type": "code",
   "execution_count": 51,
   "id": "96ba1560-0cf4-4262-ae96-7a0d3ae78301",
   "metadata": {
    "tags": []
   },
   "outputs": [
    {
     "name": "stderr",
     "output_type": "stream",
     "text": [
      "/Users/hazeneckert/miniconda3/envs/practice/lib/python3.11/site-packages/sklearn/utils/validation.py:768: UserWarning: pandas.DataFrame with sparse columns found.It will be converted to a dense numpy array.\n",
      "  warnings.warn(\n",
      "/Users/hazeneckert/miniconda3/envs/practice/lib/python3.11/site-packages/sklearn/utils/validation.py:768: UserWarning: pandas.DataFrame with sparse columns found.It will be converted to a dense numpy array.\n",
      "  warnings.warn(\n"
     ]
    },
    {
     "data": {
      "text/plain": [
       "0.9857433808553971"
      ]
     },
     "execution_count": 51,
     "metadata": {},
     "output_type": "execute_result"
    }
   ],
   "source": [
    "rf_clf = RandomForestClassifier(max_depth=25, random_state=42)\n",
    "rf_clf.fit(X_train_trim, Y_train_trim)\n",
    "rf_clf.score(X_train_trim, Y_train_trim)"
   ]
  },
  {
   "cell_type": "code",
   "execution_count": 62,
   "id": "446c3f23-000e-4d0d-a031-b7fd60476b03",
   "metadata": {
    "tags": []
   },
   "outputs": [
    {
     "name": "stderr",
     "output_type": "stream",
     "text": [
      "/Users/hazeneckert/miniconda3/envs/practice/lib/python3.11/site-packages/sklearn/utils/validation.py:768: UserWarning: pandas.DataFrame with sparse columns found.It will be converted to a dense numpy array.\n",
      "  warnings.warn(\n"
     ]
    },
    {
     "data": {
      "text/plain": [
       "0.9999684421077054"
      ]
     },
     "execution_count": 62,
     "metadata": {},
     "output_type": "execute_result"
    }
   ],
   "source": [
    "\n",
    "roc_auc_score(Y_train_trim,rf_clf.predict_proba(X_train_trim), multi_class='ovr')"
   ]
  },
  {
   "cell_type": "code",
   "execution_count": 61,
   "id": "4ed00819-5b34-4310-85aa-d82c53d7c492",
   "metadata": {
    "tags": []
   },
   "outputs": [
    {
     "name": "stderr",
     "output_type": "stream",
     "text": [
      "/Users/hazeneckert/miniconda3/envs/practice/lib/python3.11/site-packages/sklearn/utils/validation.py:768: UserWarning: pandas.DataFrame with sparse columns found.It will be converted to a dense numpy array.\n",
      "  warnings.warn(\n",
      "/Users/hazeneckert/miniconda3/envs/practice/lib/python3.11/site-packages/sklearn/metrics/_ranking.py:1029: UndefinedMetricWarning: No positive samples in y_true, true positive value should be meaningless\n",
      "  warnings.warn(\n"
     ]
    },
    {
     "ename": "AxisError",
     "evalue": "axis 1 is out of bounds for array of dimension 1",
     "output_type": "error",
     "traceback": [
      "\u001b[0;31m---------------------------------------------------------------------------\u001b[0m",
      "\u001b[0;31mAxisError\u001b[0m                                 Traceback (most recent call last)",
      "Cell \u001b[0;32mIn[61], line 5\u001b[0m\n\u001b[1;32m      3\u001b[0m y_pred_prob \u001b[38;5;241m=\u001b[39m clf\u001b[38;5;241m.\u001b[39mpredict_proba(X_train_trim)[:, \u001b[38;5;241m1\u001b[39m] \n\u001b[1;32m      4\u001b[0m fpr, tpr, thresholds \u001b[38;5;241m=\u001b[39m roc_curve(Y_train_trim, y_pred_prob, pos_label\u001b[38;5;241m=\u001b[39m\u001b[38;5;241m1\u001b[39m)\n\u001b[0;32m----> 5\u001b[0m roc_auc \u001b[38;5;241m=\u001b[39m roc_auc_score(Y_train_trim, y_pred_prob,multi_class\u001b[38;5;241m=\u001b[39m\u001b[38;5;124m'\u001b[39m\u001b[38;5;124movr\u001b[39m\u001b[38;5;124m'\u001b[39m) \n\u001b[1;32m      6\u001b[0m roc_auc\n",
      "File \u001b[0;32m~/miniconda3/envs/practice/lib/python3.11/site-packages/sklearn/metrics/_ranking.py:566\u001b[0m, in \u001b[0;36mroc_auc_score\u001b[0;34m(y_true, y_score, average, sample_weight, max_fpr, multi_class, labels)\u001b[0m\n\u001b[1;32m    564\u001b[0m     \u001b[38;5;28;01mif\u001b[39;00m multi_class \u001b[38;5;241m==\u001b[39m \u001b[38;5;124m\"\u001b[39m\u001b[38;5;124mraise\u001b[39m\u001b[38;5;124m\"\u001b[39m:\n\u001b[1;32m    565\u001b[0m         \u001b[38;5;28;01mraise\u001b[39;00m \u001b[38;5;167;01mValueError\u001b[39;00m(\u001b[38;5;124m\"\u001b[39m\u001b[38;5;124mmulti_class must be in (\u001b[39m\u001b[38;5;124m'\u001b[39m\u001b[38;5;124movo\u001b[39m\u001b[38;5;124m'\u001b[39m\u001b[38;5;124m, \u001b[39m\u001b[38;5;124m'\u001b[39m\u001b[38;5;124movr\u001b[39m\u001b[38;5;124m'\u001b[39m\u001b[38;5;124m)\u001b[39m\u001b[38;5;124m\"\u001b[39m)\n\u001b[0;32m--> 566\u001b[0m     \u001b[38;5;28;01mreturn\u001b[39;00m _multiclass_roc_auc_score(\n\u001b[1;32m    567\u001b[0m         y_true, y_score, labels, multi_class, average, sample_weight\n\u001b[1;32m    568\u001b[0m     )\n\u001b[1;32m    569\u001b[0m \u001b[38;5;28;01melif\u001b[39;00m y_type \u001b[38;5;241m==\u001b[39m \u001b[38;5;124m\"\u001b[39m\u001b[38;5;124mbinary\u001b[39m\u001b[38;5;124m\"\u001b[39m:\n\u001b[1;32m    570\u001b[0m     labels \u001b[38;5;241m=\u001b[39m np\u001b[38;5;241m.\u001b[39munique(y_true)\n",
      "File \u001b[0;32m~/miniconda3/envs/practice/lib/python3.11/site-packages/sklearn/metrics/_ranking.py:638\u001b[0m, in \u001b[0;36m_multiclass_roc_auc_score\u001b[0;34m(y_true, y_score, labels, multi_class, average, sample_weight)\u001b[0m\n\u001b[1;32m    592\u001b[0m \u001b[38;5;250m\u001b[39m\u001b[38;5;124;03m\"\"\"Multiclass roc auc score.\u001b[39;00m\n\u001b[1;32m    593\u001b[0m \n\u001b[1;32m    594\u001b[0m \u001b[38;5;124;03mParameters\u001b[39;00m\n\u001b[0;32m   (...)\u001b[0m\n\u001b[1;32m    635\u001b[0m \n\u001b[1;32m    636\u001b[0m \u001b[38;5;124;03m\"\"\"\u001b[39;00m\n\u001b[1;32m    637\u001b[0m \u001b[38;5;66;03m# validation of the input y_score\u001b[39;00m\n\u001b[0;32m--> 638\u001b[0m \u001b[38;5;28;01mif\u001b[39;00m \u001b[38;5;129;01mnot\u001b[39;00m np\u001b[38;5;241m.\u001b[39mallclose(\u001b[38;5;241m1\u001b[39m, y_score\u001b[38;5;241m.\u001b[39msum(axis\u001b[38;5;241m=\u001b[39m\u001b[38;5;241m1\u001b[39m)):\n\u001b[1;32m    639\u001b[0m     \u001b[38;5;28;01mraise\u001b[39;00m \u001b[38;5;167;01mValueError\u001b[39;00m(\n\u001b[1;32m    640\u001b[0m         \u001b[38;5;124m\"\u001b[39m\u001b[38;5;124mTarget scores need to be probabilities for multiclass \u001b[39m\u001b[38;5;124m\"\u001b[39m\n\u001b[1;32m    641\u001b[0m         \u001b[38;5;124m\"\u001b[39m\u001b[38;5;124mroc_auc, i.e. they should sum up to 1.0 over classes\u001b[39m\u001b[38;5;124m\"\u001b[39m\n\u001b[1;32m    642\u001b[0m     )\n\u001b[1;32m    644\u001b[0m \u001b[38;5;66;03m# validation for multiclass parameter specifications\u001b[39;00m\n",
      "File \u001b[0;32m~/miniconda3/envs/practice/lib/python3.11/site-packages/numpy/core/_methods.py:49\u001b[0m, in \u001b[0;36m_sum\u001b[0;34m(a, axis, dtype, out, keepdims, initial, where)\u001b[0m\n\u001b[1;32m     47\u001b[0m \u001b[38;5;28;01mdef\u001b[39;00m \u001b[38;5;21m_sum\u001b[39m(a, axis\u001b[38;5;241m=\u001b[39m\u001b[38;5;28;01mNone\u001b[39;00m, dtype\u001b[38;5;241m=\u001b[39m\u001b[38;5;28;01mNone\u001b[39;00m, out\u001b[38;5;241m=\u001b[39m\u001b[38;5;28;01mNone\u001b[39;00m, keepdims\u001b[38;5;241m=\u001b[39m\u001b[38;5;28;01mFalse\u001b[39;00m,\n\u001b[1;32m     48\u001b[0m          initial\u001b[38;5;241m=\u001b[39m_NoValue, where\u001b[38;5;241m=\u001b[39m\u001b[38;5;28;01mTrue\u001b[39;00m):\n\u001b[0;32m---> 49\u001b[0m     \u001b[38;5;28;01mreturn\u001b[39;00m umr_sum(a, axis, dtype, out, keepdims, initial, where)\n",
      "\u001b[0;31mAxisError\u001b[0m: axis 1 is out of bounds for array of dimension 1"
     ]
    }
   ],
   "source": [
    "from sklearn.metrics import RocCurveDisplay, roc_curve, roc_auc_score\n",
    "clf = rf_clf\n",
    "y_pred_prob = clf.predict_proba(X_train_trim)[:, 1] \n",
    "fpr, tpr, thresholds = roc_curve(Y_train_trim, y_pred_prob, pos_label=1)\n",
    "roc_auc = roc_auc_score(Y_train_trim, y_pred_prob,multi_class='ovr') \n",
    "roc_auc\n"
   ]
  },
  {
   "cell_type": "code",
   "execution_count": 37,
   "id": "1c938fcb-988d-4fca-aca2-01eb8c197fef",
   "metadata": {
    "tags": []
   },
   "outputs": [],
   "source": [
    "from xgboost import XGBClassifier\n",
    "from sklearn.preprocessing import LabelEncoder\n",
    "from sklearn.metrics import accuracy_score\n",
    "le = LabelEncoder()\n",
    "\n",
    "xgb_clf = XGBClassifier(verbosity=1,n_jobs=-1,eval_metric=\"merror\",early_stopping_rounds=5)\n",
    "\n",
    "#cross_val_score(xgb_clf, X_train_trim, le.fit_transform(Y_train_trim), cv=5)"
   ]
  },
  {
   "cell_type": "code",
   "execution_count": 38,
   "id": "6b2a88d7-fa2e-4828-8b02-3caeb7f2d1c6",
   "metadata": {
    "tags": []
   },
   "outputs": [],
   "source": [
    "X_train_trim=X_train_trim.rename(columns={'VehEngineTokens[231': 'VehEngineTokens{231'})"
   ]
  },
  {
   "cell_type": "code",
   "execution_count": 39,
   "id": "d21d228c-6550-4753-85f2-ced89e7a00e3",
   "metadata": {
    "tags": []
   },
   "outputs": [],
   "source": [
    "from sklearn.model_selection import train_test_split\n",
    "X_tn, X_tt, y_tn, y_tt = train_test_split(X_train_trim, le.fit_transform(Y_train_trim), test_size=0.2, random_state=42)"
   ]
  },
  {
   "cell_type": "code",
   "execution_count": 48,
   "id": "7d24fcff-1bf3-41ff-874f-00704c16aa95",
   "metadata": {
    "tags": []
   },
   "outputs": [
    {
     "data": {
      "text/html": [
       "<div>\n",
       "<style scoped>\n",
       "    .dataframe tbody tr th:only-of-type {\n",
       "        vertical-align: middle;\n",
       "    }\n",
       "\n",
       "    .dataframe tbody tr th {\n",
       "        vertical-align: top;\n",
       "    }\n",
       "\n",
       "    .dataframe thead th {\n",
       "        text-align: right;\n",
       "    }\n",
       "</style>\n",
       "<table border=\"1\" class=\"dataframe\">\n",
       "  <thead>\n",
       "    <tr style=\"text-align: right;\">\n",
       "      <th></th>\n",
       "      <th>SellerRating</th>\n",
       "      <th>SellerRevCnt</th>\n",
       "      <th>VehListdays</th>\n",
       "      <th>VehMileage</th>\n",
       "      <th>SellerIsPriv</th>\n",
       "      <th>VehCertified</th>\n",
       "      <th>VehPriceLabel_Fair Price</th>\n",
       "      <th>SellerState_MN</th>\n",
       "      <th>SellerState_IL</th>\n",
       "      <th>SellerState_AZ</th>\n",
       "      <th>...</th>\n",
       "      <th>VehColorIntTokens('sienna'; 'brown')</th>\n",
       "      <th>VehColorIntTokens('ski';)</th>\n",
       "      <th>VehColorIntTokens('ski'; 'gray')</th>\n",
       "      <th>VehColorIntTokens('sport';)</th>\n",
       "      <th>VehColorIntTokens('sugar';)</th>\n",
       "      <th>VehColorIntTokens('tan';)</th>\n",
       "      <th>VehColorIntTokens('trim';)</th>\n",
       "      <th>VehColorIntTokens('unknown';)</th>\n",
       "      <th>VehColorIntTokens('w';)</th>\n",
       "      <th>VehColorIntTokens('w'; 'dark')</th>\n",
       "    </tr>\n",
       "  </thead>\n",
       "  <tbody>\n",
       "    <tr>\n",
       "      <th>1890</th>\n",
       "      <td>0.059717</td>\n",
       "      <td>0.142033</td>\n",
       "      <td>-0.443410</td>\n",
       "      <td>-0.708147</td>\n",
       "      <td>False</td>\n",
       "      <td>False</td>\n",
       "      <td>False</td>\n",
       "      <td>False</td>\n",
       "      <td>True</td>\n",
       "      <td>False</td>\n",
       "      <td>...</td>\n",
       "      <td>0</td>\n",
       "      <td>0</td>\n",
       "      <td>0</td>\n",
       "      <td>0</td>\n",
       "      <td>0</td>\n",
       "      <td>0</td>\n",
       "      <td>0</td>\n",
       "      <td>0</td>\n",
       "      <td>0</td>\n",
       "      <td>0</td>\n",
       "    </tr>\n",
       "    <tr>\n",
       "      <th>1901</th>\n",
       "      <td>0.727409</td>\n",
       "      <td>-0.304649</td>\n",
       "      <td>-0.718576</td>\n",
       "      <td>0.138979</td>\n",
       "      <td>False</td>\n",
       "      <td>False</td>\n",
       "      <td>False</td>\n",
       "      <td>False</td>\n",
       "      <td>False</td>\n",
       "      <td>False</td>\n",
       "      <td>...</td>\n",
       "      <td>0</td>\n",
       "      <td>0</td>\n",
       "      <td>0</td>\n",
       "      <td>0</td>\n",
       "      <td>0</td>\n",
       "      <td>0</td>\n",
       "      <td>0</td>\n",
       "      <td>0</td>\n",
       "      <td>0</td>\n",
       "      <td>0</td>\n",
       "    </tr>\n",
       "    <tr>\n",
       "      <th>1916</th>\n",
       "      <td>0.226640</td>\n",
       "      <td>-0.263417</td>\n",
       "      <td>1.544739</td>\n",
       "      <td>0.717144</td>\n",
       "      <td>False</td>\n",
       "      <td>True</td>\n",
       "      <td>False</td>\n",
       "      <td>False</td>\n",
       "      <td>False</td>\n",
       "      <td>False</td>\n",
       "      <td>...</td>\n",
       "      <td>0</td>\n",
       "      <td>0</td>\n",
       "      <td>0</td>\n",
       "      <td>0</td>\n",
       "      <td>0</td>\n",
       "      <td>0</td>\n",
       "      <td>0</td>\n",
       "      <td>0</td>\n",
       "      <td>0</td>\n",
       "      <td>0</td>\n",
       "    </tr>\n",
       "    <tr>\n",
       "      <th>1918</th>\n",
       "      <td>-0.274130</td>\n",
       "      <td>-0.075581</td>\n",
       "      <td>-0.646675</td>\n",
       "      <td>0.569596</td>\n",
       "      <td>False</td>\n",
       "      <td>False</td>\n",
       "      <td>False</td>\n",
       "      <td>False</td>\n",
       "      <td>False</td>\n",
       "      <td>False</td>\n",
       "      <td>...</td>\n",
       "      <td>0</td>\n",
       "      <td>0</td>\n",
       "      <td>0</td>\n",
       "      <td>0</td>\n",
       "      <td>0</td>\n",
       "      <td>0</td>\n",
       "      <td>0</td>\n",
       "      <td>1</td>\n",
       "      <td>0</td>\n",
       "      <td>0</td>\n",
       "    </tr>\n",
       "    <tr>\n",
       "      <th>1929</th>\n",
       "      <td>-1.025284</td>\n",
       "      <td>-0.277925</td>\n",
       "      <td>-0.443698</td>\n",
       "      <td>-0.440958</td>\n",
       "      <td>False</td>\n",
       "      <td>True</td>\n",
       "      <td>False</td>\n",
       "      <td>False</td>\n",
       "      <td>False</td>\n",
       "      <td>False</td>\n",
       "      <td>...</td>\n",
       "      <td>0</td>\n",
       "      <td>0</td>\n",
       "      <td>0</td>\n",
       "      <td>0</td>\n",
       "      <td>0</td>\n",
       "      <td>0</td>\n",
       "      <td>0</td>\n",
       "      <td>0</td>\n",
       "      <td>0</td>\n",
       "      <td>0</td>\n",
       "    </tr>\n",
       "    <tr>\n",
       "      <th>...</th>\n",
       "      <td>...</td>\n",
       "      <td>...</td>\n",
       "      <td>...</td>\n",
       "      <td>...</td>\n",
       "      <td>...</td>\n",
       "      <td>...</td>\n",
       "      <td>...</td>\n",
       "      <td>...</td>\n",
       "      <td>...</td>\n",
       "      <td>...</td>\n",
       "      <td>...</td>\n",
       "      <td>...</td>\n",
       "      <td>...</td>\n",
       "      <td>...</td>\n",
       "      <td>...</td>\n",
       "      <td>...</td>\n",
       "      <td>...</td>\n",
       "      <td>...</td>\n",
       "      <td>...</td>\n",
       "      <td>...</td>\n",
       "      <td>...</td>\n",
       "    </tr>\n",
       "    <tr>\n",
       "      <th>6293</th>\n",
       "      <td>-3.445669</td>\n",
       "      <td>-0.337483</td>\n",
       "      <td>-0.386565</td>\n",
       "      <td>1.751595</td>\n",
       "      <td>True</td>\n",
       "      <td>False</td>\n",
       "      <td>False</td>\n",
       "      <td>False</td>\n",
       "      <td>False</td>\n",
       "      <td>False</td>\n",
       "      <td>...</td>\n",
       "      <td>0</td>\n",
       "      <td>0</td>\n",
       "      <td>0</td>\n",
       "      <td>0</td>\n",
       "      <td>0</td>\n",
       "      <td>0</td>\n",
       "      <td>0</td>\n",
       "      <td>0</td>\n",
       "      <td>0</td>\n",
       "      <td>0</td>\n",
       "    </tr>\n",
       "    <tr>\n",
       "      <th>6294</th>\n",
       "      <td>-0.691437</td>\n",
       "      <td>-0.325266</td>\n",
       "      <td>-0.757948</td>\n",
       "      <td>-0.480967</td>\n",
       "      <td>False</td>\n",
       "      <td>False</td>\n",
       "      <td>True</td>\n",
       "      <td>False</td>\n",
       "      <td>False</td>\n",
       "      <td>False</td>\n",
       "      <td>...</td>\n",
       "      <td>0</td>\n",
       "      <td>0</td>\n",
       "      <td>0</td>\n",
       "      <td>0</td>\n",
       "      <td>0</td>\n",
       "      <td>0</td>\n",
       "      <td>0</td>\n",
       "      <td>0</td>\n",
       "      <td>0</td>\n",
       "      <td>0</td>\n",
       "    </tr>\n",
       "    <tr>\n",
       "      <th>6295</th>\n",
       "      <td>-0.023745</td>\n",
       "      <td>-0.322211</td>\n",
       "      <td>1.923462</td>\n",
       "      <td>-0.770897</td>\n",
       "      <td>False</td>\n",
       "      <td>True</td>\n",
       "      <td>False</td>\n",
       "      <td>False</td>\n",
       "      <td>False</td>\n",
       "      <td>False</td>\n",
       "      <td>...</td>\n",
       "      <td>0</td>\n",
       "      <td>0</td>\n",
       "      <td>0</td>\n",
       "      <td>0</td>\n",
       "      <td>0</td>\n",
       "      <td>0</td>\n",
       "      <td>0</td>\n",
       "      <td>0</td>\n",
       "      <td>0</td>\n",
       "      <td>0</td>\n",
       "    </tr>\n",
       "    <tr>\n",
       "      <th>6296</th>\n",
       "      <td>0.643948</td>\n",
       "      <td>-0.125213</td>\n",
       "      <td>0.269880</td>\n",
       "      <td>0.914876</td>\n",
       "      <td>False</td>\n",
       "      <td>False</td>\n",
       "      <td>False</td>\n",
       "      <td>False</td>\n",
       "      <td>False</td>\n",
       "      <td>False</td>\n",
       "      <td>...</td>\n",
       "      <td>0</td>\n",
       "      <td>0</td>\n",
       "      <td>0</td>\n",
       "      <td>0</td>\n",
       "      <td>0</td>\n",
       "      <td>0</td>\n",
       "      <td>0</td>\n",
       "      <td>0</td>\n",
       "      <td>0</td>\n",
       "      <td>0</td>\n",
       "    </tr>\n",
       "    <tr>\n",
       "      <th>6297</th>\n",
       "      <td>-0.274130</td>\n",
       "      <td>0.217626</td>\n",
       "      <td>-0.522113</td>\n",
       "      <td>-0.653106</td>\n",
       "      <td>False</td>\n",
       "      <td>False</td>\n",
       "      <td>False</td>\n",
       "      <td>False</td>\n",
       "      <td>False</td>\n",
       "      <td>False</td>\n",
       "      <td>...</td>\n",
       "      <td>0</td>\n",
       "      <td>0</td>\n",
       "      <td>0</td>\n",
       "      <td>0</td>\n",
       "      <td>0</td>\n",
       "      <td>0</td>\n",
       "      <td>0</td>\n",
       "      <td>0</td>\n",
       "      <td>0</td>\n",
       "      <td>0</td>\n",
       "    </tr>\n",
       "  </tbody>\n",
       "</table>\n",
       "<p>3928 rows × 34887 columns</p>\n",
       "</div>"
      ],
      "text/plain": [
       "      SellerRating  SellerRevCnt  VehListdays  VehMileage  SellerIsPriv  \\\n",
       "1890      0.059717      0.142033    -0.443410   -0.708147         False   \n",
       "1901      0.727409     -0.304649    -0.718576    0.138979         False   \n",
       "1916      0.226640     -0.263417     1.544739    0.717144         False   \n",
       "1918     -0.274130     -0.075581    -0.646675    0.569596         False   \n",
       "1929     -1.025284     -0.277925    -0.443698   -0.440958         False   \n",
       "...            ...           ...          ...         ...           ...   \n",
       "6293     -3.445669     -0.337483    -0.386565    1.751595          True   \n",
       "6294     -0.691437     -0.325266    -0.757948   -0.480967         False   \n",
       "6295     -0.023745     -0.322211     1.923462   -0.770897         False   \n",
       "6296      0.643948     -0.125213     0.269880    0.914876         False   \n",
       "6297     -0.274130      0.217626    -0.522113   -0.653106         False   \n",
       "\n",
       "      VehCertified  VehPriceLabel_Fair Price  SellerState_MN  SellerState_IL  \\\n",
       "1890         False                     False           False            True   \n",
       "1901         False                     False           False           False   \n",
       "1916          True                     False           False           False   \n",
       "1918         False                     False           False           False   \n",
       "1929          True                     False           False           False   \n",
       "...            ...                       ...             ...             ...   \n",
       "6293         False                     False           False           False   \n",
       "6294         False                      True           False           False   \n",
       "6295          True                     False           False           False   \n",
       "6296         False                     False           False           False   \n",
       "6297         False                     False           False           False   \n",
       "\n",
       "      SellerState_AZ  ...  VehColorIntTokens('sienna'; 'brown')  \\\n",
       "1890           False  ...                                     0   \n",
       "1901           False  ...                                     0   \n",
       "1916           False  ...                                     0   \n",
       "1918           False  ...                                     0   \n",
       "1929           False  ...                                     0   \n",
       "...              ...  ...                                   ...   \n",
       "6293           False  ...                                     0   \n",
       "6294           False  ...                                     0   \n",
       "6295           False  ...                                     0   \n",
       "6296           False  ...                                     0   \n",
       "6297           False  ...                                     0   \n",
       "\n",
       "      VehColorIntTokens('ski';)  VehColorIntTokens('ski'; 'gray')  \\\n",
       "1890                          0                                 0   \n",
       "1901                          0                                 0   \n",
       "1916                          0                                 0   \n",
       "1918                          0                                 0   \n",
       "1929                          0                                 0   \n",
       "...                         ...                               ...   \n",
       "6293                          0                                 0   \n",
       "6294                          0                                 0   \n",
       "6295                          0                                 0   \n",
       "6296                          0                                 0   \n",
       "6297                          0                                 0   \n",
       "\n",
       "      VehColorIntTokens('sport';)  VehColorIntTokens('sugar';)  \\\n",
       "1890                            0                            0   \n",
       "1901                            0                            0   \n",
       "1916                            0                            0   \n",
       "1918                            0                            0   \n",
       "1929                            0                            0   \n",
       "...                           ...                          ...   \n",
       "6293                            0                            0   \n",
       "6294                            0                            0   \n",
       "6295                            0                            0   \n",
       "6296                            0                            0   \n",
       "6297                            0                            0   \n",
       "\n",
       "      VehColorIntTokens('tan';)  VehColorIntTokens('trim';)  \\\n",
       "1890                          0                           0   \n",
       "1901                          0                           0   \n",
       "1916                          0                           0   \n",
       "1918                          0                           0   \n",
       "1929                          0                           0   \n",
       "...                         ...                         ...   \n",
       "6293                          0                           0   \n",
       "6294                          0                           0   \n",
       "6295                          0                           0   \n",
       "6296                          0                           0   \n",
       "6297                          0                           0   \n",
       "\n",
       "      VehColorIntTokens('unknown';)  VehColorIntTokens('w';)  \\\n",
       "1890                              0                        0   \n",
       "1901                              0                        0   \n",
       "1916                              0                        0   \n",
       "1918                              1                        0   \n",
       "1929                              0                        0   \n",
       "...                             ...                      ...   \n",
       "6293                              0                        0   \n",
       "6294                              0                        0   \n",
       "6295                              0                        0   \n",
       "6296                              0                        0   \n",
       "6297                              0                        0   \n",
       "\n",
       "      VehColorIntTokens('w'; 'dark')  \n",
       "1890                               0  \n",
       "1901                               0  \n",
       "1916                               0  \n",
       "1918                               0  \n",
       "1929                               0  \n",
       "...                              ...  \n",
       "6293                               0  \n",
       "6294                               0  \n",
       "6295                               0  \n",
       "6296                               0  \n",
       "6297                               0  \n",
       "\n",
       "[3928 rows x 34887 columns]"
      ]
     },
     "execution_count": 48,
     "metadata": {},
     "output_type": "execute_result"
    }
   ],
   "source": [
    "from sklearn.model_selection import StratifiedKFold\n",
    "le.fit(Y_train_clean_trim)\n",
    "train,test = next(StratifiedKFold(n_splits=3).split(X_train_trim, le.transform(Y_train_clean_trim)))\n",
    "X_train_trim.iloc[train]"
   ]
  },
  {
   "cell_type": "code",
   "execution_count": 49,
   "id": "9dcf5814-12c6-4d18-a4cb-cf6cc60084e7",
   "metadata": {
    "tags": []
   },
   "outputs": [
    {
     "name": "stdout",
     "output_type": "stream",
     "text": [
      "[0]\tvalidation_0-merror:0.08096\n",
      "[1]\tvalidation_0-merror:0.07790\n",
      "[2]\tvalidation_0-merror:0.07179\n",
      "[3]\tvalidation_0-merror:0.07077\n",
      "[4]\tvalidation_0-merror:0.06466\n",
      "[5]\tvalidation_0-merror:0.06110\n",
      "[6]\tvalidation_0-merror:0.06008\n",
      "[7]\tvalidation_0-merror:0.05754\n",
      "[8]\tvalidation_0-merror:0.05346\n",
      "[9]\tvalidation_0-merror:0.05499\n",
      "[10]\tvalidation_0-merror:0.05295\n",
      "[11]\tvalidation_0-merror:0.05397\n",
      "[12]\tvalidation_0-merror:0.05143\n",
      "[13]\tvalidation_0-merror:0.05092\n",
      "[14]\tvalidation_0-merror:0.05041\n",
      "[15]\tvalidation_0-merror:0.05092\n",
      "[16]\tvalidation_0-merror:0.04888\n",
      "[17]\tvalidation_0-merror:0.04837\n",
      "[18]\tvalidation_0-merror:0.04633\n",
      "[19]\tvalidation_0-merror:0.04735\n",
      "[20]\tvalidation_0-merror:0.04837\n",
      "[21]\tvalidation_0-merror:0.04990\n",
      "[22]\tvalidation_0-merror:0.04990\n"
     ]
    },
    {
     "data": {
      "text/html": [
       "<style>#sk-container-id-3 {color: black;background-color: white;}#sk-container-id-3 pre{padding: 0;}#sk-container-id-3 div.sk-toggleable {background-color: white;}#sk-container-id-3 label.sk-toggleable__label {cursor: pointer;display: block;width: 100%;margin-bottom: 0;padding: 0.3em;box-sizing: border-box;text-align: center;}#sk-container-id-3 label.sk-toggleable__label-arrow:before {content: \"▸\";float: left;margin-right: 0.25em;color: #696969;}#sk-container-id-3 label.sk-toggleable__label-arrow:hover:before {color: black;}#sk-container-id-3 div.sk-estimator:hover label.sk-toggleable__label-arrow:before {color: black;}#sk-container-id-3 div.sk-toggleable__content {max-height: 0;max-width: 0;overflow: hidden;text-align: left;background-color: #f0f8ff;}#sk-container-id-3 div.sk-toggleable__content pre {margin: 0.2em;color: black;border-radius: 0.25em;background-color: #f0f8ff;}#sk-container-id-3 input.sk-toggleable__control:checked~div.sk-toggleable__content {max-height: 200px;max-width: 100%;overflow: auto;}#sk-container-id-3 input.sk-toggleable__control:checked~label.sk-toggleable__label-arrow:before {content: \"▾\";}#sk-container-id-3 div.sk-estimator input.sk-toggleable__control:checked~label.sk-toggleable__label {background-color: #d4ebff;}#sk-container-id-3 div.sk-label input.sk-toggleable__control:checked~label.sk-toggleable__label {background-color: #d4ebff;}#sk-container-id-3 input.sk-hidden--visually {border: 0;clip: rect(1px 1px 1px 1px);clip: rect(1px, 1px, 1px, 1px);height: 1px;margin: -1px;overflow: hidden;padding: 0;position: absolute;width: 1px;}#sk-container-id-3 div.sk-estimator {font-family: monospace;background-color: #f0f8ff;border: 1px dotted black;border-radius: 0.25em;box-sizing: border-box;margin-bottom: 0.5em;}#sk-container-id-3 div.sk-estimator:hover {background-color: #d4ebff;}#sk-container-id-3 div.sk-parallel-item::after {content: \"\";width: 100%;border-bottom: 1px solid gray;flex-grow: 1;}#sk-container-id-3 div.sk-label:hover label.sk-toggleable__label {background-color: #d4ebff;}#sk-container-id-3 div.sk-serial::before {content: \"\";position: absolute;border-left: 1px solid gray;box-sizing: border-box;top: 0;bottom: 0;left: 50%;z-index: 0;}#sk-container-id-3 div.sk-serial {display: flex;flex-direction: column;align-items: center;background-color: white;padding-right: 0.2em;padding-left: 0.2em;position: relative;}#sk-container-id-3 div.sk-item {position: relative;z-index: 1;}#sk-container-id-3 div.sk-parallel {display: flex;align-items: stretch;justify-content: center;background-color: white;position: relative;}#sk-container-id-3 div.sk-item::before, #sk-container-id-3 div.sk-parallel-item::before {content: \"\";position: absolute;border-left: 1px solid gray;box-sizing: border-box;top: 0;bottom: 0;left: 50%;z-index: -1;}#sk-container-id-3 div.sk-parallel-item {display: flex;flex-direction: column;z-index: 1;position: relative;background-color: white;}#sk-container-id-3 div.sk-parallel-item:first-child::after {align-self: flex-end;width: 50%;}#sk-container-id-3 div.sk-parallel-item:last-child::after {align-self: flex-start;width: 50%;}#sk-container-id-3 div.sk-parallel-item:only-child::after {width: 0;}#sk-container-id-3 div.sk-dashed-wrapped {border: 1px dashed gray;margin: 0 0.4em 0.5em 0.4em;box-sizing: border-box;padding-bottom: 0.4em;background-color: white;}#sk-container-id-3 div.sk-label label {font-family: monospace;font-weight: bold;display: inline-block;line-height: 1.2em;}#sk-container-id-3 div.sk-label-container {text-align: center;}#sk-container-id-3 div.sk-container {/* jupyter's `normalize.less` sets `[hidden] { display: none; }` but bootstrap.min.css set `[hidden] { display: none !important; }` so we also need the `!important` here to be able to override the default hidden behavior on the sphinx rendered scikit-learn.org. See: https://github.com/scikit-learn/scikit-learn/issues/21755 */display: inline-block !important;position: relative;}#sk-container-id-3 div.sk-text-repr-fallback {display: none;}</style><div id=\"sk-container-id-3\" class=\"sk-top-container\"><div class=\"sk-text-repr-fallback\"><pre>XGBClassifier(base_score=None, booster=None, callbacks=None,\n",
       "              colsample_bylevel=None, colsample_bynode=None,\n",
       "              colsample_bytree=None, early_stopping_rounds=5,\n",
       "              enable_categorical=False, eval_metric=&#x27;merror&#x27;,\n",
       "              feature_types=None, gamma=None, gpu_id=None, grow_policy=None,\n",
       "              importance_type=None, interaction_constraints=None,\n",
       "              learning_rate=None, max_bin=None, max_cat_threshold=None,\n",
       "              max_cat_to_onehot=None, max_delta_step=None, max_depth=None,\n",
       "              max_leaves=None, min_child_weight=None, missing=nan,\n",
       "              monotone_constraints=None, n_estimators=100, n_jobs=-1,\n",
       "              num_parallel_tree=None, objective=&#x27;multi:softprob&#x27;,\n",
       "              predictor=None, ...)</pre><b>In a Jupyter environment, please rerun this cell to show the HTML representation or trust the notebook. <br />On GitHub, the HTML representation is unable to render, please try loading this page with nbviewer.org.</b></div><div class=\"sk-container\" hidden><div class=\"sk-item\"><div class=\"sk-estimator sk-toggleable\"><input class=\"sk-toggleable__control sk-hidden--visually\" id=\"sk-estimator-id-3\" type=\"checkbox\" checked><label for=\"sk-estimator-id-3\" class=\"sk-toggleable__label sk-toggleable__label-arrow\">XGBClassifier</label><div class=\"sk-toggleable__content\"><pre>XGBClassifier(base_score=None, booster=None, callbacks=None,\n",
       "              colsample_bylevel=None, colsample_bynode=None,\n",
       "              colsample_bytree=None, early_stopping_rounds=5,\n",
       "              enable_categorical=False, eval_metric=&#x27;merror&#x27;,\n",
       "              feature_types=None, gamma=None, gpu_id=None, grow_policy=None,\n",
       "              importance_type=None, interaction_constraints=None,\n",
       "              learning_rate=None, max_bin=None, max_cat_threshold=None,\n",
       "              max_cat_to_onehot=None, max_delta_step=None, max_depth=None,\n",
       "              max_leaves=None, min_child_weight=None, missing=nan,\n",
       "              monotone_constraints=None, n_estimators=100, n_jobs=-1,\n",
       "              num_parallel_tree=None, objective=&#x27;multi:softprob&#x27;,\n",
       "              predictor=None, ...)</pre></div></div></div></div></div>"
      ],
      "text/plain": [
       "XGBClassifier(base_score=None, booster=None, callbacks=None,\n",
       "              colsample_bylevel=None, colsample_bynode=None,\n",
       "              colsample_bytree=None, early_stopping_rounds=5,\n",
       "              enable_categorical=False, eval_metric='merror',\n",
       "              feature_types=None, gamma=None, gpu_id=None, grow_policy=None,\n",
       "              importance_type=None, interaction_constraints=None,\n",
       "              learning_rate=None, max_bin=None, max_cat_threshold=None,\n",
       "              max_cat_to_onehot=None, max_delta_step=None, max_depth=None,\n",
       "              max_leaves=None, min_child_weight=None, missing=nan,\n",
       "              monotone_constraints=None, n_estimators=100, n_jobs=-1,\n",
       "              num_parallel_tree=None, objective='multi:softprob',\n",
       "              predictor=None, ...)"
      ]
     },
     "execution_count": 49,
     "metadata": {},
     "output_type": "execute_result"
    }
   ],
   "source": [
    "xgb_clf.fit(X_train_trim.iloc[train], le.transform(Y_train_clean_trim.iloc[train]), verbose=True, eval_set=[(X_train_trim.iloc[test], le.transform(Y_train_clean_trim.iloc[test]))])\n",
    "\n",
    "#xgb_clf.fit(X_train_trim, le.fit_transform(Y_train_trim),verbose=True,eval_set=[(X_train_trim, le.fit_transform(Y_train_trim))])\n",
    "#xgb_clf.score(X_train_trim, le.fit_transform(Y_train_trim))"
   ]
  },
  {
   "cell_type": "code",
   "execution_count": 50,
   "id": "aa5182ca-5f04-4b64-9d20-9e1103fd4ebe",
   "metadata": {
    "tags": []
   },
   "outputs": [
    {
     "data": {
      "text/plain": [
       "0.9536659877800407"
      ]
     },
     "execution_count": 50,
     "metadata": {},
     "output_type": "execute_result"
    }
   ],
   "source": [
    "xgb_clf.score(X_train_trim.iloc[test], le.transform(Y_train_clean_trim.iloc[test]))"
   ]
  },
  {
   "cell_type": "code",
   "execution_count": 1,
   "id": "4edcb1f0-5f76-4eca-9a12-b8f694936238",
   "metadata": {
    "tags": []
   },
   "outputs": [],
   "source": [
    "from sklearn import datasets\n",
    "from sklearn import metrics\n",
    "\n",
    "iris = datasets.load_iris() #dataset loading\n",
    "X = iris.data               #Features stored in X \n",
    "y = iris.target             #Class variable\n"
   ]
  },
  {
   "cell_type": "code",
   "execution_count": 3,
   "id": "2eb9e342-bfac-463b-ae5d-52fd4c6e5a92",
   "metadata": {
    "tags": []
   },
   "outputs": [],
   "source": [
    "from sklearn.model_selection import train_test_split\n",
    "X_train, X_test, y_train, y_test = train_test_split(X, y, test_size=0.2, random_state=42)"
   ]
  },
  {
   "cell_type": "code",
   "execution_count": 10,
   "id": "e7df7374-5b96-4656-bf7f-bdcb7547550e",
   "metadata": {
    "tags": []
   },
   "outputs": [
    {
     "data": {
      "text/plain": [
       "array([[6.1, 2.8, 4.7, 1.2],\n",
       "       [5.7, 3.8, 1.7, 0.3],\n",
       "       [7.7, 2.6, 6.9, 2.3],\n",
       "       [6. , 2.9, 4.5, 1.5],\n",
       "       [6.8, 2.8, 4.8, 1.4],\n",
       "       [5.4, 3.4, 1.5, 0.4],\n",
       "       [5.6, 2.9, 3.6, 1.3],\n",
       "       [6.9, 3.1, 5.1, 2.3],\n",
       "       [6.2, 2.2, 4.5, 1.5],\n",
       "       [5.8, 2.7, 3.9, 1.2],\n",
       "       [6.5, 3.2, 5.1, 2. ],\n",
       "       [4.8, 3. , 1.4, 0.1],\n",
       "       [5.5, 3.5, 1.3, 0.2],\n",
       "       [4.9, 3.1, 1.5, 0.1],\n",
       "       [5.1, 3.8, 1.5, 0.3],\n",
       "       [6.3, 3.3, 4.7, 1.6],\n",
       "       [6.5, 3. , 5.8, 2.2],\n",
       "       [5.6, 2.5, 3.9, 1.1],\n",
       "       [5.7, 2.8, 4.5, 1.3],\n",
       "       [6.4, 2.8, 5.6, 2.2],\n",
       "       [4.7, 3.2, 1.6, 0.2],\n",
       "       [6.1, 3. , 4.9, 1.8],\n",
       "       [5. , 3.4, 1.6, 0.4],\n",
       "       [6.4, 2.8, 5.6, 2.1],\n",
       "       [7.9, 3.8, 6.4, 2. ],\n",
       "       [6.7, 3. , 5.2, 2.3],\n",
       "       [6.7, 2.5, 5.8, 1.8],\n",
       "       [6.8, 3.2, 5.9, 2.3],\n",
       "       [4.8, 3. , 1.4, 0.3],\n",
       "       [4.8, 3.1, 1.6, 0.2]])"
      ]
     },
     "execution_count": 10,
     "metadata": {},
     "output_type": "execute_result"
    }
   ],
   "source": [
    "X_test"
   ]
  },
  {
   "cell_type": "code",
   "execution_count": 4,
   "id": "50287a0d-c167-4014-b17d-013677cab78b",
   "metadata": {
    "tags": []
   },
   "outputs": [
    {
     "data": {
      "text/html": [
       "<style>#sk-container-id-1 {color: black;background-color: white;}#sk-container-id-1 pre{padding: 0;}#sk-container-id-1 div.sk-toggleable {background-color: white;}#sk-container-id-1 label.sk-toggleable__label {cursor: pointer;display: block;width: 100%;margin-bottom: 0;padding: 0.3em;box-sizing: border-box;text-align: center;}#sk-container-id-1 label.sk-toggleable__label-arrow:before {content: \"▸\";float: left;margin-right: 0.25em;color: #696969;}#sk-container-id-1 label.sk-toggleable__label-arrow:hover:before {color: black;}#sk-container-id-1 div.sk-estimator:hover label.sk-toggleable__label-arrow:before {color: black;}#sk-container-id-1 div.sk-toggleable__content {max-height: 0;max-width: 0;overflow: hidden;text-align: left;background-color: #f0f8ff;}#sk-container-id-1 div.sk-toggleable__content pre {margin: 0.2em;color: black;border-radius: 0.25em;background-color: #f0f8ff;}#sk-container-id-1 input.sk-toggleable__control:checked~div.sk-toggleable__content {max-height: 200px;max-width: 100%;overflow: auto;}#sk-container-id-1 input.sk-toggleable__control:checked~label.sk-toggleable__label-arrow:before {content: \"▾\";}#sk-container-id-1 div.sk-estimator input.sk-toggleable__control:checked~label.sk-toggleable__label {background-color: #d4ebff;}#sk-container-id-1 div.sk-label input.sk-toggleable__control:checked~label.sk-toggleable__label {background-color: #d4ebff;}#sk-container-id-1 input.sk-hidden--visually {border: 0;clip: rect(1px 1px 1px 1px);clip: rect(1px, 1px, 1px, 1px);height: 1px;margin: -1px;overflow: hidden;padding: 0;position: absolute;width: 1px;}#sk-container-id-1 div.sk-estimator {font-family: monospace;background-color: #f0f8ff;border: 1px dotted black;border-radius: 0.25em;box-sizing: border-box;margin-bottom: 0.5em;}#sk-container-id-1 div.sk-estimator:hover {background-color: #d4ebff;}#sk-container-id-1 div.sk-parallel-item::after {content: \"\";width: 100%;border-bottom: 1px solid gray;flex-grow: 1;}#sk-container-id-1 div.sk-label:hover label.sk-toggleable__label {background-color: #d4ebff;}#sk-container-id-1 div.sk-serial::before {content: \"\";position: absolute;border-left: 1px solid gray;box-sizing: border-box;top: 0;bottom: 0;left: 50%;z-index: 0;}#sk-container-id-1 div.sk-serial {display: flex;flex-direction: column;align-items: center;background-color: white;padding-right: 0.2em;padding-left: 0.2em;position: relative;}#sk-container-id-1 div.sk-item {position: relative;z-index: 1;}#sk-container-id-1 div.sk-parallel {display: flex;align-items: stretch;justify-content: center;background-color: white;position: relative;}#sk-container-id-1 div.sk-item::before, #sk-container-id-1 div.sk-parallel-item::before {content: \"\";position: absolute;border-left: 1px solid gray;box-sizing: border-box;top: 0;bottom: 0;left: 50%;z-index: -1;}#sk-container-id-1 div.sk-parallel-item {display: flex;flex-direction: column;z-index: 1;position: relative;background-color: white;}#sk-container-id-1 div.sk-parallel-item:first-child::after {align-self: flex-end;width: 50%;}#sk-container-id-1 div.sk-parallel-item:last-child::after {align-self: flex-start;width: 50%;}#sk-container-id-1 div.sk-parallel-item:only-child::after {width: 0;}#sk-container-id-1 div.sk-dashed-wrapped {border: 1px dashed gray;margin: 0 0.4em 0.5em 0.4em;box-sizing: border-box;padding-bottom: 0.4em;background-color: white;}#sk-container-id-1 div.sk-label label {font-family: monospace;font-weight: bold;display: inline-block;line-height: 1.2em;}#sk-container-id-1 div.sk-label-container {text-align: center;}#sk-container-id-1 div.sk-container {/* jupyter's `normalize.less` sets `[hidden] { display: none; }` but bootstrap.min.css set `[hidden] { display: none !important; }` so we also need the `!important` here to be able to override the default hidden behavior on the sphinx rendered scikit-learn.org. See: https://github.com/scikit-learn/scikit-learn/issues/21755 */display: inline-block !important;position: relative;}#sk-container-id-1 div.sk-text-repr-fallback {display: none;}</style><div id=\"sk-container-id-1\" class=\"sk-top-container\"><div class=\"sk-text-repr-fallback\"><pre>XGBClassifier(base_score=None, booster=None, callbacks=None,\n",
       "              colsample_bylevel=None, colsample_bynode=None,\n",
       "              colsample_bytree=None, early_stopping_rounds=None,\n",
       "              enable_categorical=False, eval_metric=None, feature_types=None,\n",
       "              gamma=None, gpu_id=None, grow_policy=None, importance_type=None,\n",
       "              interaction_constraints=None, learning_rate=None, max_bin=None,\n",
       "              max_cat_threshold=None, max_cat_to_onehot=None,\n",
       "              max_delta_step=None, max_depth=None, max_leaves=None,\n",
       "              min_child_weight=None, missing=nan, monotone_constraints=None,\n",
       "              n_estimators=100, n_jobs=None, num_parallel_tree=None,\n",
       "              predictor=None, random_state=None, ...)</pre><b>In a Jupyter environment, please rerun this cell to show the HTML representation or trust the notebook. <br />On GitHub, the HTML representation is unable to render, please try loading this page with nbviewer.org.</b></div><div class=\"sk-container\" hidden><div class=\"sk-item\"><div class=\"sk-estimator sk-toggleable\"><input class=\"sk-toggleable__control sk-hidden--visually\" id=\"sk-estimator-id-1\" type=\"checkbox\" checked><label for=\"sk-estimator-id-1\" class=\"sk-toggleable__label sk-toggleable__label-arrow\">XGBClassifier</label><div class=\"sk-toggleable__content\"><pre>XGBClassifier(base_score=None, booster=None, callbacks=None,\n",
       "              colsample_bylevel=None, colsample_bynode=None,\n",
       "              colsample_bytree=None, early_stopping_rounds=None,\n",
       "              enable_categorical=False, eval_metric=None, feature_types=None,\n",
       "              gamma=None, gpu_id=None, grow_policy=None, importance_type=None,\n",
       "              interaction_constraints=None, learning_rate=None, max_bin=None,\n",
       "              max_cat_threshold=None, max_cat_to_onehot=None,\n",
       "              max_delta_step=None, max_depth=None, max_leaves=None,\n",
       "              min_child_weight=None, missing=nan, monotone_constraints=None,\n",
       "              n_estimators=100, n_jobs=None, num_parallel_tree=None,\n",
       "              predictor=None, random_state=None, ...)</pre></div></div></div></div></div>"
      ],
      "text/plain": [
       "XGBClassifier(base_score=None, booster=None, callbacks=None,\n",
       "              colsample_bylevel=None, colsample_bynode=None,\n",
       "              colsample_bytree=None, early_stopping_rounds=None,\n",
       "              enable_categorical=False, eval_metric=None, feature_types=None,\n",
       "              gamma=None, gpu_id=None, grow_policy=None, importance_type=None,\n",
       "              interaction_constraints=None, learning_rate=None, max_bin=None,\n",
       "              max_cat_threshold=None, max_cat_to_onehot=None,\n",
       "              max_delta_step=None, max_depth=None, max_leaves=None,\n",
       "              min_child_weight=None, missing=nan, monotone_constraints=None,\n",
       "              n_estimators=100, n_jobs=None, num_parallel_tree=None,\n",
       "              predictor=None, random_state=None, ...)"
      ]
     },
     "execution_count": 4,
     "metadata": {},
     "output_type": "execute_result"
    }
   ],
   "source": [
    "from sklearn import svm\n",
    "from xgboost import XGBClassifier\n",
    "clf = XGBClassifier()\n",
    "clf"
   ]
  },
  {
   "cell_type": "code",
   "execution_count": 8,
   "id": "32d4ff39-515b-4b1c-9dae-05b1af7e19c9",
   "metadata": {
    "tags": []
   },
   "outputs": [
    {
     "name": "stdout",
     "output_type": "stream",
     "text": [
      "[0]\tvalidation_0-mlogloss:0.72604\n",
      "[1]\tvalidation_0-mlogloss:0.50842\n",
      "[2]\tvalidation_0-mlogloss:0.36744\n",
      "[3]\tvalidation_0-mlogloss:0.27203\n",
      "[4]\tvalidation_0-mlogloss:0.20487\n",
      "[5]\tvalidation_0-mlogloss:0.15866\n",
      "[6]\tvalidation_0-mlogloss:0.12503\n",
      "[7]\tvalidation_0-mlogloss:0.09808\n",
      "[8]\tvalidation_0-mlogloss:0.08104\n",
      "[9]\tvalidation_0-mlogloss:0.06622\n",
      "[10]\tvalidation_0-mlogloss:0.05690\n",
      "[11]\tvalidation_0-mlogloss:0.04823\n",
      "[12]\tvalidation_0-mlogloss:0.04289\n",
      "[13]\tvalidation_0-mlogloss:0.03730\n",
      "[14]\tvalidation_0-mlogloss:0.03349\n",
      "[15]\tvalidation_0-mlogloss:0.02955\n",
      "[16]\tvalidation_0-mlogloss:0.02698\n",
      "[17]\tvalidation_0-mlogloss:0.02506\n",
      "[18]\tvalidation_0-mlogloss:0.02271\n",
      "[19]\tvalidation_0-mlogloss:0.02059\n",
      "[20]\tvalidation_0-mlogloss:0.01938\n",
      "[21]\tvalidation_0-mlogloss:0.01889\n",
      "[22]\tvalidation_0-mlogloss:0.01871\n",
      "[23]\tvalidation_0-mlogloss:0.01803\n",
      "[24]\tvalidation_0-mlogloss:0.01780\n",
      "[25]\tvalidation_0-mlogloss:0.01736\n",
      "[26]\tvalidation_0-mlogloss:0.01704\n",
      "[27]\tvalidation_0-mlogloss:0.01727\n",
      "[28]\tvalidation_0-mlogloss:0.01679\n",
      "[29]\tvalidation_0-mlogloss:0.01641\n",
      "[30]\tvalidation_0-mlogloss:0.01623\n",
      "[31]\tvalidation_0-mlogloss:0.01583\n",
      "[32]\tvalidation_0-mlogloss:0.01510\n",
      "[33]\tvalidation_0-mlogloss:0.01469\n",
      "[34]\tvalidation_0-mlogloss:0.01475\n",
      "[35]\tvalidation_0-mlogloss:0.01449\n",
      "[36]\tvalidation_0-mlogloss:0.01455\n",
      "[37]\tvalidation_0-mlogloss:0.01391\n",
      "[38]\tvalidation_0-mlogloss:0.01370\n",
      "[39]\tvalidation_0-mlogloss:0.01380\n",
      "[40]\tvalidation_0-mlogloss:0.01318\n",
      "[41]\tvalidation_0-mlogloss:0.01325\n",
      "[42]\tvalidation_0-mlogloss:0.01307\n",
      "[43]\tvalidation_0-mlogloss:0.01249\n",
      "[44]\tvalidation_0-mlogloss:0.01233\n",
      "[45]\tvalidation_0-mlogloss:0.01210\n",
      "[46]\tvalidation_0-mlogloss:0.01194\n",
      "[47]\tvalidation_0-mlogloss:0.01191\n",
      "[48]\tvalidation_0-mlogloss:0.01180\n",
      "[49]\tvalidation_0-mlogloss:0.01145\n",
      "[50]\tvalidation_0-mlogloss:0.01133\n",
      "[51]\tvalidation_0-mlogloss:0.01114\n",
      "[52]\tvalidation_0-mlogloss:0.01105\n",
      "[53]\tvalidation_0-mlogloss:0.01096\n",
      "[54]\tvalidation_0-mlogloss:0.01087\n",
      "[55]\tvalidation_0-mlogloss:0.01070\n",
      "[56]\tvalidation_0-mlogloss:0.01062\n",
      "[57]\tvalidation_0-mlogloss:0.01064\n",
      "[58]\tvalidation_0-mlogloss:0.01044\n",
      "[59]\tvalidation_0-mlogloss:0.01029\n",
      "[60]\tvalidation_0-mlogloss:0.01029\n",
      "[61]\tvalidation_0-mlogloss:0.01011\n",
      "[62]\tvalidation_0-mlogloss:0.01026\n",
      "[63]\tvalidation_0-mlogloss:0.01026\n",
      "[64]\tvalidation_0-mlogloss:0.01015\n",
      "[65]\tvalidation_0-mlogloss:0.01006\n",
      "[66]\tvalidation_0-mlogloss:0.01005\n",
      "[67]\tvalidation_0-mlogloss:0.00988\n",
      "[68]\tvalidation_0-mlogloss:0.00990\n",
      "[69]\tvalidation_0-mlogloss:0.01004\n",
      "[70]\tvalidation_0-mlogloss:0.00994\n",
      "[71]\tvalidation_0-mlogloss:0.00985\n",
      "[72]\tvalidation_0-mlogloss:0.00987\n",
      "[73]\tvalidation_0-mlogloss:0.01001\n",
      "[74]\tvalidation_0-mlogloss:0.00991\n",
      "[75]\tvalidation_0-mlogloss:0.00992\n",
      "[76]\tvalidation_0-mlogloss:0.00971\n",
      "[77]\tvalidation_0-mlogloss:0.00985\n",
      "[78]\tvalidation_0-mlogloss:0.00976\n",
      "[79]\tvalidation_0-mlogloss:0.00988\n",
      "[80]\tvalidation_0-mlogloss:0.00968\n",
      "[81]\tvalidation_0-mlogloss:0.00961\n",
      "[82]\tvalidation_0-mlogloss:0.00973\n",
      "[83]\tvalidation_0-mlogloss:0.00967\n",
      "[84]\tvalidation_0-mlogloss:0.00957\n",
      "[85]\tvalidation_0-mlogloss:0.00952\n",
      "[86]\tvalidation_0-mlogloss:0.00962\n",
      "[87]\tvalidation_0-mlogloss:0.00948\n",
      "[88]\tvalidation_0-mlogloss:0.00946\n",
      "[89]\tvalidation_0-mlogloss:0.00933\n",
      "[90]\tvalidation_0-mlogloss:0.00945\n",
      "[91]\tvalidation_0-mlogloss:0.00937\n",
      "[92]\tvalidation_0-mlogloss:0.00922\n",
      "[93]\tvalidation_0-mlogloss:0.00928\n",
      "[94]\tvalidation_0-mlogloss:0.00932\n",
      "[95]\tvalidation_0-mlogloss:0.00920\n",
      "[96]\tvalidation_0-mlogloss:0.00925\n",
      "[97]\tvalidation_0-mlogloss:0.00930\n",
      "[98]\tvalidation_0-mlogloss:0.00924\n",
      "[99]\tvalidation_0-mlogloss:0.00929\n"
     ]
    },
    {
     "data": {
      "text/html": [
       "<style>#sk-container-id-3 {color: black;background-color: white;}#sk-container-id-3 pre{padding: 0;}#sk-container-id-3 div.sk-toggleable {background-color: white;}#sk-container-id-3 label.sk-toggleable__label {cursor: pointer;display: block;width: 100%;margin-bottom: 0;padding: 0.3em;box-sizing: border-box;text-align: center;}#sk-container-id-3 label.sk-toggleable__label-arrow:before {content: \"▸\";float: left;margin-right: 0.25em;color: #696969;}#sk-container-id-3 label.sk-toggleable__label-arrow:hover:before {color: black;}#sk-container-id-3 div.sk-estimator:hover label.sk-toggleable__label-arrow:before {color: black;}#sk-container-id-3 div.sk-toggleable__content {max-height: 0;max-width: 0;overflow: hidden;text-align: left;background-color: #f0f8ff;}#sk-container-id-3 div.sk-toggleable__content pre {margin: 0.2em;color: black;border-radius: 0.25em;background-color: #f0f8ff;}#sk-container-id-3 input.sk-toggleable__control:checked~div.sk-toggleable__content {max-height: 200px;max-width: 100%;overflow: auto;}#sk-container-id-3 input.sk-toggleable__control:checked~label.sk-toggleable__label-arrow:before {content: \"▾\";}#sk-container-id-3 div.sk-estimator input.sk-toggleable__control:checked~label.sk-toggleable__label {background-color: #d4ebff;}#sk-container-id-3 div.sk-label input.sk-toggleable__control:checked~label.sk-toggleable__label {background-color: #d4ebff;}#sk-container-id-3 input.sk-hidden--visually {border: 0;clip: rect(1px 1px 1px 1px);clip: rect(1px, 1px, 1px, 1px);height: 1px;margin: -1px;overflow: hidden;padding: 0;position: absolute;width: 1px;}#sk-container-id-3 div.sk-estimator {font-family: monospace;background-color: #f0f8ff;border: 1px dotted black;border-radius: 0.25em;box-sizing: border-box;margin-bottom: 0.5em;}#sk-container-id-3 div.sk-estimator:hover {background-color: #d4ebff;}#sk-container-id-3 div.sk-parallel-item::after {content: \"\";width: 100%;border-bottom: 1px solid gray;flex-grow: 1;}#sk-container-id-3 div.sk-label:hover label.sk-toggleable__label {background-color: #d4ebff;}#sk-container-id-3 div.sk-serial::before {content: \"\";position: absolute;border-left: 1px solid gray;box-sizing: border-box;top: 0;bottom: 0;left: 50%;z-index: 0;}#sk-container-id-3 div.sk-serial {display: flex;flex-direction: column;align-items: center;background-color: white;padding-right: 0.2em;padding-left: 0.2em;position: relative;}#sk-container-id-3 div.sk-item {position: relative;z-index: 1;}#sk-container-id-3 div.sk-parallel {display: flex;align-items: stretch;justify-content: center;background-color: white;position: relative;}#sk-container-id-3 div.sk-item::before, #sk-container-id-3 div.sk-parallel-item::before {content: \"\";position: absolute;border-left: 1px solid gray;box-sizing: border-box;top: 0;bottom: 0;left: 50%;z-index: -1;}#sk-container-id-3 div.sk-parallel-item {display: flex;flex-direction: column;z-index: 1;position: relative;background-color: white;}#sk-container-id-3 div.sk-parallel-item:first-child::after {align-self: flex-end;width: 50%;}#sk-container-id-3 div.sk-parallel-item:last-child::after {align-self: flex-start;width: 50%;}#sk-container-id-3 div.sk-parallel-item:only-child::after {width: 0;}#sk-container-id-3 div.sk-dashed-wrapped {border: 1px dashed gray;margin: 0 0.4em 0.5em 0.4em;box-sizing: border-box;padding-bottom: 0.4em;background-color: white;}#sk-container-id-3 div.sk-label label {font-family: monospace;font-weight: bold;display: inline-block;line-height: 1.2em;}#sk-container-id-3 div.sk-label-container {text-align: center;}#sk-container-id-3 div.sk-container {/* jupyter's `normalize.less` sets `[hidden] { display: none; }` but bootstrap.min.css set `[hidden] { display: none !important; }` so we also need the `!important` here to be able to override the default hidden behavior on the sphinx rendered scikit-learn.org. See: https://github.com/scikit-learn/scikit-learn/issues/21755 */display: inline-block !important;position: relative;}#sk-container-id-3 div.sk-text-repr-fallback {display: none;}</style><div id=\"sk-container-id-3\" class=\"sk-top-container\"><div class=\"sk-text-repr-fallback\"><pre>XGBClassifier(base_score=None, booster=None, callbacks=None,\n",
       "              colsample_bylevel=None, colsample_bynode=None,\n",
       "              colsample_bytree=None, early_stopping_rounds=None,\n",
       "              enable_categorical=False, eval_metric=None, feature_types=None,\n",
       "              gamma=None, gpu_id=None, grow_policy=None, importance_type=None,\n",
       "              interaction_constraints=None, learning_rate=None, max_bin=None,\n",
       "              max_cat_threshold=None, max_cat_to_onehot=None,\n",
       "              max_delta_step=None, max_depth=None, max_leaves=None,\n",
       "              min_child_weight=None, missing=nan, monotone_constraints=None,\n",
       "              n_estimators=100, n_jobs=None, num_parallel_tree=None,\n",
       "              objective=&#x27;multi:softprob&#x27;, predictor=None, ...)</pre><b>In a Jupyter environment, please rerun this cell to show the HTML representation or trust the notebook. <br />On GitHub, the HTML representation is unable to render, please try loading this page with nbviewer.org.</b></div><div class=\"sk-container\" hidden><div class=\"sk-item\"><div class=\"sk-estimator sk-toggleable\"><input class=\"sk-toggleable__control sk-hidden--visually\" id=\"sk-estimator-id-3\" type=\"checkbox\" checked><label for=\"sk-estimator-id-3\" class=\"sk-toggleable__label sk-toggleable__label-arrow\">XGBClassifier</label><div class=\"sk-toggleable__content\"><pre>XGBClassifier(base_score=None, booster=None, callbacks=None,\n",
       "              colsample_bylevel=None, colsample_bynode=None,\n",
       "              colsample_bytree=None, early_stopping_rounds=None,\n",
       "              enable_categorical=False, eval_metric=None, feature_types=None,\n",
       "              gamma=None, gpu_id=None, grow_policy=None, importance_type=None,\n",
       "              interaction_constraints=None, learning_rate=None, max_bin=None,\n",
       "              max_cat_threshold=None, max_cat_to_onehot=None,\n",
       "              max_delta_step=None, max_depth=None, max_leaves=None,\n",
       "              min_child_weight=None, missing=nan, monotone_constraints=None,\n",
       "              n_estimators=100, n_jobs=None, num_parallel_tree=None,\n",
       "              objective=&#x27;multi:softprob&#x27;, predictor=None, ...)</pre></div></div></div></div></div>"
      ],
      "text/plain": [
       "XGBClassifier(base_score=None, booster=None, callbacks=None,\n",
       "              colsample_bylevel=None, colsample_bynode=None,\n",
       "              colsample_bytree=None, early_stopping_rounds=None,\n",
       "              enable_categorical=False, eval_metric=None, feature_types=None,\n",
       "              gamma=None, gpu_id=None, grow_policy=None, importance_type=None,\n",
       "              interaction_constraints=None, learning_rate=None, max_bin=None,\n",
       "              max_cat_threshold=None, max_cat_to_onehot=None,\n",
       "              max_delta_step=None, max_depth=None, max_leaves=None,\n",
       "              min_child_weight=None, missing=nan, monotone_constraints=None,\n",
       "              n_estimators=100, n_jobs=None, num_parallel_tree=None,\n",
       "              objective='multi:softprob', predictor=None, ...)"
      ]
     },
     "execution_count": 8,
     "metadata": {},
     "output_type": "execute_result"
    }
   ],
   "source": [
    "clf.fit(X_train, y_train,eval_set=[(X_test,y_test)])"
   ]
  },
  {
   "cell_type": "code",
   "execution_count": 7,
   "id": "d0669639-af91-4635-9023-c1ea73809393",
   "metadata": {
    "tags": []
   },
   "outputs": [
    {
     "name": "stdout",
     "output_type": "stream",
     "text": [
      "1.0\n"
     ]
    }
   ],
   "source": [
    "from sklearn import metrics\n",
    "y_pred = clf.predict(X_test)\n",
    "print(metrics.accuracy_score(y_test, y_pred))"
   ]
  },
  {
   "cell_type": "code",
   "execution_count": 123,
   "id": "62113d2d-6303-4c22-a2fc-5e5f62499704",
   "metadata": {
    "tags": []
   },
   "outputs": [
    {
     "name": "stderr",
     "output_type": "stream",
     "text": [
      "/Users/hazeneckert/miniconda3/envs/practice/lib/python3.11/site-packages/sklearn/model_selection/_split.py:700: UserWarning: The least populated class in y has only 1 members, which is less than n_splits=5.\n",
      "  warnings.warn(\n",
      "/Users/hazeneckert/miniconda3/envs/practice/lib/python3.11/site-packages/sklearn/utils/validation.py:768: UserWarning: pandas.DataFrame with sparse columns found.It will be converted to a dense numpy array.\n",
      "  warnings.warn(\n",
      "/Users/hazeneckert/miniconda3/envs/practice/lib/python3.11/site-packages/sklearn/utils/validation.py:768: UserWarning: pandas.DataFrame with sparse columns found.It will be converted to a dense numpy array.\n",
      "  warnings.warn(\n",
      "/Users/hazeneckert/miniconda3/envs/practice/lib/python3.11/site-packages/sklearn/utils/validation.py:768: UserWarning: pandas.DataFrame with sparse columns found.It will be converted to a dense numpy array.\n",
      "  warnings.warn(\n",
      "/Users/hazeneckert/miniconda3/envs/practice/lib/python3.11/site-packages/sklearn/utils/validation.py:768: UserWarning: pandas.DataFrame with sparse columns found.It will be converted to a dense numpy array.\n",
      "  warnings.warn(\n",
      "/Users/hazeneckert/miniconda3/envs/practice/lib/python3.11/site-packages/sklearn/utils/validation.py:768: UserWarning: pandas.DataFrame with sparse columns found.It will be converted to a dense numpy array.\n",
      "  warnings.warn(\n",
      "/Users/hazeneckert/miniconda3/envs/practice/lib/python3.11/site-packages/sklearn/utils/validation.py:768: UserWarning: pandas.DataFrame with sparse columns found.It will be converted to a dense numpy array.\n",
      "  warnings.warn(\n",
      "/Users/hazeneckert/miniconda3/envs/practice/lib/python3.11/site-packages/sklearn/utils/validation.py:768: UserWarning: pandas.DataFrame with sparse columns found.It will be converted to a dense numpy array.\n",
      "  warnings.warn(\n",
      "/Users/hazeneckert/miniconda3/envs/practice/lib/python3.11/site-packages/sklearn/utils/validation.py:768: UserWarning: pandas.DataFrame with sparse columns found.It will be converted to a dense numpy array.\n",
      "  warnings.warn(\n",
      "/Users/hazeneckert/miniconda3/envs/practice/lib/python3.11/site-packages/sklearn/utils/validation.py:768: UserWarning: pandas.DataFrame with sparse columns found.It will be converted to a dense numpy array.\n",
      "  warnings.warn(\n",
      "/Users/hazeneckert/miniconda3/envs/practice/lib/python3.11/site-packages/sklearn/utils/validation.py:768: UserWarning: pandas.DataFrame with sparse columns found.It will be converted to a dense numpy array.\n",
      "  warnings.warn(\n"
     ]
    },
    {
     "name": "stdout",
     "output_type": "stream",
     "text": [
      "RandomForestClassifier(max_depth=25, random_state=42) [0.89906701 0.88379983 0.88964346 0.90322581 0.87266553]\n"
     ]
    },
    {
     "name": "stderr",
     "output_type": "stream",
     "text": [
      "/Users/hazeneckert/miniconda3/envs/practice/lib/python3.11/site-packages/sklearn/model_selection/_split.py:700: UserWarning: The least populated class in y has only 1 members, which is less than n_splits=5.\n",
      "  warnings.warn(\n",
      "/Users/hazeneckert/miniconda3/envs/practice/lib/python3.11/site-packages/sklearn/utils/validation.py:768: UserWarning: pandas.DataFrame with sparse columns found.It will be converted to a dense numpy array.\n",
      "  warnings.warn(\n",
      "/Users/hazeneckert/miniconda3/envs/practice/lib/python3.11/site-packages/sklearn/utils/validation.py:768: UserWarning: pandas.DataFrame with sparse columns found.It will be converted to a dense numpy array.\n",
      "  warnings.warn(\n",
      "/Users/hazeneckert/miniconda3/envs/practice/lib/python3.11/site-packages/sklearn/utils/validation.py:768: UserWarning: pandas.DataFrame with sparse columns found.It will be converted to a dense numpy array.\n",
      "  warnings.warn(\n",
      "/Users/hazeneckert/miniconda3/envs/practice/lib/python3.11/site-packages/sklearn/utils/validation.py:768: UserWarning: pandas.DataFrame with sparse columns found.It will be converted to a dense numpy array.\n",
      "  warnings.warn(\n",
      "/Users/hazeneckert/miniconda3/envs/practice/lib/python3.11/site-packages/sklearn/utils/validation.py:768: UserWarning: pandas.DataFrame with sparse columns found.It will be converted to a dense numpy array.\n",
      "  warnings.warn(\n",
      "/Users/hazeneckert/miniconda3/envs/practice/lib/python3.11/site-packages/sklearn/utils/validation.py:768: UserWarning: pandas.DataFrame with sparse columns found.It will be converted to a dense numpy array.\n",
      "  warnings.warn(\n",
      "/Users/hazeneckert/miniconda3/envs/practice/lib/python3.11/site-packages/sklearn/utils/validation.py:768: UserWarning: pandas.DataFrame with sparse columns found.It will be converted to a dense numpy array.\n",
      "  warnings.warn(\n",
      "/Users/hazeneckert/miniconda3/envs/practice/lib/python3.11/site-packages/sklearn/utils/validation.py:768: UserWarning: pandas.DataFrame with sparse columns found.It will be converted to a dense numpy array.\n",
      "  warnings.warn(\n",
      "/Users/hazeneckert/miniconda3/envs/practice/lib/python3.11/site-packages/sklearn/utils/validation.py:768: UserWarning: pandas.DataFrame with sparse columns found.It will be converted to a dense numpy array.\n",
      "  warnings.warn(\n",
      "/Users/hazeneckert/miniconda3/envs/practice/lib/python3.11/site-packages/sklearn/utils/validation.py:768: UserWarning: pandas.DataFrame with sparse columns found.It will be converted to a dense numpy array.\n",
      "  warnings.warn(\n"
     ]
    },
    {
     "name": "stdout",
     "output_type": "stream",
     "text": [
      "AdaBoostClassifier(n_estimators=100, random_state=42) [0.46988974 0.45631891 0.46859083 0.45585739 0.46943973]\n"
     ]
    },
    {
     "name": "stderr",
     "output_type": "stream",
     "text": [
      "/Users/hazeneckert/miniconda3/envs/practice/lib/python3.11/site-packages/sklearn/model_selection/_split.py:700: UserWarning: The least populated class in y has only 1 members, which is less than n_splits=5.\n",
      "  warnings.warn(\n",
      "/Users/hazeneckert/miniconda3/envs/practice/lib/python3.11/site-packages/sklearn/utils/validation.py:768: UserWarning: pandas.DataFrame with sparse columns found.It will be converted to a dense numpy array.\n",
      "  warnings.warn(\n",
      "/Users/hazeneckert/miniconda3/envs/practice/lib/python3.11/site-packages/sklearn/utils/validation.py:768: UserWarning: pandas.DataFrame with sparse columns found.It will be converted to a dense numpy array.\n",
      "  warnings.warn(\n",
      "/Users/hazeneckert/miniconda3/envs/practice/lib/python3.11/site-packages/sklearn/utils/validation.py:768: UserWarning: pandas.DataFrame with sparse columns found.It will be converted to a dense numpy array.\n",
      "  warnings.warn(\n",
      "/Users/hazeneckert/miniconda3/envs/practice/lib/python3.11/site-packages/sklearn/utils/validation.py:768: UserWarning: pandas.DataFrame with sparse columns found.It will be converted to a dense numpy array.\n",
      "  warnings.warn(\n",
      "/Users/hazeneckert/miniconda3/envs/practice/lib/python3.11/site-packages/sklearn/utils/validation.py:768: UserWarning: pandas.DataFrame with sparse columns found.It will be converted to a dense numpy array.\n",
      "  warnings.warn(\n",
      "/Users/hazeneckert/miniconda3/envs/practice/lib/python3.11/site-packages/sklearn/utils/validation.py:768: UserWarning: pandas.DataFrame with sparse columns found.It will be converted to a dense numpy array.\n",
      "  warnings.warn(\n",
      "/Users/hazeneckert/miniconda3/envs/practice/lib/python3.11/site-packages/sklearn/utils/validation.py:768: UserWarning: pandas.DataFrame with sparse columns found.It will be converted to a dense numpy array.\n",
      "  warnings.warn(\n",
      "/Users/hazeneckert/miniconda3/envs/practice/lib/python3.11/site-packages/sklearn/utils/validation.py:768: UserWarning: pandas.DataFrame with sparse columns found.It will be converted to a dense numpy array.\n",
      "  warnings.warn(\n",
      "/Users/hazeneckert/miniconda3/envs/practice/lib/python3.11/site-packages/sklearn/utils/validation.py:768: UserWarning: pandas.DataFrame with sparse columns found.It will be converted to a dense numpy array.\n",
      "  warnings.warn(\n",
      "/Users/hazeneckert/miniconda3/envs/practice/lib/python3.11/site-packages/sklearn/utils/validation.py:768: UserWarning: pandas.DataFrame with sparse columns found.It will be converted to a dense numpy array.\n",
      "  warnings.warn(\n"
     ]
    },
    {
     "name": "stdout",
     "output_type": "stream",
     "text": [
      "KNeighborsClassifier() [0.65988126 0.66072943 0.65789474 0.6434635  0.64940577]\n"
     ]
    },
    {
     "name": "stderr",
     "output_type": "stream",
     "text": [
      "/Users/hazeneckert/miniconda3/envs/practice/lib/python3.11/site-packages/sklearn/model_selection/_split.py:700: UserWarning: The least populated class in y has only 1 members, which is less than n_splits=5.\n",
      "  warnings.warn(\n",
      "/Users/hazeneckert/miniconda3/envs/practice/lib/python3.11/site-packages/sklearn/utils/validation.py:768: UserWarning: pandas.DataFrame with sparse columns found.It will be converted to a dense numpy array.\n",
      "  warnings.warn(\n",
      "/Users/hazeneckert/miniconda3/envs/practice/lib/python3.11/site-packages/sklearn/utils/validation.py:768: UserWarning: pandas.DataFrame with sparse columns found.It will be converted to a dense numpy array.\n",
      "  warnings.warn(\n",
      "/Users/hazeneckert/miniconda3/envs/practice/lib/python3.11/site-packages/sklearn/utils/validation.py:768: UserWarning: pandas.DataFrame with sparse columns found.It will be converted to a dense numpy array.\n",
      "  warnings.warn(\n",
      "/Users/hazeneckert/miniconda3/envs/practice/lib/python3.11/site-packages/sklearn/utils/validation.py:768: UserWarning: pandas.DataFrame with sparse columns found.It will be converted to a dense numpy array.\n",
      "  warnings.warn(\n",
      "/Users/hazeneckert/miniconda3/envs/practice/lib/python3.11/site-packages/sklearn/utils/validation.py:768: UserWarning: pandas.DataFrame with sparse columns found.It will be converted to a dense numpy array.\n",
      "  warnings.warn(\n",
      "/Users/hazeneckert/miniconda3/envs/practice/lib/python3.11/site-packages/sklearn/utils/validation.py:768: UserWarning: pandas.DataFrame with sparse columns found.It will be converted to a dense numpy array.\n",
      "  warnings.warn(\n",
      "/Users/hazeneckert/miniconda3/envs/practice/lib/python3.11/site-packages/sklearn/utils/validation.py:768: UserWarning: pandas.DataFrame with sparse columns found.It will be converted to a dense numpy array.\n",
      "  warnings.warn(\n",
      "/Users/hazeneckert/miniconda3/envs/practice/lib/python3.11/site-packages/sklearn/utils/validation.py:768: UserWarning: pandas.DataFrame with sparse columns found.It will be converted to a dense numpy array.\n",
      "  warnings.warn(\n",
      "/Users/hazeneckert/miniconda3/envs/practice/lib/python3.11/site-packages/sklearn/utils/validation.py:768: UserWarning: pandas.DataFrame with sparse columns found.It will be converted to a dense numpy array.\n",
      "  warnings.warn(\n",
      "/Users/hazeneckert/miniconda3/envs/practice/lib/python3.11/site-packages/sklearn/utils/validation.py:768: UserWarning: pandas.DataFrame with sparse columns found.It will be converted to a dense numpy array.\n",
      "  warnings.warn(\n"
     ]
    },
    {
     "name": "stdout",
     "output_type": "stream",
     "text": [
      "DecisionTreeClassifier(max_depth=50, random_state=42) [0.91857506 0.92196777 0.91595925 0.93463497 0.9040747 ]\n"
     ]
    },
    {
     "name": "stderr",
     "output_type": "stream",
     "text": [
      "/Users/hazeneckert/miniconda3/envs/practice/lib/python3.11/site-packages/sklearn/model_selection/_split.py:700: UserWarning: The least populated class in y has only 1 members, which is less than n_splits=5.\n",
      "  warnings.warn(\n",
      "/Users/hazeneckert/miniconda3/envs/practice/lib/python3.11/site-packages/sklearn/utils/validation.py:768: UserWarning: pandas.DataFrame with sparse columns found.It will be converted to a dense numpy array.\n",
      "  warnings.warn(\n",
      "/Users/hazeneckert/miniconda3/envs/practice/lib/python3.11/site-packages/sklearn/utils/validation.py:768: UserWarning: pandas.DataFrame with sparse columns found.It will be converted to a dense numpy array.\n",
      "  warnings.warn(\n",
      "/Users/hazeneckert/miniconda3/envs/practice/lib/python3.11/site-packages/sklearn/utils/validation.py:768: UserWarning: pandas.DataFrame with sparse columns found.It will be converted to a dense numpy array.\n",
      "  warnings.warn(\n",
      "/Users/hazeneckert/miniconda3/envs/practice/lib/python3.11/site-packages/sklearn/utils/validation.py:768: UserWarning: pandas.DataFrame with sparse columns found.It will be converted to a dense numpy array.\n",
      "  warnings.warn(\n",
      "/Users/hazeneckert/miniconda3/envs/practice/lib/python3.11/site-packages/sklearn/utils/validation.py:768: UserWarning: pandas.DataFrame with sparse columns found.It will be converted to a dense numpy array.\n",
      "  warnings.warn(\n",
      "/Users/hazeneckert/miniconda3/envs/practice/lib/python3.11/site-packages/sklearn/utils/validation.py:768: UserWarning: pandas.DataFrame with sparse columns found.It will be converted to a dense numpy array.\n",
      "  warnings.warn(\n",
      "/Users/hazeneckert/miniconda3/envs/practice/lib/python3.11/site-packages/sklearn/utils/validation.py:768: UserWarning: pandas.DataFrame with sparse columns found.It will be converted to a dense numpy array.\n",
      "  warnings.warn(\n",
      "/Users/hazeneckert/miniconda3/envs/practice/lib/python3.11/site-packages/sklearn/utils/validation.py:768: UserWarning: pandas.DataFrame with sparse columns found.It will be converted to a dense numpy array.\n",
      "  warnings.warn(\n",
      "/Users/hazeneckert/miniconda3/envs/practice/lib/python3.11/site-packages/sklearn/utils/validation.py:768: UserWarning: pandas.DataFrame with sparse columns found.It will be converted to a dense numpy array.\n",
      "  warnings.warn(\n",
      "/Users/hazeneckert/miniconda3/envs/practice/lib/python3.11/site-packages/sklearn/utils/validation.py:768: UserWarning: pandas.DataFrame with sparse columns found.It will be converted to a dense numpy array.\n",
      "  warnings.warn(\n"
     ]
    },
    {
     "name": "stdout",
     "output_type": "stream",
     "text": [
      "GaussianNB() [0.67938931 0.68108567 0.68421053 0.66383701 0.66213922]\n"
     ]
    }
   ],
   "source": [
    "from sklearn.model_selection import cross_val_score\n",
    "models = [RandomForestClassifier(max_depth=25, random_state=42), AdaBoostClassifier(n_estimators=100,random_state=42),KNeighborsClassifier(5),DecisionTreeClassifier(max_depth=50, random_state=42),GaussianNB()]\n",
    "for model in models:\n",
    "    print(model,cross_val_score(model, X_train_trim, Y_train_trim, cv=5))"
   ]
  },
  {
   "cell_type": "code",
   "execution_count": null,
   "id": "5951d361-88de-4ea6-ba17-28c931328026",
   "metadata": {},
   "outputs": [],
   "source": []
  },
  {
   "cell_type": "code",
   "execution_count": 82,
   "id": "9967a88e-b02f-43ed-8d56-6d13f66b6f0c",
   "metadata": {
    "tags": []
   },
   "outputs": [
    {
     "name": "stdout",
     "output_type": "stream",
     "text": [
      "<class 'pandas.core.frame.DataFrame'>\n",
      "Index: 6297 entries, 0 to 6297\n",
      "Columns: 4973 entries, VehFeatTokens('0',) to VehFeatTokens('zones',)\n",
      "dtypes: Sparse[int64, 0](4973)\n",
      "memory usage: 3.8 MB\n",
      "None\n"
     ]
    },
    {
     "data": {
      "text/html": [
       "<div>\n",
       "<style scoped>\n",
       "    .dataframe tbody tr th:only-of-type {\n",
       "        vertical-align: middle;\n",
       "    }\n",
       "\n",
       "    .dataframe tbody tr th {\n",
       "        vertical-align: top;\n",
       "    }\n",
       "\n",
       "    .dataframe thead th {\n",
       "        text-align: right;\n",
       "    }\n",
       "</style>\n",
       "<table border=\"1\" class=\"dataframe\">\n",
       "  <thead>\n",
       "    <tr style=\"text-align: right;\">\n",
       "      <th></th>\n",
       "      <th>VehFeatTokens('0',)</th>\n",
       "      <th>VehFeatTokens('0', 'aluminumradio')</th>\n",
       "      <th>VehFeatTokens('0', 'p')</th>\n",
       "      <th>VehFeatTokens('0', 'x27')</th>\n",
       "      <th>VehFeatTokens('000',)</th>\n",
       "      <th>VehFeatTokens('000', 'mile')</th>\n",
       "      <th>VehFeatTokens('09',)</th>\n",
       "      <th>VehFeatTokens('09', 'rear')</th>\n",
       "      <th>VehFeatTokens('0in',)</th>\n",
       "      <th>VehFeatTokens('0in', 'aluminum')</th>\n",
       "      <th>...</th>\n",
       "      <th>VehFeatTokens('year', 'siriusxm')</th>\n",
       "      <th>VehFeatTokens('you',)</th>\n",
       "      <th>VehFeatTokens('yr',)</th>\n",
       "      <th>VehFeatTokens('yr', 'siriusxm')</th>\n",
       "      <th>VehFeatTokens('zone',)</th>\n",
       "      <th>VehFeatTokens('zone', 'a')</th>\n",
       "      <th>VehFeatTokens('zone', 'automatic')</th>\n",
       "      <th>VehFeatTokens('zone', 'automaticwith')</th>\n",
       "      <th>VehFeatTokens('zone', 'climate')</th>\n",
       "      <th>VehFeatTokens('zones',)</th>\n",
       "    </tr>\n",
       "  </thead>\n",
       "  <tbody>\n",
       "    <tr>\n",
       "      <th>0</th>\n",
       "      <td>0</td>\n",
       "      <td>0</td>\n",
       "      <td>0</td>\n",
       "      <td>0</td>\n",
       "      <td>0</td>\n",
       "      <td>0</td>\n",
       "      <td>0</td>\n",
       "      <td>0</td>\n",
       "      <td>0</td>\n",
       "      <td>0</td>\n",
       "      <td>...</td>\n",
       "      <td>0</td>\n",
       "      <td>0</td>\n",
       "      <td>0</td>\n",
       "      <td>0</td>\n",
       "      <td>0</td>\n",
       "      <td>0</td>\n",
       "      <td>0</td>\n",
       "      <td>0</td>\n",
       "      <td>0</td>\n",
       "      <td>0</td>\n",
       "    </tr>\n",
       "    <tr>\n",
       "      <th>1</th>\n",
       "      <td>0</td>\n",
       "      <td>0</td>\n",
       "      <td>0</td>\n",
       "      <td>0</td>\n",
       "      <td>0</td>\n",
       "      <td>0</td>\n",
       "      <td>0</td>\n",
       "      <td>0</td>\n",
       "      <td>0</td>\n",
       "      <td>0</td>\n",
       "      <td>...</td>\n",
       "      <td>0</td>\n",
       "      <td>0</td>\n",
       "      <td>0</td>\n",
       "      <td>0</td>\n",
       "      <td>0</td>\n",
       "      <td>0</td>\n",
       "      <td>0</td>\n",
       "      <td>0</td>\n",
       "      <td>0</td>\n",
       "      <td>0</td>\n",
       "    </tr>\n",
       "    <tr>\n",
       "      <th>2</th>\n",
       "      <td>1</td>\n",
       "      <td>1</td>\n",
       "      <td>0</td>\n",
       "      <td>0</td>\n",
       "      <td>0</td>\n",
       "      <td>0</td>\n",
       "      <td>0</td>\n",
       "      <td>0</td>\n",
       "      <td>0</td>\n",
       "      <td>0</td>\n",
       "      <td>...</td>\n",
       "      <td>0</td>\n",
       "      <td>0</td>\n",
       "      <td>0</td>\n",
       "      <td>0</td>\n",
       "      <td>0</td>\n",
       "      <td>0</td>\n",
       "      <td>0</td>\n",
       "      <td>0</td>\n",
       "      <td>0</td>\n",
       "      <td>0</td>\n",
       "    </tr>\n",
       "    <tr>\n",
       "      <th>3</th>\n",
       "      <td>0</td>\n",
       "      <td>0</td>\n",
       "      <td>0</td>\n",
       "      <td>0</td>\n",
       "      <td>0</td>\n",
       "      <td>0</td>\n",
       "      <td>0</td>\n",
       "      <td>0</td>\n",
       "      <td>0</td>\n",
       "      <td>0</td>\n",
       "      <td>...</td>\n",
       "      <td>0</td>\n",
       "      <td>0</td>\n",
       "      <td>0</td>\n",
       "      <td>0</td>\n",
       "      <td>0</td>\n",
       "      <td>0</td>\n",
       "      <td>0</td>\n",
       "      <td>0</td>\n",
       "      <td>0</td>\n",
       "      <td>0</td>\n",
       "    </tr>\n",
       "    <tr>\n",
       "      <th>4</th>\n",
       "      <td>0</td>\n",
       "      <td>0</td>\n",
       "      <td>0</td>\n",
       "      <td>0</td>\n",
       "      <td>0</td>\n",
       "      <td>0</td>\n",
       "      <td>0</td>\n",
       "      <td>0</td>\n",
       "      <td>0</td>\n",
       "      <td>0</td>\n",
       "      <td>...</td>\n",
       "      <td>0</td>\n",
       "      <td>0</td>\n",
       "      <td>0</td>\n",
       "      <td>0</td>\n",
       "      <td>0</td>\n",
       "      <td>0</td>\n",
       "      <td>0</td>\n",
       "      <td>0</td>\n",
       "      <td>0</td>\n",
       "      <td>0</td>\n",
       "    </tr>\n",
       "    <tr>\n",
       "      <th>...</th>\n",
       "      <td>...</td>\n",
       "      <td>...</td>\n",
       "      <td>...</td>\n",
       "      <td>...</td>\n",
       "      <td>...</td>\n",
       "      <td>...</td>\n",
       "      <td>...</td>\n",
       "      <td>...</td>\n",
       "      <td>...</td>\n",
       "      <td>...</td>\n",
       "      <td>...</td>\n",
       "      <td>...</td>\n",
       "      <td>...</td>\n",
       "      <td>...</td>\n",
       "      <td>...</td>\n",
       "      <td>...</td>\n",
       "      <td>...</td>\n",
       "      <td>...</td>\n",
       "      <td>...</td>\n",
       "      <td>...</td>\n",
       "      <td>...</td>\n",
       "    </tr>\n",
       "    <tr>\n",
       "      <th>6293</th>\n",
       "      <td>0</td>\n",
       "      <td>0</td>\n",
       "      <td>0</td>\n",
       "      <td>0</td>\n",
       "      <td>0</td>\n",
       "      <td>0</td>\n",
       "      <td>0</td>\n",
       "      <td>0</td>\n",
       "      <td>0</td>\n",
       "      <td>0</td>\n",
       "      <td>...</td>\n",
       "      <td>0</td>\n",
       "      <td>0</td>\n",
       "      <td>0</td>\n",
       "      <td>0</td>\n",
       "      <td>0</td>\n",
       "      <td>0</td>\n",
       "      <td>0</td>\n",
       "      <td>0</td>\n",
       "      <td>0</td>\n",
       "      <td>0</td>\n",
       "    </tr>\n",
       "    <tr>\n",
       "      <th>6294</th>\n",
       "      <td>0</td>\n",
       "      <td>0</td>\n",
       "      <td>0</td>\n",
       "      <td>0</td>\n",
       "      <td>0</td>\n",
       "      <td>0</td>\n",
       "      <td>0</td>\n",
       "      <td>0</td>\n",
       "      <td>0</td>\n",
       "      <td>0</td>\n",
       "      <td>...</td>\n",
       "      <td>0</td>\n",
       "      <td>0</td>\n",
       "      <td>0</td>\n",
       "      <td>0</td>\n",
       "      <td>0</td>\n",
       "      <td>0</td>\n",
       "      <td>0</td>\n",
       "      <td>0</td>\n",
       "      <td>0</td>\n",
       "      <td>0</td>\n",
       "    </tr>\n",
       "    <tr>\n",
       "      <th>6295</th>\n",
       "      <td>0</td>\n",
       "      <td>0</td>\n",
       "      <td>0</td>\n",
       "      <td>0</td>\n",
       "      <td>0</td>\n",
       "      <td>0</td>\n",
       "      <td>0</td>\n",
       "      <td>0</td>\n",
       "      <td>0</td>\n",
       "      <td>0</td>\n",
       "      <td>...</td>\n",
       "      <td>0</td>\n",
       "      <td>0</td>\n",
       "      <td>0</td>\n",
       "      <td>0</td>\n",
       "      <td>0</td>\n",
       "      <td>0</td>\n",
       "      <td>0</td>\n",
       "      <td>0</td>\n",
       "      <td>0</td>\n",
       "      <td>0</td>\n",
       "    </tr>\n",
       "    <tr>\n",
       "      <th>6296</th>\n",
       "      <td>0</td>\n",
       "      <td>0</td>\n",
       "      <td>0</td>\n",
       "      <td>0</td>\n",
       "      <td>0</td>\n",
       "      <td>0</td>\n",
       "      <td>0</td>\n",
       "      <td>0</td>\n",
       "      <td>0</td>\n",
       "      <td>0</td>\n",
       "      <td>...</td>\n",
       "      <td>0</td>\n",
       "      <td>0</td>\n",
       "      <td>0</td>\n",
       "      <td>0</td>\n",
       "      <td>0</td>\n",
       "      <td>0</td>\n",
       "      <td>0</td>\n",
       "      <td>0</td>\n",
       "      <td>0</td>\n",
       "      <td>0</td>\n",
       "    </tr>\n",
       "    <tr>\n",
       "      <th>6297</th>\n",
       "      <td>0</td>\n",
       "      <td>0</td>\n",
       "      <td>0</td>\n",
       "      <td>0</td>\n",
       "      <td>0</td>\n",
       "      <td>0</td>\n",
       "      <td>0</td>\n",
       "      <td>0</td>\n",
       "      <td>0</td>\n",
       "      <td>0</td>\n",
       "      <td>...</td>\n",
       "      <td>0</td>\n",
       "      <td>0</td>\n",
       "      <td>0</td>\n",
       "      <td>0</td>\n",
       "      <td>0</td>\n",
       "      <td>0</td>\n",
       "      <td>0</td>\n",
       "      <td>0</td>\n",
       "      <td>0</td>\n",
       "      <td>0</td>\n",
       "    </tr>\n",
       "  </tbody>\n",
       "</table>\n",
       "<p>6297 rows × 1600 columns</p>\n",
       "</div>"
      ],
      "text/plain": [
       "      VehFeatTokens('0',)  VehFeatTokens('0', 'aluminumradio')  \\\n",
       "0                       0                                    0   \n",
       "1                       0                                    0   \n",
       "2                       1                                    1   \n",
       "3                       0                                    0   \n",
       "4                       0                                    0   \n",
       "...                   ...                                  ...   \n",
       "6293                    0                                    0   \n",
       "6294                    0                                    0   \n",
       "6295                    0                                    0   \n",
       "6296                    0                                    0   \n",
       "6297                    0                                    0   \n",
       "\n",
       "      VehFeatTokens('0', 'p')  VehFeatTokens('0', 'x27')  \\\n",
       "0                           0                          0   \n",
       "1                           0                          0   \n",
       "2                           0                          0   \n",
       "3                           0                          0   \n",
       "4                           0                          0   \n",
       "...                       ...                        ...   \n",
       "6293                        0                          0   \n",
       "6294                        0                          0   \n",
       "6295                        0                          0   \n",
       "6296                        0                          0   \n",
       "6297                        0                          0   \n",
       "\n",
       "      VehFeatTokens('000',)  VehFeatTokens('000', 'mile')  \\\n",
       "0                         0                             0   \n",
       "1                         0                             0   \n",
       "2                         0                             0   \n",
       "3                         0                             0   \n",
       "4                         0                             0   \n",
       "...                     ...                           ...   \n",
       "6293                      0                             0   \n",
       "6294                      0                             0   \n",
       "6295                      0                             0   \n",
       "6296                      0                             0   \n",
       "6297                      0                             0   \n",
       "\n",
       "      VehFeatTokens('09',)  VehFeatTokens('09', 'rear')  \\\n",
       "0                        0                            0   \n",
       "1                        0                            0   \n",
       "2                        0                            0   \n",
       "3                        0                            0   \n",
       "4                        0                            0   \n",
       "...                    ...                          ...   \n",
       "6293                     0                            0   \n",
       "6294                     0                            0   \n",
       "6295                     0                            0   \n",
       "6296                     0                            0   \n",
       "6297                     0                            0   \n",
       "\n",
       "      VehFeatTokens('0in',)  VehFeatTokens('0in', 'aluminum')  ...  \\\n",
       "0                         0                                 0  ...   \n",
       "1                         0                                 0  ...   \n",
       "2                         0                                 0  ...   \n",
       "3                         0                                 0  ...   \n",
       "4                         0                                 0  ...   \n",
       "...                     ...                               ...  ...   \n",
       "6293                      0                                 0  ...   \n",
       "6294                      0                                 0  ...   \n",
       "6295                      0                                 0  ...   \n",
       "6296                      0                                 0  ...   \n",
       "6297                      0                                 0  ...   \n",
       "\n",
       "      VehFeatTokens('year', 'siriusxm')  VehFeatTokens('you',)  \\\n",
       "0                                     0                      0   \n",
       "1                                     0                      0   \n",
       "2                                     0                      0   \n",
       "3                                     0                      0   \n",
       "4                                     0                      0   \n",
       "...                                 ...                    ...   \n",
       "6293                                  0                      0   \n",
       "6294                                  0                      0   \n",
       "6295                                  0                      0   \n",
       "6296                                  0                      0   \n",
       "6297                                  0                      0   \n",
       "\n",
       "      VehFeatTokens('yr',)  VehFeatTokens('yr', 'siriusxm')  \\\n",
       "0                        0                                0   \n",
       "1                        0                                0   \n",
       "2                        0                                0   \n",
       "3                        0                                0   \n",
       "4                        0                                0   \n",
       "...                    ...                              ...   \n",
       "6293                     0                                0   \n",
       "6294                     0                                0   \n",
       "6295                     0                                0   \n",
       "6296                     0                                0   \n",
       "6297                     0                                0   \n",
       "\n",
       "      VehFeatTokens('zone',)  VehFeatTokens('zone', 'a')  \\\n",
       "0                          0                           0   \n",
       "1                          0                           0   \n",
       "2                          0                           0   \n",
       "3                          0                           0   \n",
       "4                          0                           0   \n",
       "...                      ...                         ...   \n",
       "6293                       0                           0   \n",
       "6294                       0                           0   \n",
       "6295                       0                           0   \n",
       "6296                       0                           0   \n",
       "6297                       0                           0   \n",
       "\n",
       "      VehFeatTokens('zone', 'automatic')  \\\n",
       "0                                      0   \n",
       "1                                      0   \n",
       "2                                      0   \n",
       "3                                      0   \n",
       "4                                      0   \n",
       "...                                  ...   \n",
       "6293                                   0   \n",
       "6294                                   0   \n",
       "6295                                   0   \n",
       "6296                                   0   \n",
       "6297                                   0   \n",
       "\n",
       "      VehFeatTokens('zone', 'automaticwith')  \\\n",
       "0                                          0   \n",
       "1                                          0   \n",
       "2                                          0   \n",
       "3                                          0   \n",
       "4                                          0   \n",
       "...                                      ...   \n",
       "6293                                       0   \n",
       "6294                                       0   \n",
       "6295                                       0   \n",
       "6296                                       0   \n",
       "6297                                       0   \n",
       "\n",
       "      VehFeatTokens('zone', 'climate')  VehFeatTokens('zones',)  \n",
       "0                                    0                        0  \n",
       "1                                    0                        0  \n",
       "2                                    0                        0  \n",
       "3                                    0                        0  \n",
       "4                                    0                        0  \n",
       "...                                ...                      ...  \n",
       "6293                                 0                        0  \n",
       "6294                                 0                        0  \n",
       "6295                                 0                        0  \n",
       "6296                                 0                        0  \n",
       "6297                                 0                        0  \n",
       "\n",
       "[6297 rows x 1600 columns]"
      ]
     },
     "execution_count": 82,
     "metadata": {},
     "output_type": "execute_result"
    }
   ],
   "source": [
    "feature =\"VehFeatTokens\"\n",
    "mlb = MultiLabelBinarizer(sparse_output=True).fit(pd.concat([train[feature],test[feature]],ignore_index=True))\n",
    "temp = pd.DataFrame.sparse.from_spmatrix(mlb.transform(train[feature]),columns=[feature+str(c) for c in mlb.classes_],index=train.index)\n",
    "print(temp.info())\n",
    "temp.loc[:,temp.sum()>=5]"
   ]
  },
  {
   "cell_type": "code",
   "execution_count": 69,
   "id": "aa72a745-88d3-45b3-b385-a886f171dda9",
   "metadata": {
    "tags": []
   },
   "outputs": [
    {
     "name": "stdout",
     "output_type": "stream",
     "text": [
      "<class 'pandas.core.frame.DataFrame'>\n",
      "Index: 6297 entries, 0 to 6297\n",
      "Columns: 133091 entries, SellerRating to VehColorIntTokens('with', 'mini')\n",
      "dtypes: Sparse[int64, 0](132980), bool(107), float64(4)\n",
      "memory usage: 25.4 MB\n"
     ]
    }
   ],
   "source": [
    "X_train.info()"
   ]
  },
  {
   "cell_type": "code",
   "execution_count": 70,
   "id": "67d46b12-09a8-4880-82da-54e41055db38",
   "metadata": {},
   "outputs": [],
   "source": [
    "with open('your_file.txt', 'w') as f:\n",
    "    for line in sorted(X_train.columns):\n",
    "        f.write(f\"{line}\\n\")"
   ]
  },
  {
   "cell_type": "code",
   "execution_count": 104,
   "id": "daa23231-598c-406d-adee-5d3eb267563a",
   "metadata": {
    "tags": []
   },
   "outputs": [
    {
     "name": "stderr",
     "output_type": "stream",
     "text": [
      "/Users/hazeneckert/miniconda3/envs/practice/lib/python3.11/site-packages/sklearn/utils/validation.py:768: UserWarning: pandas.DataFrame with sparse columns found.It will be converted to a dense numpy array.\n",
      "  warnings.warn(\n",
      "/Users/hazeneckert/miniconda3/envs/practice/lib/python3.11/site-packages/sklearn/utils/validation.py:768: UserWarning: pandas.DataFrame with sparse columns found.It will be converted to a dense numpy array.\n",
      "  warnings.warn(\n",
      "/Users/hazeneckert/miniconda3/envs/practice/lib/python3.11/site-packages/sklearn/utils/validation.py:768: UserWarning: pandas.DataFrame with sparse columns found.It will be converted to a dense numpy array.\n",
      "  warnings.warn(\n"
     ]
    },
    {
     "data": {
      "text/plain": [
       "(0.9517990495587237, 0.9859131025118805)"
      ]
     },
     "execution_count": 104,
     "metadata": {},
     "output_type": "execute_result"
    }
   ],
   "source": [
    "rf_clf = RandomForestClassifier(max_depth=25, random_state=42)\n",
    "rf_clf.fit(X_train_trim, Y_train_clean_trim)\n",
    "rf_clf.score(X_train_trim, Y_train_trim),rf_clf.score(X_train_trim, Y_train_clean_trim)"
   ]
  },
  {
   "cell_type": "code",
   "execution_count": 105,
   "id": "00d1ece6-f09e-4f4b-a597-72729f7e8db0",
   "metadata": {
    "tags": []
   },
   "outputs": [
    {
     "name": "stderr",
     "output_type": "stream",
     "text": [
      "/Users/hazeneckert/miniconda3/envs/practice/lib/python3.11/site-packages/sklearn/utils/validation.py:768: UserWarning: pandas.DataFrame with sparse columns found.It will be converted to a dense numpy array.\n",
      "  warnings.warn(\n",
      "/Users/hazeneckert/miniconda3/envs/practice/lib/python3.11/site-packages/sklearn/utils/validation.py:768: UserWarning: pandas.DataFrame with sparse columns found.It will be converted to a dense numpy array.\n",
      "  warnings.warn(\n"
     ]
    },
    {
     "data": {
      "text/plain": [
       "0.9874405974202308"
      ]
     },
     "execution_count": 105,
     "metadata": {},
     "output_type": "execute_result"
    }
   ],
   "source": [
    "rf_clf.fit(X_train_trim, Y_train_trim)\n",
    "rf_clf.score(X_train_trim, Y_train_trim)"
   ]
  },
  {
   "cell_type": "code",
   "execution_count": 108,
   "id": "ef4e005f-b426-44d5-bc62-f3bd0c0da2b2",
   "metadata": {
    "tags": []
   },
   "outputs": [
    {
     "name": "stderr",
     "output_type": "stream",
     "text": [
      "/Users/hazeneckert/miniconda3/envs/practice/lib/python3.11/site-packages/sklearn/model_selection/_split.py:700: UserWarning: The least populated class in y has only 1 members, which is less than n_splits=5.\n",
      "  warnings.warn(\n",
      "/Users/hazeneckert/miniconda3/envs/practice/lib/python3.11/site-packages/sklearn/utils/validation.py:768: UserWarning: pandas.DataFrame with sparse columns found.It will be converted to a dense numpy array.\n",
      "  warnings.warn(\n",
      "/Users/hazeneckert/miniconda3/envs/practice/lib/python3.11/site-packages/sklearn/utils/validation.py:768: UserWarning: pandas.DataFrame with sparse columns found.It will be converted to a dense numpy array.\n",
      "  warnings.warn(\n",
      "/Users/hazeneckert/miniconda3/envs/practice/lib/python3.11/site-packages/sklearn/utils/validation.py:768: UserWarning: pandas.DataFrame with sparse columns found.It will be converted to a dense numpy array.\n",
      "  warnings.warn(\n",
      "/Users/hazeneckert/miniconda3/envs/practice/lib/python3.11/site-packages/sklearn/utils/validation.py:768: UserWarning: pandas.DataFrame with sparse columns found.It will be converted to a dense numpy array.\n",
      "  warnings.warn(\n",
      "/Users/hazeneckert/miniconda3/envs/practice/lib/python3.11/site-packages/sklearn/utils/validation.py:768: UserWarning: pandas.DataFrame with sparse columns found.It will be converted to a dense numpy array.\n",
      "  warnings.warn(\n",
      "/Users/hazeneckert/miniconda3/envs/practice/lib/python3.11/site-packages/sklearn/utils/validation.py:768: UserWarning: pandas.DataFrame with sparse columns found.It will be converted to a dense numpy array.\n",
      "  warnings.warn(\n",
      "/Users/hazeneckert/miniconda3/envs/practice/lib/python3.11/site-packages/sklearn/utils/validation.py:768: UserWarning: pandas.DataFrame with sparse columns found.It will be converted to a dense numpy array.\n",
      "  warnings.warn(\n",
      "/Users/hazeneckert/miniconda3/envs/practice/lib/python3.11/site-packages/sklearn/utils/validation.py:768: UserWarning: pandas.DataFrame with sparse columns found.It will be converted to a dense numpy array.\n",
      "  warnings.warn(\n",
      "/Users/hazeneckert/miniconda3/envs/practice/lib/python3.11/site-packages/sklearn/utils/validation.py:768: UserWarning: pandas.DataFrame with sparse columns found.It will be converted to a dense numpy array.\n",
      "  warnings.warn(\n",
      "/Users/hazeneckert/miniconda3/envs/practice/lib/python3.11/site-packages/sklearn/utils/validation.py:768: UserWarning: pandas.DataFrame with sparse columns found.It will be converted to a dense numpy array.\n",
      "  warnings.warn(\n"
     ]
    },
    {
     "data": {
      "text/plain": [
       "array([0.89906701, 0.88379983, 0.88964346, 0.90322581, 0.87266553])"
      ]
     },
     "execution_count": 108,
     "metadata": {},
     "output_type": "execute_result"
    }
   ],
   "source": [
    "cross_val_score(rf_clf, X_train_trim, Y_train_trim, cv=5)"
   ]
  },
  {
   "cell_type": "code",
   "execution_count": 109,
   "id": "86a98507-eafc-4f36-8cc3-8135f0e5d4e0",
   "metadata": {
    "tags": []
   },
   "outputs": [
    {
     "name": "stderr",
     "output_type": "stream",
     "text": [
      "/Users/hazeneckert/miniconda3/envs/practice/lib/python3.11/site-packages/sklearn/model_selection/_split.py:700: UserWarning: The least populated class in y has only 3 members, which is less than n_splits=5.\n",
      "  warnings.warn(\n",
      "/Users/hazeneckert/miniconda3/envs/practice/lib/python3.11/site-packages/sklearn/utils/validation.py:768: UserWarning: pandas.DataFrame with sparse columns found.It will be converted to a dense numpy array.\n",
      "  warnings.warn(\n",
      "/Users/hazeneckert/miniconda3/envs/practice/lib/python3.11/site-packages/sklearn/utils/validation.py:768: UserWarning: pandas.DataFrame with sparse columns found.It will be converted to a dense numpy array.\n",
      "  warnings.warn(\n",
      "/Users/hazeneckert/miniconda3/envs/practice/lib/python3.11/site-packages/sklearn/utils/validation.py:768: UserWarning: pandas.DataFrame with sparse columns found.It will be converted to a dense numpy array.\n",
      "  warnings.warn(\n",
      "/Users/hazeneckert/miniconda3/envs/practice/lib/python3.11/site-packages/sklearn/utils/validation.py:768: UserWarning: pandas.DataFrame with sparse columns found.It will be converted to a dense numpy array.\n",
      "  warnings.warn(\n",
      "/Users/hazeneckert/miniconda3/envs/practice/lib/python3.11/site-packages/sklearn/utils/validation.py:768: UserWarning: pandas.DataFrame with sparse columns found.It will be converted to a dense numpy array.\n",
      "  warnings.warn(\n",
      "/Users/hazeneckert/miniconda3/envs/practice/lib/python3.11/site-packages/sklearn/utils/validation.py:768: UserWarning: pandas.DataFrame with sparse columns found.It will be converted to a dense numpy array.\n",
      "  warnings.warn(\n",
      "/Users/hazeneckert/miniconda3/envs/practice/lib/python3.11/site-packages/sklearn/utils/validation.py:768: UserWarning: pandas.DataFrame with sparse columns found.It will be converted to a dense numpy array.\n",
      "  warnings.warn(\n",
      "/Users/hazeneckert/miniconda3/envs/practice/lib/python3.11/site-packages/sklearn/utils/validation.py:768: UserWarning: pandas.DataFrame with sparse columns found.It will be converted to a dense numpy array.\n",
      "  warnings.warn(\n",
      "/Users/hazeneckert/miniconda3/envs/practice/lib/python3.11/site-packages/sklearn/utils/validation.py:768: UserWarning: pandas.DataFrame with sparse columns found.It will be converted to a dense numpy array.\n",
      "  warnings.warn(\n",
      "/Users/hazeneckert/miniconda3/envs/practice/lib/python3.11/site-packages/sklearn/utils/validation.py:768: UserWarning: pandas.DataFrame with sparse columns found.It will be converted to a dense numpy array.\n",
      "  warnings.warn(\n"
     ]
    },
    {
     "data": {
      "text/plain": [
       "array([0.90076336, 0.90415606, 0.9040747 , 0.92020374, 0.90067912])"
      ]
     },
     "execution_count": 109,
     "metadata": {},
     "output_type": "execute_result"
    }
   ],
   "source": [
    "cross_val_score(rf_clf, X_train_trim, Y_train_clean_trim, cv=5)"
   ]
  },
  {
   "cell_type": "code",
   "execution_count": 121,
   "id": "65dd16b3-c719-440c-9512-6dab667fb39a",
   "metadata": {
    "tags": []
   },
   "outputs": [
    {
     "name": "stdout",
     "output_type": "stream",
     "text": [
      "Fold 0:\n"
     ]
    },
    {
     "name": "stderr",
     "output_type": "stream",
     "text": [
      "/Users/hazeneckert/miniconda3/envs/practice/lib/python3.11/site-packages/sklearn/utils/validation.py:768: UserWarning: pandas.DataFrame with sparse columns found.It will be converted to a dense numpy array.\n",
      "  warnings.warn(\n",
      "/Users/hazeneckert/miniconda3/envs/practice/lib/python3.11/site-packages/sklearn/utils/validation.py:768: UserWarning: pandas.DataFrame with sparse columns found.It will be converted to a dense numpy array.\n",
      "  warnings.warn(\n"
     ]
    },
    {
     "name": "stdout",
     "output_type": "stream",
     "text": [
      "0.8770144189991518\n",
      "Fold 1:\n"
     ]
    },
    {
     "name": "stderr",
     "output_type": "stream",
     "text": [
      "/Users/hazeneckert/miniconda3/envs/practice/lib/python3.11/site-packages/sklearn/utils/validation.py:768: UserWarning: pandas.DataFrame with sparse columns found.It will be converted to a dense numpy array.\n",
      "  warnings.warn(\n",
      "/Users/hazeneckert/miniconda3/envs/practice/lib/python3.11/site-packages/sklearn/utils/validation.py:768: UserWarning: pandas.DataFrame with sparse columns found.It will be converted to a dense numpy array.\n",
      "  warnings.warn(\n"
     ]
    },
    {
     "name": "stdout",
     "output_type": "stream",
     "text": [
      "0.8625954198473282\n",
      "Fold 2:\n"
     ]
    },
    {
     "name": "stderr",
     "output_type": "stream",
     "text": [
      "/Users/hazeneckert/miniconda3/envs/practice/lib/python3.11/site-packages/sklearn/utils/validation.py:768: UserWarning: pandas.DataFrame with sparse columns found.It will be converted to a dense numpy array.\n",
      "  warnings.warn(\n",
      "/Users/hazeneckert/miniconda3/envs/practice/lib/python3.11/site-packages/sklearn/utils/validation.py:768: UserWarning: pandas.DataFrame with sparse columns found.It will be converted to a dense numpy array.\n",
      "  warnings.warn(\n"
     ]
    },
    {
     "name": "stdout",
     "output_type": "stream",
     "text": [
      "0.8607809847198642\n",
      "Fold 3:\n"
     ]
    },
    {
     "name": "stderr",
     "output_type": "stream",
     "text": [
      "/Users/hazeneckert/miniconda3/envs/practice/lib/python3.11/site-packages/sklearn/utils/validation.py:768: UserWarning: pandas.DataFrame with sparse columns found.It will be converted to a dense numpy array.\n",
      "  warnings.warn(\n",
      "/Users/hazeneckert/miniconda3/envs/practice/lib/python3.11/site-packages/sklearn/utils/validation.py:768: UserWarning: pandas.DataFrame with sparse columns found.It will be converted to a dense numpy array.\n",
      "  warnings.warn(\n"
     ]
    },
    {
     "name": "stdout",
     "output_type": "stream",
     "text": [
      "0.8777589134125636\n",
      "Fold 4:\n"
     ]
    },
    {
     "name": "stderr",
     "output_type": "stream",
     "text": [
      "/Users/hazeneckert/miniconda3/envs/practice/lib/python3.11/site-packages/sklearn/utils/validation.py:768: UserWarning: pandas.DataFrame with sparse columns found.It will be converted to a dense numpy array.\n",
      "  warnings.warn(\n",
      "/Users/hazeneckert/miniconda3/envs/practice/lib/python3.11/site-packages/sklearn/utils/validation.py:768: UserWarning: pandas.DataFrame with sparse columns found.It will be converted to a dense numpy array.\n",
      "  warnings.warn(\n"
     ]
    },
    {
     "name": "stdout",
     "output_type": "stream",
     "text": [
      "0.8726655348047538\n"
     ]
    }
   ],
   "source": [
    "\n",
    "from sklearn.model_selection import KFold\n",
    "kf = KFold(n_splits=5)\n",
    "for i, (train_index, test_index) in enumerate(kf.split(X_train_trim)):\n",
    "    print(f\"Fold {i}:\")\n",
    "    rf_clf.fit(X_train_trim.iloc[train_index], Y_train_clean_trim.iloc[train_index])\n",
    "    print(rf_clf.score(X_train_trim.iloc[test_index], Y_train_trim.iloc[test_index]))"
   ]
  },
  {
   "cell_type": "code",
   "execution_count": 119,
   "id": "e1f19204-d6b8-4dee-b8e2-56757f31341a",
   "metadata": {
    "tags": []
   },
   "outputs": [
    {
     "data": {
      "text/html": [
       "<div>\n",
       "<style scoped>\n",
       "    .dataframe tbody tr th:only-of-type {\n",
       "        vertical-align: middle;\n",
       "    }\n",
       "\n",
       "    .dataframe tbody tr th {\n",
       "        vertical-align: top;\n",
       "    }\n",
       "\n",
       "    .dataframe thead th {\n",
       "        text-align: right;\n",
       "    }\n",
       "</style>\n",
       "<table border=\"1\" class=\"dataframe\">\n",
       "  <thead>\n",
       "    <tr style=\"text-align: right;\">\n",
       "      <th></th>\n",
       "      <th>SellerRating</th>\n",
       "      <th>SellerRevCnt</th>\n",
       "      <th>VehListdays</th>\n",
       "      <th>VehMileage</th>\n",
       "      <th>SellerIsPriv</th>\n",
       "      <th>VehCertified</th>\n",
       "      <th>SellerState_MN</th>\n",
       "      <th>VehFuel_Diesel</th>\n",
       "      <th>VehYear_2017</th>\n",
       "      <th>SellerDivision_South Atlantic</th>\n",
       "      <th>...</th>\n",
       "      <th>VehColorIntTokens('sienna', 'brown')</th>\n",
       "      <th>VehColorIntTokens('ski',)</th>\n",
       "      <th>VehColorIntTokens('ski', 'gray')</th>\n",
       "      <th>VehColorIntTokens('sport',)</th>\n",
       "      <th>VehColorIntTokens('sugar',)</th>\n",
       "      <th>VehColorIntTokens('tan',)</th>\n",
       "      <th>VehColorIntTokens('trim',)</th>\n",
       "      <th>VehColorIntTokens('unknown',)</th>\n",
       "      <th>VehColorIntTokens('w',)</th>\n",
       "      <th>VehColorIntTokens('w', 'dark')</th>\n",
       "    </tr>\n",
       "  </thead>\n",
       "  <tbody>\n",
       "    <tr>\n",
       "      <th>0</th>\n",
       "      <td>0.727409</td>\n",
       "      <td>-0.313049</td>\n",
       "      <td>-0.701962</td>\n",
       "      <td>1.005301</td>\n",
       "      <td>False</td>\n",
       "      <td>False</td>\n",
       "      <td>False</td>\n",
       "      <td>False</td>\n",
       "      <td>False</td>\n",
       "      <td>False</td>\n",
       "      <td>...</td>\n",
       "      <td>0</td>\n",
       "      <td>0</td>\n",
       "      <td>0</td>\n",
       "      <td>0</td>\n",
       "      <td>0</td>\n",
       "      <td>0</td>\n",
       "      <td>0</td>\n",
       "      <td>0</td>\n",
       "      <td>0</td>\n",
       "      <td>0</td>\n",
       "    </tr>\n",
       "    <tr>\n",
       "      <th>2</th>\n",
       "      <td>0.560486</td>\n",
       "      <td>0.735320</td>\n",
       "      <td>-0.411505</td>\n",
       "      <td>0.977395</td>\n",
       "      <td>False</td>\n",
       "      <td>True</td>\n",
       "      <td>False</td>\n",
       "      <td>False</td>\n",
       "      <td>False</td>\n",
       "      <td>False</td>\n",
       "      <td>...</td>\n",
       "      <td>0</td>\n",
       "      <td>0</td>\n",
       "      <td>0</td>\n",
       "      <td>0</td>\n",
       "      <td>0</td>\n",
       "      <td>0</td>\n",
       "      <td>0</td>\n",
       "      <td>0</td>\n",
       "      <td>0</td>\n",
       "      <td>0</td>\n",
       "    </tr>\n",
       "    <tr>\n",
       "      <th>3</th>\n",
       "      <td>0.226640</td>\n",
       "      <td>-0.321448</td>\n",
       "      <td>0.060653</td>\n",
       "      <td>-0.452830</td>\n",
       "      <td>False</td>\n",
       "      <td>False</td>\n",
       "      <td>False</td>\n",
       "      <td>False</td>\n",
       "      <td>False</td>\n",
       "      <td>False</td>\n",
       "      <td>...</td>\n",
       "      <td>0</td>\n",
       "      <td>0</td>\n",
       "      <td>0</td>\n",
       "      <td>0</td>\n",
       "      <td>0</td>\n",
       "      <td>0</td>\n",
       "      <td>0</td>\n",
       "      <td>0</td>\n",
       "      <td>0</td>\n",
       "      <td>0</td>\n",
       "    </tr>\n",
       "    <tr>\n",
       "      <th>4</th>\n",
       "      <td>-0.357591</td>\n",
       "      <td>-0.280979</td>\n",
       "      <td>0.639104</td>\n",
       "      <td>-0.500316</td>\n",
       "      <td>False</td>\n",
       "      <td>False</td>\n",
       "      <td>False</td>\n",
       "      <td>False</td>\n",
       "      <td>False</td>\n",
       "      <td>False</td>\n",
       "      <td>...</td>\n",
       "      <td>0</td>\n",
       "      <td>0</td>\n",
       "      <td>0</td>\n",
       "      <td>0</td>\n",
       "      <td>0</td>\n",
       "      <td>0</td>\n",
       "      <td>0</td>\n",
       "      <td>0</td>\n",
       "      <td>0</td>\n",
       "      <td>0</td>\n",
       "    </tr>\n",
       "    <tr>\n",
       "      <th>5</th>\n",
       "      <td>-0.941822</td>\n",
       "      <td>-0.298541</td>\n",
       "      <td>-0.368912</td>\n",
       "      <td>0.645297</td>\n",
       "      <td>False</td>\n",
       "      <td>False</td>\n",
       "      <td>False</td>\n",
       "      <td>False</td>\n",
       "      <td>False</td>\n",
       "      <td>False</td>\n",
       "      <td>...</td>\n",
       "      <td>0</td>\n",
       "      <td>0</td>\n",
       "      <td>0</td>\n",
       "      <td>0</td>\n",
       "      <td>0</td>\n",
       "      <td>0</td>\n",
       "      <td>0</td>\n",
       "      <td>0</td>\n",
       "      <td>0</td>\n",
       "      <td>0</td>\n",
       "    </tr>\n",
       "    <tr>\n",
       "      <th>...</th>\n",
       "      <td>...</td>\n",
       "      <td>...</td>\n",
       "      <td>...</td>\n",
       "      <td>...</td>\n",
       "      <td>...</td>\n",
       "      <td>...</td>\n",
       "      <td>...</td>\n",
       "      <td>...</td>\n",
       "      <td>...</td>\n",
       "      <td>...</td>\n",
       "      <td>...</td>\n",
       "      <td>...</td>\n",
       "      <td>...</td>\n",
       "      <td>...</td>\n",
       "      <td>...</td>\n",
       "      <td>...</td>\n",
       "      <td>...</td>\n",
       "      <td>...</td>\n",
       "      <td>...</td>\n",
       "      <td>...</td>\n",
       "      <td>...</td>\n",
       "    </tr>\n",
       "    <tr>\n",
       "      <th>6293</th>\n",
       "      <td>-3.445669</td>\n",
       "      <td>-0.337483</td>\n",
       "      <td>-0.386565</td>\n",
       "      <td>1.751595</td>\n",
       "      <td>True</td>\n",
       "      <td>False</td>\n",
       "      <td>False</td>\n",
       "      <td>False</td>\n",
       "      <td>False</td>\n",
       "      <td>False</td>\n",
       "      <td>...</td>\n",
       "      <td>0</td>\n",
       "      <td>0</td>\n",
       "      <td>0</td>\n",
       "      <td>0</td>\n",
       "      <td>0</td>\n",
       "      <td>0</td>\n",
       "      <td>0</td>\n",
       "      <td>0</td>\n",
       "      <td>0</td>\n",
       "      <td>0</td>\n",
       "    </tr>\n",
       "    <tr>\n",
       "      <th>6294</th>\n",
       "      <td>-0.691437</td>\n",
       "      <td>-0.325266</td>\n",
       "      <td>-0.757948</td>\n",
       "      <td>-0.480967</td>\n",
       "      <td>False</td>\n",
       "      <td>False</td>\n",
       "      <td>False</td>\n",
       "      <td>True</td>\n",
       "      <td>False</td>\n",
       "      <td>False</td>\n",
       "      <td>...</td>\n",
       "      <td>0</td>\n",
       "      <td>0</td>\n",
       "      <td>0</td>\n",
       "      <td>0</td>\n",
       "      <td>0</td>\n",
       "      <td>0</td>\n",
       "      <td>0</td>\n",
       "      <td>0</td>\n",
       "      <td>0</td>\n",
       "      <td>0</td>\n",
       "    </tr>\n",
       "    <tr>\n",
       "      <th>6295</th>\n",
       "      <td>-0.023745</td>\n",
       "      <td>-0.322211</td>\n",
       "      <td>1.923462</td>\n",
       "      <td>-0.770897</td>\n",
       "      <td>False</td>\n",
       "      <td>True</td>\n",
       "      <td>False</td>\n",
       "      <td>False</td>\n",
       "      <td>False</td>\n",
       "      <td>False</td>\n",
       "      <td>...</td>\n",
       "      <td>0</td>\n",
       "      <td>0</td>\n",
       "      <td>0</td>\n",
       "      <td>0</td>\n",
       "      <td>0</td>\n",
       "      <td>0</td>\n",
       "      <td>0</td>\n",
       "      <td>0</td>\n",
       "      <td>0</td>\n",
       "      <td>0</td>\n",
       "    </tr>\n",
       "    <tr>\n",
       "      <th>6296</th>\n",
       "      <td>0.643948</td>\n",
       "      <td>-0.125213</td>\n",
       "      <td>0.269880</td>\n",
       "      <td>0.914876</td>\n",
       "      <td>False</td>\n",
       "      <td>False</td>\n",
       "      <td>False</td>\n",
       "      <td>False</td>\n",
       "      <td>True</td>\n",
       "      <td>False</td>\n",
       "      <td>...</td>\n",
       "      <td>0</td>\n",
       "      <td>0</td>\n",
       "      <td>0</td>\n",
       "      <td>0</td>\n",
       "      <td>0</td>\n",
       "      <td>0</td>\n",
       "      <td>0</td>\n",
       "      <td>0</td>\n",
       "      <td>0</td>\n",
       "      <td>0</td>\n",
       "    </tr>\n",
       "    <tr>\n",
       "      <th>6297</th>\n",
       "      <td>-0.274130</td>\n",
       "      <td>0.217626</td>\n",
       "      <td>-0.522113</td>\n",
       "      <td>-0.653106</td>\n",
       "      <td>False</td>\n",
       "      <td>False</td>\n",
       "      <td>False</td>\n",
       "      <td>False</td>\n",
       "      <td>False</td>\n",
       "      <td>False</td>\n",
       "      <td>...</td>\n",
       "      <td>0</td>\n",
       "      <td>0</td>\n",
       "      <td>0</td>\n",
       "      <td>0</td>\n",
       "      <td>0</td>\n",
       "      <td>0</td>\n",
       "      <td>0</td>\n",
       "      <td>0</td>\n",
       "      <td>0</td>\n",
       "      <td>0</td>\n",
       "    </tr>\n",
       "  </tbody>\n",
       "</table>\n",
       "<p>5892 rows × 34887 columns</p>\n",
       "</div>"
      ],
      "text/plain": [
       "      SellerRating  SellerRevCnt  VehListdays  VehMileage  SellerIsPriv  \\\n",
       "0         0.727409     -0.313049    -0.701962    1.005301         False   \n",
       "2         0.560486      0.735320    -0.411505    0.977395         False   \n",
       "3         0.226640     -0.321448     0.060653   -0.452830         False   \n",
       "4        -0.357591     -0.280979     0.639104   -0.500316         False   \n",
       "5        -0.941822     -0.298541    -0.368912    0.645297         False   \n",
       "...            ...           ...          ...         ...           ...   \n",
       "6293     -3.445669     -0.337483    -0.386565    1.751595          True   \n",
       "6294     -0.691437     -0.325266    -0.757948   -0.480967         False   \n",
       "6295     -0.023745     -0.322211     1.923462   -0.770897         False   \n",
       "6296      0.643948     -0.125213     0.269880    0.914876         False   \n",
       "6297     -0.274130      0.217626    -0.522113   -0.653106         False   \n",
       "\n",
       "      VehCertified  SellerState_MN  VehFuel_Diesel  VehYear_2017  \\\n",
       "0            False           False           False         False   \n",
       "2             True           False           False         False   \n",
       "3            False           False           False         False   \n",
       "4            False           False           False         False   \n",
       "5            False           False           False         False   \n",
       "...            ...             ...             ...           ...   \n",
       "6293         False           False           False         False   \n",
       "6294         False           False            True         False   \n",
       "6295          True           False           False         False   \n",
       "6296         False           False           False          True   \n",
       "6297         False           False           False         False   \n",
       "\n",
       "      SellerDivision_South Atlantic  ...  \\\n",
       "0                             False  ...   \n",
       "2                             False  ...   \n",
       "3                             False  ...   \n",
       "4                             False  ...   \n",
       "5                             False  ...   \n",
       "...                             ...  ...   \n",
       "6293                          False  ...   \n",
       "6294                          False  ...   \n",
       "6295                          False  ...   \n",
       "6296                          False  ...   \n",
       "6297                          False  ...   \n",
       "\n",
       "      VehColorIntTokens('sienna', 'brown')  VehColorIntTokens('ski',)  \\\n",
       "0                                        0                          0   \n",
       "2                                        0                          0   \n",
       "3                                        0                          0   \n",
       "4                                        0                          0   \n",
       "5                                        0                          0   \n",
       "...                                    ...                        ...   \n",
       "6293                                     0                          0   \n",
       "6294                                     0                          0   \n",
       "6295                                     0                          0   \n",
       "6296                                     0                          0   \n",
       "6297                                     0                          0   \n",
       "\n",
       "      VehColorIntTokens('ski', 'gray')  VehColorIntTokens('sport',)  \\\n",
       "0                                    0                            0   \n",
       "2                                    0                            0   \n",
       "3                                    0                            0   \n",
       "4                                    0                            0   \n",
       "5                                    0                            0   \n",
       "...                                ...                          ...   \n",
       "6293                                 0                            0   \n",
       "6294                                 0                            0   \n",
       "6295                                 0                            0   \n",
       "6296                                 0                            0   \n",
       "6297                                 0                            0   \n",
       "\n",
       "      VehColorIntTokens('sugar',)  VehColorIntTokens('tan',)  \\\n",
       "0                               0                          0   \n",
       "2                               0                          0   \n",
       "3                               0                          0   \n",
       "4                               0                          0   \n",
       "5                               0                          0   \n",
       "...                           ...                        ...   \n",
       "6293                            0                          0   \n",
       "6294                            0                          0   \n",
       "6295                            0                          0   \n",
       "6296                            0                          0   \n",
       "6297                            0                          0   \n",
       "\n",
       "      VehColorIntTokens('trim',)  VehColorIntTokens('unknown',)  \\\n",
       "0                              0                              0   \n",
       "2                              0                              0   \n",
       "3                              0                              0   \n",
       "4                              0                              0   \n",
       "5                              0                              0   \n",
       "...                          ...                            ...   \n",
       "6293                           0                              0   \n",
       "6294                           0                              0   \n",
       "6295                           0                              0   \n",
       "6296                           0                              0   \n",
       "6297                           0                              0   \n",
       "\n",
       "      VehColorIntTokens('w',)  VehColorIntTokens('w', 'dark')  \n",
       "0                           0                               0  \n",
       "2                           0                               0  \n",
       "3                           0                               0  \n",
       "4                           0                               0  \n",
       "5                           0                               0  \n",
       "...                       ...                             ...  \n",
       "6293                        0                               0  \n",
       "6294                        0                               0  \n",
       "6295                        0                               0  \n",
       "6296                        0                               0  \n",
       "6297                        0                               0  \n",
       "\n",
       "[5892 rows x 34887 columns]"
      ]
     },
     "execution_count": 119,
     "metadata": {},
     "output_type": "execute_result"
    }
   ],
   "source": [
    "X_train_trim.iloc[test_index]"
   ]
  },
  {
   "cell_type": "code",
   "execution_count": 97,
   "id": "594116bf-1575-494b-84df-d5755b2f1833",
   "metadata": {
    "tags": []
   },
   "outputs": [
    {
     "name": "stderr",
     "output_type": "stream",
     "text": [
      "/Users/hazeneckert/miniconda3/envs/practice/lib/python3.11/site-packages/sklearn/utils/validation.py:768: UserWarning: pandas.DataFrame with sparse columns found.It will be converted to a dense numpy array.\n",
      "  warnings.warn(\n"
     ]
    },
    {
     "data": {
      "text/plain": [
       "0.9859131025118805"
      ]
     },
     "execution_count": 97,
     "metadata": {},
     "output_type": "execute_result"
    }
   ],
   "source": [
    "rf_clf.score(X_train_trim, Y_train_trim)"
   ]
  },
  {
   "cell_type": "code",
   "execution_count": 98,
   "id": "c0ba130c-b7f2-4b51-9378-c1a858d4aaf0",
   "metadata": {
    "tags": []
   },
   "outputs": [
    {
     "name": "stderr",
     "output_type": "stream",
     "text": [
      "/Users/hazeneckert/miniconda3/envs/practice/lib/python3.11/site-packages/sklearn/model_selection/_split.py:700: UserWarning: The least populated class in y has only 3 members, which is less than n_splits=5.\n",
      "  warnings.warn(\n",
      "/Users/hazeneckert/miniconda3/envs/practice/lib/python3.11/site-packages/sklearn/utils/validation.py:768: UserWarning: pandas.DataFrame with sparse columns found.It will be converted to a dense numpy array.\n",
      "  warnings.warn(\n",
      "/Users/hazeneckert/miniconda3/envs/practice/lib/python3.11/site-packages/sklearn/utils/validation.py:768: UserWarning: pandas.DataFrame with sparse columns found.It will be converted to a dense numpy array.\n",
      "  warnings.warn(\n",
      "/Users/hazeneckert/miniconda3/envs/practice/lib/python3.11/site-packages/sklearn/utils/validation.py:768: UserWarning: pandas.DataFrame with sparse columns found.It will be converted to a dense numpy array.\n",
      "  warnings.warn(\n",
      "/Users/hazeneckert/miniconda3/envs/practice/lib/python3.11/site-packages/sklearn/utils/validation.py:768: UserWarning: pandas.DataFrame with sparse columns found.It will be converted to a dense numpy array.\n",
      "  warnings.warn(\n",
      "/Users/hazeneckert/miniconda3/envs/practice/lib/python3.11/site-packages/sklearn/utils/validation.py:768: UserWarning: pandas.DataFrame with sparse columns found.It will be converted to a dense numpy array.\n",
      "  warnings.warn(\n",
      "/Users/hazeneckert/miniconda3/envs/practice/lib/python3.11/site-packages/sklearn/utils/validation.py:768: UserWarning: pandas.DataFrame with sparse columns found.It will be converted to a dense numpy array.\n",
      "  warnings.warn(\n",
      "/Users/hazeneckert/miniconda3/envs/practice/lib/python3.11/site-packages/sklearn/utils/validation.py:768: UserWarning: pandas.DataFrame with sparse columns found.It will be converted to a dense numpy array.\n",
      "  warnings.warn(\n",
      "/Users/hazeneckert/miniconda3/envs/practice/lib/python3.11/site-packages/sklearn/utils/validation.py:768: UserWarning: pandas.DataFrame with sparse columns found.It will be converted to a dense numpy array.\n",
      "  warnings.warn(\n",
      "/Users/hazeneckert/miniconda3/envs/practice/lib/python3.11/site-packages/sklearn/utils/validation.py:768: UserWarning: pandas.DataFrame with sparse columns found.It will be converted to a dense numpy array.\n",
      "  warnings.warn(\n",
      "/Users/hazeneckert/miniconda3/envs/practice/lib/python3.11/site-packages/sklearn/utils/validation.py:768: UserWarning: pandas.DataFrame with sparse columns found.It will be converted to a dense numpy array.\n",
      "  warnings.warn(\n"
     ]
    },
    {
     "data": {
      "text/plain": [
       "array([0.90076336, 0.90415606, 0.9040747 , 0.92020374, 0.90067912])"
      ]
     },
     "execution_count": 98,
     "metadata": {},
     "output_type": "execute_result"
    }
   ],
   "source": [
    "cross_val_score(rf_clf, X_train_trim, Y_train_trim, cv=5)"
   ]
  },
  {
   "cell_type": "code",
   "execution_count": null,
   "id": "3b466d65-4f1f-4496-b688-87dd07b7de3b",
   "metadata": {
    "tags": []
   },
   "outputs": [],
   "source": [
    "rf_clf = RandomForestClassifier(max_depth=25, random_state=42)\n",
    "rf_clf.fit(X_scaled, Y_train_trim)\n",
    "\n",
    "ab_clf = AdaBoostClassifier(n_estimators=100,random_state=42)\n",
    "ab_clf.fit(X_scaled, Y_train_trim)\n",
    "\n",
    "kn_clf = KNeighborsClassifier(5)\n",
    "kn_clf.fit(X_scaled, Y_train_trim)\n",
    "\n",
    "dt_clf = DecisionTreeClassifier(max_depth=50, random_state=42)\n",
    "dt_clf.fit(X_scaled, Y_train_trim)\n",
    "\n",
    "nb_clf = GaussianNB()\n",
    "nb_clf.fit(X_scaled, Y_train_trim)\n",
    "\n",
    "models = [rf_clf,ab_clf,kn_clf,dt_clf,nb_clf]"
   ]
  },
  {
   "cell_type": "code",
   "execution_count": 75,
   "id": "bd970095-90be-4f65-9125-1e9a0fd32698",
   "metadata": {
    "tags": []
   },
   "outputs": [
    {
     "name": "stderr",
     "output_type": "stream",
     "text": [
      "/Users/hazeneckert/miniconda3/envs/practice/lib/python3.11/site-packages/sklearn/utils/validation.py:768: UserWarning: pandas.DataFrame with sparse columns found.It will be converted to a dense numpy array.\n",
      "  warnings.warn(\n"
     ]
    },
    {
     "data": {
      "text/plain": [
       "0.9582484725050916"
      ]
     },
     "execution_count": 75,
     "metadata": {},
     "output_type": "execute_result"
    }
   ],
   "source": [
    "rf_clf.score(X_train_trim, Y_train_trim)"
   ]
  },
  {
   "cell_type": "code",
   "execution_count": 74,
   "id": "207e2871-2ce1-4c65-98db-44d093f4055c",
   "metadata": {
    "tags": []
   },
   "outputs": [
    {
     "name": "stderr",
     "output_type": "stream",
     "text": [
      "/Users/hazeneckert/miniconda3/envs/practice/lib/python3.11/site-packages/sklearn/utils/validation.py:768: UserWarning: pandas.DataFrame with sparse columns found.It will be converted to a dense numpy array.\n",
      "  warnings.warn(\n"
     ]
    },
    {
     "ename": "NameError",
     "evalue": "name 'ab_clf' is not defined",
     "output_type": "error",
     "traceback": [
      "\u001b[0;31m---------------------------------------------------------------------------\u001b[0m",
      "\u001b[0;31mNameError\u001b[0m                                 Traceback (most recent call last)",
      "Cell \u001b[0;32mIn[74], line 1\u001b[0m\n\u001b[0;32m----> 1\u001b[0m rf_clf\u001b[38;5;241m.\u001b[39mscore(X_train_trim, Y_train_trim), ab_clf\u001b[38;5;241m.\u001b[39mscore(X_scaled, Y_train_trim), kn_clf\u001b[38;5;241m.\u001b[39mscore(X_scaled, Y_train_trim), dt_clf\u001b[38;5;241m.\u001b[39mscore(X_scaled, Y_train_trim), nb_clf\u001b[38;5;241m.\u001b[39mscore(X_scaled, Y_train_trim),\n",
      "\u001b[0;31mNameError\u001b[0m: name 'ab_clf' is not defined"
     ]
    }
   ],
   "source": [
    "rf_clf.score(X_train_trim, Y_train_trim), ab_clf.score(X_scaled, Y_train_trim), kn_clf.score(X_scaled, Y_train_trim), dt_clf.score(X_scaled, Y_train_trim), nb_clf.score(X_scaled, Y_train_trim), "
   ]
  },
  {
   "cell_type": "code",
   "execution_count": 77,
   "id": "fa5f0e50-06dd-4aa0-bb26-dde85d4eb95c",
   "metadata": {
    "tags": []
   },
   "outputs": [
    {
     "name": "stderr",
     "output_type": "stream",
     "text": [
      "/Users/hazeneckert/miniconda3/envs/practice/lib/python3.11/site-packages/sklearn/model_selection/_split.py:700: UserWarning: The least populated class in y has only 3 members, which is less than n_splits=5.\n",
      "  warnings.warn(\n",
      "/Users/hazeneckert/miniconda3/envs/practice/lib/python3.11/site-packages/sklearn/utils/validation.py:768: UserWarning: pandas.DataFrame with sparse columns found.It will be converted to a dense numpy array.\n",
      "  warnings.warn(\n",
      "/Users/hazeneckert/miniconda3/envs/practice/lib/python3.11/site-packages/sklearn/utils/validation.py:768: UserWarning: pandas.DataFrame with sparse columns found.It will be converted to a dense numpy array.\n",
      "  warnings.warn(\n",
      "/Users/hazeneckert/miniconda3/envs/practice/lib/python3.11/site-packages/sklearn/utils/validation.py:768: UserWarning: pandas.DataFrame with sparse columns found.It will be converted to a dense numpy array.\n",
      "  warnings.warn(\n",
      "/Users/hazeneckert/miniconda3/envs/practice/lib/python3.11/site-packages/sklearn/utils/validation.py:768: UserWarning: pandas.DataFrame with sparse columns found.It will be converted to a dense numpy array.\n",
      "  warnings.warn(\n",
      "/Users/hazeneckert/miniconda3/envs/practice/lib/python3.11/site-packages/sklearn/utils/validation.py:768: UserWarning: pandas.DataFrame with sparse columns found.It will be converted to a dense numpy array.\n",
      "  warnings.warn(\n",
      "/Users/hazeneckert/miniconda3/envs/practice/lib/python3.11/site-packages/sklearn/utils/validation.py:768: UserWarning: pandas.DataFrame with sparse columns found.It will be converted to a dense numpy array.\n",
      "  warnings.warn(\n",
      "/Users/hazeneckert/miniconda3/envs/practice/lib/python3.11/site-packages/sklearn/utils/validation.py:768: UserWarning: pandas.DataFrame with sparse columns found.It will be converted to a dense numpy array.\n",
      "  warnings.warn(\n",
      "/Users/hazeneckert/miniconda3/envs/practice/lib/python3.11/site-packages/sklearn/utils/validation.py:768: UserWarning: pandas.DataFrame with sparse columns found.It will be converted to a dense numpy array.\n",
      "  warnings.warn(\n",
      "/Users/hazeneckert/miniconda3/envs/practice/lib/python3.11/site-packages/sklearn/utils/validation.py:768: UserWarning: pandas.DataFrame with sparse columns found.It will be converted to a dense numpy array.\n",
      "  warnings.warn(\n",
      "/Users/hazeneckert/miniconda3/envs/practice/lib/python3.11/site-packages/sklearn/utils/validation.py:768: UserWarning: pandas.DataFrame with sparse columns found.It will be converted to a dense numpy array.\n",
      "  warnings.warn(\n"
     ]
    },
    {
     "data": {
      "text/plain": [
       "array([0.84308736, 0.83884648, 0.85314092, 0.84634975, 0.84040747])"
      ]
     },
     "execution_count": 77,
     "metadata": {},
     "output_type": "execute_result"
    }
   ],
   "source": [
    "from sklearn.model_selection import cross_val_score\n",
    "cross_val_score(rf_clf, X_train_trim, Y_train_trim, cv=5)"
   ]
  },
  {
   "cell_type": "code",
   "execution_count": null,
   "id": "72577692-1c5f-4ce8-9d93-a2791c52ec2d",
   "metadata": {
    "tags": []
   },
   "outputs": [],
   "source": [
    "from sklearn.preprocessing import MultiLabelBinarizer\n",
    "\n",
    "train_ext_colors = sorted(train[\"VehColorExt\"].unique())\n",
    "train_ext_color_tokens = set([\"ext_\"+token for color in train_ext_colors for token in color.split()])\n",
    "test_ext_colors = sorted(test[\"VehColorExt\"].unique())\n",
    "test_ext_color_tokens = set([\"int_\"+token for color in test_ext_colors for token in color.split()])\n",
    "\n",
    "ext_mlb = MultiLabelBinarizer(sparse_output=True)\n",
    "ext_mlb.fit([sorted(train_ext_color_tokens.union(test_ext_color_tokens))])\n",
    "\n",
    "ext_color_features_train = pd.DataFrame.sparse.from_spmatrix(ext_mlb.transform(train[\"VehColorExt\"].str.split().apply(lambda l : [\"ext_\"+s for s in l])),index=train.index,\n",
    "                columns=ext_mlb.classes_)\n",
    "ext_color_features_test = pd.DataFrame.sparse.from_spmatrix(ext_mlb.transform(test[\"VehColorExt\"].str.split().apply(lambda l : [\"int_\"+s for s in l])),index=test.index,\n",
    "                columns=ext_mlb.classes_)\n",
    "\n",
    "train_int_colors = sorted(train[\"VehColorInt\"].unique())\n",
    "train_int_color_tokens = set([token for color in train_int_colors for token in color.split()])\n",
    "test_int_colors = sorted(test[\"VehColorInt\"].unique())\n",
    "test_int_color_tokens = set([token for color in test_int_colors for token in color.split()])\n",
    "\n",
    "int_mlb = MultiLabelBinarizer(sparse_output=True)\n",
    "int_mlb.fit([sorted(train_int_color_tokens.union(test_int_color_tokens))])\n",
    "\n",
    "int_color_features_train = pd.DataFrame.sparse.from_spmatrix(int_mlb.transform(train[\"VehColorInt\"].str.split()),index=train.index,\n",
    "                columns=int_mlb.classes_)\n",
    "int_color_features_test = pd.DataFrame.sparse.from_spmatrix(int_mlb.transform(test[\"VehColorInt\"].str.split()),index=test.index,\n",
    "                columns=int_mlb.classes_)"
   ]
  },
  {
   "cell_type": "code",
   "execution_count": null,
   "id": "23f9ffb3-85ad-4717-81f3-f695eb08e631",
   "metadata": {
    "tags": []
   },
   "outputs": [],
   "source": [
    "from sklearn.preprocessing import MultiLabelBinarizer\n",
    "\n",
    "train_ext_colors = sorted(train[\"VehColorExt\"].unique())\n",
    "train_ext_color_tokens = set([\"ext_\"+token for color in train_ext_colors for token in color.split()])\n",
    "test_ext_colors = sorted(test[\"VehColorExt\"].unique())\n",
    "test_ext_color_tokens = set([\"int_\"+token for color in test_ext_colors for token in color.split()])\n",
    "\n",
    "ext_mlb = MultiLabelBinarizer(sparse_output=False)\n",
    "ext_mlb.fit([sorted(train_ext_color_tokens.union(test_ext_color_tokens))])\n",
    "\n",
    "ext_color_features_train = pd.DataFrame(ext_mlb.transform(train[\"VehColorExt\"].str.split().apply(lambda l : [\"ext_\"+s for s in l])),index=train.index,\n",
    "                columns=ext_mlb.classes_)\n",
    "ext_color_features_test = pd.DataFrame(ext_mlb.transform(test[\"VehColorExt\"].str.split().apply(lambda l : [\"int_\"+s for s in l])),index=test.index,\n",
    "                columns=ext_mlb.classes_)\n",
    "\n",
    "train_int_colors = sorted(train[\"VehColorInt\"].unique())\n",
    "train_int_color_tokens = set([token for color in train_int_colors for token in color.split()])\n",
    "test_int_colors = sorted(test[\"VehColorInt\"].unique())\n",
    "test_int_color_tokens = set([token for color in test_int_colors for token in color.split()])\n",
    "\n",
    "int_mlb = MultiLabelBinarizer(sparse_output=False)\n",
    "int_mlb.fit([sorted(train_int_color_tokens.union(test_int_color_tokens))])\n",
    "\n",
    "int_color_features_train = pd.DataFrame(int_mlb.transform(train[\"VehColorInt\"].str.split()),index=train.index,\n",
    "                columns=int_mlb.classes_)\n",
    "int_color_features_test = pd.DataFrame(int_mlb.transform(test[\"VehColorInt\"].str.split()),index=test.index,\n",
    "                columns=int_mlb.classes_)"
   ]
  },
  {
   "cell_type": "code",
   "execution_count": null,
   "id": "dcfaf2c5-307b-4897-929b-52cf0c77d8cc",
   "metadata": {
    "tags": []
   },
   "outputs": [],
   "source": [
    "train.info()"
   ]
  },
  {
   "cell_type": "code",
   "execution_count": null,
   "id": "e026cff4-5a8c-4f65-8b4f-62443a220aee",
   "metadata": {
    "tags": []
   },
   "outputs": [],
   "source": [
    "print(Y_train_trim.value_counts(), 1/len(Y_train_trim.unique()))"
   ]
  },
  {
   "cell_type": "code",
   "execution_count": null,
   "id": "78902a04-af4a-4f38-908a-f47a716eb662",
   "metadata": {
    "tags": []
   },
   "outputs": [],
   "source": [
    "from sklearn.model_selection import cross_val_score\n",
    "for model in models:\n",
    "    print(model,cross_val_score(model, X_scaled, Y_train_trim, cv=5))"
   ]
  },
  {
   "cell_type": "code",
   "execution_count": null,
   "id": "500f20c8-882f-43f5-b0bc-8868f313dc4e",
   "metadata": {
    "tags": []
   },
   "outputs": [],
   "source": [
    "df = X_train_trim.copy()\n",
    "df[\"Predicted_Trim\"] = pd.DataFrame(rf_clf.predict(X_scaled),index=X_train_trim.index)\n",
    "df[\"Cleaned_Trim\"]=Y_train_trim\n",
    "mcX= df[df[\"Predicted_Trim\"]!=df[\"Cleaned_Trim\"]]\n",
    "misclass=train.loc[mcX.index.tolist()]\n",
    "misclass.describe(include='all')"
   ]
  },
  {
   "cell_type": "code",
   "execution_count": null,
   "id": "8dfa80af-1942-4219-895b-176cc0e8fc34",
   "metadata": {
    "tags": []
   },
   "outputs": [],
   "source": [
    "mcX.groupby([\"Cleaned_Trim\",\"Predicted_Trim\"]).size()"
   ]
  },
  {
   "cell_type": "code",
   "execution_count": null,
   "id": "2a17b362-f18c-4234-ac60-eadb44f5b34b",
   "metadata": {
    "tags": []
   },
   "outputs": [],
   "source": [
    "mcX.groupby([\"Cleaned_Trim\",\"Predicted_Trim\"]).count()"
   ]
  },
  {
   "cell_type": "code",
   "execution_count": null,
   "id": "e20a8adc-7b3c-4060-bf16-8d81fde53ef5",
   "metadata": {
    "tags": []
   },
   "outputs": [],
   "source": [
    "mcX[\"Cleaned_Trim\"].value_counts()"
   ]
  },
  {
   "cell_type": "code",
   "execution_count": null,
   "id": "c4088e49-4bcb-40d4-8bb1-ab6999192b7b",
   "metadata": {
    "tags": []
   },
   "outputs": [],
   "source": [
    "misclass[\"Vehicle_Trim_Extraction\"].value_counts()"
   ]
  },
  {
   "cell_type": "code",
   "execution_count": null,
   "id": "1c62b9af-fb4e-46b4-bb88-66c7088f2e98",
   "metadata": {
    "tags": []
   },
   "outputs": [],
   "source": [
    "misclass[misclass[\"Vehicle_Trim_Extraction\"]==\"Limited\"][\"VehSellerNotes\"]"
   ]
  },
  {
   "cell_type": "code",
   "execution_count": null,
   "id": "287b9b3f-d49a-4605-8b2d-b721dbe86430",
   "metadata": {
    "tags": []
   },
   "outputs": [],
   "source": [
    "misclass[\"Vehicle_Trim\"].value_counts()"
   ]
  },
  {
   "cell_type": "code",
   "execution_count": null,
   "id": "db5bb955-ff14-46f7-b7f7-5dcd58dfe7ae",
   "metadata": {
    "tags": []
   },
   "outputs": [],
   "source": [
    "train[~train[\"Vehicle_Trim_Clean\"].isnull()][\"Vehicle_Trim_Clean\"].value_counts()"
   ]
  },
  {
   "cell_type": "code",
   "execution_count": null,
   "id": "ecd2ed8c-6b20-461b-b88c-dfc534ce3355",
   "metadata": {
    "tags": []
   },
   "outputs": [],
   "source": [
    "train[\"Vehicle_Trim_Clean\"].value_counts().nlargest(30)"
   ]
  },
  {
   "cell_type": "code",
   "execution_count": null,
   "id": "deb8f690-e53b-4d99-a2cc-92a064fde146",
   "metadata": {
    "tags": []
   },
   "outputs": [],
   "source": [
    "train[train[\"Vehicle_Trim_Clean\"]==\"Base\"][\"VehMake\"].unique()"
   ]
  },
  {
   "cell_type": "code",
   "execution_count": null,
   "id": "ad91232c-3835-424d-af40-f326195a0e82",
   "metadata": {
    "tags": []
   },
   "outputs": [],
   "source": [
    "train.loc[9][\"VehFeats\"]"
   ]
  },
  {
   "cell_type": "code",
   "execution_count": null,
   "id": "6126d0fb-d63e-4a38-b25b-e6133ece5665",
   "metadata": {
    "tags": []
   },
   "outputs": [],
   "source": [
    "train.loc[9][\"VehSellerNotes\"]"
   ]
  },
  {
   "cell_type": "code",
   "execution_count": null,
   "id": "6b8f2913-e475-4bb3-9605-a9284f120f22",
   "metadata": {
    "tags": []
   },
   "outputs": [],
   "source": [
    "{y for x in train[\"VehFeats\"] if not pd.isnull(x) for y in eval(x)}"
   ]
  },
  {
   "cell_type": "code",
   "execution_count": null,
   "id": "ef14666d-9d92-4dab-a877-072de0285b62",
   "metadata": {
    "tags": []
   },
   "outputs": [],
   "source": [
    "df =pd.DataFrame([token for color in train[\"VehColorExt\"] for token in color.split()])\n",
    "df.value_counts().nlargest(50)"
   ]
  },
  {
   "cell_type": "code",
   "execution_count": null,
   "id": "64e280d5-edb3-449e-b209-eb0bff6b50b0",
   "metadata": {
    "tags": []
   },
   "outputs": [],
   "source": [
    "train_colors = sorted(train[\"VehColorExt\"].unique())\n",
    "train_color_tokens = set([token for color in train_colors for token in color.split()])\n",
    "test_colors = sorted(test[\"VehColorExt\"].unique())\n",
    "test_color_tokens = set([token for color in test_colors for token in color.split()])\n"
   ]
  },
  {
   "cell_type": "code",
   "execution_count": null,
   "id": "d63cc7fb-c5d6-4d90-8921-693d22fa4838",
   "metadata": {
    "tags": []
   },
   "outputs": [],
   "source": [
    "train[train[\"VehEngineClean\"]==\"unknown\"][\"VehTransmission\"].unique()"
   ]
  },
  {
   "cell_type": "code",
   "execution_count": null,
   "id": "5ee9410a-ee51-4496-bf1a-72eee9ccd1fd",
   "metadata": {
    "tags": []
   },
   "outputs": [],
   "source": [
    "test.iloc[960]['VehFeats']"
   ]
  },
  {
   "cell_type": "code",
   "execution_count": null,
   "id": "7268483b-b165-4b4a-9b14-ab858043599a",
   "metadata": {
    "tags": []
   },
   "outputs": [],
   "source": [
    "df = train[train[\"VehEngineClean\"]==\"unknown\"]\n",
    "df[df[\"Vehicle_Trim\"].notnull()]\n",
    "#train.iloc[2797][\"VehSellerNotes\"]"
   ]
  },
  {
   "cell_type": "code",
   "execution_count": null,
   "id": "0d7bf403-7351-47a3-9f10-25b8617966c5",
   "metadata": {
    "tags": []
   },
   "outputs": [],
   "source": [
    "for n in test[test[\"VehEngineClean\"]==\"6.4L V8\"].index:\n",
    "    print(n,train.iloc[n]['VehFeats'])\n",
    "    #print(n,train.iloc[n]['VehSellerNotes'])\n"
   ]
  },
  {
   "cell_type": "code",
   "execution_count": null,
   "id": "a2ab83f9-514a-462a-8132-d1ac35e41b86",
   "metadata": {
    "tags": []
   },
   "outputs": [],
   "source": [
    "for n in test[test[\"VehEngineClean\"]==\"5.7L V8\"].index:\n",
    "    print(n,train.iloc[n]['VehFeats'])"
   ]
  },
  {
   "cell_type": "code",
   "execution_count": null,
   "id": "6ed7e7cf-0320-4856-a719-ae15aa5182ce",
   "metadata": {
    "tags": []
   },
   "outputs": [],
   "source": [
    "train.iloc[3037][\"VehFeats\"]"
   ]
  },
  {
   "cell_type": "code",
   "execution_count": null,
   "id": "89251fb2-7aba-4c86-ba91-2e10d39890dc",
   "metadata": {
    "tags": []
   },
   "outputs": [],
   "source": [
    "df = train[train[\"VehFuel\"]=='Diesel']\n",
    "df[\"VehEngine\"].value_counts().nlargest(40)"
   ]
  },
  {
   "cell_type": "code",
   "execution_count": null,
   "id": "79b2e671-737e-4516-9812-e58457eddea7",
   "metadata": {
    "tags": []
   },
   "outputs": [],
   "source": [
    "test[\"VehModel\"].value_counts().nlargest(40)"
   ]
  },
  {
   "cell_type": "code",
   "execution_count": null,
   "id": "0b514ad6-d26f-413c-8829-b2242bb1841a",
   "metadata": {
    "tags": []
   },
   "outputs": [],
   "source": [
    "train.groupby([\"VehModel\",\"VehYear\"]).count()"
   ]
  },
  {
   "cell_type": "code",
   "execution_count": null,
   "id": "cdc6c3f6-7cee-43f6-8151-9602173ea5f4",
   "metadata": {
    "tags": []
   },
   "outputs": [],
   "source": [
    "train.groupby([\"Vehicle_Trim\"])[\"Dealer_Listing_Price\"].mean()"
   ]
  },
  {
   "cell_type": "code",
   "execution_count": null,
   "id": "8242f22f-fd7c-4c7f-a1e9-523adc4155ba",
   "metadata": {
    "tags": []
   },
   "outputs": [],
   "source": [
    "print(train.iloc[1125])"
   ]
  },
  {
   "cell_type": "code",
   "execution_count": null,
   "id": "1d02cbd5-97ac-4c70-b1c7-d00ac1c0641a",
   "metadata": {
    "tags": []
   },
   "outputs": [],
   "source": [
    "print(train.iloc[1125])\n",
    "print(train.iloc[3267])"
   ]
  },
  {
   "cell_type": "code",
   "execution_count": null,
   "id": "8c231f49-3f44-4435-8b94-a786f04ec905",
   "metadata": {
    "tags": []
   },
   "outputs": [],
   "source": [
    "train[train[\"SellerName\"]==\"Cadillac of Bellevue\"]"
   ]
  },
  {
   "cell_type": "code",
   "execution_count": null,
   "id": "7a1a4be0-c84c-476b-8ac9-6141ad9adbb8",
   "metadata": {
    "tags": []
   },
   "outputs": [],
   "source": [
    "train[train[\"SellerName\"]==\"Jack Demmer Lincoln\"]"
   ]
  },
  {
   "cell_type": "code",
   "execution_count": null,
   "id": "a928b7c3-2290-472e-8bfb-d1e97a4b35a7",
   "metadata": {
    "tags": []
   },
   "outputs": [],
   "source": [
    "train[train[\"SellerCity\"]==\"dearborn\"]"
   ]
  },
  {
   "cell_type": "code",
   "execution_count": null,
   "id": "417e65e5-77c4-4b8c-b763-9376bf05a65f",
   "metadata": {
    "tags": []
   },
   "outputs": [],
   "source": [
    "train[train[\"SellerListSrc\"]==\"Digital Motorworks (DMi)\"]"
   ]
  },
  {
   "cell_type": "code",
   "execution_count": null,
   "id": "0f1c3116-a12b-4dbb-941f-e1cb92b87020",
   "metadata": {
    "tags": []
   },
   "outputs": [],
   "source": [
    "cities = train[\"SellerCity\"].unique()\n",
    "misspellings = [ (x,y) for x in cities for y in cities if x!=y and edit_distance(x,y)<2]\n",
    "misspellings"
   ]
  },
  {
   "cell_type": "code",
   "execution_count": null,
   "id": "55695457-cff7-4498-b28c-d15656c926ee",
   "metadata": {
    "tags": []
   },
   "outputs": [],
   "source": [
    "train.info(), test.info()"
   ]
  },
  {
   "cell_type": "code",
   "execution_count": null,
   "id": "2e7dd5c2-d0f8-4623-aeea-8928d6a2614f",
   "metadata": {
    "tags": []
   },
   "outputs": [],
   "source": [
    "train.head()"
   ]
  },
  {
   "cell_type": "code",
   "execution_count": null,
   "id": "64f6d4b1-203c-48ec-bfae-e7d26e5123cb",
   "metadata": {
    "tags": []
   },
   "outputs": [],
   "source": [
    "train.nunique(), test.nunique()"
   ]
  },
  {
   "cell_type": "code",
   "execution_count": null,
   "id": "3bce545c-d89f-4b9b-9b3b-8b0479704747",
   "metadata": {
    "tags": []
   },
   "outputs": [],
   "source": [
    "train.isnull().sum(),test.isnull().sum()"
   ]
  },
  {
   "cell_type": "code",
   "execution_count": null,
   "id": "051ba163-c19a-4419-a1de-85d65ffb0eda",
   "metadata": {
    "tags": []
   },
   "outputs": [],
   "source": [
    "len(sorted(train['SellerCity'].unique()))"
   ]
  },
  {
   "cell_type": "code",
   "execution_count": null,
   "id": "b89fdba4-3e06-4f65-b66c-e41619898b0d",
   "metadata": {
    "tags": []
   },
   "outputs": [],
   "source": [
    "len(sorted(train['SellerCity'].unique()))"
   ]
  },
  {
   "cell_type": "code",
   "execution_count": null,
   "id": "aa2617a6-4707-45a6-b8e1-8349983eaa17",
   "metadata": {
    "tags": []
   },
   "outputs": [],
   "source": [
    "train['SellerCity'].value_counts().nlargest(50), test['SellerCity'].value_counts().nlargest(50)"
   ]
  },
  {
   "cell_type": "code",
   "execution_count": null,
   "id": "88bd9a11-a0c8-4fd1-8793-61bb57c27c54",
   "metadata": {
    "tags": []
   },
   "outputs": [],
   "source": [
    "len(set(test['SellerCity'])-set(train['SellerCity'])),len(set(test['SellerCity'])&set(train['SellerCity']))"
   ]
  },
  {
   "cell_type": "code",
   "execution_count": null,
   "id": "9e8d61ad-53cb-45ad-8f8d-3852b4aa8bd7",
   "metadata": {
    "tags": []
   },
   "outputs": [],
   "source": [
    "train['SellerIsPriv'].value_counts(),test['SellerIsPriv'].value_counts()"
   ]
  },
  {
   "cell_type": "code",
   "execution_count": null,
   "id": "65fec74d-6256-4f5a-b497-97e00ea29c0a",
   "metadata": {
    "tags": []
   },
   "outputs": [],
   "source": [
    "train['SellerListSrc'].unique()"
   ]
  },
  {
   "cell_type": "code",
   "execution_count": null,
   "id": "c32a74b2-a14e-44b5-90f9-1d4b67ed1b75",
   "metadata": {
    "tags": []
   },
   "outputs": [],
   "source": [
    "train['SellerListSrc'].value_counts().nlargest(20)"
   ]
  },
  {
   "cell_type": "code",
   "execution_count": null,
   "id": "e846ad61-9403-4116-9704-870a63fb6c90",
   "metadata": {
    "tags": []
   },
   "outputs": [],
   "source": [
    "set(test['SellerListSrc'])-set(train['SellerListSrc'])"
   ]
  },
  {
   "cell_type": "code",
   "execution_count": null,
   "id": "e52f3770-a22c-4989-b3ab-8a5b29989e50",
   "metadata": {
    "tags": []
   },
   "outputs": [],
   "source": [
    "print(set(test['SellerName'])-set(train['SellerName']))\n",
    "sorted(train['SellerName'].unique())"
   ]
  },
  {
   "cell_type": "code",
   "execution_count": null,
   "id": "9d32f802-f782-4e90-9622-5f191e509bfd",
   "metadata": {
    "tags": []
   },
   "outputs": [],
   "source": [
    "train['SellerName'].value_counts().nlargest(20)"
   ]
  },
  {
   "cell_type": "code",
   "execution_count": null,
   "id": "33889aad-dcf3-458d-89a4-fe4d1e380f40",
   "metadata": {
    "tags": []
   },
   "outputs": [],
   "source": [
    "train[train['SellerListSrc'].isnull()]"
   ]
  },
  {
   "cell_type": "code",
   "execution_count": null,
   "id": "46fcab12-4fc1-4034-9d28-c59d30b01cee",
   "metadata": {
    "tags": []
   },
   "outputs": [],
   "source": [
    "np.count_nonzero(train['SellerRating']),np.count_nonzero(train['SellerRevCnt'])"
   ]
  },
  {
   "cell_type": "code",
   "execution_count": null,
   "id": "b0a044d7-e8bc-40e3-a21c-d9c23f8fd955",
   "metadata": {
    "tags": []
   },
   "outputs": [],
   "source": [
    "train['SellerState'].value_counts().nsmallest(10),test['SellerState'].value_counts().nsmallest(10)"
   ]
  },
  {
   "cell_type": "code",
   "execution_count": null,
   "id": "63d20b8c-36bf-4e15-8c0d-c3fd5f374b50",
   "metadata": {
    "tags": []
   },
   "outputs": [],
   "source": [
    "set(train['SellerState'])-set(test['SellerState'])"
   ]
  },
  {
   "cell_type": "code",
   "execution_count": null,
   "id": "e253e49f-e786-4d49-8706-f334fedfc555",
   "metadata": {
    "tags": []
   },
   "outputs": [],
   "source": [
    "train['VehCertified'].describe(), test['VehCertified'].describe()"
   ]
  },
  {
   "cell_type": "code",
   "execution_count": null,
   "id": "6f604a3b-bc5a-4411-88b9-5adaba549cc4",
   "metadata": {
    "tags": []
   },
   "outputs": [],
   "source": [
    "train['VehColorExt'].value_counts().nlargest(50)"
   ]
  },
  {
   "cell_type": "code",
   "execution_count": null,
   "id": "987048ea-79e6-4c55-888d-d070edab268e",
   "metadata": {
    "tags": []
   },
   "outputs": [],
   "source": [
    "train['VehColorExt'].describe()"
   ]
  },
  {
   "cell_type": "code",
   "execution_count": null,
   "id": "8a91d9e9-1ce5-4bbf-84df-e424592e2e60",
   "metadata": {
    "tags": []
   },
   "outputs": [],
   "source": [
    "train['VehColorInt'].value_counts().nlargest(50)"
   ]
  },
  {
   "cell_type": "code",
   "execution_count": null,
   "id": "4bd6975e-ef0a-48ed-9c91-1fdef422a7f9",
   "metadata": {
    "tags": []
   },
   "outputs": [],
   "source": [
    "train['VehDriveTrain'].value_counts().nlargest(40),test['VehDriveTrain'].value_counts().nlargest(40)"
   ]
  },
  {
   "cell_type": "code",
   "execution_count": null,
   "id": "98b5a047-feb5-4441-a6c4-c7d9776b0dd5",
   "metadata": {
    "tags": []
   },
   "outputs": [],
   "source": [
    "train['VehEngine'].value_counts().nlargest(30)"
   ]
  },
  {
   "cell_type": "code",
   "execution_count": null,
   "id": "54f318c7-1f49-4f5c-80ef-21568b713d3d",
   "metadata": {
    "tags": []
   },
   "outputs": [],
   "source": [
    "train['VehFeats'].value_counts().nlargest(10)"
   ]
  },
  {
   "cell_type": "code",
   "execution_count": null,
   "id": "509ece40-f5d6-4c59-b045-817846481648",
   "metadata": {
    "tags": []
   },
   "outputs": [],
   "source": [
    "train['VehFuel'].value_counts().nlargest(30)"
   ]
  },
  {
   "cell_type": "code",
   "execution_count": null,
   "id": "27f9ec36-23c0-4e17-961d-952c7b026cd4",
   "metadata": {
    "tags": []
   },
   "outputs": [],
   "source": [
    "test['VehFuel'].value_counts().nlargest(30)"
   ]
  },
  {
   "cell_type": "code",
   "execution_count": null,
   "id": "292bb2b7-5eb6-454b-b111-f81a0b2de82e",
   "metadata": {
    "tags": []
   },
   "outputs": [],
   "source": [
    "train['VehHistory'].value_counts().nlargest(30)"
   ]
  },
  {
   "cell_type": "code",
   "execution_count": null,
   "id": "3d06ffe6-eb07-45d2-8359-de8621a29c41",
   "metadata": {
    "tags": []
   },
   "outputs": [],
   "source": [
    "df =train[train['SellerListSrc'].isnull()]\n",
    "df['VehListdays']"
   ]
  },
  {
   "cell_type": "code",
   "execution_count": null,
   "id": "312dc89a-771b-49e2-9f21-df5281f4845a",
   "metadata": {
    "tags": []
   },
   "outputs": [],
   "source": [
    "train['VehListdays'].value_counts().nlargest(10),train['VehListdays'].value_counts().nsmallest(10)"
   ]
  },
  {
   "cell_type": "code",
   "execution_count": null,
   "id": "bef1e1e4-cff1-44c1-92cb-156939a28016",
   "metadata": {
    "tags": []
   },
   "outputs": [],
   "source": [
    "sorted(train['VehListdays'].unique())"
   ]
  },
  {
   "cell_type": "code",
   "execution_count": null,
   "id": "3d0fc596-e10b-4a69-ac8b-fdfdf86cf8ad",
   "metadata": {
    "tags": []
   },
   "outputs": [],
   "source": [
    "train['VehMake'].unique(),train['VehModel'].unique()"
   ]
  },
  {
   "cell_type": "code",
   "execution_count": null,
   "id": "6ca27e54-d32a-4d8b-afc5-a552255cc154",
   "metadata": {
    "tags": []
   },
   "outputs": [],
   "source": [
    "test['VehMake'].unique(),test['VehModel'].unique()"
   ]
  },
  {
   "cell_type": "code",
   "execution_count": null,
   "id": "5b7c8637-331e-4132-88bc-e152b2024170",
   "metadata": {
    "tags": []
   },
   "outputs": [],
   "source": [
    "train['VehPriceLabel'].value_counts().nlargest(10),test['VehPriceLabel'].value_counts().nlargest(10)"
   ]
  },
  {
   "cell_type": "code",
   "execution_count": null,
   "id": "308a276e-754e-41ab-af99-32c0549feb29",
   "metadata": {
    "tags": []
   },
   "outputs": [],
   "source": [
    "train['VehSellerNotes'].value_counts().nlargest(10)"
   ]
  },
  {
   "cell_type": "code",
   "execution_count": null,
   "id": "e55fd57a-d55b-497c-955a-ebc70af137ce",
   "metadata": {
    "tags": []
   },
   "outputs": [],
   "source": [
    "train['VehType'].unique(),test['VehType'].unique(),"
   ]
  },
  {
   "cell_type": "code",
   "execution_count": null,
   "id": "80101039-b93b-44a5-a0ec-a154dbec1784",
   "metadata": {
    "tags": []
   },
   "outputs": [],
   "source": [
    "train['VehTransmission'].value_counts().nlargest(40),test['VehTransmission'].value_counts().nlargest(40)"
   ]
  },
  {
   "cell_type": "code",
   "execution_count": null,
   "id": "7ee0c010-aab9-4ab5-8d48-6bab6133043a",
   "metadata": {
    "tags": []
   },
   "outputs": [],
   "source": [
    "sorted(train['VehYear'].unique()), sorted(test['VehYear'].unique())"
   ]
  },
  {
   "cell_type": "code",
   "execution_count": null,
   "id": "dcc4ad69-2bdd-46f8-aa58-dce5020f4fda",
   "metadata": {
    "tags": []
   },
   "outputs": [],
   "source": [
    "train['Vehicle_Trim'].unique()"
   ]
  },
  {
   "cell_type": "code",
   "execution_count": null,
   "id": "dabc7a0f-5bc5-4beb-8037-fd19eff12b55",
   "metadata": {
    "tags": []
   },
   "outputs": [],
   "source": [
    "train['Dealer_Listing_Price'].describe()"
   ]
  },
  {
   "cell_type": "markdown",
   "id": "6a578371-4f95-4b7e-b448-144c270edb97",
   "metadata": {},
   "source": [
    "- Delete ListingID\n",
    "- Delete VehBodystyle\n",
    "- Delete VehType\n",
    "- Consolidate references to engine type in VehEngine and add an 'Unknown' category for nulls.\n",
    "- Consolidate references to drive train in VehDriveTrain and add an 'Unknown' category for nulls.\n",
    "- Set null values to 'Unkown' in VehFuel\n",
    "- Use one of VehMake or VehModel\n",
    "- Add 'Unknown' to VehPriceLabel for nulls"
   ]
  },
  {
   "cell_type": "code",
   "execution_count": null,
   "id": "30a6c455-3aee-4b0c-b474-86ca50cfe04b",
   "metadata": {
    "tags": []
   },
   "outputs": [],
   "source": [
    "train.at[\"SellerZip\",3855]=48124"
   ]
  },
  {
   "cell_type": "code",
   "execution_count": null,
   "id": "bf1aab30-efed-483f-b7ab-39df0eb89329",
   "metadata": {
    "tags": []
   },
   "outputs": [],
   "source": [
    "train['VehFeats']"
   ]
  },
  {
   "cell_type": "code",
   "execution_count": null,
   "id": "67dcba49-ac28-4422-ba91-eed43c7c01e8",
   "metadata": {
    "tags": []
   },
   "outputs": [],
   "source": [
    "train.iloc[1125]"
   ]
  },
  {
   "cell_type": "code",
   "execution_count": null,
   "id": "41ddb84a-4529-4a21-ad35-e87240648a2b",
   "metadata": {},
   "outputs": [],
   "source": []
  },
  {
   "cell_type": "code",
   "execution_count": null,
   "id": "fc75233d-fa9c-40c6-abf5-b1ead387a4a8",
   "metadata": {},
   "outputs": [],
   "source": []
  }
 ],
 "metadata": {
  "kernelspec": {
   "display_name": "Python 3 (ipykernel)",
   "language": "python",
   "name": "python3"
  },
  "language_info": {
   "codemirror_mode": {
    "name": "ipython",
    "version": 3
   },
   "file_extension": ".py",
   "mimetype": "text/x-python",
   "name": "python",
   "nbconvert_exporter": "python",
   "pygments_lexer": "ipython3",
   "version": "3.11.5"
  }
 },
 "nbformat": 4,
 "nbformat_minor": 5
}
